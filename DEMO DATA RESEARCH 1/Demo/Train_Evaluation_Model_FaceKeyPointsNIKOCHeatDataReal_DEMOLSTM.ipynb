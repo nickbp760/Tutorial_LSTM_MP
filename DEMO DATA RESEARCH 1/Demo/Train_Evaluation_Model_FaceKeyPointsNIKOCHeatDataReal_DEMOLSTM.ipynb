{
  "cells": [
    {
      "cell_type": "markdown",
      "metadata": {
        "id": "B2cfeWV3Cv6r"
      },
      "source": [
        "# *SOURCE*\n",
        "https://www.youtube.com/watch?v=doDUihpj6ro&t=7339s\n",
        "https://github.com/nicknochnack/ActionDetectionforSignLanguage"
      ]
    },
    {
      "cell_type": "markdown",
      "source": [
        "## **Install Dependency**"
      ],
      "metadata": {
        "id": "nDxVaYFxT620"
      }
    },
    {
      "cell_type": "code",
      "source": [
        "! pip install PyQt5"
      ],
      "metadata": {
        "colab": {
          "base_uri": "https://localhost:8080/"
        },
        "id": "krl26FJLF4UL",
        "outputId": "1fc191bf-82bc-424f-8016-fa9e066450d3"
      },
      "execution_count": 1,
      "outputs": [
        {
          "output_type": "stream",
          "name": "stdout",
          "text": [
            "Looking in indexes: https://pypi.org/simple, https://us-python.pkg.dev/colab-wheels/public/simple/\n",
            "Collecting PyQt5\n",
            "  Downloading PyQt5-5.15.9-cp37-abi3-manylinux_2_17_x86_64.whl (8.4 MB)\n",
            "\u001b[2K     \u001b[90m━━━━━━━━━━━━━━━━━━━━━━━━━━━━━━━━━━━━━━━━\u001b[0m \u001b[32m8.4/8.4 MB\u001b[0m \u001b[31m51.4 MB/s\u001b[0m eta \u001b[36m0:00:00\u001b[0m\n",
            "\u001b[?25hCollecting PyQt5-sip<13,>=12.11\n",
            "  Downloading PyQt5_sip-12.11.1-cp39-cp39-manylinux_2_5_x86_64.manylinux1_x86_64.whl (357 kB)\n",
            "\u001b[2K     \u001b[90m━━━━━━━━━━━━━━━━━━━━━━━━━━━━━━━━━━━━━━\u001b[0m \u001b[32m357.8/357.8 KB\u001b[0m \u001b[31m26.9 MB/s\u001b[0m eta \u001b[36m0:00:00\u001b[0m\n",
            "\u001b[?25hCollecting PyQt5-Qt5>=5.15.2\n",
            "  Downloading PyQt5_Qt5-5.15.2-py3-none-manylinux2014_x86_64.whl (59.9 MB)\n",
            "\u001b[2K     \u001b[90m━━━━━━━━━━━━━━━━━━━━━━━━━━━━━━━━━━━━━━━━\u001b[0m \u001b[32m59.9/59.9 MB\u001b[0m \u001b[31m14.9 MB/s\u001b[0m eta \u001b[36m0:00:00\u001b[0m\n",
            "\u001b[?25hInstalling collected packages: PyQt5-Qt5, PyQt5-sip, PyQt5\n",
            "Successfully installed PyQt5-5.15.9 PyQt5-Qt5-5.15.2 PyQt5-sip-12.11.1\n"
          ]
        }
      ]
    },
    {
      "cell_type": "code",
      "execution_count": 2,
      "metadata": {
        "colab": {
          "base_uri": "https://localhost:8080/"
        },
        "id": "01jSxBD21OU7",
        "outputId": "7f1b20c7-fd4b-4238-81a5-ba96391e155b"
      },
      "outputs": [
        {
          "output_type": "stream",
          "name": "stdout",
          "text": [
            "Looking in indexes: https://pypi.org/simple, https://us-python.pkg.dev/colab-wheels/public/simple/\n",
            "Collecting tensorflow==2.8.1\n",
            "  Downloading tensorflow-2.8.1-cp39-cp39-manylinux2010_x86_64.whl (498.0 MB)\n",
            "\u001b[2K     \u001b[90m━━━━━━━━━━━━━━━━━━━━━━━━━━━━━━━━━━━━━━━\u001b[0m \u001b[32m498.0/498.0 MB\u001b[0m \u001b[31m3.2 MB/s\u001b[0m eta \u001b[36m0:00:00\u001b[0m\n",
            "\u001b[?25hCollecting tensorflow-gpu==2.8.1\n",
            "  Downloading tensorflow_gpu-2.8.1-cp39-cp39-manylinux2010_x86_64.whl (498.0 MB)\n",
            "\u001b[2K     \u001b[90m━━━━━━━━━━━━━━━━━━━━━━━━━━━━━━━━━━━━━━━\u001b[0m \u001b[32m498.0/498.0 MB\u001b[0m \u001b[31m3.1 MB/s\u001b[0m eta \u001b[36m0:00:00\u001b[0m\n",
            "\u001b[?25hRequirement already satisfied: opencv-python in /usr/local/lib/python3.9/dist-packages (4.7.0.72)\n",
            "Collecting mediapipe\n",
            "  Downloading mediapipe-0.9.1.0-cp39-cp39-manylinux_2_17_x86_64.manylinux2014_x86_64.whl (33.0 MB)\n",
            "\u001b[2K     \u001b[90m━━━━━━━━━━━━━━━━━━━━━━━━━━━━━━━━━━━━━━━━\u001b[0m \u001b[32m33.0/33.0 MB\u001b[0m \u001b[31m36.3 MB/s\u001b[0m eta \u001b[36m0:00:00\u001b[0m\n",
            "\u001b[?25hRequirement already satisfied: numpy>=1.20 in /usr/local/lib/python3.9/dist-packages (from tensorflow==2.8.1) (1.22.4)\n",
            "Requirement already satisfied: absl-py>=0.4.0 in /usr/local/lib/python3.9/dist-packages (from tensorflow==2.8.1) (1.4.0)\n",
            "Requirement already satisfied: protobuf>=3.9.2 in /usr/local/lib/python3.9/dist-packages (from tensorflow==2.8.1) (3.19.6)\n",
            "Requirement already satisfied: opt-einsum>=2.3.2 in /usr/local/lib/python3.9/dist-packages (from tensorflow==2.8.1) (3.3.0)\n",
            "Requirement already satisfied: typing-extensions>=3.6.6 in /usr/local/lib/python3.9/dist-packages (from tensorflow==2.8.1) (4.5.0)\n",
            "Requirement already satisfied: flatbuffers>=1.12 in /usr/local/lib/python3.9/dist-packages (from tensorflow==2.8.1) (23.3.3)\n",
            "Requirement already satisfied: libclang>=9.0.1 in /usr/local/lib/python3.9/dist-packages (from tensorflow==2.8.1) (15.0.6.1)\n",
            "Requirement already satisfied: wrapt>=1.11.0 in /usr/local/lib/python3.9/dist-packages (from tensorflow==2.8.1) (1.15.0)\n",
            "Collecting tensorflow-estimator<2.9,>=2.8\n",
            "  Downloading tensorflow_estimator-2.8.0-py2.py3-none-any.whl (462 kB)\n",
            "\u001b[2K     \u001b[90m━━━━━━━━━━━━━━━━━━━━━━━━━━━━━━━━━━━━━━\u001b[0m \u001b[32m462.3/462.3 KB\u001b[0m \u001b[31m44.8 MB/s\u001b[0m eta \u001b[36m0:00:00\u001b[0m\n",
            "\u001b[?25hRequirement already satisfied: termcolor>=1.1.0 in /usr/local/lib/python3.9/dist-packages (from tensorflow==2.8.1) (2.2.0)\n",
            "Requirement already satisfied: h5py>=2.9.0 in /usr/local/lib/python3.9/dist-packages (from tensorflow==2.8.1) (3.8.0)\n",
            "Requirement already satisfied: astunparse>=1.6.0 in /usr/local/lib/python3.9/dist-packages (from tensorflow==2.8.1) (1.6.3)\n",
            "Requirement already satisfied: setuptools in /usr/local/lib/python3.9/dist-packages (from tensorflow==2.8.1) (63.4.3)\n",
            "Requirement already satisfied: google-pasta>=0.1.1 in /usr/local/lib/python3.9/dist-packages (from tensorflow==2.8.1) (0.2.0)\n",
            "Collecting keras-preprocessing>=1.1.1\n",
            "  Downloading Keras_Preprocessing-1.1.2-py2.py3-none-any.whl (42 kB)\n",
            "\u001b[2K     \u001b[90m━━━━━━━━━━━━━━━━━━━━━━━━━━━━━━━━━━━━━━━━\u001b[0m \u001b[32m42.6/42.6 KB\u001b[0m \u001b[31m5.1 MB/s\u001b[0m eta \u001b[36m0:00:00\u001b[0m\n",
            "\u001b[?25hRequirement already satisfied: six>=1.12.0 in /usr/local/lib/python3.9/dist-packages (from tensorflow==2.8.1) (1.15.0)\n",
            "Requirement already satisfied: gast>=0.2.1 in /usr/local/lib/python3.9/dist-packages (from tensorflow==2.8.1) (0.4.0)\n",
            "Requirement already satisfied: grpcio<2.0,>=1.24.3 in /usr/local/lib/python3.9/dist-packages (from tensorflow==2.8.1) (1.51.3)\n",
            "Requirement already satisfied: tensorflow-io-gcs-filesystem>=0.23.1 in /usr/local/lib/python3.9/dist-packages (from tensorflow==2.8.1) (0.31.0)\n",
            "Collecting tensorboard<2.9,>=2.8\n",
            "  Downloading tensorboard-2.8.0-py3-none-any.whl (5.8 MB)\n",
            "\u001b[2K     \u001b[90m━━━━━━━━━━━━━━━━━━━━━━━━━━━━━━━━━━━━━━━━\u001b[0m \u001b[32m5.8/5.8 MB\u001b[0m \u001b[31m61.1 MB/s\u001b[0m eta \u001b[36m0:00:00\u001b[0m\n",
            "\u001b[?25hCollecting keras<2.9,>=2.8.0rc0\n",
            "  Downloading keras-2.8.0-py2.py3-none-any.whl (1.4 MB)\n",
            "\u001b[2K     \u001b[90m━━━━━━━━━━━━━━━━━━━━━━━━━━━━━━━━━━━━━━━━\u001b[0m \u001b[32m1.4/1.4 MB\u001b[0m \u001b[31m55.3 MB/s\u001b[0m eta \u001b[36m0:00:00\u001b[0m\n",
            "\u001b[?25hRequirement already satisfied: matplotlib in /usr/local/lib/python3.9/dist-packages (from mediapipe) (3.7.1)\n",
            "Requirement already satisfied: opencv-contrib-python in /usr/local/lib/python3.9/dist-packages (from mediapipe) (4.7.0.72)\n",
            "Requirement already satisfied: attrs>=19.1.0 in /usr/local/lib/python3.9/dist-packages (from mediapipe) (22.2.0)\n",
            "Requirement already satisfied: wheel<1.0,>=0.23.0 in /usr/local/lib/python3.9/dist-packages (from astunparse>=1.6.0->tensorflow==2.8.1) (0.40.0)\n",
            "Requirement already satisfied: werkzeug>=0.11.15 in /usr/local/lib/python3.9/dist-packages (from tensorboard<2.9,>=2.8->tensorflow==2.8.1) (2.2.3)\n",
            "Requirement already satisfied: google-auth<3,>=1.6.3 in /usr/local/lib/python3.9/dist-packages (from tensorboard<2.9,>=2.8->tensorflow==2.8.1) (2.16.2)\n",
            "Requirement already satisfied: tensorboard-plugin-wit>=1.6.0 in /usr/local/lib/python3.9/dist-packages (from tensorboard<2.9,>=2.8->tensorflow==2.8.1) (1.8.1)\n",
            "Requirement already satisfied: markdown>=2.6.8 in /usr/local/lib/python3.9/dist-packages (from tensorboard<2.9,>=2.8->tensorflow==2.8.1) (3.4.1)\n",
            "Requirement already satisfied: tensorboard-data-server<0.7.0,>=0.6.0 in /usr/local/lib/python3.9/dist-packages (from tensorboard<2.9,>=2.8->tensorflow==2.8.1) (0.6.1)\n",
            "Requirement already satisfied: google-auth-oauthlib<0.5,>=0.4.1 in /usr/local/lib/python3.9/dist-packages (from tensorboard<2.9,>=2.8->tensorflow==2.8.1) (0.4.6)\n",
            "Requirement already satisfied: requests<3,>=2.21.0 in /usr/local/lib/python3.9/dist-packages (from tensorboard<2.9,>=2.8->tensorflow==2.8.1) (2.27.1)\n",
            "Requirement already satisfied: pyparsing>=2.3.1 in /usr/local/lib/python3.9/dist-packages (from matplotlib->mediapipe) (3.0.9)\n",
            "Requirement already satisfied: contourpy>=1.0.1 in /usr/local/lib/python3.9/dist-packages (from matplotlib->mediapipe) (1.0.7)\n",
            "Requirement already satisfied: python-dateutil>=2.7 in /usr/local/lib/python3.9/dist-packages (from matplotlib->mediapipe) (2.8.2)\n",
            "Requirement already satisfied: cycler>=0.10 in /usr/local/lib/python3.9/dist-packages (from matplotlib->mediapipe) (0.11.0)\n",
            "Requirement already satisfied: fonttools>=4.22.0 in /usr/local/lib/python3.9/dist-packages (from matplotlib->mediapipe) (4.39.0)\n",
            "Requirement already satisfied: kiwisolver>=1.0.1 in /usr/local/lib/python3.9/dist-packages (from matplotlib->mediapipe) (1.4.4)\n",
            "Requirement already satisfied: importlib-resources>=3.2.0 in /usr/local/lib/python3.9/dist-packages (from matplotlib->mediapipe) (5.12.0)\n",
            "Requirement already satisfied: pillow>=6.2.0 in /usr/local/lib/python3.9/dist-packages (from matplotlib->mediapipe) (8.4.0)\n",
            "Requirement already satisfied: packaging>=20.0 in /usr/local/lib/python3.9/dist-packages (from matplotlib->mediapipe) (23.0)\n",
            "Requirement already satisfied: rsa<5,>=3.1.4 in /usr/local/lib/python3.9/dist-packages (from google-auth<3,>=1.6.3->tensorboard<2.9,>=2.8->tensorflow==2.8.1) (4.9)\n",
            "Requirement already satisfied: cachetools<6.0,>=2.0.0 in /usr/local/lib/python3.9/dist-packages (from google-auth<3,>=1.6.3->tensorboard<2.9,>=2.8->tensorflow==2.8.1) (5.3.0)\n",
            "Requirement already satisfied: pyasn1-modules>=0.2.1 in /usr/local/lib/python3.9/dist-packages (from google-auth<3,>=1.6.3->tensorboard<2.9,>=2.8->tensorflow==2.8.1) (0.2.8)\n",
            "Requirement already satisfied: requests-oauthlib>=0.7.0 in /usr/local/lib/python3.9/dist-packages (from google-auth-oauthlib<0.5,>=0.4.1->tensorboard<2.9,>=2.8->tensorflow==2.8.1) (1.3.1)\n",
            "Requirement already satisfied: zipp>=3.1.0 in /usr/local/lib/python3.9/dist-packages (from importlib-resources>=3.2.0->matplotlib->mediapipe) (3.15.0)\n",
            "Requirement already satisfied: importlib-metadata>=4.4 in /usr/local/lib/python3.9/dist-packages (from markdown>=2.6.8->tensorboard<2.9,>=2.8->tensorflow==2.8.1) (6.0.0)\n",
            "Requirement already satisfied: urllib3<1.27,>=1.21.1 in /usr/local/lib/python3.9/dist-packages (from requests<3,>=2.21.0->tensorboard<2.9,>=2.8->tensorflow==2.8.1) (1.26.15)\n",
            "Requirement already satisfied: charset-normalizer~=2.0.0 in /usr/local/lib/python3.9/dist-packages (from requests<3,>=2.21.0->tensorboard<2.9,>=2.8->tensorflow==2.8.1) (2.0.12)\n",
            "Requirement already satisfied: idna<4,>=2.5 in /usr/local/lib/python3.9/dist-packages (from requests<3,>=2.21.0->tensorboard<2.9,>=2.8->tensorflow==2.8.1) (3.4)\n",
            "Requirement already satisfied: certifi>=2017.4.17 in /usr/local/lib/python3.9/dist-packages (from requests<3,>=2.21.0->tensorboard<2.9,>=2.8->tensorflow==2.8.1) (2022.12.7)\n",
            "Requirement already satisfied: MarkupSafe>=2.1.1 in /usr/local/lib/python3.9/dist-packages (from werkzeug>=0.11.15->tensorboard<2.9,>=2.8->tensorflow==2.8.1) (2.1.2)\n",
            "Requirement already satisfied: pyasn1<0.5.0,>=0.4.6 in /usr/local/lib/python3.9/dist-packages (from pyasn1-modules>=0.2.1->google-auth<3,>=1.6.3->tensorboard<2.9,>=2.8->tensorflow==2.8.1) (0.4.8)\n",
            "Requirement already satisfied: oauthlib>=3.0.0 in /usr/local/lib/python3.9/dist-packages (from requests-oauthlib>=0.7.0->google-auth-oauthlib<0.5,>=0.4.1->tensorboard<2.9,>=2.8->tensorflow==2.8.1) (3.2.2)\n",
            "Installing collected packages: tensorflow-estimator, keras, keras-preprocessing, mediapipe, tensorboard, tensorflow-gpu, tensorflow\n",
            "  Attempting uninstall: tensorflow-estimator\n",
            "    Found existing installation: tensorflow-estimator 2.11.0\n",
            "    Uninstalling tensorflow-estimator-2.11.0:\n",
            "      Successfully uninstalled tensorflow-estimator-2.11.0\n",
            "  Attempting uninstall: keras\n",
            "    Found existing installation: keras 2.11.0\n",
            "    Uninstalling keras-2.11.0:\n",
            "      Successfully uninstalled keras-2.11.0\n",
            "  Attempting uninstall: tensorboard\n",
            "    Found existing installation: tensorboard 2.11.2\n",
            "    Uninstalling tensorboard-2.11.2:\n",
            "      Successfully uninstalled tensorboard-2.11.2\n",
            "  Attempting uninstall: tensorflow\n",
            "    Found existing installation: tensorflow 2.11.0\n",
            "    Uninstalling tensorflow-2.11.0:\n",
            "      Successfully uninstalled tensorflow-2.11.0\n",
            "Successfully installed keras-2.8.0 keras-preprocessing-1.1.2 mediapipe-0.9.1.0 tensorboard-2.8.0 tensorflow-2.8.1 tensorflow-estimator-2.8.0 tensorflow-gpu-2.8.1\n"
          ]
        }
      ],
      "source": [
        "!pip install tensorflow==2.8.1 tensorflow-gpu==2.8.1 opencv-python mediapipe "
      ]
    },
    {
      "cell_type": "code",
      "execution_count": 3,
      "metadata": {
        "id": "jmck_Duo16sH"
      },
      "outputs": [],
      "source": [
        "from sklearn.model_selection import train_test_split\n",
        "from tensorflow.keras.utils import to_categorical\n",
        "import cv2\n",
        "import numpy as np\n",
        "import os\n",
        "from matplotlib import pyplot as plt\n",
        "import time\n",
        "import mediapipe as mp\n",
        "from tensorflow.keras.models import Sequential\n",
        "from tensorflow.keras.layers import LSTM, Dense, GRU, Dropout\n",
        "from tensorflow.keras.callbacks import TensorBoard\n",
        "from sklearn.metrics import multilabel_confusion_matrix, accuracy_score"
      ]
    },
    {
      "cell_type": "code",
      "execution_count": 4,
      "metadata": {
        "id": "JwKesrxr2T8-",
        "colab": {
          "base_uri": "https://localhost:8080/"
        },
        "outputId": "60c95c6b-27a9-45f7-80b8-0cce7b07750c"
      },
      "outputs": [
        {
          "output_type": "stream",
          "name": "stdout",
          "text": [
            "Cloning into 'Tutorial_LSTM_MP'...\n",
            "remote: Enumerating objects: 50314, done.\u001b[K\n",
            "remote: Counting objects: 100% (1782/1782), done.\u001b[K\n",
            "remote: Compressing objects: 100% (1613/1613), done.\u001b[K\n",
            "remote: Total 50314 (delta 1733), reused 210 (delta 169), pack-reused 48532\u001b[K\n",
            "Receiving objects: 100% (50314/50314), 681.59 MiB | 23.99 MiB/s, done.\n",
            "Resolving deltas: 100% (16853/16853), done.\n",
            "Updating files: 100% (41825/41825), done.\n"
          ]
        }
      ],
      "source": [
        "! git clone https://github.com/nickbp760/Tutorial_LSTM_MP.git"
      ]
    },
    {
      "cell_type": "code",
      "source": [
        "def plot_graphs(history, string):\n",
        "    plt.plot(history.history[string])\n",
        "    plt.plot(history.history['val_'+string])\n",
        "    plt.xlabel(\"Epochs\")\n",
        "    plt.ylabel(string)\n",
        "    plt.legend([string, 'val_'+string])\n",
        "    plt.show()\n",
        "    "
      ],
      "metadata": {
        "id": "xfFaOsHKeB3a"
      },
      "execution_count": 9,
      "outputs": []
    },
    {
      "cell_type": "markdown",
      "metadata": {
        "id": "wQxJ8Faz2zhe"
      },
      "source": [
        "## **Create Labels and Features**"
      ]
    },
    {
      "cell_type": "markdown",
      "metadata": {
        "id": "C80wYflo3R2O"
      },
      "source": [
        "The label map containts the action label"
      ]
    },
    {
      "cell_type": "code",
      "execution_count": 7,
      "metadata": {
        "id": "OIwDfz9t2puH"
      },
      "outputs": [],
      "source": [
        "# Actions that we try to detect\n",
        "actions = np.array(['LirikKanan', 'LirikKiri', 'MenolehKanan', 'MenolehKiri', 'Normal', 'TutupMata'])\n",
        "label_map = {label:num for num, label in enumerate(actions)}"
      ]
    },
    {
      "cell_type": "code",
      "execution_count": 8,
      "metadata": {
        "id": "7b0QZxvg2tI2",
        "colab": {
          "base_uri": "https://localhost:8080/"
        },
        "outputId": "40e49dc7-0fb8-4173-8866-2f6a75d6d875"
      },
      "outputs": [
        {
          "output_type": "execute_result",
          "data": {
            "text/plain": [
              "{'LirikKanan': 0,\n",
              " 'LirikKiri': 1,\n",
              " 'MenolehKanan': 2,\n",
              " 'MenolehKiri': 3,\n",
              " 'Normal': 4,\n",
              " 'TutupMata': 5}"
            ]
          },
          "metadata": {},
          "execution_count": 8
        }
      ],
      "source": [
        "label_map"
      ]
    },
    {
      "cell_type": "markdown",
      "metadata": {
        "id": "bSUQCFAg41jm"
      },
      "source": [
        "## **DEFINE X (Input) and y (Output)**"
      ]
    },
    {
      "cell_type": "code",
      "execution_count": 11,
      "metadata": {
        "id": "q_tJp7Ua2G8m",
        "colab": {
          "base_uri": "https://localhost:8080/"
        },
        "outputId": "080d6eea-6c6d-43db-d7eb-085426c16f80"
      },
      "outputs": [
        {
          "output_type": "stream",
          "name": "stdout",
          "text": [
            "(180, 50, 15)\n",
            "(180, 6)\n"
          ]
        }
      ],
      "source": [
        "# Path for exported data, numpy arrays\n",
        "DATA_PATH = os.path.join('/content/Tutorial_LSTM_MP/Real_CheatDataTrain') \n",
        "\n",
        "# Actions that we try to detect\n",
        "actions = np.array(['LirikKanan', 'LirikKiri', 'MenolehKanan', 'MenolehKiri', 'Normal', 'TutupMata'])\n",
        "\n",
        "# Thirty videos worth of data\n",
        "no_sequences = 30\n",
        "\n",
        "# Videos are going to be 30 frames in length\n",
        "sequence_length = 50\n",
        "\n",
        "sequences, labels = [], []\n",
        "for action in actions:\n",
        "    for sequence in range(no_sequences):\n",
        "        window = []\n",
        "\n",
        "        for frame_num in range(sequence_length):\n",
        "            res = np.load(os.path.join(DATA_PATH, action, str(sequence), \"{}.npy\".format(frame_num)))\n",
        "            window.append(res)\n",
        "        sequences.append(window)\n",
        "        labels.append(label_map[action])\n",
        "\n",
        "X_train = np.array(sequences)\n",
        "print(X_train.shape)\n",
        "y_train = to_categorical(labels).astype(int)\n",
        "print(y_train.shape)"
      ]
    },
    {
      "cell_type": "code",
      "source": [
        "# Path for exported data, numpy arrays\n",
        "DATA_PATH = os.path.join('/content/Tutorial_LSTM_MP/Real_CheatDataTest') \n",
        "\n",
        "# Actions that we try to detect\n",
        "actions = np.array(['LirikKanan', 'LirikKiri', 'MenolehKanan', 'MenolehKiri', 'Normal', 'TutupMata'])\n",
        "\n",
        "# Thirty videos worth of data\n",
        "no_sequences = 3\n",
        "\n",
        "# Videos are going to be 30 frames in length\n",
        "sequence_length = 50\n",
        "\n",
        "sequences, labels = [], []\n",
        "for action in actions:\n",
        "    for sequence in range(no_sequences):\n",
        "        window = []\n",
        "\n",
        "        for frame_num in range(sequence_length):\n",
        "            res = np.load(os.path.join(DATA_PATH, action, str(sequence), \"{}.npy\".format(frame_num)))\n",
        "            window.append(res)\n",
        "        sequences.append(window)\n",
        "        labels.append(label_map[action])\n",
        "\n",
        "X_Valid = np.array(sequences)\n",
        "print(X_Valid.shape)\n",
        "y_Valid = to_categorical(labels).astype(int)\n",
        "print(y_Valid.shape)"
      ],
      "metadata": {
        "colab": {
          "base_uri": "https://localhost:8080/"
        },
        "id": "3DcnksV6bHBe",
        "outputId": "e9adbc1e-f626-4349-8d45-7b57958ecb9d"
      },
      "execution_count": 12,
      "outputs": [
        {
          "output_type": "stream",
          "name": "stdout",
          "text": [
            "(18, 50, 15)\n",
            "(18, 6)\n"
          ]
        }
      ]
    },
    {
      "cell_type": "code",
      "source": [
        "# Path for exported data, numpy arrays\n",
        "DATA_PATH = os.path.join('/content/Tutorial_LSTM_MP/Complete_CheatDataNiko') \n",
        "\n",
        "# Actions that we try to detect\n",
        "actions = np.array(['LirikKanan', 'LirikKiri', 'MenolehKanan', 'MenolehKiri', 'Normal', 'TutupMata'])\n",
        "\n",
        "# Thirty videos worth of data\n",
        "no_sequences = 30\n",
        "\n",
        "# Videos are going to be 30 frames in length\n",
        "sequence_length = 50\n",
        "\n",
        "sequences, labels = [], []\n",
        "for action in actions:\n",
        "    for sequence in range(no_sequences):\n",
        "        window = []\n",
        "\n",
        "        for frame_num in range(sequence_length):\n",
        "            res = np.load(os.path.join(DATA_PATH, action, str(sequence), \"{}.npy\".format(frame_num)))\n",
        "            window.append(res)\n",
        "        sequences.append(window)\n",
        "        labels.append(label_map[action])\n",
        "\n",
        "X_test = np.array(sequences)\n",
        "print(X_test.shape)\n",
        "y_test = to_categorical(labels).astype(int)\n",
        "print(y_test.shape)"
      ],
      "metadata": {
        "colab": {
          "base_uri": "https://localhost:8080/"
        },
        "id": "DJAPeVAQdlr-",
        "outputId": "50bd1bdc-2990-4fa4-b795-ef916a91b3af"
      },
      "execution_count": 13,
      "outputs": [
        {
          "output_type": "stream",
          "name": "stdout",
          "text": [
            "(180, 50, 15)\n",
            "(180, 6)\n"
          ]
        }
      ]
    },
    {
      "cell_type": "markdown",
      "metadata": {
        "id": "09LN9RY75Bid"
      },
      "source": [
        "## **Build and Train Neural Network**"
      ]
    },
    {
      "cell_type": "code",
      "execution_count": 26,
      "metadata": {
        "id": "ptTzydZM5KCt"
      },
      "outputs": [],
      "source": [
        "log_dir = os.path.join('Logs')\n",
        "tb_callback = TensorBoard(log_dir=log_dir)"
      ]
    },
    {
      "cell_type": "code",
      "source": [
        "model = Sequential()\n",
        "model.add(LSTM(128, return_sequences=True, activation='tanh', input_shape=(50,15)))\n",
        "model.add(Dropout(0.2))\n",
        "model.add(LSTM(64, return_sequences=True, activation='tanh'))\n",
        "model.add(Dropout(0.2))\n",
        "model.add(LSTM(128, return_sequences=False, activation='tanh'))\n",
        "model.add(Dense(64, activation='relu'))\n",
        "model.add(Dense(32, activation='relu'))\n",
        "model.add(Dense(actions.shape[0], activation='softmax'))"
      ],
      "metadata": {
        "id": "mcfMbYMeTiMn"
      },
      "execution_count": 34,
      "outputs": []
    },
    {
      "cell_type": "code",
      "source": [
        "model.compile(optimizer='adam', loss='categorical_crossentropy', metrics=['categorical_accuracy'])\n",
        "model.optimizer.lr.assign(0.0001)"
      ],
      "metadata": {
        "id": "pT2nuqEvSY8Z",
        "colab": {
          "base_uri": "https://localhost:8080/"
        },
        "outputId": "88cb8503-252e-4838-b58b-7470bd9a65bc"
      },
      "execution_count": 35,
      "outputs": [
        {
          "output_type": "execute_result",
          "data": {
            "text/plain": [
              "<tf.Variable 'UnreadVariable' shape=() dtype=float32, numpy=1e-04>"
            ]
          },
          "metadata": {},
          "execution_count": 35
        }
      ]
    },
    {
      "cell_type": "code",
      "source": [
        "history = model.fit(X_train, y_train, epochs=100, callbacks=[tb_callback], validation_data = (X_Valid, y_Valid))"
      ],
      "metadata": {
        "colab": {
          "base_uri": "https://localhost:8080/"
        },
        "id": "Wp4-43BrStY7",
        "outputId": "45aaa51b-02a8-48ec-ccc9-3d24cced5008"
      },
      "execution_count": 36,
      "outputs": [
        {
          "output_type": "stream",
          "name": "stdout",
          "text": [
            "Epoch 1/100\n",
            "6/6 [==============================] - 98s 211ms/step - loss: 1.8044 - categorical_accuracy: 0.0833 - val_loss: 1.7877 - val_categorical_accuracy: 0.0556\n",
            "Epoch 2/100\n",
            "6/6 [==============================] - 0s 22ms/step - loss: 1.7616 - categorical_accuracy: 0.2611 - val_loss: 1.7552 - val_categorical_accuracy: 0.3889\n",
            "Epoch 3/100\n",
            "6/6 [==============================] - 0s 20ms/step - loss: 1.7270 - categorical_accuracy: 0.4611 - val_loss: 1.7238 - val_categorical_accuracy: 0.4444\n",
            "Epoch 4/100\n",
            "6/6 [==============================] - 0s 20ms/step - loss: 1.6899 - categorical_accuracy: 0.5056 - val_loss: 1.6933 - val_categorical_accuracy: 0.5000\n",
            "Epoch 5/100\n",
            "6/6 [==============================] - 0s 19ms/step - loss: 1.6535 - categorical_accuracy: 0.5500 - val_loss: 1.6557 - val_categorical_accuracy: 0.5000\n",
            "Epoch 6/100\n",
            "6/6 [==============================] - 0s 20ms/step - loss: 1.6076 - categorical_accuracy: 0.5667 - val_loss: 1.6101 - val_categorical_accuracy: 0.5000\n",
            "Epoch 7/100\n",
            "6/6 [==============================] - 0s 20ms/step - loss: 1.5547 - categorical_accuracy: 0.6111 - val_loss: 1.5679 - val_categorical_accuracy: 0.4444\n",
            "Epoch 8/100\n",
            "6/6 [==============================] - 0s 16ms/step - loss: 1.4920 - categorical_accuracy: 0.6444 - val_loss: 1.5118 - val_categorical_accuracy: 0.4444\n",
            "Epoch 9/100\n",
            "6/6 [==============================] - 0s 15ms/step - loss: 1.4193 - categorical_accuracy: 0.6500 - val_loss: 1.4511 - val_categorical_accuracy: 0.3889\n",
            "Epoch 10/100\n",
            "6/6 [==============================] - 0s 16ms/step - loss: 1.3432 - categorical_accuracy: 0.7167 - val_loss: 1.3806 - val_categorical_accuracy: 0.3889\n",
            "Epoch 11/100\n",
            "6/6 [==============================] - 0s 17ms/step - loss: 1.2602 - categorical_accuracy: 0.7444 - val_loss: 1.2991 - val_categorical_accuracy: 0.5000\n",
            "Epoch 12/100\n",
            "6/6 [==============================] - 0s 16ms/step - loss: 1.1694 - categorical_accuracy: 0.7444 - val_loss: 1.2145 - val_categorical_accuracy: 0.5556\n",
            "Epoch 13/100\n",
            "6/6 [==============================] - 0s 15ms/step - loss: 1.0939 - categorical_accuracy: 0.7389 - val_loss: 1.1374 - val_categorical_accuracy: 0.7222\n",
            "Epoch 14/100\n",
            "6/6 [==============================] - 0s 17ms/step - loss: 1.0112 - categorical_accuracy: 0.7611 - val_loss: 1.0958 - val_categorical_accuracy: 0.6667\n",
            "Epoch 15/100\n",
            "6/6 [==============================] - 0s 18ms/step - loss: 0.9342 - categorical_accuracy: 0.7889 - val_loss: 0.9509 - val_categorical_accuracy: 0.7778\n",
            "Epoch 16/100\n",
            "6/6 [==============================] - 0s 15ms/step - loss: 0.8684 - categorical_accuracy: 0.7722 - val_loss: 0.8888 - val_categorical_accuracy: 0.7778\n",
            "Epoch 17/100\n",
            "6/6 [==============================] - 0s 18ms/step - loss: 0.8248 - categorical_accuracy: 0.7222 - val_loss: 0.9262 - val_categorical_accuracy: 0.6111\n",
            "Epoch 18/100\n",
            "6/6 [==============================] - 0s 16ms/step - loss: 0.7679 - categorical_accuracy: 0.7667 - val_loss: 0.7993 - val_categorical_accuracy: 0.7222\n",
            "Epoch 19/100\n",
            "6/6 [==============================] - 0s 19ms/step - loss: 0.7208 - categorical_accuracy: 0.8000 - val_loss: 0.7713 - val_categorical_accuracy: 0.7222\n",
            "Epoch 20/100\n",
            "6/6 [==============================] - 0s 16ms/step - loss: 0.6595 - categorical_accuracy: 0.8500 - val_loss: 0.8331 - val_categorical_accuracy: 0.7222\n",
            "Epoch 21/100\n",
            "6/6 [==============================] - 0s 17ms/step - loss: 0.6268 - categorical_accuracy: 0.8222 - val_loss: 0.7473 - val_categorical_accuracy: 0.7222\n",
            "Epoch 22/100\n",
            "6/6 [==============================] - 0s 15ms/step - loss: 0.5745 - categorical_accuracy: 0.8611 - val_loss: 0.6338 - val_categorical_accuracy: 0.7778\n",
            "Epoch 23/100\n",
            "6/6 [==============================] - 0s 15ms/step - loss: 0.5334 - categorical_accuracy: 0.8889 - val_loss: 0.6153 - val_categorical_accuracy: 0.7778\n",
            "Epoch 24/100\n",
            "6/6 [==============================] - 0s 17ms/step - loss: 0.5044 - categorical_accuracy: 0.8889 - val_loss: 0.6041 - val_categorical_accuracy: 0.8333\n",
            "Epoch 25/100\n",
            "6/6 [==============================] - 0s 15ms/step - loss: 0.4555 - categorical_accuracy: 0.8889 - val_loss: 0.5845 - val_categorical_accuracy: 0.6667\n",
            "Epoch 26/100\n",
            "6/6 [==============================] - 0s 15ms/step - loss: 0.4316 - categorical_accuracy: 0.9056 - val_loss: 0.4994 - val_categorical_accuracy: 0.8889\n",
            "Epoch 27/100\n",
            "6/6 [==============================] - 0s 18ms/step - loss: 0.4011 - categorical_accuracy: 0.9333 - val_loss: 0.5133 - val_categorical_accuracy: 0.8889\n",
            "Epoch 28/100\n",
            "6/6 [==============================] - 0s 17ms/step - loss: 0.3582 - categorical_accuracy: 0.9333 - val_loss: 0.5133 - val_categorical_accuracy: 0.8333\n",
            "Epoch 29/100\n",
            "6/6 [==============================] - 0s 17ms/step - loss: 0.3540 - categorical_accuracy: 0.9056 - val_loss: 0.4398 - val_categorical_accuracy: 0.8889\n",
            "Epoch 30/100\n",
            "6/6 [==============================] - 0s 18ms/step - loss: 0.3262 - categorical_accuracy: 0.9222 - val_loss: 0.5101 - val_categorical_accuracy: 0.8333\n",
            "Epoch 31/100\n",
            "6/6 [==============================] - 0s 18ms/step - loss: 0.3190 - categorical_accuracy: 0.9278 - val_loss: 0.5256 - val_categorical_accuracy: 0.7778\n",
            "Epoch 32/100\n",
            "6/6 [==============================] - 0s 16ms/step - loss: 0.2809 - categorical_accuracy: 0.9444 - val_loss: 0.5515 - val_categorical_accuracy: 0.6667\n",
            "Epoch 33/100\n",
            "6/6 [==============================] - 0s 18ms/step - loss: 0.2831 - categorical_accuracy: 0.9167 - val_loss: 0.5822 - val_categorical_accuracy: 0.7778\n",
            "Epoch 34/100\n",
            "6/6 [==============================] - 0s 17ms/step - loss: 0.2584 - categorical_accuracy: 0.9444 - val_loss: 0.3966 - val_categorical_accuracy: 0.8333\n",
            "Epoch 35/100\n",
            "6/6 [==============================] - 0s 17ms/step - loss: 0.2266 - categorical_accuracy: 0.9556 - val_loss: 0.4692 - val_categorical_accuracy: 0.8889\n",
            "Epoch 36/100\n",
            "6/6 [==============================] - 0s 15ms/step - loss: 0.2008 - categorical_accuracy: 0.9722 - val_loss: 0.4045 - val_categorical_accuracy: 0.8333\n",
            "Epoch 37/100\n",
            "6/6 [==============================] - 0s 15ms/step - loss: 0.1818 - categorical_accuracy: 0.9778 - val_loss: 0.4087 - val_categorical_accuracy: 0.7778\n",
            "Epoch 38/100\n",
            "6/6 [==============================] - 0s 18ms/step - loss: 0.1764 - categorical_accuracy: 0.9778 - val_loss: 0.4892 - val_categorical_accuracy: 0.7222\n",
            "Epoch 39/100\n",
            "6/6 [==============================] - 0s 17ms/step - loss: 0.1794 - categorical_accuracy: 0.9611 - val_loss: 0.5514 - val_categorical_accuracy: 0.7222\n",
            "Epoch 40/100\n",
            "6/6 [==============================] - 0s 17ms/step - loss: 0.1636 - categorical_accuracy: 0.9667 - val_loss: 0.5654 - val_categorical_accuracy: 0.7778\n",
            "Epoch 41/100\n",
            "6/6 [==============================] - 0s 17ms/step - loss: 0.1628 - categorical_accuracy: 0.9667 - val_loss: 0.8517 - val_categorical_accuracy: 0.7222\n",
            "Epoch 42/100\n",
            "6/6 [==============================] - 0s 15ms/step - loss: 0.1870 - categorical_accuracy: 0.9500 - val_loss: 0.5157 - val_categorical_accuracy: 0.8333\n",
            "Epoch 43/100\n",
            "6/6 [==============================] - 0s 15ms/step - loss: 0.1891 - categorical_accuracy: 0.9389 - val_loss: 0.4557 - val_categorical_accuracy: 0.7778\n",
            "Epoch 44/100\n",
            "6/6 [==============================] - 0s 18ms/step - loss: 0.1353 - categorical_accuracy: 0.9833 - val_loss: 0.3792 - val_categorical_accuracy: 0.7778\n",
            "Epoch 45/100\n",
            "6/6 [==============================] - 0s 16ms/step - loss: 0.1304 - categorical_accuracy: 0.9889 - val_loss: 0.5253 - val_categorical_accuracy: 0.7222\n",
            "Epoch 46/100\n",
            "6/6 [==============================] - 0s 18ms/step - loss: 0.1125 - categorical_accuracy: 0.9778 - val_loss: 0.5414 - val_categorical_accuracy: 0.7778\n",
            "Epoch 47/100\n",
            "6/6 [==============================] - 0s 15ms/step - loss: 0.0953 - categorical_accuracy: 0.9889 - val_loss: 0.4882 - val_categorical_accuracy: 0.7778\n",
            "Epoch 48/100\n",
            "6/6 [==============================] - 0s 18ms/step - loss: 0.0959 - categorical_accuracy: 0.9889 - val_loss: 0.4065 - val_categorical_accuracy: 0.8889\n",
            "Epoch 49/100\n",
            "6/6 [==============================] - 0s 16ms/step - loss: 0.0983 - categorical_accuracy: 0.9889 - val_loss: 0.4707 - val_categorical_accuracy: 0.8333\n",
            "Epoch 50/100\n",
            "6/6 [==============================] - 0s 15ms/step - loss: 0.0936 - categorical_accuracy: 0.9778 - val_loss: 0.4926 - val_categorical_accuracy: 0.7778\n",
            "Epoch 51/100\n",
            "6/6 [==============================] - 0s 15ms/step - loss: 0.0912 - categorical_accuracy: 0.9833 - val_loss: 0.5067 - val_categorical_accuracy: 0.8333\n",
            "Epoch 52/100\n",
            "6/6 [==============================] - 0s 15ms/step - loss: 0.0884 - categorical_accuracy: 0.9833 - val_loss: 0.5058 - val_categorical_accuracy: 0.8889\n",
            "Epoch 53/100\n",
            "6/6 [==============================] - 0s 15ms/step - loss: 0.0725 - categorical_accuracy: 0.9889 - val_loss: 0.4693 - val_categorical_accuracy: 0.7778\n",
            "Epoch 54/100\n",
            "6/6 [==============================] - 0s 15ms/step - loss: 0.0944 - categorical_accuracy: 0.9778 - val_loss: 0.4409 - val_categorical_accuracy: 0.8333\n",
            "Epoch 55/100\n",
            "6/6 [==============================] - 0s 16ms/step - loss: 0.0851 - categorical_accuracy: 0.9889 - val_loss: 0.4365 - val_categorical_accuracy: 0.8889\n",
            "Epoch 56/100\n",
            "6/6 [==============================] - 0s 18ms/step - loss: 0.0812 - categorical_accuracy: 0.9833 - val_loss: 0.5289 - val_categorical_accuracy: 0.7778\n",
            "Epoch 57/100\n",
            "6/6 [==============================] - 0s 15ms/step - loss: 0.0938 - categorical_accuracy: 0.9722 - val_loss: 0.4867 - val_categorical_accuracy: 0.8333\n",
            "Epoch 58/100\n",
            "6/6 [==============================] - 0s 18ms/step - loss: 0.0760 - categorical_accuracy: 0.9833 - val_loss: 0.6397 - val_categorical_accuracy: 0.7222\n",
            "Epoch 59/100\n",
            "6/6 [==============================] - 0s 18ms/step - loss: 0.0913 - categorical_accuracy: 0.9778 - val_loss: 0.7122 - val_categorical_accuracy: 0.7222\n",
            "Epoch 60/100\n",
            "6/6 [==============================] - 0s 16ms/step - loss: 0.0616 - categorical_accuracy: 0.9944 - val_loss: 0.6620 - val_categorical_accuracy: 0.7222\n",
            "Epoch 61/100\n",
            "6/6 [==============================] - 0s 16ms/step - loss: 0.0609 - categorical_accuracy: 0.9889 - val_loss: 0.8151 - val_categorical_accuracy: 0.7222\n",
            "Epoch 62/100\n",
            "6/6 [==============================] - 0s 15ms/step - loss: 0.0546 - categorical_accuracy: 0.9889 - val_loss: 0.4754 - val_categorical_accuracy: 0.8333\n",
            "Epoch 63/100\n",
            "6/6 [==============================] - 0s 24ms/step - loss: 0.0541 - categorical_accuracy: 0.9944 - val_loss: 0.4527 - val_categorical_accuracy: 0.8333\n",
            "Epoch 64/100\n",
            "6/6 [==============================] - 0s 25ms/step - loss: 0.0600 - categorical_accuracy: 0.9889 - val_loss: 0.5140 - val_categorical_accuracy: 0.7778\n",
            "Epoch 65/100\n",
            "6/6 [==============================] - 0s 22ms/step - loss: 0.0572 - categorical_accuracy: 0.9833 - val_loss: 0.6916 - val_categorical_accuracy: 0.7222\n",
            "Epoch 66/100\n",
            "6/6 [==============================] - 0s 25ms/step - loss: 0.0705 - categorical_accuracy: 0.9778 - val_loss: 0.5748 - val_categorical_accuracy: 0.7778\n",
            "Epoch 67/100\n",
            "6/6 [==============================] - 0s 25ms/step - loss: 0.0477 - categorical_accuracy: 0.9944 - val_loss: 0.5283 - val_categorical_accuracy: 0.8333\n",
            "Epoch 68/100\n",
            "6/6 [==============================] - 0s 24ms/step - loss: 0.0595 - categorical_accuracy: 0.9833 - val_loss: 0.7073 - val_categorical_accuracy: 0.7222\n",
            "Epoch 69/100\n",
            "6/6 [==============================] - 0s 24ms/step - loss: 0.0431 - categorical_accuracy: 0.9944 - val_loss: 0.5575 - val_categorical_accuracy: 0.8333\n",
            "Epoch 70/100\n",
            "6/6 [==============================] - 0s 23ms/step - loss: 0.0358 - categorical_accuracy: 1.0000 - val_loss: 0.6066 - val_categorical_accuracy: 0.7778\n",
            "Epoch 71/100\n",
            "6/6 [==============================] - 0s 23ms/step - loss: 0.0459 - categorical_accuracy: 0.9889 - val_loss: 0.7125 - val_categorical_accuracy: 0.7222\n",
            "Epoch 72/100\n",
            "6/6 [==============================] - 0s 23ms/step - loss: 0.0504 - categorical_accuracy: 0.9889 - val_loss: 0.4412 - val_categorical_accuracy: 0.8333\n",
            "Epoch 73/100\n",
            "6/6 [==============================] - 0s 24ms/step - loss: 0.0388 - categorical_accuracy: 1.0000 - val_loss: 0.7381 - val_categorical_accuracy: 0.7222\n",
            "Epoch 74/100\n",
            "6/6 [==============================] - 0s 24ms/step - loss: 0.0340 - categorical_accuracy: 1.0000 - val_loss: 0.6430 - val_categorical_accuracy: 0.7222\n",
            "Epoch 75/100\n",
            "6/6 [==============================] - 0s 24ms/step - loss: 0.0314 - categorical_accuracy: 1.0000 - val_loss: 0.4587 - val_categorical_accuracy: 0.8333\n",
            "Epoch 76/100\n",
            "6/6 [==============================] - 0s 24ms/step - loss: 0.0328 - categorical_accuracy: 0.9944 - val_loss: 0.3744 - val_categorical_accuracy: 0.8889\n",
            "Epoch 77/100\n",
            "6/6 [==============================] - 0s 27ms/step - loss: 0.0410 - categorical_accuracy: 0.9944 - val_loss: 0.5152 - val_categorical_accuracy: 0.7778\n",
            "Epoch 78/100\n",
            "6/6 [==============================] - 0s 24ms/step - loss: 0.0323 - categorical_accuracy: 0.9889 - val_loss: 0.5846 - val_categorical_accuracy: 0.7778\n",
            "Epoch 79/100\n",
            "6/6 [==============================] - 0s 24ms/step - loss: 0.0347 - categorical_accuracy: 0.9944 - val_loss: 0.5253 - val_categorical_accuracy: 0.8889\n",
            "Epoch 80/100\n",
            "6/6 [==============================] - 0s 24ms/step - loss: 0.0367 - categorical_accuracy: 0.9833 - val_loss: 0.5513 - val_categorical_accuracy: 0.7222\n",
            "Epoch 81/100\n",
            "6/6 [==============================] - 0s 26ms/step - loss: 0.0360 - categorical_accuracy: 0.9944 - val_loss: 0.5422 - val_categorical_accuracy: 0.7778\n",
            "Epoch 82/100\n",
            "6/6 [==============================] - 0s 25ms/step - loss: 0.0436 - categorical_accuracy: 0.9889 - val_loss: 0.4628 - val_categorical_accuracy: 0.8889\n",
            "Epoch 83/100\n",
            "6/6 [==============================] - 0s 23ms/step - loss: 0.0478 - categorical_accuracy: 0.9889 - val_loss: 0.5504 - val_categorical_accuracy: 0.8333\n",
            "Epoch 84/100\n",
            "6/6 [==============================] - 0s 23ms/step - loss: 0.0260 - categorical_accuracy: 1.0000 - val_loss: 0.5017 - val_categorical_accuracy: 0.8889\n",
            "Epoch 85/100\n",
            "6/6 [==============================] - 0s 26ms/step - loss: 0.0328 - categorical_accuracy: 0.9944 - val_loss: 0.5418 - val_categorical_accuracy: 0.8333\n",
            "Epoch 86/100\n",
            "6/6 [==============================] - 0s 23ms/step - loss: 0.0218 - categorical_accuracy: 1.0000 - val_loss: 0.6254 - val_categorical_accuracy: 0.7778\n",
            "Epoch 87/100\n",
            "6/6 [==============================] - 0s 24ms/step - loss: 0.0336 - categorical_accuracy: 0.9889 - val_loss: 0.6723 - val_categorical_accuracy: 0.7222\n",
            "Epoch 88/100\n",
            "6/6 [==============================] - 0s 23ms/step - loss: 0.0309 - categorical_accuracy: 0.9889 - val_loss: 0.7683 - val_categorical_accuracy: 0.7778\n",
            "Epoch 89/100\n",
            "6/6 [==============================] - 0s 24ms/step - loss: 0.0320 - categorical_accuracy: 0.9889 - val_loss: 0.8389 - val_categorical_accuracy: 0.7778\n",
            "Epoch 90/100\n",
            "6/6 [==============================] - 0s 24ms/step - loss: 0.0547 - categorical_accuracy: 0.9833 - val_loss: 0.4391 - val_categorical_accuracy: 0.8333\n",
            "Epoch 91/100\n",
            "6/6 [==============================] - 0s 24ms/step - loss: 0.0488 - categorical_accuracy: 0.9889 - val_loss: 0.2994 - val_categorical_accuracy: 0.8889\n",
            "Epoch 92/100\n",
            "6/6 [==============================] - 0s 22ms/step - loss: 0.0396 - categorical_accuracy: 0.9833 - val_loss: 0.5791 - val_categorical_accuracy: 0.8333\n",
            "Epoch 93/100\n",
            "6/6 [==============================] - 0s 22ms/step - loss: 0.0281 - categorical_accuracy: 0.9944 - val_loss: 0.6748 - val_categorical_accuracy: 0.8333\n",
            "Epoch 94/100\n",
            "6/6 [==============================] - 0s 21ms/step - loss: 0.0368 - categorical_accuracy: 0.9889 - val_loss: 0.4447 - val_categorical_accuracy: 0.8889\n",
            "Epoch 95/100\n",
            "6/6 [==============================] - 0s 26ms/step - loss: 0.0370 - categorical_accuracy: 0.9889 - val_loss: 0.5368 - val_categorical_accuracy: 0.8333\n",
            "Epoch 96/100\n",
            "6/6 [==============================] - 0s 26ms/step - loss: 0.0201 - categorical_accuracy: 1.0000 - val_loss: 0.7390 - val_categorical_accuracy: 0.7778\n",
            "Epoch 97/100\n",
            "6/6 [==============================] - 0s 23ms/step - loss: 0.0164 - categorical_accuracy: 1.0000 - val_loss: 0.6218 - val_categorical_accuracy: 0.8333\n",
            "Epoch 98/100\n",
            "6/6 [==============================] - 0s 25ms/step - loss: 0.0155 - categorical_accuracy: 1.0000 - val_loss: 0.6448 - val_categorical_accuracy: 0.8333\n",
            "Epoch 99/100\n",
            "6/6 [==============================] - 0s 22ms/step - loss: 0.0145 - categorical_accuracy: 1.0000 - val_loss: 0.6758 - val_categorical_accuracy: 0.8333\n",
            "Epoch 100/100\n",
            "6/6 [==============================] - 0s 18ms/step - loss: 0.0109 - categorical_accuracy: 1.0000 - val_loss: 0.6367 - val_categorical_accuracy: 0.8333\n"
          ]
        }
      ]
    },
    {
      "cell_type": "code",
      "source": [
        "model.summary()\n",
        "model.save('/content/Tutorial_LSTM_MP/Weight_model/actionGRUNikoCheatDataReal_DEMOLSTM.h5')\n",
        "plot_graphs(history, 'categorical_accuracy')\n",
        "plot_graphs(history, 'loss')"
      ],
      "metadata": {
        "colab": {
          "base_uri": "https://localhost:8080/",
          "height": 975
        },
        "id": "e2GpesJhXp4e",
        "outputId": "8c6af07d-8102-4b5a-a826-493b166ebaa3"
      },
      "execution_count": 37,
      "outputs": [
        {
          "output_type": "stream",
          "name": "stdout",
          "text": [
            "Model: \"sequential_4\"\n",
            "_________________________________________________________________\n",
            " Layer (type)                Output Shape              Param #   \n",
            "=================================================================\n",
            " lstm_6 (LSTM)               (None, 50, 128)           73728     \n",
            "                                                                 \n",
            " dropout_6 (Dropout)         (None, 50, 128)           0         \n",
            "                                                                 \n",
            " lstm_7 (LSTM)               (None, 50, 64)            49408     \n",
            "                                                                 \n",
            " dropout_7 (Dropout)         (None, 50, 64)            0         \n",
            "                                                                 \n",
            " lstm_8 (LSTM)               (None, 128)               98816     \n",
            "                                                                 \n",
            " dense_12 (Dense)            (None, 64)                8256      \n",
            "                                                                 \n",
            " dense_13 (Dense)            (None, 32)                2080      \n",
            "                                                                 \n",
            " dense_14 (Dense)            (None, 6)                 198       \n",
            "                                                                 \n",
            "=================================================================\n",
            "Total params: 232,486\n",
            "Trainable params: 232,486\n",
            "Non-trainable params: 0\n",
            "_________________________________________________________________\n"
          ]
        },
        {
          "output_type": "display_data",
          "data": {
            "text/plain": [
              "<Figure size 432x288 with 1 Axes>"
            ],
            "image/png": "[encoded data removed]"
          },
          "metadata": {
            "needs_background": "light"
          }
        },
        {
          "output_type": "display_data",
          "data": {
            "text/plain": [
              "<Figure size 432x288 with 1 Axes>"
            ],
            "image/png": "[encoded data removed]"
          },
          "metadata": {
            "needs_background": "light"
          }
        }
      ]
    },
    {
      "cell_type": "markdown",
      "source": [
        "## **Test the Model**"
      ],
      "metadata": {
        "id": "sBkZ3ApRVcwc"
      }
    },
    {
      "cell_type": "code",
      "source": [
        "y_test_predict = model.predict(X_test)\n",
        "ytrue = np.argmax(y_test, axis=1).tolist()\n",
        "yhat = np.argmax(y_test_predict, axis=1).tolist()\n",
        "multilabel_confusion_matrix(ytrue, yhat)\n",
        "accuracy_score(ytrue, yhat)"
      ],
      "metadata": {
        "colab": {
          "base_uri": "https://localhost:8080/"
        },
        "id": "OCCS45FelFL3",
        "outputId": "b6fc84e4-1ba2-4005-93f7-bb29a650f2ad"
      },
      "execution_count": 39,
      "outputs": [
        {
          "output_type": "execute_result",
          "data": {
            "text/plain": [
              "0.8833333333333333"
            ]
          },
          "metadata": {},
          "execution_count": 39
        }
      ]
    }
  ],
  "metadata": {
    "accelerator": "GPU",
    "colab": {
      "provenance": [],
      "collapsed_sections": [
        "wQxJ8Faz2zhe",
        "bSUQCFAg41jm",
        "sBkZ3ApRVcwc"
      ]
    },
    "gpuClass": "standard",
    "kernelspec": {
      "display_name": "Python 3.10.2 64-bit",
      "language": "python",
      "name": "python3"
    },
    "language_info": {
      "name": "python",
      "version": "3.10.2"
    },
    "vscode": {
      "interpreter": {
        "hash": "c2d1da28924dd73d48b374a30035f4a3d427e107cd96680887f7889f9d1a8264"
      }
    }
  },
  "nbformat": 4,
  "nbformat_minor": 0
}