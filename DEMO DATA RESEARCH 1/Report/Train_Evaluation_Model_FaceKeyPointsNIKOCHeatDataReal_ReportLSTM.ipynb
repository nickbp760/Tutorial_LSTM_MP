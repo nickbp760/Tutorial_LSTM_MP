{
  "cells": [
    {
      "cell_type": "markdown",
      "metadata": {
        "id": "B2cfeWV3Cv6r"
      },
      "source": [
        "# *SOURCE*\n",
        "https://www.youtube.com/watch?v=doDUihpj6ro&t=7339s\n",
        "https://github.com/nicknochnack/ActionDetectionforSignLanguage"
      ]
    },
    {
      "cell_type": "markdown",
      "source": [
        "## **Install Dependency**"
      ],
      "metadata": {
        "id": "nDxVaYFxT620"
      }
    },
    {
      "cell_type": "code",
      "source": [
        "! pip install PyQt5"
      ],
      "metadata": {
        "colab": {
          "base_uri": "https://localhost:8080/"
        },
        "id": "krl26FJLF4UL",
        "outputId": "52225967-8b18-481b-9bc0-fce777eb4a7b"
      },
      "execution_count": null,
      "outputs": [
        {
          "output_type": "stream",
          "name": "stdout",
          "text": [
            "Looking in indexes: https://pypi.org/simple, https://us-python.pkg.dev/colab-wheels/public/simple/\n",
            "Collecting PyQt5\n",
            "  Downloading PyQt5-5.15.9-cp37-abi3-manylinux_2_17_x86_64.whl (8.4 MB)\n",
            "\u001b[2K     \u001b[90m━━━━━━━━━━━━━━━━━━━━━━━━━━━━━━━━━━━━━━━━\u001b[0m \u001b[32m8.4/8.4 MB\u001b[0m \u001b[31m72.0 MB/s\u001b[0m eta \u001b[36m0:00:00\u001b[0m\n",
            "\u001b[?25hCollecting PyQt5-sip<13,>=12.11\n",
            "  Downloading PyQt5_sip-12.11.1-cp39-cp39-manylinux_2_5_x86_64.manylinux1_x86_64.whl (357 kB)\n",
            "\u001b[2K     \u001b[90m━━━━━━━━━━━━━━━━━━━━━━━━━━━━━━━━━━━━━━\u001b[0m \u001b[32m357.8/357.8 KB\u001b[0m \u001b[31m34.0 MB/s\u001b[0m eta \u001b[36m0:00:00\u001b[0m\n",
            "\u001b[?25hCollecting PyQt5-Qt5>=5.15.2\n",
            "  Downloading PyQt5_Qt5-5.15.2-py3-none-manylinux2014_x86_64.whl (59.9 MB)\n",
            "\u001b[2K     \u001b[90m━━━━━━━━━━━━━━━━━━━━━━━━━━━━━━━━━━━━━━━━\u001b[0m \u001b[32m59.9/59.9 MB\u001b[0m \u001b[31m13.8 MB/s\u001b[0m eta \u001b[36m0:00:00\u001b[0m\n",
            "\u001b[?25hInstalling collected packages: PyQt5-Qt5, PyQt5-sip, PyQt5\n",
            "Successfully installed PyQt5-5.15.9 PyQt5-Qt5-5.15.2 PyQt5-sip-12.11.1\n"
          ]
        }
      ]
    },
    {
      "cell_type": "code",
      "execution_count": null,
      "metadata": {
        "colab": {
          "base_uri": "https://localhost:8080/"
        },
        "id": "01jSxBD21OU7",
        "outputId": "c3c12050-cbae-4b34-e4c1-e2c13b735526"
      },
      "outputs": [
        {
          "output_type": "stream",
          "name": "stdout",
          "text": [
            "Looking in indexes: https://pypi.org/simple, https://us-python.pkg.dev/colab-wheels/public/simple/\n",
            "Collecting tensorflow==2.8.1\n",
            "  Downloading tensorflow-2.8.1-cp39-cp39-manylinux2010_x86_64.whl (498.0 MB)\n",
            "\u001b[2K     \u001b[90m━━━━━━━━━━━━━━━━━━━━━━━━━━━━━━━━━━━━━━━\u001b[0m \u001b[32m498.0/498.0 MB\u001b[0m \u001b[31m3.1 MB/s\u001b[0m eta \u001b[36m0:00:00\u001b[0m\n",
            "\u001b[?25hCollecting tensorflow-gpu==2.8.1\n",
            "  Downloading tensorflow_gpu-2.8.1-cp39-cp39-manylinux2010_x86_64.whl (498.0 MB)\n",
            "\u001b[2K     \u001b[90m━━━━━━━━━━━━━━━━━━━━━━━━━━━━━━━━━━━━━━━\u001b[0m \u001b[32m498.0/498.0 MB\u001b[0m \u001b[31m3.0 MB/s\u001b[0m eta \u001b[36m0:00:00\u001b[0m\n",
            "\u001b[?25hRequirement already satisfied: opencv-python in /usr/local/lib/python3.9/dist-packages (4.7.0.72)\n",
            "Collecting mediapipe\n",
            "  Downloading mediapipe-0.9.2.1-cp39-cp39-manylinux_2_17_x86_64.manylinux2014_x86_64.whl (33.6 MB)\n",
            "\u001b[2K     \u001b[90m━━━━━━━━━━━━━━━━━━━━━━━━━━━━━━━━━━━━━━━━\u001b[0m \u001b[32m33.6/33.6 MB\u001b[0m \u001b[31m36.1 MB/s\u001b[0m eta \u001b[36m0:00:00\u001b[0m\n",
            "\u001b[?25hCollecting keras<2.9,>=2.8.0rc0\n",
            "  Downloading keras-2.8.0-py2.py3-none-any.whl (1.4 MB)\n",
            "\u001b[2K     \u001b[90m━━━━━━━━━━━━━━━━━━━━━━━━━━━━━━━━━━━━━━━━\u001b[0m \u001b[32m1.4/1.4 MB\u001b[0m \u001b[31m62.3 MB/s\u001b[0m eta \u001b[36m0:00:00\u001b[0m\n",
            "\u001b[?25hRequirement already satisfied: absl-py>=0.4.0 in /usr/local/lib/python3.9/dist-packages (from tensorflow==2.8.1) (1.4.0)\n",
            "Requirement already satisfied: google-pasta>=0.1.1 in /usr/local/lib/python3.9/dist-packages (from tensorflow==2.8.1) (0.2.0)\n",
            "Requirement already satisfied: opt-einsum>=2.3.2 in /usr/local/lib/python3.9/dist-packages (from tensorflow==2.8.1) (3.3.0)\n",
            "Requirement already satisfied: libclang>=9.0.1 in /usr/local/lib/python3.9/dist-packages (from tensorflow==2.8.1) (15.0.6.1)\n",
            "Requirement already satisfied: termcolor>=1.1.0 in /usr/local/lib/python3.9/dist-packages (from tensorflow==2.8.1) (2.2.0)\n",
            "Requirement already satisfied: setuptools in /usr/local/lib/python3.9/dist-packages (from tensorflow==2.8.1) (67.6.0)\n",
            "Requirement already satisfied: astunparse>=1.6.0 in /usr/local/lib/python3.9/dist-packages (from tensorflow==2.8.1) (1.6.3)\n",
            "Collecting tensorflow-estimator<2.9,>=2.8\n",
            "  Downloading tensorflow_estimator-2.8.0-py2.py3-none-any.whl (462 kB)\n",
            "\u001b[2K     \u001b[90m━━━━━━━━━━━━━━━━━━━━━━━━━━━━━━━━━━━━━━\u001b[0m \u001b[32m462.3/462.3 KB\u001b[0m \u001b[31m45.0 MB/s\u001b[0m eta \u001b[36m0:00:00\u001b[0m\n",
            "\u001b[?25hRequirement already satisfied: protobuf>=3.9.2 in /usr/local/lib/python3.9/dist-packages (from tensorflow==2.8.1) (3.19.6)\n",
            "Requirement already satisfied: h5py>=2.9.0 in /usr/local/lib/python3.9/dist-packages (from tensorflow==2.8.1) (3.8.0)\n",
            "Requirement already satisfied: flatbuffers>=1.12 in /usr/local/lib/python3.9/dist-packages (from tensorflow==2.8.1) (23.3.3)\n",
            "Requirement already satisfied: numpy>=1.20 in /usr/local/lib/python3.9/dist-packages (from tensorflow==2.8.1) (1.22.4)\n",
            "Requirement already satisfied: six>=1.12.0 in /usr/local/lib/python3.9/dist-packages (from tensorflow==2.8.1) (1.16.0)\n",
            "Requirement already satisfied: typing-extensions>=3.6.6 in /usr/local/lib/python3.9/dist-packages (from tensorflow==2.8.1) (4.5.0)\n",
            "Requirement already satisfied: wrapt>=1.11.0 in /usr/local/lib/python3.9/dist-packages (from tensorflow==2.8.1) (1.15.0)\n",
            "Collecting tensorboard<2.9,>=2.8\n",
            "  Downloading tensorboard-2.8.0-py3-none-any.whl (5.8 MB)\n",
            "\u001b[2K     \u001b[90m━━━━━━━━━━━━━━━━━━━━━━━━━━━━━━━━━━━━━━━━\u001b[0m \u001b[32m5.8/5.8 MB\u001b[0m \u001b[31m69.2 MB/s\u001b[0m eta \u001b[36m0:00:00\u001b[0m\n",
            "\u001b[?25hCollecting keras-preprocessing>=1.1.1\n",
            "  Downloading Keras_Preprocessing-1.1.2-py2.py3-none-any.whl (42 kB)\n",
            "\u001b[2K     \u001b[90m━━━━━━━━━━━━━━━━━━━━━━━━━━━━━━━━━━━━━━━━\u001b[0m \u001b[32m42.6/42.6 KB\u001b[0m \u001b[31m6.6 MB/s\u001b[0m eta \u001b[36m0:00:00\u001b[0m\n",
            "\u001b[?25hRequirement already satisfied: gast>=0.2.1 in /usr/local/lib/python3.9/dist-packages (from tensorflow==2.8.1) (0.4.0)\n",
            "Requirement already satisfied: grpcio<2.0,>=1.24.3 in /usr/local/lib/python3.9/dist-packages (from tensorflow==2.8.1) (1.51.3)\n",
            "Requirement already satisfied: tensorflow-io-gcs-filesystem>=0.23.1 in /usr/local/lib/python3.9/dist-packages (from tensorflow==2.8.1) (0.31.0)\n",
            "Requirement already satisfied: matplotlib in /usr/local/lib/python3.9/dist-packages (from mediapipe) (3.7.1)\n",
            "Requirement already satisfied: opencv-contrib-python in /usr/local/lib/python3.9/dist-packages (from mediapipe) (4.7.0.72)\n",
            "Requirement already satisfied: attrs>=19.1.0 in /usr/local/lib/python3.9/dist-packages (from mediapipe) (22.2.0)\n",
            "Requirement already satisfied: wheel<1.0,>=0.23.0 in /usr/local/lib/python3.9/dist-packages (from astunparse>=1.6.0->tensorflow==2.8.1) (0.40.0)\n",
            "Requirement already satisfied: google-auth-oauthlib<0.5,>=0.4.1 in /usr/local/lib/python3.9/dist-packages (from tensorboard<2.9,>=2.8->tensorflow==2.8.1) (0.4.6)\n",
            "Requirement already satisfied: google-auth<3,>=1.6.3 in /usr/local/lib/python3.9/dist-packages (from tensorboard<2.9,>=2.8->tensorflow==2.8.1) (2.16.2)\n",
            "Requirement already satisfied: tensorboard-data-server<0.7.0,>=0.6.0 in /usr/local/lib/python3.9/dist-packages (from tensorboard<2.9,>=2.8->tensorflow==2.8.1) (0.6.1)\n",
            "Requirement already satisfied: tensorboard-plugin-wit>=1.6.0 in /usr/local/lib/python3.9/dist-packages (from tensorboard<2.9,>=2.8->tensorflow==2.8.1) (1.8.1)\n",
            "Requirement already satisfied: requests<3,>=2.21.0 in /usr/local/lib/python3.9/dist-packages (from tensorboard<2.9,>=2.8->tensorflow==2.8.1) (2.27.1)\n",
            "Requirement already satisfied: werkzeug>=0.11.15 in /usr/local/lib/python3.9/dist-packages (from tensorboard<2.9,>=2.8->tensorflow==2.8.1) (2.2.3)\n",
            "Requirement already satisfied: markdown>=2.6.8 in /usr/local/lib/python3.9/dist-packages (from tensorboard<2.9,>=2.8->tensorflow==2.8.1) (3.4.2)\n",
            "Requirement already satisfied: python-dateutil>=2.7 in /usr/local/lib/python3.9/dist-packages (from matplotlib->mediapipe) (2.8.2)\n",
            "Requirement already satisfied: cycler>=0.10 in /usr/local/lib/python3.9/dist-packages (from matplotlib->mediapipe) (0.11.0)\n",
            "Requirement already satisfied: fonttools>=4.22.0 in /usr/local/lib/python3.9/dist-packages (from matplotlib->mediapipe) (4.39.2)\n",
            "Requirement already satisfied: packaging>=20.0 in /usr/local/lib/python3.9/dist-packages (from matplotlib->mediapipe) (23.0)\n",
            "Requirement already satisfied: importlib-resources>=3.2.0 in /usr/local/lib/python3.9/dist-packages (from matplotlib->mediapipe) (5.12.0)\n",
            "Requirement already satisfied: contourpy>=1.0.1 in /usr/local/lib/python3.9/dist-packages (from matplotlib->mediapipe) (1.0.7)\n",
            "Requirement already satisfied: pyparsing>=2.3.1 in /usr/local/lib/python3.9/dist-packages (from matplotlib->mediapipe) (3.0.9)\n",
            "Requirement already satisfied: pillow>=6.2.0 in /usr/local/lib/python3.9/dist-packages (from matplotlib->mediapipe) (8.4.0)\n",
            "Requirement already satisfied: kiwisolver>=1.0.1 in /usr/local/lib/python3.9/dist-packages (from matplotlib->mediapipe) (1.4.4)\n",
            "Requirement already satisfied: rsa<5,>=3.1.4 in /usr/local/lib/python3.9/dist-packages (from google-auth<3,>=1.6.3->tensorboard<2.9,>=2.8->tensorflow==2.8.1) (4.9)\n",
            "Requirement already satisfied: cachetools<6.0,>=2.0.0 in /usr/local/lib/python3.9/dist-packages (from google-auth<3,>=1.6.3->tensorboard<2.9,>=2.8->tensorflow==2.8.1) (5.3.0)\n",
            "Requirement already satisfied: pyasn1-modules>=0.2.1 in /usr/local/lib/python3.9/dist-packages (from google-auth<3,>=1.6.3->tensorboard<2.9,>=2.8->tensorflow==2.8.1) (0.2.8)\n",
            "Requirement already satisfied: requests-oauthlib>=0.7.0 in /usr/local/lib/python3.9/dist-packages (from google-auth-oauthlib<0.5,>=0.4.1->tensorboard<2.9,>=2.8->tensorflow==2.8.1) (1.3.1)\n",
            "Requirement already satisfied: zipp>=3.1.0 in /usr/local/lib/python3.9/dist-packages (from importlib-resources>=3.2.0->matplotlib->mediapipe) (3.15.0)\n",
            "Requirement already satisfied: importlib-metadata>=4.4 in /usr/local/lib/python3.9/dist-packages (from markdown>=2.6.8->tensorboard<2.9,>=2.8->tensorflow==2.8.1) (6.1.0)\n",
            "Requirement already satisfied: urllib3<1.27,>=1.21.1 in /usr/local/lib/python3.9/dist-packages (from requests<3,>=2.21.0->tensorboard<2.9,>=2.8->tensorflow==2.8.1) (1.26.15)\n",
            "Requirement already satisfied: idna<4,>=2.5 in /usr/local/lib/python3.9/dist-packages (from requests<3,>=2.21.0->tensorboard<2.9,>=2.8->tensorflow==2.8.1) (3.4)\n",
            "Requirement already satisfied: charset-normalizer~=2.0.0 in /usr/local/lib/python3.9/dist-packages (from requests<3,>=2.21.0->tensorboard<2.9,>=2.8->tensorflow==2.8.1) (2.0.12)\n",
            "Requirement already satisfied: certifi>=2017.4.17 in /usr/local/lib/python3.9/dist-packages (from requests<3,>=2.21.0->tensorboard<2.9,>=2.8->tensorflow==2.8.1) (2022.12.7)\n",
            "Requirement already satisfied: MarkupSafe>=2.1.1 in /usr/local/lib/python3.9/dist-packages (from werkzeug>=0.11.15->tensorboard<2.9,>=2.8->tensorflow==2.8.1) (2.1.2)\n",
            "Requirement already satisfied: pyasn1<0.5.0,>=0.4.6 in /usr/local/lib/python3.9/dist-packages (from pyasn1-modules>=0.2.1->google-auth<3,>=1.6.3->tensorboard<2.9,>=2.8->tensorflow==2.8.1) (0.4.8)\n",
            "Requirement already satisfied: oauthlib>=3.0.0 in /usr/local/lib/python3.9/dist-packages (from requests-oauthlib>=0.7.0->google-auth-oauthlib<0.5,>=0.4.1->tensorboard<2.9,>=2.8->tensorflow==2.8.1) (3.2.2)\n",
            "Installing collected packages: tensorflow-estimator, keras, keras-preprocessing, mediapipe, tensorboard, tensorflow-gpu, tensorflow\n",
            "  Attempting uninstall: tensorflow-estimator\n",
            "    Found existing installation: tensorflow-estimator 2.11.0\n",
            "    Uninstalling tensorflow-estimator-2.11.0:\n",
            "      Successfully uninstalled tensorflow-estimator-2.11.0\n",
            "  Attempting uninstall: keras\n",
            "    Found existing installation: keras 2.11.0\n",
            "    Uninstalling keras-2.11.0:\n",
            "      Successfully uninstalled keras-2.11.0\n",
            "  Attempting uninstall: tensorboard\n",
            "    Found existing installation: tensorboard 2.11.2\n",
            "    Uninstalling tensorboard-2.11.2:\n",
            "      Successfully uninstalled tensorboard-2.11.2\n",
            "  Attempting uninstall: tensorflow\n",
            "    Found existing installation: tensorflow 2.11.0\n",
            "    Uninstalling tensorflow-2.11.0:\n",
            "      Successfully uninstalled tensorflow-2.11.0\n",
            "Successfully installed keras-2.8.0 keras-preprocessing-1.1.2 mediapipe-0.9.2.1 tensorboard-2.8.0 tensorflow-2.8.1 tensorflow-estimator-2.8.0 tensorflow-gpu-2.8.1\n"
          ]
        }
      ],
      "source": [
        "!pip install tensorflow==2.8.1 tensorflow-gpu==2.8.1 opencv-python mediapipe "
      ]
    },
    {
      "cell_type": "code",
      "execution_count": null,
      "metadata": {
        "id": "jmck_Duo16sH"
      },
      "outputs": [],
      "source": [
        "from sklearn.model_selection import train_test_split\n",
        "from tensorflow.keras.utils import to_categorical\n",
        "import cv2\n",
        "import numpy as np\n",
        "import os\n",
        "from matplotlib import pyplot as plt\n",
        "import time\n",
        "import mediapipe as mp\n",
        "from tensorflow.keras.models import Sequential\n",
        "from tensorflow.keras.layers import LSTM, Dense, GRU, Dropout\n",
        "from tensorflow.keras.callbacks import TensorBoard\n",
        "from sklearn.metrics import multilabel_confusion_matrix, accuracy_score"
      ]
    },
    {
      "cell_type": "code",
      "execution_count": null,
      "metadata": {
        "id": "JwKesrxr2T8-",
        "colab": {
          "base_uri": "https://localhost:8080/"
        },
        "outputId": "0eff1ee1-e0aa-46b3-c319-b1be232b8216"
      },
      "outputs": [
        {
          "output_type": "stream",
          "name": "stdout",
          "text": [
            "Cloning into 'Tutorial_LSTM_MP'...\n",
            "remote: Enumerating objects: 50326, done.\u001b[K\n",
            "remote: Counting objects: 100% (1794/1794), done.\u001b[K\n",
            "remote: Compressing objects: 100% (1624/1624), done.\u001b[K\n",
            "remote: Total 50326 (delta 1735), reused 220 (delta 170), pack-reused 48532\u001b[K\n",
            "Receiving objects: 100% (50326/50326), 686.10 MiB | 16.19 MiB/s, done.\n",
            "Resolving deltas: 100% (16855/16855), done.\n",
            "Updating files: 100% (41832/41832), done.\n"
          ]
        }
      ],
      "source": [
        "! git clone https://github.com/nickbp760/Tutorial_LSTM_MP.git"
      ]
    },
    {
      "cell_type": "code",
      "source": [
        "def plot_graphs(history, string):\n",
        "    plt.plot(history.history[string])\n",
        "    plt.plot(history.history['val_'+string])\n",
        "    plt.xlabel(\"Epochs\")\n",
        "    plt.ylabel(string)\n",
        "    plt.legend([string, 'val_'+string])\n",
        "    plt.show()\n",
        "    "
      ],
      "metadata": {
        "id": "xfFaOsHKeB3a"
      },
      "execution_count": null,
      "outputs": []
    },
    {
      "cell_type": "markdown",
      "metadata": {
        "id": "wQxJ8Faz2zhe"
      },
      "source": [
        "## **Create Labels and Features**"
      ]
    },
    {
      "cell_type": "markdown",
      "metadata": {
        "id": "C80wYflo3R2O"
      },
      "source": [
        "The label map containts the action label"
      ]
    },
    {
      "cell_type": "code",
      "execution_count": null,
      "metadata": {
        "id": "OIwDfz9t2puH"
      },
      "outputs": [],
      "source": [
        "# Actions that we try to detect\n",
        "actions = np.array(['LirikKanan', 'LirikKiri', 'MenolehKanan', 'MenolehKiri', 'Normal', 'TutupMata'])\n",
        "label_map = {label:num for num, label in enumerate(actions)}"
      ]
    },
    {
      "cell_type": "code",
      "execution_count": null,
      "metadata": {
        "id": "7b0QZxvg2tI2",
        "colab": {
          "base_uri": "https://localhost:8080/"
        },
        "outputId": "4ff84c3f-1a2b-4122-8c9d-800fee19a9b7"
      },
      "outputs": [
        {
          "output_type": "execute_result",
          "data": {
            "text/plain": [
              "{'LirikKanan': 0,\n",
              " 'LirikKiri': 1,\n",
              " 'MenolehKanan': 2,\n",
              " 'MenolehKiri': 3,\n",
              " 'Normal': 4,\n",
              " 'TutupMata': 5}"
            ]
          },
          "metadata": {},
          "execution_count": 7
        }
      ],
      "source": [
        "label_map"
      ]
    },
    {
      "cell_type": "markdown",
      "metadata": {
        "id": "bSUQCFAg41jm"
      },
      "source": [
        "## **DEFINE X (Input) and y (Output)**"
      ]
    },
    {
      "cell_type": "code",
      "execution_count": null,
      "metadata": {
        "id": "q_tJp7Ua2G8m",
        "colab": {
          "base_uri": "https://localhost:8080/"
        },
        "outputId": "d5d393c5-64ee-4a75-f858-1f81141343b0"
      },
      "outputs": [
        {
          "output_type": "stream",
          "name": "stdout",
          "text": [
            "(180, 50, 15)\n",
            "(180, 6)\n"
          ]
        }
      ],
      "source": [
        "# Path for exported data, numpy arrays\n",
        "DATA_PATH = os.path.join('/content/Tutorial_LSTM_MP/Real_CheatDataTrain') \n",
        "\n",
        "# Actions that we try to detect\n",
        "actions = np.array(['LirikKanan', 'LirikKiri', 'MenolehKanan', 'MenolehKiri', 'Normal', 'TutupMata'])\n",
        "\n",
        "# Thirty videos worth of data\n",
        "no_sequences = 30\n",
        "\n",
        "# Videos are going to be 30 frames in length\n",
        "sequence_length = 50\n",
        "\n",
        "sequences, labels = [], []\n",
        "for action in actions:\n",
        "    for sequence in range(no_sequences):\n",
        "        window = []\n",
        "\n",
        "        for frame_num in range(sequence_length):\n",
        "            res = np.load(os.path.join(DATA_PATH, action, str(sequence), \"{}.npy\".format(frame_num)))\n",
        "            window.append(res)\n",
        "        sequences.append(window)\n",
        "        labels.append(label_map[action])\n",
        "\n",
        "X_train = np.array(sequences)\n",
        "print(X_train.shape)\n",
        "y_train = to_categorical(labels).astype(int)\n",
        "print(y_train.shape)"
      ]
    },
    {
      "cell_type": "code",
      "source": [
        "# Path for exported data, numpy arrays\n",
        "DATA_PATH = os.path.join('/content/Tutorial_LSTM_MP/Real_CheatDataTest') \n",
        "\n",
        "# Actions that we try to detect\n",
        "actions = np.array(['LirikKanan', 'LirikKiri', 'MenolehKanan', 'MenolehKiri', 'Normal', 'TutupMata'])\n",
        "\n",
        "# Thirty videos worth of data\n",
        "no_sequences = 3\n",
        "\n",
        "# Videos are going to be 30 frames in length\n",
        "sequence_length = 50\n",
        "\n",
        "sequences, labels = [], []\n",
        "for action in actions:\n",
        "    for sequence in range(no_sequences):\n",
        "        window = []\n",
        "\n",
        "        for frame_num in range(sequence_length):\n",
        "            res = np.load(os.path.join(DATA_PATH, action, str(sequence), \"{}.npy\".format(frame_num)))\n",
        "            window.append(res)\n",
        "        sequences.append(window)\n",
        "        labels.append(label_map[action])\n",
        "\n",
        "X_Valid = np.array(sequences)\n",
        "print(X_Valid.shape)\n",
        "y_Valid = to_categorical(labels).astype(int)\n",
        "print(y_Valid.shape)"
      ],
      "metadata": {
        "colab": {
          "base_uri": "https://localhost:8080/"
        },
        "id": "3DcnksV6bHBe",
        "outputId": "860e84d4-64a4-4c34-9da4-bb721a97ad0b"
      },
      "execution_count": null,
      "outputs": [
        {
          "output_type": "stream",
          "name": "stdout",
          "text": [
            "(18, 50, 15)\n",
            "(18, 6)\n"
          ]
        }
      ]
    },
    {
      "cell_type": "code",
      "source": [
        "# Path for exported data, numpy arrays\n",
        "DATA_PATH = os.path.join('/content/Tutorial_LSTM_MP/Complete_CheatDataNiko') \n",
        "\n",
        "# Actions that we try to detect\n",
        "actions = np.array(['LirikKanan', 'LirikKiri', 'MenolehKanan', 'MenolehKiri', 'Normal', 'TutupMata'])\n",
        "\n",
        "# Thirty videos worth of data\n",
        "no_sequences = 30\n",
        "\n",
        "# Videos are going to be 30 frames in length\n",
        "sequence_length = 50\n",
        "\n",
        "sequences, labels = [], []\n",
        "for action in actions:\n",
        "    for sequence in range(no_sequences):\n",
        "        window = []\n",
        "\n",
        "        for frame_num in range(sequence_length):\n",
        "            res = np.load(os.path.join(DATA_PATH, action, str(sequence), \"{}.npy\".format(frame_num)))\n",
        "            window.append(res)\n",
        "        sequences.append(window)\n",
        "        labels.append(label_map[action])\n",
        "\n",
        "X_test = np.array(sequences)\n",
        "print(X_test.shape)\n",
        "y_test = to_categorical(labels).astype(int)\n",
        "print(y_test.shape)"
      ],
      "metadata": {
        "colab": {
          "base_uri": "https://localhost:8080/"
        },
        "id": "DJAPeVAQdlr-",
        "outputId": "5572daf2-848e-48fe-9bff-efceb4efa922"
      },
      "execution_count": null,
      "outputs": [
        {
          "output_type": "stream",
          "name": "stdout",
          "text": [
            "(180, 50, 15)\n",
            "(180, 6)\n"
          ]
        }
      ]
    },
    {
      "cell_type": "markdown",
      "metadata": {
        "id": "09LN9RY75Bid"
      },
      "source": [
        "## **Build, Train and Test Neural Network**"
      ]
    },
    {
      "cell_type": "code",
      "execution_count": null,
      "metadata": {
        "id": "ptTzydZM5KCt"
      },
      "outputs": [],
      "source": [
        "log_dir = os.path.join('Logs')\n",
        "tb_callback = TensorBoard(log_dir=log_dir)"
      ]
    },
    {
      "cell_type": "code",
      "source": [
        "model = Sequential()\n",
        "model.add(LSTM(128, return_sequences=True, activation='tanh', input_shape=(50,15)))\n",
        "model.add(Dropout(0.2))\n",
        "model.add(LSTM(64, return_sequences=True, activation='tanh'))\n",
        "model.add(Dropout(0.2))\n",
        "model.add(LSTM(128, return_sequences=False, activation='tanh'))\n",
        "model.add(Dense(64, activation='relu'))\n",
        "model.add(Dense(32, activation='relu'))\n",
        "model.add(Dense(actions.shape[0], activation='softmax'))"
      ],
      "metadata": {
        "id": "mcfMbYMeTiMn"
      },
      "execution_count": null,
      "outputs": []
    },
    {
      "cell_type": "code",
      "source": [
        "model.compile(optimizer='adam', loss='categorical_crossentropy', metrics=['categorical_accuracy'])\n",
        "model.optimizer.lr.assign(0.0001)"
      ],
      "metadata": {
        "id": "pT2nuqEvSY8Z",
        "colab": {
          "base_uri": "https://localhost:8080/"
        },
        "outputId": "7e784066-d3c5-4692-aa08-c09fa8fc4f84"
      },
      "execution_count": null,
      "outputs": [
        {
          "output_type": "execute_result",
          "data": {
            "text/plain": [
              "<tf.Variable 'UnreadVariable' shape=() dtype=float32, numpy=1e-04>"
            ]
          },
          "metadata": {},
          "execution_count": 13
        }
      ]
    },
    {
      "cell_type": "code",
      "source": [
        "history = model.fit(X_train, y_train, epochs=100, callbacks=[tb_callback], validation_data = (X_Valid, y_Valid))"
      ],
      "metadata": {
        "colab": {
          "base_uri": "https://localhost:8080/"
        },
        "id": "Wp4-43BrStY7",
        "outputId": "aaff4fd7-6a92-4b0a-db3f-5df680c6beac"
      },
      "execution_count": null,
      "outputs": [
        {
          "output_type": "stream",
          "name": "stdout",
          "text": [
            "Epoch 1/100\n",
            "6/6 [==============================] - 10s 337ms/step - loss: 1.7869 - categorical_accuracy: 0.2667 - val_loss: 1.7709 - val_categorical_accuracy: 0.4444\n",
            "Epoch 2/100\n",
            "6/6 [==============================] - 0s 26ms/step - loss: 1.7511 - categorical_accuracy: 0.3889 - val_loss: 1.7289 - val_categorical_accuracy: 0.5000\n",
            "Epoch 3/100\n",
            "6/6 [==============================] - 0s 26ms/step - loss: 1.7141 - categorical_accuracy: 0.4333 - val_loss: 1.6845 - val_categorical_accuracy: 0.5000\n",
            "Epoch 4/100\n",
            "6/6 [==============================] - 0s 24ms/step - loss: 1.6753 - categorical_accuracy: 0.4611 - val_loss: 1.6364 - val_categorical_accuracy: 0.5000\n",
            "Epoch 5/100\n",
            "6/6 [==============================] - 0s 24ms/step - loss: 1.6318 - categorical_accuracy: 0.5444 - val_loss: 1.5855 - val_categorical_accuracy: 0.5000\n",
            "Epoch 6/100\n",
            "6/6 [==============================] - 0s 25ms/step - loss: 1.5745 - categorical_accuracy: 0.5500 - val_loss: 1.5310 - val_categorical_accuracy: 0.5000\n",
            "Epoch 7/100\n",
            "6/6 [==============================] - 0s 23ms/step - loss: 1.5197 - categorical_accuracy: 0.5500 - val_loss: 1.4757 - val_categorical_accuracy: 0.3889\n",
            "Epoch 8/100\n",
            "6/6 [==============================] - 0s 25ms/step - loss: 1.4576 - categorical_accuracy: 0.5556 - val_loss: 1.4271 - val_categorical_accuracy: 0.3333\n",
            "Epoch 9/100\n",
            "6/6 [==============================] - 0s 24ms/step - loss: 1.3907 - categorical_accuracy: 0.5722 - val_loss: 1.3684 - val_categorical_accuracy: 0.3889\n",
            "Epoch 10/100\n",
            "6/6 [==============================] - 0s 29ms/step - loss: 1.3293 - categorical_accuracy: 0.5667 - val_loss: 1.3142 - val_categorical_accuracy: 0.3889\n",
            "Epoch 11/100\n",
            "6/6 [==============================] - 0s 26ms/step - loss: 1.2661 - categorical_accuracy: 0.5944 - val_loss: 1.2637 - val_categorical_accuracy: 0.4444\n",
            "Epoch 12/100\n",
            "6/6 [==============================] - 0s 24ms/step - loss: 1.2036 - categorical_accuracy: 0.5944 - val_loss: 1.2225 - val_categorical_accuracy: 0.4444\n",
            "Epoch 13/100\n",
            "6/6 [==============================] - 0s 26ms/step - loss: 1.1463 - categorical_accuracy: 0.6000 - val_loss: 1.1247 - val_categorical_accuracy: 0.5000\n",
            "Epoch 14/100\n",
            "6/6 [==============================] - 0s 26ms/step - loss: 1.0914 - categorical_accuracy: 0.6111 - val_loss: 1.0603 - val_categorical_accuracy: 0.6111\n",
            "Epoch 15/100\n",
            "6/6 [==============================] - 0s 25ms/step - loss: 1.0364 - categorical_accuracy: 0.6111 - val_loss: 1.0516 - val_categorical_accuracy: 0.5556\n",
            "Epoch 16/100\n",
            "6/6 [==============================] - 0s 24ms/step - loss: 0.9847 - categorical_accuracy: 0.6444 - val_loss: 1.0287 - val_categorical_accuracy: 0.5556\n",
            "Epoch 17/100\n",
            "6/6 [==============================] - 0s 18ms/step - loss: 0.9403 - categorical_accuracy: 0.6722 - val_loss: 0.9512 - val_categorical_accuracy: 0.6111\n",
            "Epoch 18/100\n",
            "6/6 [==============================] - 0s 21ms/step - loss: 0.9030 - categorical_accuracy: 0.6611 - val_loss: 0.9916 - val_categorical_accuracy: 0.5556\n",
            "Epoch 19/100\n",
            "6/6 [==============================] - 0s 20ms/step - loss: 0.8637 - categorical_accuracy: 0.6889 - val_loss: 0.9539 - val_categorical_accuracy: 0.6111\n",
            "Epoch 20/100\n",
            "6/6 [==============================] - 0s 18ms/step - loss: 0.8241 - categorical_accuracy: 0.7111 - val_loss: 0.9829 - val_categorical_accuracy: 0.6667\n",
            "Epoch 21/100\n",
            "6/6 [==============================] - 0s 17ms/step - loss: 0.7861 - categorical_accuracy: 0.7000 - val_loss: 0.8932 - val_categorical_accuracy: 0.6111\n",
            "Epoch 22/100\n",
            "6/6 [==============================] - 0s 19ms/step - loss: 0.7602 - categorical_accuracy: 0.7222 - val_loss: 0.9758 - val_categorical_accuracy: 0.6111\n",
            "Epoch 23/100\n",
            "6/6 [==============================] - 0s 19ms/step - loss: 0.7262 - categorical_accuracy: 0.7500 - val_loss: 0.8768 - val_categorical_accuracy: 0.6111\n",
            "Epoch 24/100\n",
            "6/6 [==============================] - 0s 18ms/step - loss: 0.6889 - categorical_accuracy: 0.7722 - val_loss: 0.7102 - val_categorical_accuracy: 0.7222\n",
            "Epoch 25/100\n",
            "6/6 [==============================] - 0s 17ms/step - loss: 0.6764 - categorical_accuracy: 0.7556 - val_loss: 1.1713 - val_categorical_accuracy: 0.6667\n",
            "Epoch 26/100\n",
            "6/6 [==============================] - 0s 20ms/step - loss: 0.6625 - categorical_accuracy: 0.7556 - val_loss: 0.7249 - val_categorical_accuracy: 0.6667\n",
            "Epoch 27/100\n",
            "6/6 [==============================] - 0s 17ms/step - loss: 0.6568 - categorical_accuracy: 0.7444 - val_loss: 0.5683 - val_categorical_accuracy: 0.7778\n",
            "Epoch 28/100\n",
            "6/6 [==============================] - 0s 18ms/step - loss: 0.6143 - categorical_accuracy: 0.7889 - val_loss: 0.7246 - val_categorical_accuracy: 0.7222\n",
            "Epoch 29/100\n",
            "6/6 [==============================] - 0s 20ms/step - loss: 0.5806 - categorical_accuracy: 0.8000 - val_loss: 0.9859 - val_categorical_accuracy: 0.6111\n",
            "Epoch 30/100\n",
            "6/6 [==============================] - 0s 17ms/step - loss: 0.5519 - categorical_accuracy: 0.8222 - val_loss: 0.9724 - val_categorical_accuracy: 0.6667\n",
            "Epoch 31/100\n",
            "6/6 [==============================] - 0s 22ms/step - loss: 0.5359 - categorical_accuracy: 0.7944 - val_loss: 0.9378 - val_categorical_accuracy: 0.7222\n",
            "Epoch 32/100\n",
            "6/6 [==============================] - 0s 17ms/step - loss: 0.5081 - categorical_accuracy: 0.8389 - val_loss: 0.8933 - val_categorical_accuracy: 0.7222\n",
            "Epoch 33/100\n",
            "6/6 [==============================] - 0s 20ms/step - loss: 0.4732 - categorical_accuracy: 0.8556 - val_loss: 0.9508 - val_categorical_accuracy: 0.7222\n",
            "Epoch 34/100\n",
            "6/6 [==============================] - 0s 17ms/step - loss: 0.4430 - categorical_accuracy: 0.8611 - val_loss: 0.8702 - val_categorical_accuracy: 0.7222\n",
            "Epoch 35/100\n",
            "6/6 [==============================] - 0s 18ms/step - loss: 0.4368 - categorical_accuracy: 0.8556 - val_loss: 0.8219 - val_categorical_accuracy: 0.7222\n",
            "Epoch 36/100\n",
            "6/6 [==============================] - 0s 20ms/step - loss: 0.4168 - categorical_accuracy: 0.8556 - val_loss: 0.8067 - val_categorical_accuracy: 0.7222\n",
            "Epoch 37/100\n",
            "6/6 [==============================] - 0s 17ms/step - loss: 0.4027 - categorical_accuracy: 0.8722 - val_loss: 0.8925 - val_categorical_accuracy: 0.6667\n",
            "Epoch 38/100\n",
            "6/6 [==============================] - 0s 20ms/step - loss: 0.4046 - categorical_accuracy: 0.8556 - val_loss: 1.0647 - val_categorical_accuracy: 0.6667\n",
            "Epoch 39/100\n",
            "6/6 [==============================] - 0s 20ms/step - loss: 0.3683 - categorical_accuracy: 0.9111 - val_loss: 1.0945 - val_categorical_accuracy: 0.7222\n",
            "Epoch 40/100\n",
            "6/6 [==============================] - 0s 19ms/step - loss: 0.3482 - categorical_accuracy: 0.9167 - val_loss: 0.8133 - val_categorical_accuracy: 0.6667\n",
            "Epoch 41/100\n",
            "6/6 [==============================] - 0s 18ms/step - loss: 0.3526 - categorical_accuracy: 0.8944 - val_loss: 0.8278 - val_categorical_accuracy: 0.7222\n",
            "Epoch 42/100\n",
            "6/6 [==============================] - 0s 21ms/step - loss: 0.3375 - categorical_accuracy: 0.9111 - val_loss: 0.8593 - val_categorical_accuracy: 0.7222\n",
            "Epoch 43/100\n",
            "6/6 [==============================] - 0s 19ms/step - loss: 0.3160 - categorical_accuracy: 0.9222 - val_loss: 0.6036 - val_categorical_accuracy: 0.7222\n",
            "Epoch 44/100\n",
            "6/6 [==============================] - 0s 20ms/step - loss: 0.2726 - categorical_accuracy: 0.9444 - val_loss: 0.6013 - val_categorical_accuracy: 0.7222\n",
            "Epoch 45/100\n",
            "6/6 [==============================] - 0s 17ms/step - loss: 0.2873 - categorical_accuracy: 0.9278 - val_loss: 0.6264 - val_categorical_accuracy: 0.6667\n",
            "Epoch 46/100\n",
            "6/6 [==============================] - 0s 19ms/step - loss: 0.2611 - categorical_accuracy: 0.9333 - val_loss: 0.7509 - val_categorical_accuracy: 0.6667\n",
            "Epoch 47/100\n",
            "6/6 [==============================] - 0s 22ms/step - loss: 0.2545 - categorical_accuracy: 0.9556 - val_loss: 0.7403 - val_categorical_accuracy: 0.7222\n",
            "Epoch 48/100\n",
            "6/6 [==============================] - 0s 18ms/step - loss: 0.2444 - categorical_accuracy: 0.9389 - val_loss: 0.9556 - val_categorical_accuracy: 0.7222\n",
            "Epoch 49/100\n",
            "6/6 [==============================] - 0s 19ms/step - loss: 0.2822 - categorical_accuracy: 0.8944 - val_loss: 1.0740 - val_categorical_accuracy: 0.6667\n",
            "Epoch 50/100\n",
            "6/6 [==============================] - 0s 20ms/step - loss: 0.3100 - categorical_accuracy: 0.8889 - val_loss: 1.2339 - val_categorical_accuracy: 0.6667\n",
            "Epoch 51/100\n",
            "6/6 [==============================] - 0s 17ms/step - loss: 0.2693 - categorical_accuracy: 0.9222 - val_loss: 0.4245 - val_categorical_accuracy: 0.7778\n",
            "Epoch 52/100\n",
            "6/6 [==============================] - 0s 19ms/step - loss: 0.2448 - categorical_accuracy: 0.9111 - val_loss: 0.3723 - val_categorical_accuracy: 0.8333\n",
            "Epoch 53/100\n",
            "6/6 [==============================] - 0s 17ms/step - loss: 0.2436 - categorical_accuracy: 0.9111 - val_loss: 0.5708 - val_categorical_accuracy: 0.6667\n",
            "Epoch 54/100\n",
            "6/6 [==============================] - 0s 17ms/step - loss: 0.2107 - categorical_accuracy: 0.9500 - val_loss: 0.7389 - val_categorical_accuracy: 0.6111\n",
            "Epoch 55/100\n",
            "6/6 [==============================] - 0s 18ms/step - loss: 0.1967 - categorical_accuracy: 0.9556 - val_loss: 0.5488 - val_categorical_accuracy: 0.6667\n",
            "Epoch 56/100\n",
            "6/6 [==============================] - 0s 17ms/step - loss: 0.1705 - categorical_accuracy: 0.9667 - val_loss: 0.3630 - val_categorical_accuracy: 0.8889\n",
            "Epoch 57/100\n",
            "6/6 [==============================] - 0s 18ms/step - loss: 0.1630 - categorical_accuracy: 0.9500 - val_loss: 0.3195 - val_categorical_accuracy: 0.8889\n",
            "Epoch 58/100\n",
            "6/6 [==============================] - 0s 21ms/step - loss: 0.1670 - categorical_accuracy: 0.9556 - val_loss: 0.3872 - val_categorical_accuracy: 0.7222\n",
            "Epoch 59/100\n",
            "6/6 [==============================] - 0s 18ms/step - loss: 0.1487 - categorical_accuracy: 0.9778 - val_loss: 0.4363 - val_categorical_accuracy: 0.7778\n",
            "Epoch 60/100\n",
            "6/6 [==============================] - 0s 20ms/step - loss: 0.1416 - categorical_accuracy: 0.9667 - val_loss: 0.5874 - val_categorical_accuracy: 0.7222\n",
            "Epoch 61/100\n",
            "6/6 [==============================] - 0s 17ms/step - loss: 0.1540 - categorical_accuracy: 0.9389 - val_loss: 0.5175 - val_categorical_accuracy: 0.7222\n",
            "Epoch 62/100\n",
            "6/6 [==============================] - 0s 18ms/step - loss: 0.1314 - categorical_accuracy: 0.9500 - val_loss: 0.5036 - val_categorical_accuracy: 0.8333\n",
            "Epoch 63/100\n",
            "6/6 [==============================] - 0s 17ms/step - loss: 0.1243 - categorical_accuracy: 0.9667 - val_loss: 0.3386 - val_categorical_accuracy: 0.8333\n",
            "Epoch 64/100\n",
            "6/6 [==============================] - 0s 21ms/step - loss: 0.1307 - categorical_accuracy: 0.9611 - val_loss: 0.3306 - val_categorical_accuracy: 0.8333\n",
            "Epoch 65/100\n",
            "6/6 [==============================] - 0s 17ms/step - loss: 0.1210 - categorical_accuracy: 0.9833 - val_loss: 0.3471 - val_categorical_accuracy: 0.8333\n",
            "Epoch 66/100\n",
            "6/6 [==============================] - 0s 17ms/step - loss: 0.1157 - categorical_accuracy: 0.9833 - val_loss: 0.4203 - val_categorical_accuracy: 0.7222\n",
            "Epoch 67/100\n",
            "6/6 [==============================] - 0s 20ms/step - loss: 0.1163 - categorical_accuracy: 0.9778 - val_loss: 0.4369 - val_categorical_accuracy: 0.7778\n",
            "Epoch 68/100\n",
            "6/6 [==============================] - 0s 17ms/step - loss: 0.0916 - categorical_accuracy: 0.9889 - val_loss: 0.3605 - val_categorical_accuracy: 0.8333\n",
            "Epoch 69/100\n",
            "6/6 [==============================] - 0s 26ms/step - loss: 0.1219 - categorical_accuracy: 0.9611 - val_loss: 0.3536 - val_categorical_accuracy: 0.8333\n",
            "Epoch 70/100\n",
            "6/6 [==============================] - 0s 19ms/step - loss: 0.0837 - categorical_accuracy: 0.9944 - val_loss: 0.4230 - val_categorical_accuracy: 0.8333\n",
            "Epoch 71/100\n",
            "6/6 [==============================] - 0s 19ms/step - loss: 0.1236 - categorical_accuracy: 0.9667 - val_loss: 0.3226 - val_categorical_accuracy: 0.8889\n",
            "Epoch 72/100\n",
            "6/6 [==============================] - 0s 18ms/step - loss: 0.0937 - categorical_accuracy: 0.9889 - val_loss: 0.6853 - val_categorical_accuracy: 0.6667\n",
            "Epoch 73/100\n",
            "6/6 [==============================] - 0s 18ms/step - loss: 0.0933 - categorical_accuracy: 0.9778 - val_loss: 0.4806 - val_categorical_accuracy: 0.7778\n",
            "Epoch 74/100\n",
            "6/6 [==============================] - 0s 17ms/step - loss: 0.1027 - categorical_accuracy: 0.9778 - val_loss: 0.4882 - val_categorical_accuracy: 0.8333\n",
            "Epoch 75/100\n",
            "6/6 [==============================] - 0s 17ms/step - loss: 0.0996 - categorical_accuracy: 0.9667 - val_loss: 0.3926 - val_categorical_accuracy: 0.8333\n",
            "Epoch 76/100\n",
            "6/6 [==============================] - 0s 19ms/step - loss: 0.0742 - categorical_accuracy: 0.9889 - val_loss: 0.3706 - val_categorical_accuracy: 0.7778\n",
            "Epoch 77/100\n",
            "6/6 [==============================] - 0s 20ms/step - loss: 0.0767 - categorical_accuracy: 0.9778 - val_loss: 0.4046 - val_categorical_accuracy: 0.7778\n",
            "Epoch 78/100\n",
            "6/6 [==============================] - 0s 19ms/step - loss: 0.1005 - categorical_accuracy: 0.9722 - val_loss: 0.4537 - val_categorical_accuracy: 0.7778\n",
            "Epoch 79/100\n",
            "6/6 [==============================] - 0s 18ms/step - loss: 0.0946 - categorical_accuracy: 0.9722 - val_loss: 0.3503 - val_categorical_accuracy: 0.8333\n",
            "Epoch 80/100\n",
            "6/6 [==============================] - 0s 18ms/step - loss: 0.0745 - categorical_accuracy: 0.9833 - val_loss: 0.2866 - val_categorical_accuracy: 0.8333\n",
            "Epoch 81/100\n",
            "6/6 [==============================] - 0s 17ms/step - loss: 0.1101 - categorical_accuracy: 0.9556 - val_loss: 0.2421 - val_categorical_accuracy: 0.8333\n",
            "Epoch 82/100\n",
            "6/6 [==============================] - 0s 18ms/step - loss: 0.0895 - categorical_accuracy: 0.9722 - val_loss: 0.3266 - val_categorical_accuracy: 0.8889\n",
            "Epoch 83/100\n",
            "6/6 [==============================] - 0s 19ms/step - loss: 0.0857 - categorical_accuracy: 0.9889 - val_loss: 0.4053 - val_categorical_accuracy: 0.8333\n",
            "Epoch 84/100\n",
            "6/6 [==============================] - 0s 18ms/step - loss: 0.0817 - categorical_accuracy: 0.9778 - val_loss: 0.3437 - val_categorical_accuracy: 0.7778\n",
            "Epoch 85/100\n",
            "6/6 [==============================] - 0s 20ms/step - loss: 0.0768 - categorical_accuracy: 0.9833 - val_loss: 0.4592 - val_categorical_accuracy: 0.7778\n",
            "Epoch 86/100\n",
            "6/6 [==============================] - 0s 18ms/step - loss: 0.0850 - categorical_accuracy: 0.9722 - val_loss: 0.5828 - val_categorical_accuracy: 0.7778\n",
            "Epoch 87/100\n",
            "6/6 [==============================] - 0s 22ms/step - loss: 0.0598 - categorical_accuracy: 0.9833 - val_loss: 1.2872 - val_categorical_accuracy: 0.6111\n",
            "Epoch 88/100\n",
            "6/6 [==============================] - 0s 20ms/step - loss: 0.0839 - categorical_accuracy: 0.9778 - val_loss: 0.3371 - val_categorical_accuracy: 0.8333\n",
            "Epoch 89/100\n",
            "6/6 [==============================] - 0s 19ms/step - loss: 0.0664 - categorical_accuracy: 0.9833 - val_loss: 0.2593 - val_categorical_accuracy: 0.8333\n",
            "Epoch 90/100\n",
            "6/6 [==============================] - 0s 20ms/step - loss: 0.0519 - categorical_accuracy: 0.9944 - val_loss: 0.2624 - val_categorical_accuracy: 0.8333\n",
            "Epoch 91/100\n",
            "6/6 [==============================] - 0s 17ms/step - loss: 0.0557 - categorical_accuracy: 0.9889 - val_loss: 0.4025 - val_categorical_accuracy: 0.7778\n",
            "Epoch 92/100\n",
            "6/6 [==============================] - 0s 17ms/step - loss: 0.0615 - categorical_accuracy: 0.9778 - val_loss: 0.6560 - val_categorical_accuracy: 0.6667\n",
            "Epoch 93/100\n",
            "6/6 [==============================] - 0s 17ms/step - loss: 0.0497 - categorical_accuracy: 0.9889 - val_loss: 0.8258 - val_categorical_accuracy: 0.7222\n",
            "Epoch 94/100\n",
            "6/6 [==============================] - 0s 20ms/step - loss: 0.0519 - categorical_accuracy: 0.9944 - val_loss: 0.6522 - val_categorical_accuracy: 0.7778\n",
            "Epoch 95/100\n",
            "6/6 [==============================] - 0s 18ms/step - loss: 0.0380 - categorical_accuracy: 1.0000 - val_loss: 0.3292 - val_categorical_accuracy: 0.8889\n",
            "Epoch 96/100\n",
            "6/6 [==============================] - 0s 20ms/step - loss: 0.0421 - categorical_accuracy: 0.9889 - val_loss: 0.2674 - val_categorical_accuracy: 0.9444\n",
            "Epoch 97/100\n",
            "6/6 [==============================] - 0s 18ms/step - loss: 0.0483 - categorical_accuracy: 0.9889 - val_loss: 0.2369 - val_categorical_accuracy: 0.9444\n",
            "Epoch 98/100\n",
            "6/6 [==============================] - 0s 17ms/step - loss: 0.0394 - categorical_accuracy: 0.9944 - val_loss: 0.2020 - val_categorical_accuracy: 1.0000\n",
            "Epoch 99/100\n",
            "6/6 [==============================] - 0s 21ms/step - loss: 0.0658 - categorical_accuracy: 0.9778 - val_loss: 0.2487 - val_categorical_accuracy: 0.8889\n",
            "Epoch 100/100\n",
            "6/6 [==============================] - 0s 21ms/step - loss: 0.0411 - categorical_accuracy: 0.9944 - val_loss: 0.2427 - val_categorical_accuracy: 0.8889\n"
          ]
        }
      ]
    },
    {
      "cell_type": "code",
      "source": [
        "model.summary()\n",
        "model.save('/content/Tutorial_LSTM_MP/Weight_model/actionGRUNikoCheatDataReal_ReportLSTM.h5')\n",
        "plot_graphs(history, 'categorical_accuracy')\n",
        "plot_graphs(history, 'loss')"
      ],
      "metadata": {
        "colab": {
          "base_uri": "https://localhost:8080/",
          "height": 975
        },
        "id": "e2GpesJhXp4e",
        "outputId": "c2b8e55c-e61d-42fe-b7ea-6f3e4d6dd99c"
      },
      "execution_count": null,
      "outputs": [
        {
          "output_type": "stream",
          "name": "stdout",
          "text": [
            "Model: \"sequential\"\n",
            "_________________________________________________________________\n",
            " Layer (type)                Output Shape              Param #   \n",
            "=================================================================\n",
            " lstm (LSTM)                 (None, 50, 128)           73728     \n",
            "                                                                 \n",
            " dropout (Dropout)           (None, 50, 128)           0         \n",
            "                                                                 \n",
            " lstm_1 (LSTM)               (None, 50, 64)            49408     \n",
            "                                                                 \n",
            " dropout_1 (Dropout)         (None, 50, 64)            0         \n",
            "                                                                 \n",
            " lstm_2 (LSTM)               (None, 128)               98816     \n",
            "                                                                 \n",
            " dense (Dense)               (None, 64)                8256      \n",
            "                                                                 \n",
            " dense_1 (Dense)             (None, 32)                2080      \n",
            "                                                                 \n",
            " dense_2 (Dense)             (None, 6)                 198       \n",
            "                                                                 \n",
            "=================================================================\n",
            "Total params: 232,486\n",
            "Trainable params: 232,486\n",
            "Non-trainable params: 0\n",
            "_________________________________________________________________\n"
          ]
        },
        {
          "output_type": "display_data",
          "data": {
            "text/plain": [
              "<Figure size 432x288 with 1 Axes>"
            ],
            "image/png": "[encoded data removed]"
          },
          "metadata": {
            "needs_background": "light"
          }
        },
        {
          "output_type": "display_data",
          "data": {
            "text/plain": [
              "<Figure size 432x288 with 1 Axes>"
            ],
            "image/png": "[encoded data removed]"
          },
          "metadata": {
            "needs_background": "light"
          }
        }
      ]
    },
    {
      "cell_type": "code",
      "source": [
        "y_test_predict = model.predict(X_test)\n",
        "ytrue = np.argmax(y_test, axis=1).tolist()\n",
        "yhat = np.argmax(y_test_predict, axis=1).tolist()\n",
        "multilabel_confusion_matrix(ytrue, yhat)\n",
        "accuracy_score(ytrue, yhat)"
      ],
      "metadata": {
        "colab": {
          "base_uri": "https://localhost:8080/"
        },
        "id": "OCCS45FelFL3",
        "outputId": "c99f4cc2-6e3f-46eb-ee0e-ea2d42694f2f"
      },
      "execution_count": null,
      "outputs": [
        {
          "output_type": "execute_result",
          "data": {
            "text/plain": [
              "0.8944444444444445"
            ]
          },
          "metadata": {},
          "execution_count": 16
        }
      ]
    },
    {
      "cell_type": "markdown",
      "metadata": {
        "id": "WMVehfbqWAGM"
      },
      "source": [
        "## **Build, Train and Test Neural Network 2**"
      ]
    },
    {
      "cell_type": "code",
      "execution_count": null,
      "metadata": {
        "id": "YUow43_AWAGM"
      },
      "outputs": [],
      "source": [
        "log_dir = os.path.join('Logs')\n",
        "tb_callback = TensorBoard(log_dir=log_dir)"
      ]
    },
    {
      "cell_type": "code",
      "source": [
        "model = Sequential()\n",
        "model.add(LSTM(256, return_sequences=True, activation='tanh', input_shape=(50,15)))\n",
        "model.add(Dropout(0.2))\n",
        "model.add(LSTM(128, return_sequences=True, activation='tanh'))\n",
        "model.add(Dropout(0.2))\n",
        "model.add(LSTM(64, return_sequences=False, activation='tanh'))\n",
        "model.add(Dense(64, activation='relu'))\n",
        "model.add(Dense(32, activation='relu'))\n",
        "model.add(Dense(actions.shape[0], activation='softmax'))"
      ],
      "metadata": {
        "id": "K7YGRLfuWAGM"
      },
      "execution_count": null,
      "outputs": []
    },
    {
      "cell_type": "code",
      "source": [
        "model.compile(optimizer='adam', loss='categorical_crossentropy', metrics=['categorical_accuracy'])\n",
        "model.optimizer.lr.assign(0.0001)"
      ],
      "metadata": {
        "colab": {
          "base_uri": "https://localhost:8080/"
        },
        "outputId": "e135aa8e-53e3-4660-88e8-edcb6bd95eb8",
        "id": "qKKFsv-pWAGN"
      },
      "execution_count": null,
      "outputs": [
        {
          "output_type": "execute_result",
          "data": {
            "text/plain": [
              "<tf.Variable 'UnreadVariable' shape=() dtype=float32, numpy=1e-04>"
            ]
          },
          "metadata": {},
          "execution_count": 19
        }
      ]
    },
    {
      "cell_type": "code",
      "source": [
        "history = model.fit(X_train, y_train, epochs=100, callbacks=[tb_callback], validation_data = (X_Valid, y_Valid))"
      ],
      "metadata": {
        "colab": {
          "base_uri": "https://localhost:8080/"
        },
        "outputId": "0c3697e0-4e8c-45be-e3c5-d7d4b7d5b9ab",
        "id": "FLsYl_WsWAGN"
      },
      "execution_count": null,
      "outputs": [
        {
          "output_type": "stream",
          "name": "stdout",
          "text": [
            "Epoch 1/100\n",
            "6/6 [==============================] - 6s 237ms/step - loss: 1.7659 - categorical_accuracy: 0.2722 - val_loss: 1.7462 - val_categorical_accuracy: 0.3333\n",
            "Epoch 2/100\n",
            "6/6 [==============================] - 0s 25ms/step - loss: 1.6955 - categorical_accuracy: 0.5833 - val_loss: 1.6768 - val_categorical_accuracy: 0.3333\n",
            "Epoch 3/100\n",
            "6/6 [==============================] - 0s 23ms/step - loss: 1.6279 - categorical_accuracy: 0.6333 - val_loss: 1.5938 - val_categorical_accuracy: 0.5000\n",
            "Epoch 4/100\n",
            "6/6 [==============================] - 0s 23ms/step - loss: 1.5471 - categorical_accuracy: 0.6667 - val_loss: 1.5184 - val_categorical_accuracy: 0.5000\n",
            "Epoch 5/100\n",
            "6/6 [==============================] - 0s 24ms/step - loss: 1.4726 - categorical_accuracy: 0.6111 - val_loss: 1.4403 - val_categorical_accuracy: 0.5000\n",
            "Epoch 6/100\n",
            "6/6 [==============================] - 0s 22ms/step - loss: 1.3905 - categorical_accuracy: 0.6056 - val_loss: 1.3390 - val_categorical_accuracy: 0.6111\n",
            "Epoch 7/100\n",
            "6/6 [==============================] - 0s 22ms/step - loss: 1.3050 - categorical_accuracy: 0.6500 - val_loss: 1.2521 - val_categorical_accuracy: 0.6111\n",
            "Epoch 8/100\n",
            "6/6 [==============================] - 0s 18ms/step - loss: 1.2292 - categorical_accuracy: 0.6500 - val_loss: 1.1743 - val_categorical_accuracy: 0.6667\n",
            "Epoch 9/100\n",
            "6/6 [==============================] - 0s 19ms/step - loss: 1.1546 - categorical_accuracy: 0.6389 - val_loss: 1.0996 - val_categorical_accuracy: 0.7222\n",
            "Epoch 10/100\n",
            "6/6 [==============================] - 0s 17ms/step - loss: 1.0887 - categorical_accuracy: 0.6611 - val_loss: 1.0572 - val_categorical_accuracy: 0.7778\n",
            "Epoch 11/100\n",
            "6/6 [==============================] - 0s 17ms/step - loss: 1.0278 - categorical_accuracy: 0.7056 - val_loss: 0.9823 - val_categorical_accuracy: 0.7778\n",
            "Epoch 12/100\n",
            "6/6 [==============================] - 0s 17ms/step - loss: 0.9669 - categorical_accuracy: 0.7278 - val_loss: 0.9604 - val_categorical_accuracy: 0.7778\n",
            "Epoch 13/100\n",
            "6/6 [==============================] - 0s 17ms/step - loss: 0.9103 - categorical_accuracy: 0.7389 - val_loss: 0.9402 - val_categorical_accuracy: 0.6667\n",
            "Epoch 14/100\n",
            "6/6 [==============================] - 0s 18ms/step - loss: 0.8495 - categorical_accuracy: 0.7778 - val_loss: 0.9142 - val_categorical_accuracy: 0.7222\n",
            "Epoch 15/100\n",
            "6/6 [==============================] - 0s 20ms/step - loss: 0.7914 - categorical_accuracy: 0.8111 - val_loss: 0.7501 - val_categorical_accuracy: 0.8889\n",
            "Epoch 16/100\n",
            "6/6 [==============================] - 0s 19ms/step - loss: 0.7527 - categorical_accuracy: 0.8000 - val_loss: 0.9121 - val_categorical_accuracy: 0.6111\n",
            "Epoch 17/100\n",
            "6/6 [==============================] - 0s 18ms/step - loss: 0.6992 - categorical_accuracy: 0.8611 - val_loss: 0.6979 - val_categorical_accuracy: 0.8333\n",
            "Epoch 18/100\n",
            "6/6 [==============================] - 0s 18ms/step - loss: 0.6476 - categorical_accuracy: 0.8889 - val_loss: 0.6342 - val_categorical_accuracy: 0.8333\n",
            "Epoch 19/100\n",
            "6/6 [==============================] - 0s 20ms/step - loss: 0.6131 - categorical_accuracy: 0.8444 - val_loss: 0.8124 - val_categorical_accuracy: 0.5556\n",
            "Epoch 20/100\n",
            "6/6 [==============================] - 0s 17ms/step - loss: 0.5650 - categorical_accuracy: 0.8778 - val_loss: 0.7022 - val_categorical_accuracy: 0.6667\n",
            "Epoch 21/100\n",
            "6/6 [==============================] - 0s 22ms/step - loss: 0.5321 - categorical_accuracy: 0.8944 - val_loss: 1.0665 - val_categorical_accuracy: 0.5000\n",
            "Epoch 22/100\n",
            "6/6 [==============================] - 0s 20ms/step - loss: 0.5034 - categorical_accuracy: 0.8722 - val_loss: 0.8382 - val_categorical_accuracy: 0.6111\n",
            "Epoch 23/100\n",
            "6/6 [==============================] - 0s 18ms/step - loss: 0.4649 - categorical_accuracy: 0.9000 - val_loss: 0.7722 - val_categorical_accuracy: 0.5556\n",
            "Epoch 24/100\n",
            "6/6 [==============================] - 0s 20ms/step - loss: 0.4317 - categorical_accuracy: 0.9111 - val_loss: 0.8514 - val_categorical_accuracy: 0.6111\n",
            "Epoch 25/100\n",
            "6/6 [==============================] - 0s 18ms/step - loss: 0.4074 - categorical_accuracy: 0.9333 - val_loss: 0.8614 - val_categorical_accuracy: 0.5556\n",
            "Epoch 26/100\n",
            "6/6 [==============================] - 0s 17ms/step - loss: 0.3851 - categorical_accuracy: 0.9167 - val_loss: 0.8313 - val_categorical_accuracy: 0.6111\n",
            "Epoch 27/100\n",
            "6/6 [==============================] - 0s 17ms/step - loss: 0.3382 - categorical_accuracy: 0.9556 - val_loss: 0.6368 - val_categorical_accuracy: 0.7778\n",
            "Epoch 28/100\n",
            "6/6 [==============================] - 0s 21ms/step - loss: 0.3391 - categorical_accuracy: 0.9500 - val_loss: 0.5139 - val_categorical_accuracy: 0.7778\n",
            "Epoch 29/100\n",
            "6/6 [==============================] - 0s 17ms/step - loss: 0.3310 - categorical_accuracy: 0.9111 - val_loss: 0.7820 - val_categorical_accuracy: 0.6111\n",
            "Epoch 30/100\n",
            "6/6 [==============================] - 0s 21ms/step - loss: 0.3451 - categorical_accuracy: 0.9111 - val_loss: 0.7377 - val_categorical_accuracy: 0.7222\n",
            "Epoch 31/100\n",
            "6/6 [==============================] - 0s 20ms/step - loss: 0.3071 - categorical_accuracy: 0.9278 - val_loss: 0.4797 - val_categorical_accuracy: 0.7778\n",
            "Epoch 32/100\n",
            "6/6 [==============================] - 0s 20ms/step - loss: 0.2650 - categorical_accuracy: 0.9556 - val_loss: 0.5320 - val_categorical_accuracy: 0.7778\n",
            "Epoch 33/100\n",
            "6/6 [==============================] - 0s 20ms/step - loss: 0.2316 - categorical_accuracy: 0.9833 - val_loss: 0.5816 - val_categorical_accuracy: 0.7778\n",
            "Epoch 34/100\n",
            "6/6 [==============================] - 0s 18ms/step - loss: 0.2125 - categorical_accuracy: 0.9889 - val_loss: 0.5255 - val_categorical_accuracy: 0.7778\n",
            "Epoch 35/100\n",
            "6/6 [==============================] - 0s 21ms/step - loss: 0.2303 - categorical_accuracy: 0.9500 - val_loss: 0.5583 - val_categorical_accuracy: 0.6667\n",
            "Epoch 36/100\n",
            "6/6 [==============================] - 0s 17ms/step - loss: 0.2697 - categorical_accuracy: 0.9167 - val_loss: 0.6185 - val_categorical_accuracy: 0.6667\n",
            "Epoch 37/100\n",
            "6/6 [==============================] - 0s 20ms/step - loss: 0.2630 - categorical_accuracy: 0.9278 - val_loss: 0.6076 - val_categorical_accuracy: 0.7778\n",
            "Epoch 38/100\n",
            "6/6 [==============================] - 0s 20ms/step - loss: 0.2004 - categorical_accuracy: 0.9667 - val_loss: 0.6414 - val_categorical_accuracy: 0.7778\n",
            "Epoch 39/100\n",
            "6/6 [==============================] - 0s 20ms/step - loss: 0.1986 - categorical_accuracy: 0.9500 - val_loss: 0.5436 - val_categorical_accuracy: 0.8333\n",
            "Epoch 40/100\n",
            "6/6 [==============================] - 0s 17ms/step - loss: 0.1868 - categorical_accuracy: 0.9667 - val_loss: 0.5402 - val_categorical_accuracy: 0.7778\n",
            "Epoch 41/100\n",
            "6/6 [==============================] - 0s 18ms/step - loss: 0.1561 - categorical_accuracy: 0.9833 - val_loss: 0.6317 - val_categorical_accuracy: 0.7778\n",
            "Epoch 42/100\n",
            "6/6 [==============================] - 0s 19ms/step - loss: 0.1536 - categorical_accuracy: 0.9722 - val_loss: 0.7897 - val_categorical_accuracy: 0.6667\n",
            "Epoch 43/100\n",
            "6/6 [==============================] - 0s 17ms/step - loss: 0.1435 - categorical_accuracy: 0.9778 - val_loss: 0.6642 - val_categorical_accuracy: 0.6667\n",
            "Epoch 44/100\n",
            "6/6 [==============================] - 0s 19ms/step - loss: 0.1311 - categorical_accuracy: 0.9833 - val_loss: 0.6735 - val_categorical_accuracy: 0.7778\n",
            "Epoch 45/100\n",
            "6/6 [==============================] - 0s 16ms/step - loss: 0.1317 - categorical_accuracy: 0.9833 - val_loss: 0.6707 - val_categorical_accuracy: 0.7778\n",
            "Epoch 46/100\n",
            "6/6 [==============================] - 0s 22ms/step - loss: 0.1260 - categorical_accuracy: 0.9833 - val_loss: 0.6589 - val_categorical_accuracy: 0.7778\n",
            "Epoch 47/100\n",
            "6/6 [==============================] - 0s 17ms/step - loss: 0.0960 - categorical_accuracy: 0.9944 - val_loss: 0.5633 - val_categorical_accuracy: 0.8333\n",
            "Epoch 48/100\n",
            "6/6 [==============================] - 0s 17ms/step - loss: 0.1058 - categorical_accuracy: 0.9889 - val_loss: 0.9376 - val_categorical_accuracy: 0.6667\n",
            "Epoch 49/100\n",
            "6/6 [==============================] - 0s 19ms/step - loss: 0.0926 - categorical_accuracy: 0.9944 - val_loss: 0.6875 - val_categorical_accuracy: 0.7778\n",
            "Epoch 50/100\n",
            "6/6 [==============================] - 0s 20ms/step - loss: 0.1261 - categorical_accuracy: 0.9667 - val_loss: 0.7983 - val_categorical_accuracy: 0.7222\n",
            "Epoch 51/100\n",
            "6/6 [==============================] - 0s 17ms/step - loss: 0.1006 - categorical_accuracy: 0.9833 - val_loss: 0.7851 - val_categorical_accuracy: 0.7778\n",
            "Epoch 52/100\n",
            "6/6 [==============================] - 0s 17ms/step - loss: 0.1367 - categorical_accuracy: 0.9611 - val_loss: 0.7510 - val_categorical_accuracy: 0.7778\n",
            "Epoch 53/100\n",
            "6/6 [==============================] - 0s 17ms/step - loss: 0.1233 - categorical_accuracy: 0.9611 - val_loss: 0.7352 - val_categorical_accuracy: 0.7222\n",
            "Epoch 54/100\n",
            "6/6 [==============================] - 0s 18ms/step - loss: 0.0925 - categorical_accuracy: 0.9889 - val_loss: 1.0818 - val_categorical_accuracy: 0.6667\n",
            "Epoch 55/100\n",
            "6/6 [==============================] - 0s 22ms/step - loss: 0.0927 - categorical_accuracy: 0.9944 - val_loss: 0.7313 - val_categorical_accuracy: 0.7778\n",
            "Epoch 56/100\n",
            "6/6 [==============================] - 0s 27ms/step - loss: 0.1264 - categorical_accuracy: 0.9667 - val_loss: 0.7733 - val_categorical_accuracy: 0.7778\n",
            "Epoch 57/100\n",
            "6/6 [==============================] - 0s 25ms/step - loss: 0.0889 - categorical_accuracy: 0.9778 - val_loss: 0.7417 - val_categorical_accuracy: 0.7778\n",
            "Epoch 58/100\n",
            "6/6 [==============================] - 0s 26ms/step - loss: 0.1122 - categorical_accuracy: 0.9556 - val_loss: 0.6582 - val_categorical_accuracy: 0.7778\n",
            "Epoch 59/100\n",
            "6/6 [==============================] - 0s 26ms/step - loss: 0.1355 - categorical_accuracy: 0.9667 - val_loss: 0.6511 - val_categorical_accuracy: 0.7778\n",
            "Epoch 60/100\n",
            "6/6 [==============================] - 0s 23ms/step - loss: 0.1254 - categorical_accuracy: 0.9722 - val_loss: 0.6248 - val_categorical_accuracy: 0.7778\n",
            "Epoch 61/100\n",
            "6/6 [==============================] - 0s 23ms/step - loss: 0.0937 - categorical_accuracy: 0.9722 - val_loss: 0.6713 - val_categorical_accuracy: 0.8333\n",
            "Epoch 62/100\n",
            "6/6 [==============================] - 0s 23ms/step - loss: 0.0840 - categorical_accuracy: 0.9889 - val_loss: 0.7052 - val_categorical_accuracy: 0.7222\n",
            "Epoch 63/100\n",
            "6/6 [==============================] - 0s 26ms/step - loss: 0.0699 - categorical_accuracy: 1.0000 - val_loss: 0.8292 - val_categorical_accuracy: 0.7222\n",
            "Epoch 64/100\n",
            "6/6 [==============================] - 0s 25ms/step - loss: 0.0598 - categorical_accuracy: 0.9889 - val_loss: 0.8514 - val_categorical_accuracy: 0.7222\n",
            "Epoch 65/100\n",
            "6/6 [==============================] - 0s 24ms/step - loss: 0.0433 - categorical_accuracy: 1.0000 - val_loss: 0.8331 - val_categorical_accuracy: 0.7222\n",
            "Epoch 66/100\n",
            "6/6 [==============================] - 0s 25ms/step - loss: 0.0458 - categorical_accuracy: 1.0000 - val_loss: 0.8521 - val_categorical_accuracy: 0.7778\n",
            "Epoch 67/100\n",
            "6/6 [==============================] - 0s 23ms/step - loss: 0.0519 - categorical_accuracy: 0.9889 - val_loss: 0.8680 - val_categorical_accuracy: 0.7222\n",
            "Epoch 68/100\n",
            "6/6 [==============================] - 0s 23ms/step - loss: 0.0534 - categorical_accuracy: 0.9889 - val_loss: 0.8787 - val_categorical_accuracy: 0.7778\n",
            "Epoch 69/100\n",
            "6/6 [==============================] - 0s 26ms/step - loss: 0.0691 - categorical_accuracy: 0.9778 - val_loss: 0.8959 - val_categorical_accuracy: 0.6667\n",
            "Epoch 70/100\n",
            "6/6 [==============================] - 0s 26ms/step - loss: 0.1455 - categorical_accuracy: 0.9500 - val_loss: 0.9266 - val_categorical_accuracy: 0.7778\n",
            "Epoch 71/100\n",
            "6/6 [==============================] - 0s 27ms/step - loss: 0.1556 - categorical_accuracy: 0.9444 - val_loss: 0.9968 - val_categorical_accuracy: 0.6667\n",
            "Epoch 72/100\n",
            "6/6 [==============================] - 0s 27ms/step - loss: 0.1224 - categorical_accuracy: 0.9556 - val_loss: 1.2642 - val_categorical_accuracy: 0.5000\n",
            "Epoch 73/100\n",
            "6/6 [==============================] - 0s 28ms/step - loss: 0.0983 - categorical_accuracy: 0.9722 - val_loss: 0.8626 - val_categorical_accuracy: 0.7778\n",
            "Epoch 74/100\n",
            "6/6 [==============================] - 0s 26ms/step - loss: 0.0609 - categorical_accuracy: 0.9889 - val_loss: 0.8881 - val_categorical_accuracy: 0.7222\n",
            "Epoch 75/100\n",
            "6/6 [==============================] - 0s 28ms/step - loss: 0.0440 - categorical_accuracy: 0.9889 - val_loss: 0.8752 - val_categorical_accuracy: 0.7222\n",
            "Epoch 76/100\n",
            "6/6 [==============================] - 0s 24ms/step - loss: 0.0370 - categorical_accuracy: 1.0000 - val_loss: 0.9406 - val_categorical_accuracy: 0.7222\n",
            "Epoch 77/100\n",
            "6/6 [==============================] - 0s 26ms/step - loss: 0.0304 - categorical_accuracy: 1.0000 - val_loss: 0.9960 - val_categorical_accuracy: 0.7222\n",
            "Epoch 78/100\n",
            "6/6 [==============================] - 0s 27ms/step - loss: 0.0280 - categorical_accuracy: 1.0000 - val_loss: 0.9836 - val_categorical_accuracy: 0.7778\n",
            "Epoch 79/100\n",
            "6/6 [==============================] - 0s 26ms/step - loss: 0.0311 - categorical_accuracy: 1.0000 - val_loss: 1.0241 - val_categorical_accuracy: 0.7222\n",
            "Epoch 80/100\n",
            "6/6 [==============================] - 0s 27ms/step - loss: 0.0253 - categorical_accuracy: 1.0000 - val_loss: 1.0602 - val_categorical_accuracy: 0.7222\n",
            "Epoch 81/100\n",
            "6/6 [==============================] - 0s 25ms/step - loss: 0.0237 - categorical_accuracy: 1.0000 - val_loss: 1.0857 - val_categorical_accuracy: 0.7222\n",
            "Epoch 82/100\n",
            "6/6 [==============================] - 0s 29ms/step - loss: 0.0223 - categorical_accuracy: 1.0000 - val_loss: 1.0949 - val_categorical_accuracy: 0.7222\n",
            "Epoch 83/100\n",
            "6/6 [==============================] - 0s 26ms/step - loss: 0.0232 - categorical_accuracy: 1.0000 - val_loss: 1.0491 - val_categorical_accuracy: 0.7222\n",
            "Epoch 84/100\n",
            "6/6 [==============================] - 0s 27ms/step - loss: 0.0224 - categorical_accuracy: 1.0000 - val_loss: 1.0322 - val_categorical_accuracy: 0.7222\n",
            "Epoch 85/100\n",
            "6/6 [==============================] - 0s 25ms/step - loss: 0.0211 - categorical_accuracy: 1.0000 - val_loss: 1.0706 - val_categorical_accuracy: 0.7222\n",
            "Epoch 86/100\n",
            "6/6 [==============================] - 0s 25ms/step - loss: 0.0191 - categorical_accuracy: 1.0000 - val_loss: 1.0848 - val_categorical_accuracy: 0.7222\n",
            "Epoch 87/100\n",
            "6/6 [==============================] - 0s 23ms/step - loss: 0.0186 - categorical_accuracy: 1.0000 - val_loss: 1.0732 - val_categorical_accuracy: 0.7222\n",
            "Epoch 88/100\n",
            "6/6 [==============================] - 0s 23ms/step - loss: 0.0169 - categorical_accuracy: 1.0000 - val_loss: 1.0672 - val_categorical_accuracy: 0.7778\n",
            "Epoch 89/100\n",
            "6/6 [==============================] - 0s 24ms/step - loss: 0.0192 - categorical_accuracy: 1.0000 - val_loss: 1.0831 - val_categorical_accuracy: 0.7778\n",
            "Epoch 90/100\n",
            "6/6 [==============================] - 0s 25ms/step - loss: 0.0171 - categorical_accuracy: 1.0000 - val_loss: 1.1071 - val_categorical_accuracy: 0.7778\n",
            "Epoch 91/100\n",
            "6/6 [==============================] - 0s 23ms/step - loss: 0.0168 - categorical_accuracy: 1.0000 - val_loss: 1.0760 - val_categorical_accuracy: 0.7778\n",
            "Epoch 92/100\n",
            "6/6 [==============================] - 0s 25ms/step - loss: 0.0165 - categorical_accuracy: 1.0000 - val_loss: 1.1103 - val_categorical_accuracy: 0.7222\n",
            "Epoch 93/100\n",
            "6/6 [==============================] - 0s 26ms/step - loss: 0.0150 - categorical_accuracy: 1.0000 - val_loss: 1.1806 - val_categorical_accuracy: 0.7222\n",
            "Epoch 94/100\n",
            "6/6 [==============================] - 0s 26ms/step - loss: 0.0147 - categorical_accuracy: 1.0000 - val_loss: 1.2218 - val_categorical_accuracy: 0.7222\n",
            "Epoch 95/100\n",
            "6/6 [==============================] - 0s 22ms/step - loss: 0.0141 - categorical_accuracy: 1.0000 - val_loss: 1.1708 - val_categorical_accuracy: 0.7222\n",
            "Epoch 96/100\n",
            "6/6 [==============================] - 0s 19ms/step - loss: 0.0134 - categorical_accuracy: 1.0000 - val_loss: 1.1667 - val_categorical_accuracy: 0.7222\n",
            "Epoch 97/100\n",
            "6/6 [==============================] - 0s 19ms/step - loss: 0.0134 - categorical_accuracy: 1.0000 - val_loss: 1.1721 - val_categorical_accuracy: 0.7222\n",
            "Epoch 98/100\n",
            "6/6 [==============================] - 0s 23ms/step - loss: 0.0130 - categorical_accuracy: 1.0000 - val_loss: 1.1788 - val_categorical_accuracy: 0.7222\n",
            "Epoch 99/100\n",
            "6/6 [==============================] - 0s 18ms/step - loss: 0.0142 - categorical_accuracy: 1.0000 - val_loss: 1.1874 - val_categorical_accuracy: 0.7222\n",
            "Epoch 100/100\n",
            "6/6 [==============================] - 0s 19ms/step - loss: 0.0135 - categorical_accuracy: 1.0000 - val_loss: 1.1674 - val_categorical_accuracy: 0.7222\n"
          ]
        }
      ]
    },
    {
      "cell_type": "code",
      "source": [
        "model.summary()\n",
        "model.save('/content/Tutorial_LSTM_MP/Weight_model/actionGRUNikoCheatDataReal_ReportLSTM2.h5')\n",
        "plot_graphs(history, 'categorical_accuracy')\n",
        "plot_graphs(history, 'loss')"
      ],
      "metadata": {
        "colab": {
          "base_uri": "https://localhost:8080/",
          "height": 975
        },
        "outputId": "22e9d0bf-367e-4b01-fbac-b7a978576fb3",
        "id": "t4-Pr0s4WAGN"
      },
      "execution_count": null,
      "outputs": [
        {
          "output_type": "stream",
          "name": "stdout",
          "text": [
            "Model: \"sequential_1\"\n",
            "_________________________________________________________________\n",
            " Layer (type)                Output Shape              Param #   \n",
            "=================================================================\n",
            " lstm_3 (LSTM)               (None, 50, 256)           278528    \n",
            "                                                                 \n",
            " dropout_2 (Dropout)         (None, 50, 256)           0         \n",
            "                                                                 \n",
            " lstm_4 (LSTM)               (None, 50, 128)           197120    \n",
            "                                                                 \n",
            " dropout_3 (Dropout)         (None, 50, 128)           0         \n",
            "                                                                 \n",
            " lstm_5 (LSTM)               (None, 64)                49408     \n",
            "                                                                 \n",
            " dense_3 (Dense)             (None, 64)                4160      \n",
            "                                                                 \n",
            " dense_4 (Dense)             (None, 32)                2080      \n",
            "                                                                 \n",
            " dense_5 (Dense)             (None, 6)                 198       \n",
            "                                                                 \n",
            "=================================================================\n",
            "Total params: 531,494\n",
            "Trainable params: 531,494\n",
            "Non-trainable params: 0\n",
            "_________________________________________________________________\n"
          ]
        },
        {
          "output_type": "display_data",
          "data": {
            "text/plain": [
              "<Figure size 432x288 with 1 Axes>"
            ],
            "image/png": "[encoded data removed]"
          },
          "metadata": {
            "needs_background": "light"
          }
        },
        {
          "output_type": "display_data",
          "data": {
            "text/plain": [
              "<Figure size 432x288 with 1 Axes>"
            ],
            "image/png": "[encoded data removed]"
          },
          "metadata": {
            "needs_background": "light"
          }
        }
      ]
    },
    {
      "cell_type": "code",
      "source": [
        "y_test_predict = model.predict(X_test)\n",
        "ytrue = np.argmax(y_test, axis=1).tolist()\n",
        "yhat = np.argmax(y_test_predict, axis=1).tolist()\n",
        "multilabel_confusion_matrix(ytrue, yhat)\n",
        "accuracy_score(ytrue, yhat)"
      ],
      "metadata": {
        "colab": {
          "base_uri": "https://localhost:8080/"
        },
        "outputId": "425119e7-3043-412f-9c0d-473bd28c91cc",
        "id": "h3HUC8DiWFin"
      },
      "execution_count": null,
      "outputs": [
        {
          "output_type": "execute_result",
          "data": {
            "text/plain": [
              "0.8555555555555555"
            ]
          },
          "metadata": {},
          "execution_count": 22
        }
      ]
    },
    {
      "cell_type": "markdown",
      "metadata": {
        "id": "WHs0lNJwWZ3Y"
      },
      "source": [
        "## **Build, Train and Test Neural Network 3**"
      ]
    },
    {
      "cell_type": "code",
      "execution_count": null,
      "metadata": {
        "id": "0rwJd_ScWZ3h"
      },
      "outputs": [],
      "source": [
        "log_dir = os.path.join('Logs')\n",
        "tb_callback = TensorBoard(log_dir=log_dir)"
      ]
    },
    {
      "cell_type": "code",
      "source": [
        "model = Sequential()\n",
        "model.add(LSTM(128, return_sequences=True, activation='tanh', input_shape=(50,15)))\n",
        "model.add(Dropout(0.2))\n",
        "model.add(LSTM(256, return_sequences=True, activation='tanh'))\n",
        "model.add(Dropout(0.2))\n",
        "model.add(LSTM(128, return_sequences=False, activation='tanh'))\n",
        "model.add(Dense(64, activation='relu'))\n",
        "model.add(Dense(32, activation='relu'))\n",
        "model.add(Dense(actions.shape[0], activation='softmax'))"
      ],
      "metadata": {
        "id": "YKga-mygWZ3i"
      },
      "execution_count": null,
      "outputs": []
    },
    {
      "cell_type": "code",
      "source": [
        "model.compile(optimizer='adam', loss='categorical_crossentropy', metrics=['categorical_accuracy'])\n",
        "model.optimizer.lr.assign(0.0001)"
      ],
      "metadata": {
        "colab": {
          "base_uri": "https://localhost:8080/"
        },
        "outputId": "22b0439f-64c5-45fb-9027-37cddf450dda",
        "id": "mcfnz6ULWZ3i"
      },
      "execution_count": null,
      "outputs": [
        {
          "output_type": "execute_result",
          "data": {
            "text/plain": [
              "<tf.Variable 'UnreadVariable' shape=() dtype=float32, numpy=1e-04>"
            ]
          },
          "metadata": {},
          "execution_count": 25
        }
      ]
    },
    {
      "cell_type": "code",
      "source": [
        "history = model.fit(X_train, y_train, epochs=100, callbacks=[tb_callback], validation_data = (X_Valid, y_Valid))"
      ],
      "metadata": {
        "colab": {
          "base_uri": "https://localhost:8080/"
        },
        "outputId": "5a862718-1419-46db-91fc-80d36c5dcbd1",
        "id": "jYWJvalUWZ3i"
      },
      "execution_count": null,
      "outputs": [
        {
          "output_type": "stream",
          "name": "stdout",
          "text": [
            "Epoch 1/100\n",
            "6/6 [==============================] - 8s 350ms/step - loss: 1.7481 - categorical_accuracy: 0.3111 - val_loss: 1.6773 - val_categorical_accuracy: 0.6667\n",
            "Epoch 2/100\n",
            "6/6 [==============================] - 0s 25ms/step - loss: 1.6481 - categorical_accuracy: 0.5722 - val_loss: 1.5988 - val_categorical_accuracy: 0.7778\n",
            "Epoch 3/100\n",
            "6/6 [==============================] - 0s 23ms/step - loss: 1.5432 - categorical_accuracy: 0.6278 - val_loss: 1.5000 - val_categorical_accuracy: 0.7222\n",
            "Epoch 4/100\n",
            "6/6 [==============================] - 0s 22ms/step - loss: 1.4343 - categorical_accuracy: 0.6611 - val_loss: 1.3955 - val_categorical_accuracy: 0.6667\n",
            "Epoch 5/100\n",
            "6/6 [==============================] - 0s 21ms/step - loss: 1.3252 - categorical_accuracy: 0.6611 - val_loss: 1.2698 - val_categorical_accuracy: 0.6667\n",
            "Epoch 6/100\n",
            "6/6 [==============================] - 0s 20ms/step - loss: 1.2097 - categorical_accuracy: 0.6778 - val_loss: 1.1347 - val_categorical_accuracy: 0.8333\n",
            "Epoch 7/100\n",
            "6/6 [==============================] - 0s 20ms/step - loss: 1.0968 - categorical_accuracy: 0.6833 - val_loss: 1.0091 - val_categorical_accuracy: 0.8889\n",
            "Epoch 8/100\n",
            "6/6 [==============================] - 0s 25ms/step - loss: 0.9844 - categorical_accuracy: 0.6778 - val_loss: 0.8888 - val_categorical_accuracy: 0.7778\n",
            "Epoch 9/100\n",
            "6/6 [==============================] - 0s 18ms/step - loss: 0.8975 - categorical_accuracy: 0.6889 - val_loss: 0.7901 - val_categorical_accuracy: 0.7222\n",
            "Epoch 10/100\n",
            "6/6 [==============================] - 0s 18ms/step - loss: 0.8103 - categorical_accuracy: 0.7222 - val_loss: 0.7273 - val_categorical_accuracy: 0.8333\n",
            "Epoch 11/100\n",
            "6/6 [==============================] - 0s 21ms/step - loss: 0.7442 - categorical_accuracy: 0.7833 - val_loss: 0.7300 - val_categorical_accuracy: 0.8333\n",
            "Epoch 12/100\n",
            "6/6 [==============================] - 0s 21ms/step - loss: 0.6834 - categorical_accuracy: 0.7611 - val_loss: 0.7018 - val_categorical_accuracy: 0.8333\n",
            "Epoch 13/100\n",
            "6/6 [==============================] - 0s 20ms/step - loss: 0.6367 - categorical_accuracy: 0.7889 - val_loss: 0.7926 - val_categorical_accuracy: 0.6667\n",
            "Epoch 14/100\n",
            "6/6 [==============================] - 0s 18ms/step - loss: 0.5878 - categorical_accuracy: 0.8222 - val_loss: 0.6975 - val_categorical_accuracy: 0.8333\n",
            "Epoch 15/100\n",
            "6/6 [==============================] - 0s 18ms/step - loss: 0.5550 - categorical_accuracy: 0.8000 - val_loss: 0.7103 - val_categorical_accuracy: 0.7778\n",
            "Epoch 16/100\n",
            "6/6 [==============================] - 0s 18ms/step - loss: 0.5425 - categorical_accuracy: 0.7667 - val_loss: 0.7615 - val_categorical_accuracy: 0.7222\n",
            "Epoch 17/100\n",
            "6/6 [==============================] - 0s 22ms/step - loss: 0.4991 - categorical_accuracy: 0.8222 - val_loss: 0.6170 - val_categorical_accuracy: 0.7778\n",
            "Epoch 18/100\n",
            "6/6 [==============================] - 0s 20ms/step - loss: 0.4669 - categorical_accuracy: 0.8333 - val_loss: 0.8512 - val_categorical_accuracy: 0.7222\n",
            "Epoch 19/100\n",
            "6/6 [==============================] - 0s 18ms/step - loss: 0.4501 - categorical_accuracy: 0.8167 - val_loss: 0.8290 - val_categorical_accuracy: 0.6667\n",
            "Epoch 20/100\n",
            "6/6 [==============================] - 0s 20ms/step - loss: 0.4130 - categorical_accuracy: 0.8500 - val_loss: 0.6732 - val_categorical_accuracy: 0.7778\n",
            "Epoch 21/100\n",
            "6/6 [==============================] - 0s 17ms/step - loss: 0.4301 - categorical_accuracy: 0.8333 - val_loss: 0.7734 - val_categorical_accuracy: 0.7222\n",
            "Epoch 22/100\n",
            "6/6 [==============================] - 0s 20ms/step - loss: 0.4032 - categorical_accuracy: 0.8444 - val_loss: 0.7245 - val_categorical_accuracy: 0.7222\n",
            "Epoch 23/100\n",
            "6/6 [==============================] - 0s 18ms/step - loss: 0.3815 - categorical_accuracy: 0.8333 - val_loss: 0.5265 - val_categorical_accuracy: 0.7222\n",
            "Epoch 24/100\n",
            "6/6 [==============================] - 0s 18ms/step - loss: 0.3400 - categorical_accuracy: 0.9000 - val_loss: 0.7276 - val_categorical_accuracy: 0.7222\n",
            "Epoch 25/100\n",
            "6/6 [==============================] - 0s 17ms/step - loss: 0.3148 - categorical_accuracy: 0.8944 - val_loss: 0.6107 - val_categorical_accuracy: 0.6667\n",
            "Epoch 26/100\n",
            "6/6 [==============================] - 0s 20ms/step - loss: 0.3076 - categorical_accuracy: 0.8833 - val_loss: 0.7451 - val_categorical_accuracy: 0.7778\n",
            "Epoch 27/100\n",
            "6/6 [==============================] - 0s 18ms/step - loss: 0.2920 - categorical_accuracy: 0.8722 - val_loss: 0.6735 - val_categorical_accuracy: 0.8333\n",
            "Epoch 28/100\n",
            "6/6 [==============================] - 0s 20ms/step - loss: 0.2495 - categorical_accuracy: 0.9389 - val_loss: 0.6027 - val_categorical_accuracy: 0.7222\n",
            "Epoch 29/100\n",
            "6/6 [==============================] - 0s 18ms/step - loss: 0.2360 - categorical_accuracy: 0.9389 - val_loss: 0.5185 - val_categorical_accuracy: 0.8333\n",
            "Epoch 30/100\n",
            "6/6 [==============================] - 0s 17ms/step - loss: 0.2437 - categorical_accuracy: 0.9056 - val_loss: 0.6545 - val_categorical_accuracy: 0.8333\n",
            "Epoch 31/100\n",
            "6/6 [==============================] - 0s 17ms/step - loss: 0.2005 - categorical_accuracy: 0.9667 - val_loss: 0.7567 - val_categorical_accuracy: 0.7222\n",
            "Epoch 32/100\n",
            "6/6 [==============================] - 0s 20ms/step - loss: 0.1930 - categorical_accuracy: 0.9389 - val_loss: 0.6490 - val_categorical_accuracy: 0.7222\n",
            "Epoch 33/100\n",
            "6/6 [==============================] - 0s 18ms/step - loss: 0.2074 - categorical_accuracy: 0.9278 - val_loss: 0.6308 - val_categorical_accuracy: 0.7222\n",
            "Epoch 34/100\n",
            "6/6 [==============================] - 0s 17ms/step - loss: 0.1909 - categorical_accuracy: 0.9444 - val_loss: 0.6088 - val_categorical_accuracy: 0.8333\n",
            "Epoch 35/100\n",
            "6/6 [==============================] - 0s 18ms/step - loss: 0.2155 - categorical_accuracy: 0.9167 - val_loss: 0.6283 - val_categorical_accuracy: 0.7222\n",
            "Epoch 36/100\n",
            "6/6 [==============================] - 0s 21ms/step - loss: 0.1976 - categorical_accuracy: 0.9278 - val_loss: 0.6744 - val_categorical_accuracy: 0.7222\n",
            "Epoch 37/100\n",
            "6/6 [==============================] - 0s 18ms/step - loss: 0.1836 - categorical_accuracy: 0.9333 - val_loss: 0.4928 - val_categorical_accuracy: 0.7778\n",
            "Epoch 38/100\n",
            "6/6 [==============================] - 0s 18ms/step - loss: 0.1701 - categorical_accuracy: 0.9500 - val_loss: 0.5192 - val_categorical_accuracy: 0.7778\n",
            "Epoch 39/100\n",
            "6/6 [==============================] - 0s 17ms/step - loss: 0.1381 - categorical_accuracy: 0.9667 - val_loss: 0.6448 - val_categorical_accuracy: 0.7222\n",
            "Epoch 40/100\n",
            "6/6 [==============================] - 0s 17ms/step - loss: 0.1432 - categorical_accuracy: 0.9500 - val_loss: 0.5007 - val_categorical_accuracy: 0.7222\n",
            "Epoch 41/100\n",
            "6/6 [==============================] - 0s 17ms/step - loss: 0.1157 - categorical_accuracy: 0.9778 - val_loss: 0.6024 - val_categorical_accuracy: 0.7778\n",
            "Epoch 42/100\n",
            "6/6 [==============================] - 0s 17ms/step - loss: 0.1268 - categorical_accuracy: 0.9611 - val_loss: 0.7522 - val_categorical_accuracy: 0.7778\n",
            "Epoch 43/100\n",
            "6/6 [==============================] - 0s 19ms/step - loss: 0.1165 - categorical_accuracy: 0.9556 - val_loss: 0.5257 - val_categorical_accuracy: 0.7222\n",
            "Epoch 44/100\n",
            "6/6 [==============================] - 0s 19ms/step - loss: 0.1171 - categorical_accuracy: 0.9667 - val_loss: 0.5012 - val_categorical_accuracy: 0.8333\n",
            "Epoch 45/100\n",
            "6/6 [==============================] - 0s 17ms/step - loss: 0.1138 - categorical_accuracy: 0.9667 - val_loss: 0.4660 - val_categorical_accuracy: 0.7778\n",
            "Epoch 46/100\n",
            "6/6 [==============================] - 0s 20ms/step - loss: 0.1058 - categorical_accuracy: 0.9722 - val_loss: 0.5551 - val_categorical_accuracy: 0.8333\n",
            "Epoch 47/100\n",
            "6/6 [==============================] - 0s 18ms/step - loss: 0.0793 - categorical_accuracy: 0.9833 - val_loss: 0.5549 - val_categorical_accuracy: 0.7778\n",
            "Epoch 48/100\n",
            "6/6 [==============================] - 0s 22ms/step - loss: 0.1072 - categorical_accuracy: 0.9667 - val_loss: 0.4080 - val_categorical_accuracy: 0.7778\n",
            "Epoch 49/100\n",
            "6/6 [==============================] - 0s 20ms/step - loss: 0.1042 - categorical_accuracy: 0.9611 - val_loss: 0.7627 - val_categorical_accuracy: 0.6111\n",
            "Epoch 50/100\n",
            "6/6 [==============================] - 0s 17ms/step - loss: 0.1034 - categorical_accuracy: 0.9833 - val_loss: 0.4798 - val_categorical_accuracy: 0.8333\n",
            "Epoch 51/100\n",
            "6/6 [==============================] - 0s 20ms/step - loss: 0.1186 - categorical_accuracy: 0.9667 - val_loss: 0.4926 - val_categorical_accuracy: 0.8333\n",
            "Epoch 52/100\n",
            "6/6 [==============================] - 0s 19ms/step - loss: 0.0896 - categorical_accuracy: 0.9722 - val_loss: 0.8347 - val_categorical_accuracy: 0.7778\n",
            "Epoch 53/100\n",
            "6/6 [==============================] - 0s 21ms/step - loss: 0.0761 - categorical_accuracy: 0.9833 - val_loss: 0.7504 - val_categorical_accuracy: 0.7778\n",
            "Epoch 54/100\n",
            "6/6 [==============================] - 0s 18ms/step - loss: 0.0924 - categorical_accuracy: 0.9722 - val_loss: 0.6927 - val_categorical_accuracy: 0.7778\n",
            "Epoch 55/100\n",
            "6/6 [==============================] - 0s 20ms/step - loss: 0.0770 - categorical_accuracy: 0.9778 - val_loss: 0.5538 - val_categorical_accuracy: 0.8333\n",
            "Epoch 56/100\n",
            "6/6 [==============================] - 0s 17ms/step - loss: 0.0792 - categorical_accuracy: 0.9722 - val_loss: 0.4920 - val_categorical_accuracy: 0.8333\n",
            "Epoch 57/100\n",
            "6/6 [==============================] - 0s 18ms/step - loss: 0.0501 - categorical_accuracy: 0.9833 - val_loss: 0.4952 - val_categorical_accuracy: 0.8889\n",
            "Epoch 58/100\n",
            "6/6 [==============================] - 0s 17ms/step - loss: 0.0535 - categorical_accuracy: 0.9889 - val_loss: 0.4855 - val_categorical_accuracy: 0.8889\n",
            "Epoch 59/100\n",
            "6/6 [==============================] - 0s 22ms/step - loss: 0.0514 - categorical_accuracy: 0.9778 - val_loss: 0.4826 - val_categorical_accuracy: 0.8333\n",
            "Epoch 60/100\n",
            "6/6 [==============================] - 0s 20ms/step - loss: 0.0583 - categorical_accuracy: 0.9778 - val_loss: 0.5425 - val_categorical_accuracy: 0.7778\n",
            "Epoch 61/100\n",
            "6/6 [==============================] - 0s 21ms/step - loss: 0.0776 - categorical_accuracy: 0.9722 - val_loss: 0.6110 - val_categorical_accuracy: 0.7778\n",
            "Epoch 62/100\n",
            "6/6 [==============================] - 0s 18ms/step - loss: 0.0708 - categorical_accuracy: 0.9667 - val_loss: 0.5033 - val_categorical_accuracy: 0.7778\n",
            "Epoch 63/100\n",
            "6/6 [==============================] - 0s 19ms/step - loss: 0.0589 - categorical_accuracy: 0.9889 - val_loss: 0.5357 - val_categorical_accuracy: 0.8333\n",
            "Epoch 64/100\n",
            "6/6 [==============================] - 0s 21ms/step - loss: 0.0532 - categorical_accuracy: 0.9833 - val_loss: 0.5206 - val_categorical_accuracy: 0.8333\n",
            "Epoch 65/100\n",
            "6/6 [==============================] - 0s 18ms/step - loss: 0.0529 - categorical_accuracy: 0.9889 - val_loss: 0.5113 - val_categorical_accuracy: 0.8333\n",
            "Epoch 66/100\n",
            "6/6 [==============================] - 0s 20ms/step - loss: 0.0509 - categorical_accuracy: 0.9889 - val_loss: 0.3850 - val_categorical_accuracy: 0.8889\n",
            "Epoch 67/100\n",
            "6/6 [==============================] - 0s 20ms/step - loss: 0.0489 - categorical_accuracy: 0.9833 - val_loss: 0.4834 - val_categorical_accuracy: 0.8333\n",
            "Epoch 68/100\n",
            "6/6 [==============================] - 0s 19ms/step - loss: 0.0393 - categorical_accuracy: 0.9889 - val_loss: 0.4403 - val_categorical_accuracy: 0.7778\n",
            "Epoch 69/100\n",
            "6/6 [==============================] - 0s 18ms/step - loss: 0.0502 - categorical_accuracy: 0.9889 - val_loss: 0.5489 - val_categorical_accuracy: 0.7222\n",
            "Epoch 70/100\n",
            "6/6 [==============================] - 0s 20ms/step - loss: 0.0519 - categorical_accuracy: 0.9778 - val_loss: 0.5540 - val_categorical_accuracy: 0.7222\n",
            "Epoch 71/100\n",
            "6/6 [==============================] - 0s 18ms/step - loss: 0.0449 - categorical_accuracy: 0.9889 - val_loss: 0.4667 - val_categorical_accuracy: 0.8333\n",
            "Epoch 72/100\n",
            "6/6 [==============================] - 0s 18ms/step - loss: 0.0459 - categorical_accuracy: 0.9833 - val_loss: 0.5162 - val_categorical_accuracy: 0.8889\n",
            "Epoch 73/100\n",
            "6/6 [==============================] - 0s 21ms/step - loss: 0.0428 - categorical_accuracy: 0.9833 - val_loss: 0.5414 - val_categorical_accuracy: 0.7778\n",
            "Epoch 74/100\n",
            "6/6 [==============================] - 0s 17ms/step - loss: 0.0327 - categorical_accuracy: 0.9944 - val_loss: 0.3247 - val_categorical_accuracy: 0.8889\n",
            "Epoch 75/100\n",
            "6/6 [==============================] - 0s 19ms/step - loss: 0.0242 - categorical_accuracy: 1.0000 - val_loss: 0.2520 - val_categorical_accuracy: 0.8889\n",
            "Epoch 76/100\n",
            "6/6 [==============================] - 0s 26ms/step - loss: 0.0319 - categorical_accuracy: 0.9944 - val_loss: 0.4004 - val_categorical_accuracy: 0.8889\n",
            "Epoch 77/100\n",
            "6/6 [==============================] - 0s 28ms/step - loss: 0.0343 - categorical_accuracy: 0.9833 - val_loss: 0.6271 - val_categorical_accuracy: 0.8333\n",
            "Epoch 78/100\n",
            "6/6 [==============================] - 0s 28ms/step - loss: 0.0287 - categorical_accuracy: 0.9889 - val_loss: 0.5720 - val_categorical_accuracy: 0.8333\n",
            "Epoch 79/100\n",
            "6/6 [==============================] - 0s 24ms/step - loss: 0.0155 - categorical_accuracy: 1.0000 - val_loss: 0.6313 - val_categorical_accuracy: 0.8333\n",
            "Epoch 80/100\n",
            "6/6 [==============================] - 0s 28ms/step - loss: 0.0266 - categorical_accuracy: 0.9944 - val_loss: 0.5933 - val_categorical_accuracy: 0.8333\n",
            "Epoch 81/100\n",
            "6/6 [==============================] - 0s 27ms/step - loss: 0.0216 - categorical_accuracy: 1.0000 - val_loss: 0.6339 - val_categorical_accuracy: 0.8333\n",
            "Epoch 82/100\n",
            "6/6 [==============================] - 0s 29ms/step - loss: 0.0149 - categorical_accuracy: 1.0000 - val_loss: 0.5924 - val_categorical_accuracy: 0.8333\n",
            "Epoch 83/100\n",
            "6/6 [==============================] - 0s 27ms/step - loss: 0.0168 - categorical_accuracy: 0.9944 - val_loss: 0.5661 - val_categorical_accuracy: 0.7778\n",
            "Epoch 84/100\n",
            "6/6 [==============================] - 0s 23ms/step - loss: 0.0205 - categorical_accuracy: 0.9944 - val_loss: 0.5497 - val_categorical_accuracy: 0.7778\n",
            "Epoch 85/100\n",
            "6/6 [==============================] - 0s 26ms/step - loss: 0.0214 - categorical_accuracy: 0.9944 - val_loss: 0.6104 - val_categorical_accuracy: 0.8333\n",
            "Epoch 86/100\n",
            "6/6 [==============================] - 0s 27ms/step - loss: 0.0157 - categorical_accuracy: 1.0000 - val_loss: 0.5258 - val_categorical_accuracy: 0.8333\n",
            "Epoch 87/100\n",
            "6/6 [==============================] - 0s 26ms/step - loss: 0.0190 - categorical_accuracy: 0.9944 - val_loss: 0.4811 - val_categorical_accuracy: 0.8333\n",
            "Epoch 88/100\n",
            "6/6 [==============================] - 0s 26ms/step - loss: 0.0169 - categorical_accuracy: 1.0000 - val_loss: 0.5057 - val_categorical_accuracy: 0.8333\n",
            "Epoch 89/100\n",
            "6/6 [==============================] - 0s 26ms/step - loss: 0.0161 - categorical_accuracy: 1.0000 - val_loss: 0.4993 - val_categorical_accuracy: 0.8333\n",
            "Epoch 90/100\n",
            "6/6 [==============================] - 0s 27ms/step - loss: 0.0187 - categorical_accuracy: 0.9944 - val_loss: 0.4580 - val_categorical_accuracy: 0.8333\n",
            "Epoch 91/100\n",
            "6/6 [==============================] - 0s 27ms/step - loss: 0.0133 - categorical_accuracy: 1.0000 - val_loss: 0.2966 - val_categorical_accuracy: 0.8889\n",
            "Epoch 92/100\n",
            "6/6 [==============================] - 0s 22ms/step - loss: 0.0119 - categorical_accuracy: 1.0000 - val_loss: 0.3231 - val_categorical_accuracy: 0.8889\n",
            "Epoch 93/100\n",
            "6/6 [==============================] - 0s 25ms/step - loss: 0.0245 - categorical_accuracy: 0.9944 - val_loss: 0.3664 - val_categorical_accuracy: 0.8889\n",
            "Epoch 94/100\n",
            "6/6 [==============================] - 0s 30ms/step - loss: 0.0184 - categorical_accuracy: 0.9944 - val_loss: 0.3350 - val_categorical_accuracy: 0.8889\n",
            "Epoch 95/100\n",
            "6/6 [==============================] - 0s 26ms/step - loss: 0.0329 - categorical_accuracy: 0.9889 - val_loss: 0.3898 - val_categorical_accuracy: 0.8333\n",
            "Epoch 96/100\n",
            "6/6 [==============================] - 0s 26ms/step - loss: 0.0304 - categorical_accuracy: 0.9833 - val_loss: 0.2789 - val_categorical_accuracy: 0.8333\n",
            "Epoch 97/100\n",
            "6/6 [==============================] - 0s 26ms/step - loss: 0.0320 - categorical_accuracy: 0.9944 - val_loss: 0.3310 - val_categorical_accuracy: 0.8333\n",
            "Epoch 98/100\n",
            "6/6 [==============================] - 0s 26ms/step - loss: 0.0288 - categorical_accuracy: 0.9944 - val_loss: 0.5404 - val_categorical_accuracy: 0.8333\n",
            "Epoch 99/100\n",
            "6/6 [==============================] - 0s 24ms/step - loss: 0.0343 - categorical_accuracy: 0.9889 - val_loss: 0.4878 - val_categorical_accuracy: 0.8333\n",
            "Epoch 100/100\n",
            "6/6 [==============================] - 0s 27ms/step - loss: 0.0374 - categorical_accuracy: 0.9889 - val_loss: 0.6522 - val_categorical_accuracy: 0.8333\n"
          ]
        }
      ]
    },
    {
      "cell_type": "code",
      "source": [
        "model.summary()\n",
        "model.save('/content/Tutorial_LSTM_MP/Weight_model/actionGRUNikoCheatDataReal_ReportLSTM3.h5')\n",
        "plot_graphs(history, 'categorical_accuracy')\n",
        "plot_graphs(history, 'loss')"
      ],
      "metadata": {
        "colab": {
          "base_uri": "https://localhost:8080/",
          "height": 975
        },
        "outputId": "d7bd0679-a12c-4fe1-a16a-0e98f86005f2",
        "id": "JLOgJK7hWZ3i"
      },
      "execution_count": null,
      "outputs": [
        {
          "output_type": "stream",
          "name": "stdout",
          "text": [
            "Model: \"sequential_2\"\n",
            "_________________________________________________________________\n",
            " Layer (type)                Output Shape              Param #   \n",
            "=================================================================\n",
            " lstm_6 (LSTM)               (None, 50, 128)           73728     \n",
            "                                                                 \n",
            " dropout_4 (Dropout)         (None, 50, 128)           0         \n",
            "                                                                 \n",
            " lstm_7 (LSTM)               (None, 50, 256)           394240    \n",
            "                                                                 \n",
            " dropout_5 (Dropout)         (None, 50, 256)           0         \n",
            "                                                                 \n",
            " lstm_8 (LSTM)               (None, 128)               197120    \n",
            "                                                                 \n",
            " dense_6 (Dense)             (None, 64)                8256      \n",
            "                                                                 \n",
            " dense_7 (Dense)             (None, 32)                2080      \n",
            "                                                                 \n",
            " dense_8 (Dense)             (None, 6)                 198       \n",
            "                                                                 \n",
            "=================================================================\n",
            "Total params: 675,622\n",
            "Trainable params: 675,622\n",
            "Non-trainable params: 0\n",
            "_________________________________________________________________\n"
          ]
        },
        {
          "output_type": "display_data",
          "data": {
            "text/plain": [
              "<Figure size 432x288 with 1 Axes>"
            ],
            "image/png": "[encoded data removed]"
          },
          "metadata": {
            "needs_background": "light"
          }
        },
        {
          "output_type": "display_data",
          "data": {
            "text/plain": [
              "<Figure size 432x288 with 1 Axes>"
            ],
            "image/png": "[encoded data removed]"
          },
          "metadata": {
            "needs_background": "light"
          }
        }
      ]
    },
    {
      "cell_type": "code",
      "source": [
        "y_test_predict = model.predict(X_test)\n",
        "ytrue = np.argmax(y_test, axis=1).tolist()\n",
        "yhat = np.argmax(y_test_predict, axis=1).tolist()\n",
        "multilabel_confusion_matrix(ytrue, yhat)\n",
        "accuracy_score(ytrue, yhat)"
      ],
      "metadata": {
        "colab": {
          "base_uri": "https://localhost:8080/"
        },
        "outputId": "a6281443-5774-4049-e6f4-353b19ea836e",
        "id": "TzV3eYT8WZ3j"
      },
      "execution_count": null,
      "outputs": [
        {
          "output_type": "execute_result",
          "data": {
            "text/plain": [
              "0.7166666666666667"
            ]
          },
          "metadata": {},
          "execution_count": 28
        }
      ]
    }
  ],
  "metadata": {
    "accelerator": "GPU",
    "colab": {
      "provenance": [],
      "collapsed_sections": [
        "bSUQCFAg41jm"
      ]
    },
    "gpuClass": "standard",
    "kernelspec": {
      "display_name": "Python 3.10.2 64-bit",
      "language": "python",
      "name": "python3"
    },
    "language_info": {
      "name": "python",
      "version": "3.10.2"
    },
    "vscode": {
      "interpreter": {
        "hash": "c2d1da28924dd73d48b374a30035f4a3d427e107cd96680887f7889f9d1a8264"
      }
    }
  },
  "nbformat": 4,
  "nbformat_minor": 0
}