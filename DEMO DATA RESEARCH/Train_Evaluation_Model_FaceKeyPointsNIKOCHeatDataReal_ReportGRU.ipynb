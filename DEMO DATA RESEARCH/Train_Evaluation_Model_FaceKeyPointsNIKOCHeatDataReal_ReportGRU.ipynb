{
  "cells": [
    {
      "cell_type": "markdown",
      "metadata": {
        "id": "B2cfeWV3Cv6r"
      },
      "source": [
        "# *SOURCE*\n",
        "https://www.youtube.com/watch?v=doDUihpj6ro&t=7339s\n",
        "https://github.com/nicknochnack/ActionDetectionforSignLanguage"
      ]
    },
    {
      "cell_type": "markdown",
      "source": [
        "## **Install Dependency**"
      ],
      "metadata": {
        "id": "nDxVaYFxT620"
      }
    },
    {
      "cell_type": "code",
      "source": [
        "! pip install PyQt5"
      ],
      "metadata": {
        "colab": {
          "base_uri": "https://localhost:8080/"
        },
        "id": "krl26FJLF4UL",
        "outputId": "260129e9-28b0-47bd-effb-2f52c5e4f411"
      },
      "execution_count": 29,
      "outputs": [
        {
          "output_type": "stream",
          "name": "stdout",
          "text": [
            "Looking in indexes: https://pypi.org/simple, https://us-python.pkg.dev/colab-wheels/public/simple/\n",
            "Requirement already satisfied: PyQt5 in /usr/local/lib/python3.9/dist-packages (5.15.9)\n",
            "Requirement already satisfied: PyQt5-Qt5>=5.15.2 in /usr/local/lib/python3.9/dist-packages (from PyQt5) (5.15.2)\n",
            "Requirement already satisfied: PyQt5-sip<13,>=12.11 in /usr/local/lib/python3.9/dist-packages (from PyQt5) (12.11.1)\n"
          ]
        }
      ]
    },
    {
      "cell_type": "code",
      "execution_count": 30,
      "metadata": {
        "colab": {
          "base_uri": "https://localhost:8080/"
        },
        "id": "01jSxBD21OU7",
        "outputId": "61ade1d4-7cbc-4b00-bb9a-f7aec5b703a0"
      },
      "outputs": [
        {
          "output_type": "stream",
          "name": "stdout",
          "text": [
            "Looking in indexes: https://pypi.org/simple, https://us-python.pkg.dev/colab-wheels/public/simple/\n",
            "Requirement already satisfied: tensorflow==2.8.1 in /usr/local/lib/python3.9/dist-packages (2.8.1)\n",
            "Requirement already satisfied: tensorflow-gpu==2.8.1 in /usr/local/lib/python3.9/dist-packages (2.8.1)\n",
            "Requirement already satisfied: opencv-python in /usr/local/lib/python3.9/dist-packages (4.7.0.72)\n",
            "Requirement already satisfied: mediapipe in /usr/local/lib/python3.9/dist-packages (0.9.2.1)\n",
            "Requirement already satisfied: tensorflow-estimator<2.9,>=2.8 in /usr/local/lib/python3.9/dist-packages (from tensorflow==2.8.1) (2.8.0)\n",
            "Requirement already satisfied: libclang>=9.0.1 in /usr/local/lib/python3.9/dist-packages (from tensorflow==2.8.1) (15.0.6.1)\n",
            "Requirement already satisfied: opt-einsum>=2.3.2 in /usr/local/lib/python3.9/dist-packages (from tensorflow==2.8.1) (3.3.0)\n",
            "Requirement already satisfied: numpy>=1.20 in /usr/local/lib/python3.9/dist-packages (from tensorflow==2.8.1) (1.22.4)\n",
            "Requirement already satisfied: absl-py>=0.4.0 in /usr/local/lib/python3.9/dist-packages (from tensorflow==2.8.1) (1.4.0)\n",
            "Requirement already satisfied: keras<2.9,>=2.8.0rc0 in /usr/local/lib/python3.9/dist-packages (from tensorflow==2.8.1) (2.8.0)\n",
            "Requirement already satisfied: google-pasta>=0.1.1 in /usr/local/lib/python3.9/dist-packages (from tensorflow==2.8.1) (0.2.0)\n",
            "Requirement already satisfied: wrapt>=1.11.0 in /usr/local/lib/python3.9/dist-packages (from tensorflow==2.8.1) (1.15.0)\n",
            "Requirement already satisfied: astunparse>=1.6.0 in /usr/local/lib/python3.9/dist-packages (from tensorflow==2.8.1) (1.6.3)\n",
            "Requirement already satisfied: flatbuffers>=1.12 in /usr/local/lib/python3.9/dist-packages (from tensorflow==2.8.1) (23.3.3)\n",
            "Requirement already satisfied: gast>=0.2.1 in /usr/local/lib/python3.9/dist-packages (from tensorflow==2.8.1) (0.4.0)\n",
            "Requirement already satisfied: setuptools in /usr/local/lib/python3.9/dist-packages (from tensorflow==2.8.1) (67.6.0)\n",
            "Requirement already satisfied: tensorboard<2.9,>=2.8 in /usr/local/lib/python3.9/dist-packages (from tensorflow==2.8.1) (2.8.0)\n",
            "Requirement already satisfied: termcolor>=1.1.0 in /usr/local/lib/python3.9/dist-packages (from tensorflow==2.8.1) (2.2.0)\n",
            "Requirement already satisfied: tensorflow-io-gcs-filesystem>=0.23.1 in /usr/local/lib/python3.9/dist-packages (from tensorflow==2.8.1) (0.31.0)\n",
            "Requirement already satisfied: grpcio<2.0,>=1.24.3 in /usr/local/lib/python3.9/dist-packages (from tensorflow==2.8.1) (1.51.3)\n",
            "Requirement already satisfied: six>=1.12.0 in /usr/local/lib/python3.9/dist-packages (from tensorflow==2.8.1) (1.16.0)\n",
            "Requirement already satisfied: keras-preprocessing>=1.1.1 in /usr/local/lib/python3.9/dist-packages (from tensorflow==2.8.1) (1.1.2)\n",
            "Requirement already satisfied: protobuf>=3.9.2 in /usr/local/lib/python3.9/dist-packages (from tensorflow==2.8.1) (3.19.6)\n",
            "Requirement already satisfied: typing-extensions>=3.6.6 in /usr/local/lib/python3.9/dist-packages (from tensorflow==2.8.1) (4.5.0)\n",
            "Requirement already satisfied: h5py>=2.9.0 in /usr/local/lib/python3.9/dist-packages (from tensorflow==2.8.1) (3.8.0)\n",
            "Requirement already satisfied: attrs>=19.1.0 in /usr/local/lib/python3.9/dist-packages (from mediapipe) (22.2.0)\n",
            "Requirement already satisfied: matplotlib in /usr/local/lib/python3.9/dist-packages (from mediapipe) (3.7.1)\n",
            "Requirement already satisfied: opencv-contrib-python in /usr/local/lib/python3.9/dist-packages (from mediapipe) (4.7.0.72)\n",
            "Requirement already satisfied: wheel<1.0,>=0.23.0 in /usr/local/lib/python3.9/dist-packages (from astunparse>=1.6.0->tensorflow==2.8.1) (0.40.0)\n",
            "Requirement already satisfied: requests<3,>=2.21.0 in /usr/local/lib/python3.9/dist-packages (from tensorboard<2.9,>=2.8->tensorflow==2.8.1) (2.27.1)\n",
            "Requirement already satisfied: google-auth-oauthlib<0.5,>=0.4.1 in /usr/local/lib/python3.9/dist-packages (from tensorboard<2.9,>=2.8->tensorflow==2.8.1) (0.4.6)\n",
            "Requirement already satisfied: markdown>=2.6.8 in /usr/local/lib/python3.9/dist-packages (from tensorboard<2.9,>=2.8->tensorflow==2.8.1) (3.4.2)\n",
            "Requirement already satisfied: tensorboard-plugin-wit>=1.6.0 in /usr/local/lib/python3.9/dist-packages (from tensorboard<2.9,>=2.8->tensorflow==2.8.1) (1.8.1)\n",
            "Requirement already satisfied: werkzeug>=0.11.15 in /usr/local/lib/python3.9/dist-packages (from tensorboard<2.9,>=2.8->tensorflow==2.8.1) (2.2.3)\n",
            "Requirement already satisfied: tensorboard-data-server<0.7.0,>=0.6.0 in /usr/local/lib/python3.9/dist-packages (from tensorboard<2.9,>=2.8->tensorflow==2.8.1) (0.6.1)\n",
            "Requirement already satisfied: google-auth<3,>=1.6.3 in /usr/local/lib/python3.9/dist-packages (from tensorboard<2.9,>=2.8->tensorflow==2.8.1) (2.16.2)\n",
            "Requirement already satisfied: pillow>=6.2.0 in /usr/local/lib/python3.9/dist-packages (from matplotlib->mediapipe) (8.4.0)\n",
            "Requirement already satisfied: cycler>=0.10 in /usr/local/lib/python3.9/dist-packages (from matplotlib->mediapipe) (0.11.0)\n",
            "Requirement already satisfied: kiwisolver>=1.0.1 in /usr/local/lib/python3.9/dist-packages (from matplotlib->mediapipe) (1.4.4)\n",
            "Requirement already satisfied: pyparsing>=2.3.1 in /usr/local/lib/python3.9/dist-packages (from matplotlib->mediapipe) (3.0.9)\n",
            "Requirement already satisfied: python-dateutil>=2.7 in /usr/local/lib/python3.9/dist-packages (from matplotlib->mediapipe) (2.8.2)\n",
            "Requirement already satisfied: packaging>=20.0 in /usr/local/lib/python3.9/dist-packages (from matplotlib->mediapipe) (23.0)\n",
            "Requirement already satisfied: contourpy>=1.0.1 in /usr/local/lib/python3.9/dist-packages (from matplotlib->mediapipe) (1.0.7)\n",
            "Requirement already satisfied: importlib-resources>=3.2.0 in /usr/local/lib/python3.9/dist-packages (from matplotlib->mediapipe) (5.12.0)\n",
            "Requirement already satisfied: fonttools>=4.22.0 in /usr/local/lib/python3.9/dist-packages (from matplotlib->mediapipe) (4.39.2)\n",
            "Requirement already satisfied: rsa<5,>=3.1.4 in /usr/local/lib/python3.9/dist-packages (from google-auth<3,>=1.6.3->tensorboard<2.9,>=2.8->tensorflow==2.8.1) (4.9)\n",
            "Requirement already satisfied: cachetools<6.0,>=2.0.0 in /usr/local/lib/python3.9/dist-packages (from google-auth<3,>=1.6.3->tensorboard<2.9,>=2.8->tensorflow==2.8.1) (5.3.0)\n",
            "Requirement already satisfied: pyasn1-modules>=0.2.1 in /usr/local/lib/python3.9/dist-packages (from google-auth<3,>=1.6.3->tensorboard<2.9,>=2.8->tensorflow==2.8.1) (0.2.8)\n",
            "Requirement already satisfied: requests-oauthlib>=0.7.0 in /usr/local/lib/python3.9/dist-packages (from google-auth-oauthlib<0.5,>=0.4.1->tensorboard<2.9,>=2.8->tensorflow==2.8.1) (1.3.1)\n",
            "Requirement already satisfied: zipp>=3.1.0 in /usr/local/lib/python3.9/dist-packages (from importlib-resources>=3.2.0->matplotlib->mediapipe) (3.15.0)\n",
            "Requirement already satisfied: importlib-metadata>=4.4 in /usr/local/lib/python3.9/dist-packages (from markdown>=2.6.8->tensorboard<2.9,>=2.8->tensorflow==2.8.1) (6.1.0)\n",
            "Requirement already satisfied: certifi>=2017.4.17 in /usr/local/lib/python3.9/dist-packages (from requests<3,>=2.21.0->tensorboard<2.9,>=2.8->tensorflow==2.8.1) (2022.12.7)\n",
            "Requirement already satisfied: idna<4,>=2.5 in /usr/local/lib/python3.9/dist-packages (from requests<3,>=2.21.0->tensorboard<2.9,>=2.8->tensorflow==2.8.1) (3.4)\n",
            "Requirement already satisfied: urllib3<1.27,>=1.21.1 in /usr/local/lib/python3.9/dist-packages (from requests<3,>=2.21.0->tensorboard<2.9,>=2.8->tensorflow==2.8.1) (1.26.15)\n",
            "Requirement already satisfied: charset-normalizer~=2.0.0 in /usr/local/lib/python3.9/dist-packages (from requests<3,>=2.21.0->tensorboard<2.9,>=2.8->tensorflow==2.8.1) (2.0.12)\n",
            "Requirement already satisfied: MarkupSafe>=2.1.1 in /usr/local/lib/python3.9/dist-packages (from werkzeug>=0.11.15->tensorboard<2.9,>=2.8->tensorflow==2.8.1) (2.1.2)\n",
            "Requirement already satisfied: pyasn1<0.5.0,>=0.4.6 in /usr/local/lib/python3.9/dist-packages (from pyasn1-modules>=0.2.1->google-auth<3,>=1.6.3->tensorboard<2.9,>=2.8->tensorflow==2.8.1) (0.4.8)\n",
            "Requirement already satisfied: oauthlib>=3.0.0 in /usr/local/lib/python3.9/dist-packages (from requests-oauthlib>=0.7.0->google-auth-oauthlib<0.5,>=0.4.1->tensorboard<2.9,>=2.8->tensorflow==2.8.1) (3.2.2)\n"
          ]
        }
      ],
      "source": [
        "!pip install tensorflow==2.8.1 tensorflow-gpu==2.8.1 opencv-python mediapipe "
      ]
    },
    {
      "cell_type": "code",
      "execution_count": 31,
      "metadata": {
        "id": "jmck_Duo16sH"
      },
      "outputs": [],
      "source": [
        "from sklearn.model_selection import train_test_split\n",
        "from tensorflow.keras.utils import to_categorical\n",
        "import cv2\n",
        "import numpy as np\n",
        "import os\n",
        "from matplotlib import pyplot as plt\n",
        "import time\n",
        "import mediapipe as mp\n",
        "from tensorflow.keras.models import Sequential\n",
        "from tensorflow.keras.layers import LSTM, Dense, GRU, Dropout\n",
        "from tensorflow.keras.callbacks import TensorBoard\n",
        "from sklearn.metrics import multilabel_confusion_matrix, accuracy_score"
      ]
    },
    {
      "cell_type": "code",
      "execution_count": 32,
      "metadata": {
        "id": "JwKesrxr2T8-",
        "colab": {
          "base_uri": "https://localhost:8080/"
        },
        "outputId": "97005d32-5d3e-4dd1-be5c-1c02459c8972"
      },
      "outputs": [
        {
          "output_type": "stream",
          "name": "stdout",
          "text": [
            "fatal: destination path 'Tutorial_LSTM_MP' already exists and is not an empty directory.\n"
          ]
        }
      ],
      "source": [
        "! git clone https://github.com/nickbp760/Tutorial_LSTM_MP.git"
      ]
    },
    {
      "cell_type": "code",
      "source": [
        "def plot_graphs(history, string):\n",
        "    plt.plot(history.history[string])\n",
        "    plt.plot(history.history['val_'+string])\n",
        "    plt.xlabel(\"Epochs\")\n",
        "    plt.ylabel(string)\n",
        "    plt.legend([string, 'val_'+string])\n",
        "    plt.show()\n",
        "    "
      ],
      "metadata": {
        "id": "xfFaOsHKeB3a"
      },
      "execution_count": 33,
      "outputs": []
    },
    {
      "cell_type": "markdown",
      "metadata": {
        "id": "wQxJ8Faz2zhe"
      },
      "source": [
        "## **Create Labels and Features**"
      ]
    },
    {
      "cell_type": "markdown",
      "metadata": {
        "id": "C80wYflo3R2O"
      },
      "source": [
        "The label map containts the action label"
      ]
    },
    {
      "cell_type": "code",
      "execution_count": 34,
      "metadata": {
        "id": "OIwDfz9t2puH"
      },
      "outputs": [],
      "source": [
        "# Actions that we try to detect\n",
        "actions = np.array(['LirikKanan', 'LirikKiri', 'MenolehKanan', 'MenolehKiri', 'Normal', 'TutupMata'])\n",
        "label_map = {label:num for num, label in enumerate(actions)}"
      ]
    },
    {
      "cell_type": "code",
      "execution_count": 35,
      "metadata": {
        "id": "7b0QZxvg2tI2",
        "colab": {
          "base_uri": "https://localhost:8080/"
        },
        "outputId": "5a9a8ced-7e45-4797-d8de-77179022e9e3"
      },
      "outputs": [
        {
          "output_type": "execute_result",
          "data": {
            "text/plain": [
              "{'LirikKanan': 0,\n",
              " 'LirikKiri': 1,\n",
              " 'MenolehKanan': 2,\n",
              " 'MenolehKiri': 3,\n",
              " 'Normal': 4,\n",
              " 'TutupMata': 5}"
            ]
          },
          "metadata": {},
          "execution_count": 35
        }
      ],
      "source": [
        "label_map"
      ]
    },
    {
      "cell_type": "markdown",
      "metadata": {
        "id": "bSUQCFAg41jm"
      },
      "source": [
        "## **DEFINE X (Input) and y (Output)**"
      ]
    },
    {
      "cell_type": "code",
      "execution_count": 36,
      "metadata": {
        "id": "q_tJp7Ua2G8m",
        "colab": {
          "base_uri": "https://localhost:8080/"
        },
        "outputId": "24de747e-452e-4788-f523-e7d4915719c9"
      },
      "outputs": [
        {
          "output_type": "stream",
          "name": "stdout",
          "text": [
            "(180, 50, 15)\n",
            "(180, 6)\n"
          ]
        }
      ],
      "source": [
        "# Path for exported data, numpy arrays\n",
        "DATA_PATH = os.path.join('/content/Tutorial_LSTM_MP/Real_CheatDataTrain') \n",
        "\n",
        "# Actions that we try to detect\n",
        "actions = np.array(['LirikKanan', 'LirikKiri', 'MenolehKanan', 'MenolehKiri', 'Normal', 'TutupMata'])\n",
        "\n",
        "# Thirty videos worth of data\n",
        "no_sequences = 30\n",
        "\n",
        "# Videos are going to be 30 frames in length\n",
        "sequence_length = 50\n",
        "\n",
        "sequences, labels = [], []\n",
        "for action in actions:\n",
        "    for sequence in range(no_sequences):\n",
        "        window = []\n",
        "\n",
        "        for frame_num in range(sequence_length):\n",
        "            res = np.load(os.path.join(DATA_PATH, action, str(sequence), \"{}.npy\".format(frame_num)))\n",
        "            window.append(res)\n",
        "        sequences.append(window)\n",
        "        labels.append(label_map[action])\n",
        "\n",
        "X_train = np.array(sequences)\n",
        "print(X_train.shape)\n",
        "y_train = to_categorical(labels).astype(int)\n",
        "print(y_train.shape)"
      ]
    },
    {
      "cell_type": "code",
      "source": [
        "# Path for exported data, numpy arrays\n",
        "DATA_PATH = os.path.join('/content/Tutorial_LSTM_MP/Real_CheatDataTest') \n",
        "\n",
        "# Actions that we try to detect\n",
        "actions = np.array(['LirikKanan', 'LirikKiri', 'MenolehKanan', 'MenolehKiri', 'Normal', 'TutupMata'])\n",
        "\n",
        "# Thirty videos worth of data\n",
        "no_sequences = 3\n",
        "\n",
        "# Videos are going to be 30 frames in length\n",
        "sequence_length = 50\n",
        "\n",
        "sequences, labels = [], []\n",
        "for action in actions:\n",
        "    for sequence in range(no_sequences):\n",
        "        window = []\n",
        "\n",
        "        for frame_num in range(sequence_length):\n",
        "            res = np.load(os.path.join(DATA_PATH, action, str(sequence), \"{}.npy\".format(frame_num)))\n",
        "            window.append(res)\n",
        "        sequences.append(window)\n",
        "        labels.append(label_map[action])\n",
        "\n",
        "X_Valid = np.array(sequences)\n",
        "print(X_Valid.shape)\n",
        "y_Valid = to_categorical(labels).astype(int)\n",
        "print(y_Valid.shape)"
      ],
      "metadata": {
        "colab": {
          "base_uri": "https://localhost:8080/"
        },
        "id": "3DcnksV6bHBe",
        "outputId": "051fc865-e5e2-4cbb-b2bc-98020d1e2135"
      },
      "execution_count": 37,
      "outputs": [
        {
          "output_type": "stream",
          "name": "stdout",
          "text": [
            "(18, 50, 15)\n",
            "(18, 6)\n"
          ]
        }
      ]
    },
    {
      "cell_type": "code",
      "source": [
        "# Path for exported data, numpy arrays\n",
        "DATA_PATH = os.path.join('/content/Tutorial_LSTM_MP/Complete_CheatDataNiko') \n",
        "\n",
        "# Actions that we try to detect\n",
        "actions = np.array(['LirikKanan', 'LirikKiri', 'MenolehKanan', 'MenolehKiri', 'Normal', 'TutupMata'])\n",
        "\n",
        "# Thirty videos worth of data\n",
        "no_sequences = 30\n",
        "\n",
        "# Videos are going to be 30 frames in length\n",
        "sequence_length = 50\n",
        "\n",
        "sequences, labels = [], []\n",
        "for action in actions:\n",
        "    for sequence in range(no_sequences):\n",
        "        window = []\n",
        "\n",
        "        for frame_num in range(sequence_length):\n",
        "            res = np.load(os.path.join(DATA_PATH, action, str(sequence), \"{}.npy\".format(frame_num)))\n",
        "            window.append(res)\n",
        "        sequences.append(window)\n",
        "        labels.append(label_map[action])\n",
        "\n",
        "X_test = np.array(sequences)\n",
        "print(X_test.shape)\n",
        "y_test = to_categorical(labels).astype(int)\n",
        "print(y_test.shape)"
      ],
      "metadata": {
        "colab": {
          "base_uri": "https://localhost:8080/"
        },
        "id": "DJAPeVAQdlr-",
        "outputId": "7d320c16-2089-4481-815c-fbfb15448498"
      },
      "execution_count": 38,
      "outputs": [
        {
          "output_type": "stream",
          "name": "stdout",
          "text": [
            "(180, 50, 15)\n",
            "(180, 6)\n"
          ]
        }
      ]
    },
    {
      "cell_type": "markdown",
      "metadata": {
        "id": "09LN9RY75Bid"
      },
      "source": [
        "## **Build, Train and Test Neural Network**"
      ]
    },
    {
      "cell_type": "code",
      "execution_count": 39,
      "metadata": {
        "id": "ptTzydZM5KCt"
      },
      "outputs": [],
      "source": [
        "log_dir = os.path.join('Logs')\n",
        "tb_callback = TensorBoard(log_dir=log_dir)"
      ]
    },
    {
      "cell_type": "code",
      "source": [
        "model = Sequential()\n",
        "model.add(GRU(128, return_sequences=True, activation='tanh', input_shape=(50,15)))\n",
        "model.add(Dropout(0.2))\n",
        "model.add(GRU(64, return_sequences=True, activation='tanh'))\n",
        "model.add(Dropout(0.2))\n",
        "model.add(GRU(128, return_sequences=False, activation='tanh'))\n",
        "model.add(Dense(64, activation='relu'))\n",
        "model.add(Dense(32, activation='relu'))\n",
        "model.add(Dense(actions.shape[0], activation='softmax'))"
      ],
      "metadata": {
        "id": "mcfMbYMeTiMn"
      },
      "execution_count": 40,
      "outputs": []
    },
    {
      "cell_type": "code",
      "source": [
        "model.compile(optimizer='adam', loss='categorical_crossentropy', metrics=['categorical_accuracy'])\n",
        "model.optimizer.lr.assign(0.0001)"
      ],
      "metadata": {
        "id": "pT2nuqEvSY8Z",
        "colab": {
          "base_uri": "https://localhost:8080/"
        },
        "outputId": "e388a4aa-0648-4b28-87b3-fbf18515ca71"
      },
      "execution_count": 41,
      "outputs": [
        {
          "output_type": "execute_result",
          "data": {
            "text/plain": [
              "<tf.Variable 'UnreadVariable' shape=() dtype=float32, numpy=1e-04>"
            ]
          },
          "metadata": {},
          "execution_count": 41
        }
      ]
    },
    {
      "cell_type": "code",
      "source": [
        "history = model.fit(X_train, y_train, epochs=100, callbacks=[tb_callback], validation_data = (X_Valid, y_Valid))"
      ],
      "metadata": {
        "colab": {
          "base_uri": "https://localhost:8080/"
        },
        "id": "Wp4-43BrStY7",
        "outputId": "2cb99f2b-7ea8-44bd-e2b9-0dd20ddd06e1"
      },
      "execution_count": 42,
      "outputs": [
        {
          "output_type": "stream",
          "name": "stdout",
          "text": [
            "Epoch 1/100\n",
            "6/6 [==============================] - 6s 264ms/step - loss: 1.7937 - categorical_accuracy: 0.2000 - val_loss: 1.7466 - val_categorical_accuracy: 0.1111\n",
            "Epoch 2/100\n",
            "6/6 [==============================] - 0s 26ms/step - loss: 1.7322 - categorical_accuracy: 0.2278 - val_loss: 1.6913 - val_categorical_accuracy: 0.3333\n",
            "Epoch 3/100\n",
            "6/6 [==============================] - 0s 50ms/step - loss: 1.6692 - categorical_accuracy: 0.4222 - val_loss: 1.6458 - val_categorical_accuracy: 0.3333\n",
            "Epoch 4/100\n",
            "6/6 [==============================] - 0s 50ms/step - loss: 1.6261 - categorical_accuracy: 0.4167 - val_loss: 1.5946 - val_categorical_accuracy: 0.4444\n",
            "Epoch 5/100\n",
            "6/6 [==============================] - 0s 38ms/step - loss: 1.5618 - categorical_accuracy: 0.5278 - val_loss: 1.5379 - val_categorical_accuracy: 0.5556\n",
            "Epoch 6/100\n",
            "6/6 [==============================] - 0s 52ms/step - loss: 1.5192 - categorical_accuracy: 0.5333 - val_loss: 1.4759 - val_categorical_accuracy: 0.6667\n",
            "Epoch 7/100\n",
            "6/6 [==============================] - 0s 45ms/step - loss: 1.4685 - categorical_accuracy: 0.5389 - val_loss: 1.4125 - val_categorical_accuracy: 0.6667\n",
            "Epoch 8/100\n",
            "6/6 [==============================] - 0s 50ms/step - loss: 1.4114 - categorical_accuracy: 0.5611 - val_loss: 1.3497 - val_categorical_accuracy: 0.6667\n",
            "Epoch 9/100\n",
            "6/6 [==============================] - 0s 49ms/step - loss: 1.3668 - categorical_accuracy: 0.5056 - val_loss: 1.2767 - val_categorical_accuracy: 0.7222\n",
            "Epoch 10/100\n",
            "6/6 [==============================] - 0s 49ms/step - loss: 1.3036 - categorical_accuracy: 0.5722 - val_loss: 1.2115 - val_categorical_accuracy: 0.8333\n",
            "Epoch 11/100\n",
            "6/6 [==============================] - 0s 44ms/step - loss: 1.2428 - categorical_accuracy: 0.5722 - val_loss: 1.1497 - val_categorical_accuracy: 0.8333\n",
            "Epoch 12/100\n",
            "6/6 [==============================] - 0s 41ms/step - loss: 1.1975 - categorical_accuracy: 0.5333 - val_loss: 1.0971 - val_categorical_accuracy: 0.6667\n",
            "Epoch 13/100\n",
            "6/6 [==============================] - 0s 52ms/step - loss: 1.1405 - categorical_accuracy: 0.6000 - val_loss: 1.0500 - val_categorical_accuracy: 0.8333\n",
            "Epoch 14/100\n",
            "6/6 [==============================] - 0s 56ms/step - loss: 1.0946 - categorical_accuracy: 0.5833 - val_loss: 1.0075 - val_categorical_accuracy: 0.8333\n",
            "Epoch 15/100\n",
            "6/6 [==============================] - 0s 38ms/step - loss: 1.0525 - categorical_accuracy: 0.5944 - val_loss: 0.9682 - val_categorical_accuracy: 0.8333\n",
            "Epoch 16/100\n",
            "6/6 [==============================] - 0s 61ms/step - loss: 0.9963 - categorical_accuracy: 0.6111 - val_loss: 0.9330 - val_categorical_accuracy: 0.7222\n",
            "Epoch 17/100\n",
            "6/6 [==============================] - 0s 38ms/step - loss: 0.9697 - categorical_accuracy: 0.6278 - val_loss: 0.8971 - val_categorical_accuracy: 0.8333\n",
            "Epoch 18/100\n",
            "6/6 [==============================] - 0s 43ms/step - loss: 0.9395 - categorical_accuracy: 0.6500 - val_loss: 0.8670 - val_categorical_accuracy: 0.8333\n",
            "Epoch 19/100\n",
            "6/6 [==============================] - 0s 60ms/step - loss: 0.9118 - categorical_accuracy: 0.6556 - val_loss: 0.8359 - val_categorical_accuracy: 0.7778\n",
            "Epoch 20/100\n",
            "6/6 [==============================] - 0s 44ms/step - loss: 0.8642 - categorical_accuracy: 0.7222 - val_loss: 0.8157 - val_categorical_accuracy: 0.7222\n",
            "Epoch 21/100\n",
            "6/6 [==============================] - 0s 61ms/step - loss: 0.8363 - categorical_accuracy: 0.6889 - val_loss: 0.8049 - val_categorical_accuracy: 0.7222\n",
            "Epoch 22/100\n",
            "6/6 [==============================] - 0s 37ms/step - loss: 0.8126 - categorical_accuracy: 0.7333 - val_loss: 0.7765 - val_categorical_accuracy: 0.7222\n",
            "Epoch 23/100\n",
            "6/6 [==============================] - 0s 30ms/step - loss: 0.7695 - categorical_accuracy: 0.8111 - val_loss: 0.7398 - val_categorical_accuracy: 0.7222\n",
            "Epoch 24/100\n",
            "6/6 [==============================] - 0s 36ms/step - loss: 0.7513 - categorical_accuracy: 0.7889 - val_loss: 0.7035 - val_categorical_accuracy: 0.7222\n",
            "Epoch 25/100\n",
            "6/6 [==============================] - 0s 41ms/step - loss: 0.7159 - categorical_accuracy: 0.7778 - val_loss: 0.6645 - val_categorical_accuracy: 0.7222\n",
            "Epoch 26/100\n",
            "6/6 [==============================] - 0s 39ms/step - loss: 0.6887 - categorical_accuracy: 0.8167 - val_loss: 0.6357 - val_categorical_accuracy: 0.7222\n",
            "Epoch 27/100\n",
            "6/6 [==============================] - 0s 37ms/step - loss: 0.6715 - categorical_accuracy: 0.8167 - val_loss: 0.6145 - val_categorical_accuracy: 0.7778\n",
            "Epoch 28/100\n",
            "6/6 [==============================] - 0s 39ms/step - loss: 0.6438 - categorical_accuracy: 0.8111 - val_loss: 0.5908 - val_categorical_accuracy: 0.7222\n",
            "Epoch 29/100\n",
            "6/6 [==============================] - 0s 31ms/step - loss: 0.6013 - categorical_accuracy: 0.8389 - val_loss: 0.5556 - val_categorical_accuracy: 0.7222\n",
            "Epoch 30/100\n",
            "6/6 [==============================] - 0s 42ms/step - loss: 0.5728 - categorical_accuracy: 0.8500 - val_loss: 0.5245 - val_categorical_accuracy: 0.7778\n",
            "Epoch 31/100\n",
            "6/6 [==============================] - 0s 29ms/step - loss: 0.5299 - categorical_accuracy: 0.8778 - val_loss: 0.4904 - val_categorical_accuracy: 0.8889\n",
            "Epoch 32/100\n",
            "6/6 [==============================] - 0s 27ms/step - loss: 0.5267 - categorical_accuracy: 0.8278 - val_loss: 0.4618 - val_categorical_accuracy: 0.9444\n",
            "Epoch 33/100\n",
            "6/6 [==============================] - 0s 50ms/step - loss: 0.4935 - categorical_accuracy: 0.8722 - val_loss: 0.4194 - val_categorical_accuracy: 0.9444\n",
            "Epoch 34/100\n",
            "6/6 [==============================] - 0s 41ms/step - loss: 0.4621 - categorical_accuracy: 0.9000 - val_loss: 0.4007 - val_categorical_accuracy: 0.9444\n",
            "Epoch 35/100\n",
            "6/6 [==============================] - 0s 62ms/step - loss: 0.4393 - categorical_accuracy: 0.8833 - val_loss: 0.3699 - val_categorical_accuracy: 0.9444\n",
            "Epoch 36/100\n",
            "6/6 [==============================] - 0s 40ms/step - loss: 0.4127 - categorical_accuracy: 0.9056 - val_loss: 0.3618 - val_categorical_accuracy: 0.9444\n",
            "Epoch 37/100\n",
            "6/6 [==============================] - 0s 32ms/step - loss: 0.3897 - categorical_accuracy: 0.9167 - val_loss: 0.3135 - val_categorical_accuracy: 1.0000\n",
            "Epoch 38/100\n",
            "6/6 [==============================] - 0s 37ms/step - loss: 0.3494 - categorical_accuracy: 0.9333 - val_loss: 0.3132 - val_categorical_accuracy: 0.9444\n",
            "Epoch 39/100\n",
            "6/6 [==============================] - 0s 37ms/step - loss: 0.3390 - categorical_accuracy: 0.9278 - val_loss: 0.2744 - val_categorical_accuracy: 1.0000\n",
            "Epoch 40/100\n",
            "6/6 [==============================] - 0s 36ms/step - loss: 0.3176 - categorical_accuracy: 0.9444 - val_loss: 0.2710 - val_categorical_accuracy: 1.0000\n",
            "Epoch 41/100\n",
            "6/6 [==============================] - 0s 35ms/step - loss: 0.2953 - categorical_accuracy: 0.9500 - val_loss: 0.2774 - val_categorical_accuracy: 0.9444\n",
            "Epoch 42/100\n",
            "6/6 [==============================] - 0s 51ms/step - loss: 0.2712 - categorical_accuracy: 0.9611 - val_loss: 0.2191 - val_categorical_accuracy: 1.0000\n",
            "Epoch 43/100\n",
            "6/6 [==============================] - 0s 54ms/step - loss: 0.2722 - categorical_accuracy: 0.9333 - val_loss: 0.3948 - val_categorical_accuracy: 0.7778\n",
            "Epoch 44/100\n",
            "6/6 [==============================] - 0s 46ms/step - loss: 0.2690 - categorical_accuracy: 0.9389 - val_loss: 0.1831 - val_categorical_accuracy: 1.0000\n",
            "Epoch 45/100\n",
            "6/6 [==============================] - 0s 31ms/step - loss: 0.2355 - categorical_accuracy: 0.9444 - val_loss: 0.3518 - val_categorical_accuracy: 0.8333\n",
            "Epoch 46/100\n",
            "6/6 [==============================] - 0s 34ms/step - loss: 0.2366 - categorical_accuracy: 0.9444 - val_loss: 0.1865 - val_categorical_accuracy: 1.0000\n",
            "Epoch 47/100\n",
            "6/6 [==============================] - 0s 37ms/step - loss: 0.2136 - categorical_accuracy: 0.9556 - val_loss: 0.3199 - val_categorical_accuracy: 0.8333\n",
            "Epoch 48/100\n",
            "6/6 [==============================] - 0s 38ms/step - loss: 0.2018 - categorical_accuracy: 0.9667 - val_loss: 0.2644 - val_categorical_accuracy: 0.8889\n",
            "Epoch 49/100\n",
            "6/6 [==============================] - 0s 27ms/step - loss: 0.1807 - categorical_accuracy: 0.9722 - val_loss: 0.2266 - val_categorical_accuracy: 0.8889\n",
            "Epoch 50/100\n",
            "6/6 [==============================] - 0s 35ms/step - loss: 0.1687 - categorical_accuracy: 0.9778 - val_loss: 0.2725 - val_categorical_accuracy: 0.8889\n",
            "Epoch 51/100\n",
            "6/6 [==============================] - 0s 64ms/step - loss: 0.1472 - categorical_accuracy: 0.9889 - val_loss: 0.2117 - val_categorical_accuracy: 0.9444\n",
            "Epoch 52/100\n",
            "6/6 [==============================] - 0s 67ms/step - loss: 0.1431 - categorical_accuracy: 0.9833 - val_loss: 0.2549 - val_categorical_accuracy: 0.8889\n",
            "Epoch 53/100\n",
            "6/6 [==============================] - 0s 54ms/step - loss: 0.1438 - categorical_accuracy: 0.9722 - val_loss: 0.3064 - val_categorical_accuracy: 0.8333\n",
            "Epoch 54/100\n",
            "6/6 [==============================] - 0s 40ms/step - loss: 0.1623 - categorical_accuracy: 0.9611 - val_loss: 0.2357 - val_categorical_accuracy: 0.8889\n",
            "Epoch 55/100\n",
            "6/6 [==============================] - 0s 46ms/step - loss: 0.1188 - categorical_accuracy: 0.9833 - val_loss: 0.3391 - val_categorical_accuracy: 0.8333\n",
            "Epoch 56/100\n",
            "6/6 [==============================] - 0s 52ms/step - loss: 0.1125 - categorical_accuracy: 1.0000 - val_loss: 0.1896 - val_categorical_accuracy: 0.9444\n",
            "Epoch 57/100\n",
            "6/6 [==============================] - 0s 46ms/step - loss: 0.1106 - categorical_accuracy: 0.9778 - val_loss: 0.2977 - val_categorical_accuracy: 0.8333\n",
            "Epoch 58/100\n",
            "6/6 [==============================] - 0s 44ms/step - loss: 0.1107 - categorical_accuracy: 0.9833 - val_loss: 0.1850 - val_categorical_accuracy: 0.8889\n",
            "Epoch 59/100\n",
            "6/6 [==============================] - 0s 60ms/step - loss: 0.1116 - categorical_accuracy: 0.9833 - val_loss: 0.3867 - val_categorical_accuracy: 0.8333\n",
            "Epoch 60/100\n",
            "6/6 [==============================] - 0s 56ms/step - loss: 0.0969 - categorical_accuracy: 0.9833 - val_loss: 0.1494 - val_categorical_accuracy: 0.9444\n",
            "Epoch 61/100\n",
            "6/6 [==============================] - 0s 80ms/step - loss: 0.1097 - categorical_accuracy: 0.9778 - val_loss: 0.3073 - val_categorical_accuracy: 0.8333\n",
            "Epoch 62/100\n",
            "6/6 [==============================] - 0s 57ms/step - loss: 0.0711 - categorical_accuracy: 1.0000 - val_loss: 0.1545 - val_categorical_accuracy: 0.9444\n",
            "Epoch 63/100\n",
            "6/6 [==============================] - 0s 53ms/step - loss: 0.0785 - categorical_accuracy: 0.9944 - val_loss: 0.3865 - val_categorical_accuracy: 0.8333\n",
            "Epoch 64/100\n",
            "6/6 [==============================] - 0s 62ms/step - loss: 0.0815 - categorical_accuracy: 0.9889 - val_loss: 0.2669 - val_categorical_accuracy: 0.8333\n",
            "Epoch 65/100\n",
            "6/6 [==============================] - 0s 68ms/step - loss: 0.0758 - categorical_accuracy: 0.9944 - val_loss: 0.2309 - val_categorical_accuracy: 0.8889\n",
            "Epoch 66/100\n",
            "6/6 [==============================] - 0s 74ms/step - loss: 0.0737 - categorical_accuracy: 0.9833 - val_loss: 0.1790 - val_categorical_accuracy: 0.8889\n",
            "Epoch 67/100\n",
            "6/6 [==============================] - 0s 55ms/step - loss: 0.0624 - categorical_accuracy: 0.9944 - val_loss: 0.2214 - val_categorical_accuracy: 0.8889\n",
            "Epoch 68/100\n",
            "6/6 [==============================] - 0s 62ms/step - loss: 0.0543 - categorical_accuracy: 1.0000 - val_loss: 0.1828 - val_categorical_accuracy: 0.8889\n",
            "Epoch 69/100\n",
            "6/6 [==============================] - 0s 73ms/step - loss: 0.0584 - categorical_accuracy: 0.9944 - val_loss: 0.2879 - val_categorical_accuracy: 0.8333\n",
            "Epoch 70/100\n",
            "6/6 [==============================] - 0s 77ms/step - loss: 0.0485 - categorical_accuracy: 1.0000 - val_loss: 0.1791 - val_categorical_accuracy: 0.8889\n",
            "Epoch 71/100\n",
            "6/6 [==============================] - 0s 68ms/step - loss: 0.0557 - categorical_accuracy: 0.9944 - val_loss: 0.2228 - val_categorical_accuracy: 0.8889\n",
            "Epoch 72/100\n",
            "6/6 [==============================] - 0s 79ms/step - loss: 0.0473 - categorical_accuracy: 0.9944 - val_loss: 0.3157 - val_categorical_accuracy: 0.8333\n",
            "Epoch 73/100\n",
            "6/6 [==============================] - 0s 65ms/step - loss: 0.0551 - categorical_accuracy: 0.9889 - val_loss: 0.1266 - val_categorical_accuracy: 0.9444\n",
            "Epoch 74/100\n",
            "6/6 [==============================] - 0s 52ms/step - loss: 0.0523 - categorical_accuracy: 0.9944 - val_loss: 0.2810 - val_categorical_accuracy: 0.8333\n",
            "Epoch 75/100\n",
            "6/6 [==============================] - 0s 65ms/step - loss: 0.0447 - categorical_accuracy: 0.9889 - val_loss: 0.1216 - val_categorical_accuracy: 0.9444\n",
            "Epoch 76/100\n",
            "6/6 [==============================] - 0s 65ms/step - loss: 0.0421 - categorical_accuracy: 1.0000 - val_loss: 0.1885 - val_categorical_accuracy: 0.8889\n",
            "Epoch 77/100\n",
            "6/6 [==============================] - 0s 46ms/step - loss: 0.0411 - categorical_accuracy: 0.9944 - val_loss: 0.1480 - val_categorical_accuracy: 0.9444\n",
            "Epoch 78/100\n",
            "6/6 [==============================] - 0s 63ms/step - loss: 0.0506 - categorical_accuracy: 1.0000 - val_loss: 0.2998 - val_categorical_accuracy: 0.8333\n",
            "Epoch 79/100\n",
            "6/6 [==============================] - 0s 61ms/step - loss: 0.0581 - categorical_accuracy: 0.9889 - val_loss: 0.0947 - val_categorical_accuracy: 1.0000\n",
            "Epoch 80/100\n",
            "6/6 [==============================] - 0s 28ms/step - loss: 0.0467 - categorical_accuracy: 1.0000 - val_loss: 0.3790 - val_categorical_accuracy: 0.7778\n",
            "Epoch 81/100\n",
            "6/6 [==============================] - 0s 26ms/step - loss: 0.0501 - categorical_accuracy: 0.9889 - val_loss: 0.1986 - val_categorical_accuracy: 0.8889\n",
            "Epoch 82/100\n",
            "6/6 [==============================] - 0s 27ms/step - loss: 0.0597 - categorical_accuracy: 0.9833 - val_loss: 0.1682 - val_categorical_accuracy: 0.9444\n",
            "Epoch 83/100\n",
            "6/6 [==============================] - 0s 24ms/step - loss: 0.0410 - categorical_accuracy: 0.9944 - val_loss: 0.0790 - val_categorical_accuracy: 1.0000\n",
            "Epoch 84/100\n",
            "6/6 [==============================] - 0s 25ms/step - loss: 0.0344 - categorical_accuracy: 1.0000 - val_loss: 0.1887 - val_categorical_accuracy: 0.8889\n",
            "Epoch 85/100\n",
            "6/6 [==============================] - 0s 25ms/step - loss: 0.0363 - categorical_accuracy: 1.0000 - val_loss: 0.1154 - val_categorical_accuracy: 0.9444\n",
            "Epoch 86/100\n",
            "6/6 [==============================] - 0s 24ms/step - loss: 0.0565 - categorical_accuracy: 0.9889 - val_loss: 0.3667 - val_categorical_accuracy: 0.8333\n",
            "Epoch 87/100\n",
            "6/6 [==============================] - 0s 24ms/step - loss: 0.0415 - categorical_accuracy: 1.0000 - val_loss: 0.1052 - val_categorical_accuracy: 0.9444\n",
            "Epoch 88/100\n",
            "6/6 [==============================] - 0s 25ms/step - loss: 0.0283 - categorical_accuracy: 1.0000 - val_loss: 0.2273 - val_categorical_accuracy: 0.8889\n",
            "Epoch 89/100\n",
            "6/6 [==============================] - 0s 26ms/step - loss: 0.0284 - categorical_accuracy: 1.0000 - val_loss: 0.1065 - val_categorical_accuracy: 0.9444\n",
            "Epoch 90/100\n",
            "6/6 [==============================] - 0s 25ms/step - loss: 0.0328 - categorical_accuracy: 1.0000 - val_loss: 0.2785 - val_categorical_accuracy: 0.8333\n",
            "Epoch 91/100\n",
            "6/6 [==============================] - 0s 24ms/step - loss: 0.0252 - categorical_accuracy: 1.0000 - val_loss: 0.1853 - val_categorical_accuracy: 0.8889\n",
            "Epoch 92/100\n",
            "6/6 [==============================] - 0s 24ms/step - loss: 0.0230 - categorical_accuracy: 1.0000 - val_loss: 0.2833 - val_categorical_accuracy: 0.8333\n",
            "Epoch 93/100\n",
            "6/6 [==============================] - 0s 24ms/step - loss: 0.0268 - categorical_accuracy: 1.0000 - val_loss: 0.1868 - val_categorical_accuracy: 0.8889\n",
            "Epoch 94/100\n",
            "6/6 [==============================] - 0s 24ms/step - loss: 0.0244 - categorical_accuracy: 1.0000 - val_loss: 0.1740 - val_categorical_accuracy: 0.8889\n",
            "Epoch 95/100\n",
            "6/6 [==============================] - 0s 20ms/step - loss: 0.0244 - categorical_accuracy: 1.0000 - val_loss: 0.3485 - val_categorical_accuracy: 0.8333\n",
            "Epoch 96/100\n",
            "6/6 [==============================] - 0s 18ms/step - loss: 0.0211 - categorical_accuracy: 1.0000 - val_loss: 0.1329 - val_categorical_accuracy: 0.9444\n",
            "Epoch 97/100\n",
            "6/6 [==============================] - 0s 18ms/step - loss: 0.0240 - categorical_accuracy: 1.0000 - val_loss: 0.1790 - val_categorical_accuracy: 0.8889\n",
            "Epoch 98/100\n",
            "6/6 [==============================] - 0s 19ms/step - loss: 0.0197 - categorical_accuracy: 1.0000 - val_loss: 0.2757 - val_categorical_accuracy: 0.8333\n",
            "Epoch 99/100\n",
            "6/6 [==============================] - 0s 19ms/step - loss: 0.0156 - categorical_accuracy: 1.0000 - val_loss: 0.3385 - val_categorical_accuracy: 0.8333\n",
            "Epoch 100/100\n",
            "6/6 [==============================] - 0s 17ms/step - loss: 0.0264 - categorical_accuracy: 0.9944 - val_loss: 0.2762 - val_categorical_accuracy: 0.8333\n"
          ]
        }
      ]
    },
    {
      "cell_type": "code",
      "source": [
        "model.summary()\n",
        "model.save('/content/Tutorial_LSTM_MP/Weight_model/actionGRUNikoCheatDataReal_ReportGRU.h5')\n",
        "plot_graphs(history, 'categorical_accuracy')\n",
        "plot_graphs(history, 'loss')"
      ],
      "metadata": {
        "colab": {
          "base_uri": "https://localhost:8080/",
          "height": 975
        },
        "id": "e2GpesJhXp4e",
        "outputId": "03aa5e05-91a7-4b84-db52-887f491a4774"
      },
      "execution_count": 43,
      "outputs": [
        {
          "output_type": "stream",
          "name": "stdout",
          "text": [
            "Model: \"sequential_3\"\n",
            "_________________________________________________________________\n",
            " Layer (type)                Output Shape              Param #   \n",
            "=================================================================\n",
            " gru (GRU)                   (None, 50, 128)           55680     \n",
            "                                                                 \n",
            " dropout_6 (Dropout)         (None, 50, 128)           0         \n",
            "                                                                 \n",
            " gru_1 (GRU)                 (None, 50, 64)            37248     \n",
            "                                                                 \n",
            " dropout_7 (Dropout)         (None, 50, 64)            0         \n",
            "                                                                 \n",
            " gru_2 (GRU)                 (None, 128)               74496     \n",
            "                                                                 \n",
            " dense_9 (Dense)             (None, 64)                8256      \n",
            "                                                                 \n",
            " dense_10 (Dense)            (None, 32)                2080      \n",
            "                                                                 \n",
            " dense_11 (Dense)            (None, 6)                 198       \n",
            "                                                                 \n",
            "=================================================================\n",
            "Total params: 177,958\n",
            "Trainable params: 177,958\n",
            "Non-trainable params: 0\n",
            "_________________________________________________________________\n"
          ]
        },
        {
          "output_type": "display_data",
          "data": {
            "text/plain": [
              "<Figure size 432x288 with 1 Axes>"
            ],
            "image/png": "[encoded data removed]"
          },
          "metadata": {
            "needs_background": "light"
          }
        },
        {
          "output_type": "display_data",
          "data": {
            "text/plain": [
              "<Figure size 432x288 with 1 Axes>"
            ],
            "image/png": "[encoded data removed]"
          },
          "metadata": {
            "needs_background": "light"
          }
        }
      ]
    },
    {
      "cell_type": "code",
      "source": [
        "y_test_predict = model.predict(X_test)\n",
        "ytrue = np.argmax(y_test, axis=1).tolist()\n",
        "yhat = np.argmax(y_test_predict, axis=1).tolist()\n",
        "multilabel_confusion_matrix(ytrue, yhat)\n",
        "accuracy_score(ytrue, yhat)"
      ],
      "metadata": {
        "colab": {
          "base_uri": "https://localhost:8080/"
        },
        "id": "OCCS45FelFL3",
        "outputId": "1ca7b75b-c416-4326-9be4-8ffa2a6c61ea"
      },
      "execution_count": 44,
      "outputs": [
        {
          "output_type": "execute_result",
          "data": {
            "text/plain": [
              "0.9"
            ]
          },
          "metadata": {},
          "execution_count": 44
        }
      ]
    },
    {
      "cell_type": "markdown",
      "metadata": {
        "id": "WMVehfbqWAGM"
      },
      "source": [
        "## **Build, Train and Test Neural Network 2**"
      ]
    },
    {
      "cell_type": "code",
      "execution_count": 45,
      "metadata": {
        "id": "YUow43_AWAGM"
      },
      "outputs": [],
      "source": [
        "log_dir = os.path.join('Logs')\n",
        "tb_callback = TensorBoard(log_dir=log_dir)"
      ]
    },
    {
      "cell_type": "code",
      "source": [
        "model = Sequential()\n",
        "model.add(GRU(256, return_sequences=True, activation='tanh', input_shape=(50,15)))\n",
        "model.add(Dropout(0.2))\n",
        "model.add(GRU(128, return_sequences=True, activation='tanh'))\n",
        "model.add(Dropout(0.2))\n",
        "model.add(GRU(64, return_sequences=False, activation='tanh'))\n",
        "model.add(Dense(64, activation='relu'))\n",
        "model.add(Dense(32, activation='relu'))\n",
        "model.add(Dense(actions.shape[0], activation='softmax'))"
      ],
      "metadata": {
        "id": "K7YGRLfuWAGM"
      },
      "execution_count": 46,
      "outputs": []
    },
    {
      "cell_type": "code",
      "source": [
        "model.compile(optimizer='adam', loss='categorical_crossentropy', metrics=['categorical_accuracy'])\n",
        "model.optimizer.lr.assign(0.0001)"
      ],
      "metadata": {
        "colab": {
          "base_uri": "https://localhost:8080/"
        },
        "outputId": "df6a8bd0-d7c1-483c-9c5b-632168b3fe14",
        "id": "qKKFsv-pWAGN"
      },
      "execution_count": 47,
      "outputs": [
        {
          "output_type": "execute_result",
          "data": {
            "text/plain": [
              "<tf.Variable 'UnreadVariable' shape=() dtype=float32, numpy=1e-04>"
            ]
          },
          "metadata": {},
          "execution_count": 47
        }
      ]
    },
    {
      "cell_type": "code",
      "source": [
        "history = model.fit(X_train, y_train, epochs=100, callbacks=[tb_callback], validation_data = (X_Valid, y_Valid))"
      ],
      "metadata": {
        "colab": {
          "base_uri": "https://localhost:8080/"
        },
        "outputId": "25932301-7039-474d-bfa9-d69ead9c65db",
        "id": "FLsYl_WsWAGN"
      },
      "execution_count": 48,
      "outputs": [
        {
          "output_type": "stream",
          "name": "stdout",
          "text": [
            "Epoch 1/100\n",
            "6/6 [==============================] - 5s 199ms/step - loss: 1.7204 - categorical_accuracy: 0.2889 - val_loss: 1.6472 - val_categorical_accuracy: 0.1667\n",
            "Epoch 2/100\n",
            "6/6 [==============================] - 0s 22ms/step - loss: 1.5938 - categorical_accuracy: 0.4944 - val_loss: 1.5542 - val_categorical_accuracy: 0.2778\n",
            "Epoch 3/100\n",
            "6/6 [==============================] - 0s 21ms/step - loss: 1.5199 - categorical_accuracy: 0.5389 - val_loss: 1.4603 - val_categorical_accuracy: 0.4444\n",
            "Epoch 4/100\n",
            "6/6 [==============================] - 0s 20ms/step - loss: 1.4100 - categorical_accuracy: 0.6278 - val_loss: 1.3575 - val_categorical_accuracy: 0.5556\n",
            "Epoch 5/100\n",
            "6/6 [==============================] - 0s 20ms/step - loss: 1.3317 - categorical_accuracy: 0.6444 - val_loss: 1.2851 - val_categorical_accuracy: 0.5000\n",
            "Epoch 6/100\n",
            "6/6 [==============================] - 0s 19ms/step - loss: 1.2461 - categorical_accuracy: 0.6667 - val_loss: 1.2104 - val_categorical_accuracy: 0.5000\n",
            "Epoch 7/100\n",
            "6/6 [==============================] - 0s 18ms/step - loss: 1.1745 - categorical_accuracy: 0.6722 - val_loss: 1.1305 - val_categorical_accuracy: 0.6111\n",
            "Epoch 8/100\n",
            "6/6 [==============================] - 0s 20ms/step - loss: 1.1265 - categorical_accuracy: 0.7056 - val_loss: 1.0677 - val_categorical_accuracy: 0.7222\n",
            "Epoch 9/100\n",
            "6/6 [==============================] - 0s 19ms/step - loss: 1.0722 - categorical_accuracy: 0.6778 - val_loss: 1.0112 - val_categorical_accuracy: 0.6111\n",
            "Epoch 10/100\n",
            "6/6 [==============================] - 0s 20ms/step - loss: 1.0166 - categorical_accuracy: 0.7167 - val_loss: 0.9665 - val_categorical_accuracy: 0.6667\n",
            "Epoch 11/100\n",
            "6/6 [==============================] - 0s 18ms/step - loss: 0.9724 - categorical_accuracy: 0.7111 - val_loss: 0.9217 - val_categorical_accuracy: 0.7222\n",
            "Epoch 12/100\n",
            "6/6 [==============================] - 0s 17ms/step - loss: 0.9342 - categorical_accuracy: 0.6778 - val_loss: 0.8864 - val_categorical_accuracy: 0.7222\n",
            "Epoch 13/100\n",
            "6/6 [==============================] - 0s 17ms/step - loss: 0.8970 - categorical_accuracy: 0.7167 - val_loss: 0.8416 - val_categorical_accuracy: 0.6667\n",
            "Epoch 14/100\n",
            "6/6 [==============================] - 0s 15ms/step - loss: 0.8627 - categorical_accuracy: 0.7000 - val_loss: 0.7928 - val_categorical_accuracy: 0.6667\n",
            "Epoch 15/100\n",
            "6/6 [==============================] - 0s 20ms/step - loss: 0.8415 - categorical_accuracy: 0.7111 - val_loss: 0.7775 - val_categorical_accuracy: 0.7222\n",
            "Epoch 16/100\n",
            "6/6 [==============================] - 0s 19ms/step - loss: 0.7899 - categorical_accuracy: 0.7444 - val_loss: 0.7552 - val_categorical_accuracy: 0.7222\n",
            "Epoch 17/100\n",
            "6/6 [==============================] - 0s 18ms/step - loss: 0.7718 - categorical_accuracy: 0.7222 - val_loss: 0.7301 - val_categorical_accuracy: 0.7778\n",
            "Epoch 18/100\n",
            "6/6 [==============================] - 0s 22ms/step - loss: 0.7504 - categorical_accuracy: 0.7167 - val_loss: 0.7159 - val_categorical_accuracy: 0.7222\n",
            "Epoch 19/100\n",
            "6/6 [==============================] - 0s 25ms/step - loss: 0.7260 - categorical_accuracy: 0.7667 - val_loss: 0.6918 - val_categorical_accuracy: 0.6667\n",
            "Epoch 20/100\n",
            "6/6 [==============================] - 0s 26ms/step - loss: 0.7134 - categorical_accuracy: 0.7778 - val_loss: 0.6737 - val_categorical_accuracy: 0.7778\n",
            "Epoch 21/100\n",
            "6/6 [==============================] - 0s 25ms/step - loss: 0.6840 - categorical_accuracy: 0.8167 - val_loss: 0.6567 - val_categorical_accuracy: 0.7222\n",
            "Epoch 22/100\n",
            "6/6 [==============================] - 0s 28ms/step - loss: 0.6658 - categorical_accuracy: 0.7611 - val_loss: 0.6687 - val_categorical_accuracy: 0.6667\n",
            "Epoch 23/100\n",
            "6/6 [==============================] - 0s 22ms/step - loss: 0.6609 - categorical_accuracy: 0.7889 - val_loss: 0.5945 - val_categorical_accuracy: 0.8333\n",
            "Epoch 24/100\n",
            "6/6 [==============================] - 0s 26ms/step - loss: 0.6239 - categorical_accuracy: 0.8333 - val_loss: 0.5842 - val_categorical_accuracy: 0.8333\n",
            "Epoch 25/100\n",
            "6/6 [==============================] - 0s 25ms/step - loss: 0.6009 - categorical_accuracy: 0.8333 - val_loss: 0.6074 - val_categorical_accuracy: 0.8333\n",
            "Epoch 26/100\n",
            "6/6 [==============================] - 0s 25ms/step - loss: 0.5842 - categorical_accuracy: 0.8389 - val_loss: 0.5980 - val_categorical_accuracy: 0.8889\n",
            "Epoch 27/100\n",
            "6/6 [==============================] - 0s 25ms/step - loss: 0.5821 - categorical_accuracy: 0.8278 - val_loss: 0.5756 - val_categorical_accuracy: 0.8333\n",
            "Epoch 28/100\n",
            "6/6 [==============================] - 0s 25ms/step - loss: 0.5550 - categorical_accuracy: 0.8556 - val_loss: 0.5260 - val_categorical_accuracy: 0.8889\n",
            "Epoch 29/100\n",
            "6/6 [==============================] - 0s 23ms/step - loss: 0.5358 - categorical_accuracy: 0.8556 - val_loss: 0.5226 - val_categorical_accuracy: 0.8889\n",
            "Epoch 30/100\n",
            "6/6 [==============================] - 0s 26ms/step - loss: 0.5191 - categorical_accuracy: 0.8500 - val_loss: 0.5573 - val_categorical_accuracy: 0.8333\n",
            "Epoch 31/100\n",
            "6/6 [==============================] - 0s 24ms/step - loss: 0.4869 - categorical_accuracy: 0.8833 - val_loss: 0.5267 - val_categorical_accuracy: 0.8889\n",
            "Epoch 32/100\n",
            "6/6 [==============================] - 0s 23ms/step - loss: 0.4927 - categorical_accuracy: 0.8556 - val_loss: 0.4711 - val_categorical_accuracy: 0.8889\n",
            "Epoch 33/100\n",
            "6/6 [==============================] - 0s 26ms/step - loss: 0.4622 - categorical_accuracy: 0.8889 - val_loss: 0.4716 - val_categorical_accuracy: 0.8889\n",
            "Epoch 34/100\n",
            "6/6 [==============================] - 0s 26ms/step - loss: 0.4488 - categorical_accuracy: 0.8778 - val_loss: 0.5093 - val_categorical_accuracy: 0.8889\n",
            "Epoch 35/100\n",
            "6/6 [==============================] - 0s 24ms/step - loss: 0.4263 - categorical_accuracy: 0.8722 - val_loss: 0.4436 - val_categorical_accuracy: 0.8889\n",
            "Epoch 36/100\n",
            "6/6 [==============================] - 0s 23ms/step - loss: 0.3966 - categorical_accuracy: 0.9500 - val_loss: 0.4270 - val_categorical_accuracy: 0.8889\n",
            "Epoch 37/100\n",
            "6/6 [==============================] - 0s 25ms/step - loss: 0.3777 - categorical_accuracy: 0.9444 - val_loss: 0.4348 - val_categorical_accuracy: 0.8889\n",
            "Epoch 38/100\n",
            "6/6 [==============================] - 0s 25ms/step - loss: 0.3701 - categorical_accuracy: 0.9389 - val_loss: 0.5302 - val_categorical_accuracy: 0.6667\n",
            "Epoch 39/100\n",
            "6/6 [==============================] - 0s 25ms/step - loss: 0.3434 - categorical_accuracy: 0.9444 - val_loss: 0.4246 - val_categorical_accuracy: 0.8333\n",
            "Epoch 40/100\n",
            "6/6 [==============================] - 0s 25ms/step - loss: 0.3350 - categorical_accuracy: 0.9500 - val_loss: 0.4152 - val_categorical_accuracy: 0.8889\n",
            "Epoch 41/100\n",
            "6/6 [==============================] - 0s 24ms/step - loss: 0.3244 - categorical_accuracy: 0.9722 - val_loss: 0.3915 - val_categorical_accuracy: 0.8889\n",
            "Epoch 42/100\n",
            "6/6 [==============================] - 0s 25ms/step - loss: 0.2961 - categorical_accuracy: 0.9722 - val_loss: 0.4578 - val_categorical_accuracy: 0.7778\n",
            "Epoch 43/100\n",
            "6/6 [==============================] - 0s 23ms/step - loss: 0.2845 - categorical_accuracy: 0.9889 - val_loss: 0.3988 - val_categorical_accuracy: 0.8889\n",
            "Epoch 44/100\n",
            "6/6 [==============================] - 0s 23ms/step - loss: 0.2635 - categorical_accuracy: 0.9944 - val_loss: 0.4196 - val_categorical_accuracy: 0.8889\n",
            "Epoch 45/100\n",
            "6/6 [==============================] - 0s 24ms/step - loss: 0.2620 - categorical_accuracy: 0.9778 - val_loss: 0.4807 - val_categorical_accuracy: 0.7222\n",
            "Epoch 46/100\n",
            "6/6 [==============================] - 0s 23ms/step - loss: 0.2272 - categorical_accuracy: 1.0000 - val_loss: 0.3741 - val_categorical_accuracy: 0.8889\n",
            "Epoch 47/100\n",
            "6/6 [==============================] - 0s 26ms/step - loss: 0.2190 - categorical_accuracy: 0.9889 - val_loss: 0.4308 - val_categorical_accuracy: 0.8889\n",
            "Epoch 48/100\n",
            "6/6 [==============================] - 0s 25ms/step - loss: 0.2037 - categorical_accuracy: 0.9944 - val_loss: 0.3845 - val_categorical_accuracy: 0.9444\n",
            "Epoch 49/100\n",
            "6/6 [==============================] - 0s 24ms/step - loss: 0.1933 - categorical_accuracy: 0.9833 - val_loss: 0.3734 - val_categorical_accuracy: 0.9444\n",
            "Epoch 50/100\n",
            "6/6 [==============================] - 0s 24ms/step - loss: 0.1750 - categorical_accuracy: 0.9944 - val_loss: 0.3837 - val_categorical_accuracy: 0.9444\n",
            "Epoch 51/100\n",
            "6/6 [==============================] - 0s 25ms/step - loss: 0.1717 - categorical_accuracy: 0.9889 - val_loss: 0.4777 - val_categorical_accuracy: 0.7778\n",
            "Epoch 52/100\n",
            "6/6 [==============================] - 0s 23ms/step - loss: 0.1580 - categorical_accuracy: 0.9889 - val_loss: 0.4607 - val_categorical_accuracy: 0.7778\n",
            "Epoch 53/100\n",
            "6/6 [==============================] - 0s 23ms/step - loss: 0.1477 - categorical_accuracy: 1.0000 - val_loss: 0.3412 - val_categorical_accuracy: 0.8889\n",
            "Epoch 54/100\n",
            "6/6 [==============================] - 0s 22ms/step - loss: 0.1298 - categorical_accuracy: 1.0000 - val_loss: 0.3367 - val_categorical_accuracy: 0.9444\n",
            "Epoch 55/100\n",
            "6/6 [==============================] - 0s 24ms/step - loss: 0.1195 - categorical_accuracy: 0.9944 - val_loss: 0.3225 - val_categorical_accuracy: 0.8889\n",
            "Epoch 56/100\n",
            "6/6 [==============================] - 0s 22ms/step - loss: 0.1111 - categorical_accuracy: 1.0000 - val_loss: 0.3502 - val_categorical_accuracy: 0.8889\n",
            "Epoch 57/100\n",
            "6/6 [==============================] - 0s 24ms/step - loss: 0.1110 - categorical_accuracy: 0.9944 - val_loss: 0.3902 - val_categorical_accuracy: 0.8333\n",
            "Epoch 58/100\n",
            "6/6 [==============================] - 0s 26ms/step - loss: 0.1047 - categorical_accuracy: 1.0000 - val_loss: 0.3428 - val_categorical_accuracy: 0.8889\n",
            "Epoch 59/100\n",
            "6/6 [==============================] - 0s 20ms/step - loss: 0.1098 - categorical_accuracy: 0.9889 - val_loss: 0.5548 - val_categorical_accuracy: 0.7778\n",
            "Epoch 60/100\n",
            "6/6 [==============================] - 0s 19ms/step - loss: 0.0957 - categorical_accuracy: 1.0000 - val_loss: 0.2781 - val_categorical_accuracy: 0.8889\n",
            "Epoch 61/100\n",
            "6/6 [==============================] - 0s 21ms/step - loss: 0.0954 - categorical_accuracy: 0.9889 - val_loss: 0.4630 - val_categorical_accuracy: 0.7778\n",
            "Epoch 62/100\n",
            "6/6 [==============================] - 0s 19ms/step - loss: 0.0837 - categorical_accuracy: 0.9944 - val_loss: 0.3659 - val_categorical_accuracy: 0.8333\n",
            "Epoch 63/100\n",
            "6/6 [==============================] - 0s 18ms/step - loss: 0.0759 - categorical_accuracy: 1.0000 - val_loss: 0.3016 - val_categorical_accuracy: 0.8889\n",
            "Epoch 64/100\n",
            "6/6 [==============================] - 0s 17ms/step - loss: 0.0800 - categorical_accuracy: 0.9944 - val_loss: 0.3300 - val_categorical_accuracy: 0.8889\n",
            "Epoch 65/100\n",
            "6/6 [==============================] - 0s 17ms/step - loss: 0.0682 - categorical_accuracy: 1.0000 - val_loss: 0.5321 - val_categorical_accuracy: 0.7222\n",
            "Epoch 66/100\n",
            "6/6 [==============================] - 0s 16ms/step - loss: 0.0696 - categorical_accuracy: 0.9944 - val_loss: 0.3848 - val_categorical_accuracy: 0.8889\n",
            "Epoch 67/100\n",
            "6/6 [==============================] - 0s 16ms/step - loss: 0.0740 - categorical_accuracy: 1.0000 - val_loss: 0.5627 - val_categorical_accuracy: 0.7222\n",
            "Epoch 68/100\n",
            "6/6 [==============================] - 0s 18ms/step - loss: 0.0616 - categorical_accuracy: 1.0000 - val_loss: 0.2813 - val_categorical_accuracy: 0.8889\n",
            "Epoch 69/100\n",
            "6/6 [==============================] - 0s 17ms/step - loss: 0.0522 - categorical_accuracy: 1.0000 - val_loss: 0.4036 - val_categorical_accuracy: 0.8889\n",
            "Epoch 70/100\n",
            "6/6 [==============================] - 0s 16ms/step - loss: 0.0505 - categorical_accuracy: 1.0000 - val_loss: 0.2887 - val_categorical_accuracy: 0.8889\n",
            "Epoch 71/100\n",
            "6/6 [==============================] - 0s 18ms/step - loss: 0.0482 - categorical_accuracy: 1.0000 - val_loss: 0.4292 - val_categorical_accuracy: 0.8333\n",
            "Epoch 72/100\n",
            "6/6 [==============================] - 0s 19ms/step - loss: 0.0453 - categorical_accuracy: 1.0000 - val_loss: 0.4599 - val_categorical_accuracy: 0.7778\n",
            "Epoch 73/100\n",
            "6/6 [==============================] - 0s 17ms/step - loss: 0.0437 - categorical_accuracy: 1.0000 - val_loss: 0.3456 - val_categorical_accuracy: 0.8889\n",
            "Epoch 74/100\n",
            "6/6 [==============================] - 0s 19ms/step - loss: 0.0402 - categorical_accuracy: 1.0000 - val_loss: 0.3469 - val_categorical_accuracy: 0.8889\n",
            "Epoch 75/100\n",
            "6/6 [==============================] - 0s 19ms/step - loss: 0.0405 - categorical_accuracy: 1.0000 - val_loss: 0.3916 - val_categorical_accuracy: 0.8333\n",
            "Epoch 76/100\n",
            "6/6 [==============================] - 0s 16ms/step - loss: 0.0369 - categorical_accuracy: 1.0000 - val_loss: 0.3466 - val_categorical_accuracy: 0.8333\n",
            "Epoch 77/100\n",
            "6/6 [==============================] - 0s 20ms/step - loss: 0.0331 - categorical_accuracy: 1.0000 - val_loss: 0.3565 - val_categorical_accuracy: 0.8333\n",
            "Epoch 78/100\n",
            "6/6 [==============================] - 0s 20ms/step - loss: 0.0354 - categorical_accuracy: 1.0000 - val_loss: 0.2732 - val_categorical_accuracy: 0.8333\n",
            "Epoch 79/100\n",
            "6/6 [==============================] - 0s 18ms/step - loss: 0.0315 - categorical_accuracy: 1.0000 - val_loss: 0.2689 - val_categorical_accuracy: 0.8333\n",
            "Epoch 80/100\n",
            "6/6 [==============================] - 0s 20ms/step - loss: 0.0313 - categorical_accuracy: 1.0000 - val_loss: 0.2526 - val_categorical_accuracy: 0.8333\n",
            "Epoch 81/100\n",
            "6/6 [==============================] - 0s 17ms/step - loss: 0.0320 - categorical_accuracy: 1.0000 - val_loss: 0.3254 - val_categorical_accuracy: 0.8333\n",
            "Epoch 82/100\n",
            "6/6 [==============================] - 0s 19ms/step - loss: 0.0291 - categorical_accuracy: 1.0000 - val_loss: 0.3387 - val_categorical_accuracy: 0.8333\n",
            "Epoch 83/100\n",
            "6/6 [==============================] - 0s 16ms/step - loss: 0.0262 - categorical_accuracy: 1.0000 - val_loss: 0.2995 - val_categorical_accuracy: 0.8333\n",
            "Epoch 84/100\n",
            "6/6 [==============================] - 0s 20ms/step - loss: 0.0254 - categorical_accuracy: 1.0000 - val_loss: 0.3215 - val_categorical_accuracy: 0.8333\n",
            "Epoch 85/100\n",
            "6/6 [==============================] - 0s 17ms/step - loss: 0.0249 - categorical_accuracy: 1.0000 - val_loss: 0.3342 - val_categorical_accuracy: 0.8333\n",
            "Epoch 86/100\n",
            "6/6 [==============================] - 0s 20ms/step - loss: 0.0233 - categorical_accuracy: 1.0000 - val_loss: 0.3838 - val_categorical_accuracy: 0.8333\n",
            "Epoch 87/100\n",
            "6/6 [==============================] - 0s 18ms/step - loss: 0.0239 - categorical_accuracy: 1.0000 - val_loss: 0.2889 - val_categorical_accuracy: 0.8889\n",
            "Epoch 88/100\n",
            "6/6 [==============================] - 0s 21ms/step - loss: 0.0251 - categorical_accuracy: 1.0000 - val_loss: 0.2729 - val_categorical_accuracy: 0.8333\n",
            "Epoch 89/100\n",
            "6/6 [==============================] - 0s 20ms/step - loss: 0.0206 - categorical_accuracy: 1.0000 - val_loss: 0.2086 - val_categorical_accuracy: 0.8889\n",
            "Epoch 90/100\n",
            "6/6 [==============================] - 0s 17ms/step - loss: 0.0216 - categorical_accuracy: 1.0000 - val_loss: 0.3154 - val_categorical_accuracy: 0.8333\n",
            "Epoch 91/100\n",
            "6/6 [==============================] - 0s 20ms/step - loss: 0.0209 - categorical_accuracy: 1.0000 - val_loss: 0.2496 - val_categorical_accuracy: 0.8333\n",
            "Epoch 92/100\n",
            "6/6 [==============================] - 0s 20ms/step - loss: 0.0198 - categorical_accuracy: 1.0000 - val_loss: 0.2686 - val_categorical_accuracy: 0.8333\n",
            "Epoch 93/100\n",
            "6/6 [==============================] - 0s 18ms/step - loss: 0.0184 - categorical_accuracy: 1.0000 - val_loss: 0.3919 - val_categorical_accuracy: 0.8333\n",
            "Epoch 94/100\n",
            "6/6 [==============================] - 0s 17ms/step - loss: 0.0218 - categorical_accuracy: 1.0000 - val_loss: 0.2958 - val_categorical_accuracy: 0.8333\n",
            "Epoch 95/100\n",
            "6/6 [==============================] - 0s 18ms/step - loss: 0.0185 - categorical_accuracy: 1.0000 - val_loss: 0.2975 - val_categorical_accuracy: 0.8333\n",
            "Epoch 96/100\n",
            "6/6 [==============================] - 0s 17ms/step - loss: 0.0168 - categorical_accuracy: 1.0000 - val_loss: 0.2509 - val_categorical_accuracy: 0.8333\n",
            "Epoch 97/100\n",
            "6/6 [==============================] - 0s 19ms/step - loss: 0.0173 - categorical_accuracy: 1.0000 - val_loss: 0.3063 - val_categorical_accuracy: 0.8333\n",
            "Epoch 98/100\n",
            "6/6 [==============================] - 0s 20ms/step - loss: 0.0159 - categorical_accuracy: 1.0000 - val_loss: 0.2888 - val_categorical_accuracy: 0.8333\n",
            "Epoch 99/100\n",
            "6/6 [==============================] - 0s 17ms/step - loss: 0.0181 - categorical_accuracy: 1.0000 - val_loss: 0.3576 - val_categorical_accuracy: 0.8333\n",
            "Epoch 100/100\n",
            "6/6 [==============================] - 0s 20ms/step - loss: 0.0176 - categorical_accuracy: 1.0000 - val_loss: 0.2176 - val_categorical_accuracy: 0.8889\n"
          ]
        }
      ]
    },
    {
      "cell_type": "code",
      "source": [
        "model.summary()\n",
        "model.save('/content/Tutorial_LSTM_MP/Weight_model/actionGRUNikoCheatDataReal_ReportGRU2.h5')\n",
        "plot_graphs(history, 'categorical_accuracy')\n",
        "plot_graphs(history, 'loss')"
      ],
      "metadata": {
        "colab": {
          "base_uri": "https://localhost:8080/",
          "height": 975
        },
        "outputId": "26e64773-765a-4a28-fa3c-c6616c35217e",
        "id": "t4-Pr0s4WAGN"
      },
      "execution_count": 49,
      "outputs": [
        {
          "output_type": "stream",
          "name": "stdout",
          "text": [
            "Model: \"sequential_4\"\n",
            "_________________________________________________________________\n",
            " Layer (type)                Output Shape              Param #   \n",
            "=================================================================\n",
            " gru_3 (GRU)                 (None, 50, 256)           209664    \n",
            "                                                                 \n",
            " dropout_8 (Dropout)         (None, 50, 256)           0         \n",
            "                                                                 \n",
            " gru_4 (GRU)                 (None, 50, 128)           148224    \n",
            "                                                                 \n",
            " dropout_9 (Dropout)         (None, 50, 128)           0         \n",
            "                                                                 \n",
            " gru_5 (GRU)                 (None, 64)                37248     \n",
            "                                                                 \n",
            " dense_12 (Dense)            (None, 64)                4160      \n",
            "                                                                 \n",
            " dense_13 (Dense)            (None, 32)                2080      \n",
            "                                                                 \n",
            " dense_14 (Dense)            (None, 6)                 198       \n",
            "                                                                 \n",
            "=================================================================\n",
            "Total params: 401,574\n",
            "Trainable params: 401,574\n",
            "Non-trainable params: 0\n",
            "_________________________________________________________________\n"
          ]
        },
        {
          "output_type": "display_data",
          "data": {
            "text/plain": [
              "<Figure size 432x288 with 1 Axes>"
            ],
            "image/png": "[encoded data removed]"
          },
          "metadata": {
            "needs_background": "light"
          }
        },
        {
          "output_type": "display_data",
          "data": {
            "text/plain": [
              "<Figure size 432x288 with 1 Axes>"
            ],
            "image/png": "[encoded data removed]"
          },
          "metadata": {
            "needs_background": "light"
          }
        }
      ]
    },
    {
      "cell_type": "code",
      "source": [
        "y_test_predict = model.predict(X_test)\n",
        "ytrue = np.argmax(y_test, axis=1).tolist()\n",
        "yhat = np.argmax(y_test_predict, axis=1).tolist()\n",
        "multilabel_confusion_matrix(ytrue, yhat)\n",
        "accuracy_score(ytrue, yhat)"
      ],
      "metadata": {
        "colab": {
          "base_uri": "https://localhost:8080/"
        },
        "outputId": "aa54664d-ca00-4441-cb80-ca8d9e64d207",
        "id": "h3HUC8DiWFin"
      },
      "execution_count": 50,
      "outputs": [
        {
          "output_type": "execute_result",
          "data": {
            "text/plain": [
              "0.9277777777777778"
            ]
          },
          "metadata": {},
          "execution_count": 50
        }
      ]
    },
    {
      "cell_type": "markdown",
      "metadata": {
        "id": "WHs0lNJwWZ3Y"
      },
      "source": [
        "## **Build, Train and Test Neural Network 3**"
      ]
    },
    {
      "cell_type": "code",
      "execution_count": 51,
      "metadata": {
        "id": "0rwJd_ScWZ3h"
      },
      "outputs": [],
      "source": [
        "log_dir = os.path.join('Logs')\n",
        "tb_callback = TensorBoard(log_dir=log_dir)"
      ]
    },
    {
      "cell_type": "code",
      "source": [
        "model = Sequential()\n",
        "model.add(GRU(128, return_sequences=True, activation='tanh', input_shape=(50,15)))\n",
        "model.add(Dropout(0.2))\n",
        "model.add(GRU(256, return_sequences=True, activation='tanh'))\n",
        "model.add(Dropout(0.2))\n",
        "model.add(GRU(128, return_sequences=False, activation='tanh'))\n",
        "model.add(Dense(64, activation='relu'))\n",
        "model.add(Dense(32, activation='relu'))\n",
        "model.add(Dense(actions.shape[0], activation='softmax'))"
      ],
      "metadata": {
        "id": "YKga-mygWZ3i"
      },
      "execution_count": 52,
      "outputs": []
    },
    {
      "cell_type": "code",
      "source": [
        "model.compile(optimizer='adam', loss='categorical_crossentropy', metrics=['categorical_accuracy'])\n",
        "model.optimizer.lr.assign(0.0001)"
      ],
      "metadata": {
        "colab": {
          "base_uri": "https://localhost:8080/"
        },
        "outputId": "2be0485b-bd36-487f-f11a-84556fe81cee",
        "id": "mcfnz6ULWZ3i"
      },
      "execution_count": 53,
      "outputs": [
        {
          "output_type": "execute_result",
          "data": {
            "text/plain": [
              "<tf.Variable 'UnreadVariable' shape=() dtype=float32, numpy=1e-04>"
            ]
          },
          "metadata": {},
          "execution_count": 53
        }
      ]
    },
    {
      "cell_type": "code",
      "source": [
        "history = model.fit(X_train, y_train, epochs=100, callbacks=[tb_callback], validation_data = (X_Valid, y_Valid))"
      ],
      "metadata": {
        "colab": {
          "base_uri": "https://localhost:8080/"
        },
        "outputId": "db42ec1f-c1f0-4c8c-d355-d6c8e4f49921",
        "id": "jYWJvalUWZ3i"
      },
      "execution_count": 54,
      "outputs": [
        {
          "output_type": "stream",
          "name": "stdout",
          "text": [
            "Epoch 1/100\n",
            "6/6 [==============================] - 5s 217ms/step - loss: 1.7757 - categorical_accuracy: 0.1722 - val_loss: 1.6811 - val_categorical_accuracy: 0.2778\n",
            "Epoch 2/100\n",
            "6/6 [==============================] - 0s 25ms/step - loss: 1.6597 - categorical_accuracy: 0.3222 - val_loss: 1.5940 - val_categorical_accuracy: 0.3889\n",
            "Epoch 3/100\n",
            "6/6 [==============================] - 0s 23ms/step - loss: 1.5568 - categorical_accuracy: 0.4833 - val_loss: 1.4915 - val_categorical_accuracy: 0.5556\n",
            "Epoch 4/100\n",
            "6/6 [==============================] - 0s 20ms/step - loss: 1.4639 - categorical_accuracy: 0.5833 - val_loss: 1.3846 - val_categorical_accuracy: 0.6667\n",
            "Epoch 5/100\n",
            "6/6 [==============================] - 0s 20ms/step - loss: 1.3740 - categorical_accuracy: 0.6222 - val_loss: 1.2992 - val_categorical_accuracy: 0.6667\n",
            "Epoch 6/100\n",
            "6/6 [==============================] - 0s 19ms/step - loss: 1.2971 - categorical_accuracy: 0.6333 - val_loss: 1.2289 - val_categorical_accuracy: 0.6667\n",
            "Epoch 7/100\n",
            "6/6 [==============================] - 0s 19ms/step - loss: 1.2334 - categorical_accuracy: 0.6056 - val_loss: 1.1552 - val_categorical_accuracy: 0.6667\n",
            "Epoch 8/100\n",
            "6/6 [==============================] - 0s 19ms/step - loss: 1.1681 - categorical_accuracy: 0.6278 - val_loss: 1.0901 - val_categorical_accuracy: 0.6111\n",
            "Epoch 9/100\n",
            "6/6 [==============================] - 0s 21ms/step - loss: 1.0982 - categorical_accuracy: 0.6889 - val_loss: 1.0077 - val_categorical_accuracy: 0.6111\n",
            "Epoch 10/100\n",
            "6/6 [==============================] - 0s 23ms/step - loss: 1.0537 - categorical_accuracy: 0.6833 - val_loss: 0.9436 - val_categorical_accuracy: 0.7222\n",
            "Epoch 11/100\n",
            "6/6 [==============================] - 0s 18ms/step - loss: 0.9849 - categorical_accuracy: 0.7000 - val_loss: 0.9004 - val_categorical_accuracy: 0.6667\n",
            "Epoch 12/100\n",
            "6/6 [==============================] - 0s 20ms/step - loss: 0.9394 - categorical_accuracy: 0.7000 - val_loss: 0.8622 - val_categorical_accuracy: 0.6667\n",
            "Epoch 13/100\n",
            "6/6 [==============================] - 0s 17ms/step - loss: 0.9067 - categorical_accuracy: 0.6944 - val_loss: 0.8077 - val_categorical_accuracy: 0.6667\n",
            "Epoch 14/100\n",
            "6/6 [==============================] - 0s 20ms/step - loss: 0.8570 - categorical_accuracy: 0.7444 - val_loss: 0.7664 - val_categorical_accuracy: 0.6667\n",
            "Epoch 15/100\n",
            "6/6 [==============================] - 0s 17ms/step - loss: 0.8381 - categorical_accuracy: 0.7278 - val_loss: 0.7347 - val_categorical_accuracy: 0.6111\n",
            "Epoch 16/100\n",
            "6/6 [==============================] - 0s 17ms/step - loss: 0.7881 - categorical_accuracy: 0.7778 - val_loss: 0.7120 - val_categorical_accuracy: 0.6667\n",
            "Epoch 17/100\n",
            "6/6 [==============================] - 0s 20ms/step - loss: 0.7713 - categorical_accuracy: 0.7111 - val_loss: 0.7100 - val_categorical_accuracy: 0.6667\n",
            "Epoch 18/100\n",
            "6/6 [==============================] - 0s 20ms/step - loss: 0.7353 - categorical_accuracy: 0.7833 - val_loss: 0.6658 - val_categorical_accuracy: 0.6667\n",
            "Epoch 19/100\n",
            "6/6 [==============================] - 0s 18ms/step - loss: 0.7010 - categorical_accuracy: 0.8000 - val_loss: 0.6472 - val_categorical_accuracy: 0.6667\n",
            "Epoch 20/100\n",
            "6/6 [==============================] - 0s 18ms/step - loss: 0.6756 - categorical_accuracy: 0.8056 - val_loss: 0.6630 - val_categorical_accuracy: 0.6667\n",
            "Epoch 21/100\n",
            "6/6 [==============================] - 0s 20ms/step - loss: 0.6547 - categorical_accuracy: 0.7833 - val_loss: 0.6127 - val_categorical_accuracy: 0.7778\n",
            "Epoch 22/100\n",
            "6/6 [==============================] - 0s 21ms/step - loss: 0.6207 - categorical_accuracy: 0.8222 - val_loss: 0.6125 - val_categorical_accuracy: 0.6667\n",
            "Epoch 23/100\n",
            "6/6 [==============================] - 0s 19ms/step - loss: 0.6107 - categorical_accuracy: 0.8278 - val_loss: 0.6218 - val_categorical_accuracy: 0.6667\n",
            "Epoch 24/100\n",
            "6/6 [==============================] - 0s 18ms/step - loss: 0.5758 - categorical_accuracy: 0.8500 - val_loss: 0.5744 - val_categorical_accuracy: 0.7778\n",
            "Epoch 25/100\n",
            "6/6 [==============================] - 0s 17ms/step - loss: 0.5543 - categorical_accuracy: 0.8278 - val_loss: 0.5996 - val_categorical_accuracy: 0.6667\n",
            "Epoch 26/100\n",
            "6/6 [==============================] - 0s 21ms/step - loss: 0.5398 - categorical_accuracy: 0.8556 - val_loss: 0.5638 - val_categorical_accuracy: 0.7222\n",
            "Epoch 27/100\n",
            "6/6 [==============================] - 0s 17ms/step - loss: 0.5049 - categorical_accuracy: 0.8667 - val_loss: 0.5900 - val_categorical_accuracy: 0.7222\n",
            "Epoch 28/100\n",
            "6/6 [==============================] - 0s 22ms/step - loss: 0.4876 - categorical_accuracy: 0.8667 - val_loss: 0.5632 - val_categorical_accuracy: 0.7222\n",
            "Epoch 29/100\n",
            "6/6 [==============================] - 0s 21ms/step - loss: 0.4624 - categorical_accuracy: 0.8556 - val_loss: 0.5152 - val_categorical_accuracy: 0.7778\n",
            "Epoch 30/100\n",
            "6/6 [==============================] - 0s 18ms/step - loss: 0.4488 - categorical_accuracy: 0.8722 - val_loss: 0.5500 - val_categorical_accuracy: 0.7778\n",
            "Epoch 31/100\n",
            "6/6 [==============================] - 0s 17ms/step - loss: 0.4363 - categorical_accuracy: 0.8667 - val_loss: 0.4429 - val_categorical_accuracy: 0.7778\n",
            "Epoch 32/100\n",
            "6/6 [==============================] - 0s 21ms/step - loss: 0.3979 - categorical_accuracy: 0.9000 - val_loss: 0.4904 - val_categorical_accuracy: 0.7778\n",
            "Epoch 33/100\n",
            "6/6 [==============================] - 0s 18ms/step - loss: 0.3719 - categorical_accuracy: 0.8889 - val_loss: 0.3850 - val_categorical_accuracy: 0.8889\n",
            "Epoch 34/100\n",
            "6/6 [==============================] - 0s 20ms/step - loss: 0.3573 - categorical_accuracy: 0.9111 - val_loss: 0.4282 - val_categorical_accuracy: 0.8333\n",
            "Epoch 35/100\n",
            "6/6 [==============================] - 0s 20ms/step - loss: 0.3354 - categorical_accuracy: 0.9000 - val_loss: 0.4360 - val_categorical_accuracy: 0.8333\n",
            "Epoch 36/100\n",
            "6/6 [==============================] - 0s 17ms/step - loss: 0.3230 - categorical_accuracy: 0.9111 - val_loss: 0.3282 - val_categorical_accuracy: 0.9444\n",
            "Epoch 37/100\n",
            "6/6 [==============================] - 0s 18ms/step - loss: 0.2934 - categorical_accuracy: 0.9222 - val_loss: 0.3416 - val_categorical_accuracy: 0.8889\n",
            "Epoch 38/100\n",
            "6/6 [==============================] - 0s 24ms/step - loss: 0.2754 - categorical_accuracy: 0.9444 - val_loss: 0.3196 - val_categorical_accuracy: 1.0000\n",
            "Epoch 39/100\n",
            "6/6 [==============================] - 0s 26ms/step - loss: 0.2516 - categorical_accuracy: 0.9556 - val_loss: 0.3311 - val_categorical_accuracy: 0.8889\n",
            "Epoch 40/100\n",
            "6/6 [==============================] - 0s 26ms/step - loss: 0.2277 - categorical_accuracy: 0.9667 - val_loss: 0.2656 - val_categorical_accuracy: 0.9444\n",
            "Epoch 41/100\n",
            "6/6 [==============================] - 0s 27ms/step - loss: 0.2136 - categorical_accuracy: 0.9556 - val_loss: 0.2424 - val_categorical_accuracy: 1.0000\n",
            "Epoch 42/100\n",
            "6/6 [==============================] - 0s 25ms/step - loss: 0.2008 - categorical_accuracy: 0.9500 - val_loss: 0.3913 - val_categorical_accuracy: 0.8889\n",
            "Epoch 43/100\n",
            "6/6 [==============================] - 0s 25ms/step - loss: 0.1938 - categorical_accuracy: 0.9611 - val_loss: 0.2724 - val_categorical_accuracy: 1.0000\n",
            "Epoch 44/100\n",
            "6/6 [==============================] - 0s 24ms/step - loss: 0.1465 - categorical_accuracy: 0.9833 - val_loss: 0.2780 - val_categorical_accuracy: 0.8889\n",
            "Epoch 45/100\n",
            "6/6 [==============================] - 0s 25ms/step - loss: 0.1502 - categorical_accuracy: 0.9778 - val_loss: 0.3327 - val_categorical_accuracy: 0.8889\n",
            "Epoch 46/100\n",
            "6/6 [==============================] - 0s 25ms/step - loss: 0.1530 - categorical_accuracy: 0.9444 - val_loss: 0.1997 - val_categorical_accuracy: 1.0000\n",
            "Epoch 47/100\n",
            "6/6 [==============================] - 0s 26ms/step - loss: 0.1409 - categorical_accuracy: 0.9833 - val_loss: 0.2519 - val_categorical_accuracy: 0.8889\n",
            "Epoch 48/100\n",
            "6/6 [==============================] - 0s 23ms/step - loss: 0.1350 - categorical_accuracy: 0.9722 - val_loss: 0.3325 - val_categorical_accuracy: 0.8889\n",
            "Epoch 49/100\n",
            "6/6 [==============================] - 0s 25ms/step - loss: 0.1143 - categorical_accuracy: 0.9889 - val_loss: 0.1490 - val_categorical_accuracy: 1.0000\n",
            "Epoch 50/100\n",
            "6/6 [==============================] - 0s 23ms/step - loss: 0.1120 - categorical_accuracy: 0.9778 - val_loss: 0.1111 - val_categorical_accuracy: 1.0000\n",
            "Epoch 51/100\n",
            "6/6 [==============================] - 0s 25ms/step - loss: 0.1181 - categorical_accuracy: 0.9556 - val_loss: 0.3150 - val_categorical_accuracy: 0.8889\n",
            "Epoch 52/100\n",
            "6/6 [==============================] - 0s 24ms/step - loss: 0.0970 - categorical_accuracy: 0.9833 - val_loss: 0.2160 - val_categorical_accuracy: 0.8889\n",
            "Epoch 53/100\n",
            "6/6 [==============================] - 0s 24ms/step - loss: 0.0879 - categorical_accuracy: 0.9889 - val_loss: 0.1902 - val_categorical_accuracy: 0.9444\n",
            "Epoch 54/100\n",
            "6/6 [==============================] - 0s 22ms/step - loss: 0.0767 - categorical_accuracy: 0.9944 - val_loss: 0.1133 - val_categorical_accuracy: 1.0000\n",
            "Epoch 55/100\n",
            "6/6 [==============================] - 0s 26ms/step - loss: 0.0762 - categorical_accuracy: 0.9944 - val_loss: 0.1744 - val_categorical_accuracy: 1.0000\n",
            "Epoch 56/100\n",
            "6/6 [==============================] - 0s 23ms/step - loss: 0.0735 - categorical_accuracy: 0.9944 - val_loss: 0.1324 - val_categorical_accuracy: 1.0000\n",
            "Epoch 57/100\n",
            "6/6 [==============================] - 0s 23ms/step - loss: 0.0554 - categorical_accuracy: 0.9944 - val_loss: 0.1673 - val_categorical_accuracy: 1.0000\n",
            "Epoch 58/100\n",
            "6/6 [==============================] - 0s 26ms/step - loss: 0.0580 - categorical_accuracy: 1.0000 - val_loss: 0.1053 - val_categorical_accuracy: 1.0000\n",
            "Epoch 59/100\n",
            "6/6 [==============================] - 0s 22ms/step - loss: 0.0622 - categorical_accuracy: 0.9778 - val_loss: 0.1009 - val_categorical_accuracy: 1.0000\n",
            "Epoch 60/100\n",
            "6/6 [==============================] - 0s 23ms/step - loss: 0.0492 - categorical_accuracy: 0.9944 - val_loss: 0.1055 - val_categorical_accuracy: 1.0000\n",
            "Epoch 61/100\n",
            "6/6 [==============================] - 0s 23ms/step - loss: 0.0390 - categorical_accuracy: 1.0000 - val_loss: 0.0976 - val_categorical_accuracy: 1.0000\n",
            "Epoch 62/100\n",
            "6/6 [==============================] - 0s 24ms/step - loss: 0.0438 - categorical_accuracy: 0.9944 - val_loss: 0.0789 - val_categorical_accuracy: 1.0000\n",
            "Epoch 63/100\n",
            "6/6 [==============================] - 0s 25ms/step - loss: 0.0424 - categorical_accuracy: 1.0000 - val_loss: 0.1846 - val_categorical_accuracy: 0.9444\n",
            "Epoch 64/100\n",
            "6/6 [==============================] - 0s 23ms/step - loss: 0.0402 - categorical_accuracy: 1.0000 - val_loss: 0.0679 - val_categorical_accuracy: 1.0000\n",
            "Epoch 65/100\n",
            "6/6 [==============================] - 0s 22ms/step - loss: 0.0344 - categorical_accuracy: 1.0000 - val_loss: 0.1460 - val_categorical_accuracy: 0.9444\n",
            "Epoch 66/100\n",
            "6/6 [==============================] - 0s 26ms/step - loss: 0.0415 - categorical_accuracy: 1.0000 - val_loss: 0.0662 - val_categorical_accuracy: 1.0000\n",
            "Epoch 67/100\n",
            "6/6 [==============================] - 0s 26ms/step - loss: 0.0277 - categorical_accuracy: 1.0000 - val_loss: 0.0882 - val_categorical_accuracy: 1.0000\n",
            "Epoch 68/100\n",
            "6/6 [==============================] - 0s 21ms/step - loss: 0.0300 - categorical_accuracy: 1.0000 - val_loss: 0.0693 - val_categorical_accuracy: 1.0000\n",
            "Epoch 69/100\n",
            "6/6 [==============================] - 0s 22ms/step - loss: 0.0278 - categorical_accuracy: 1.0000 - val_loss: 0.0816 - val_categorical_accuracy: 1.0000\n",
            "Epoch 70/100\n",
            "6/6 [==============================] - 0s 25ms/step - loss: 0.0224 - categorical_accuracy: 1.0000 - val_loss: 0.0762 - val_categorical_accuracy: 1.0000\n",
            "Epoch 71/100\n",
            "6/6 [==============================] - 0s 24ms/step - loss: 0.0298 - categorical_accuracy: 0.9944 - val_loss: 0.0718 - val_categorical_accuracy: 1.0000\n",
            "Epoch 72/100\n",
            "6/6 [==============================] - 0s 23ms/step - loss: 0.0305 - categorical_accuracy: 1.0000 - val_loss: 0.0613 - val_categorical_accuracy: 1.0000\n",
            "Epoch 73/100\n",
            "6/6 [==============================] - 0s 25ms/step - loss: 0.0391 - categorical_accuracy: 0.9944 - val_loss: 0.0996 - val_categorical_accuracy: 1.0000\n",
            "Epoch 74/100\n",
            "6/6 [==============================] - 0s 24ms/step - loss: 0.0210 - categorical_accuracy: 1.0000 - val_loss: 0.0928 - val_categorical_accuracy: 1.0000\n",
            "Epoch 75/100\n",
            "6/6 [==============================] - 0s 23ms/step - loss: 0.0242 - categorical_accuracy: 1.0000 - val_loss: 0.0704 - val_categorical_accuracy: 1.0000\n",
            "Epoch 76/100\n",
            "6/6 [==============================] - 0s 26ms/step - loss: 0.0226 - categorical_accuracy: 1.0000 - val_loss: 0.0978 - val_categorical_accuracy: 1.0000\n",
            "Epoch 77/100\n",
            "6/6 [==============================] - 0s 24ms/step - loss: 0.0213 - categorical_accuracy: 1.0000 - val_loss: 0.0590 - val_categorical_accuracy: 1.0000\n",
            "Epoch 78/100\n",
            "6/6 [==============================] - 0s 22ms/step - loss: 0.0175 - categorical_accuracy: 1.0000 - val_loss: 0.0597 - val_categorical_accuracy: 1.0000\n",
            "Epoch 79/100\n",
            "6/6 [==============================] - 0s 19ms/step - loss: 0.0162 - categorical_accuracy: 1.0000 - val_loss: 0.0482 - val_categorical_accuracy: 1.0000\n",
            "Epoch 80/100\n",
            "6/6 [==============================] - 0s 21ms/step - loss: 0.0158 - categorical_accuracy: 1.0000 - val_loss: 0.0369 - val_categorical_accuracy: 1.0000\n",
            "Epoch 81/100\n",
            "6/6 [==============================] - 0s 20ms/step - loss: 0.0142 - categorical_accuracy: 1.0000 - val_loss: 0.0415 - val_categorical_accuracy: 1.0000\n",
            "Epoch 82/100\n",
            "6/6 [==============================] - 0s 17ms/step - loss: 0.0142 - categorical_accuracy: 1.0000 - val_loss: 0.0419 - val_categorical_accuracy: 1.0000\n",
            "Epoch 83/100\n",
            "6/6 [==============================] - 0s 20ms/step - loss: 0.0137 - categorical_accuracy: 1.0000 - val_loss: 0.0390 - val_categorical_accuracy: 1.0000\n",
            "Epoch 84/100\n",
            "6/6 [==============================] - 0s 20ms/step - loss: 0.0133 - categorical_accuracy: 1.0000 - val_loss: 0.0535 - val_categorical_accuracy: 1.0000\n",
            "Epoch 85/100\n",
            "6/6 [==============================] - 0s 20ms/step - loss: 0.0186 - categorical_accuracy: 1.0000 - val_loss: 0.0290 - val_categorical_accuracy: 1.0000\n",
            "Epoch 86/100\n",
            "6/6 [==============================] - 0s 18ms/step - loss: 0.0289 - categorical_accuracy: 0.9889 - val_loss: 0.0488 - val_categorical_accuracy: 1.0000\n",
            "Epoch 87/100\n",
            "6/6 [==============================] - 0s 21ms/step - loss: 0.0196 - categorical_accuracy: 0.9944 - val_loss: 0.0325 - val_categorical_accuracy: 1.0000\n",
            "Epoch 88/100\n",
            "6/6 [==============================] - 0s 18ms/step - loss: 0.0171 - categorical_accuracy: 1.0000 - val_loss: 0.0395 - val_categorical_accuracy: 1.0000\n",
            "Epoch 89/100\n",
            "6/6 [==============================] - 0s 19ms/step - loss: 0.0152 - categorical_accuracy: 0.9944 - val_loss: 0.0275 - val_categorical_accuracy: 1.0000\n",
            "Epoch 90/100\n",
            "6/6 [==============================] - 0s 18ms/step - loss: 0.0117 - categorical_accuracy: 1.0000 - val_loss: 0.0297 - val_categorical_accuracy: 1.0000\n",
            "Epoch 91/100\n",
            "6/6 [==============================] - 0s 21ms/step - loss: 0.0180 - categorical_accuracy: 1.0000 - val_loss: 0.0384 - val_categorical_accuracy: 1.0000\n",
            "Epoch 92/100\n",
            "6/6 [==============================] - 0s 19ms/step - loss: 0.0145 - categorical_accuracy: 1.0000 - val_loss: 0.0463 - val_categorical_accuracy: 1.0000\n",
            "Epoch 93/100\n",
            "6/6 [==============================] - 0s 22ms/step - loss: 0.0163 - categorical_accuracy: 1.0000 - val_loss: 0.0357 - val_categorical_accuracy: 1.0000\n",
            "Epoch 94/100\n",
            "6/6 [==============================] - 0s 21ms/step - loss: 0.0177 - categorical_accuracy: 1.0000 - val_loss: 0.0836 - val_categorical_accuracy: 0.9444\n",
            "Epoch 95/100\n",
            "6/6 [==============================] - 0s 17ms/step - loss: 0.0355 - categorical_accuracy: 0.9889 - val_loss: 0.0434 - val_categorical_accuracy: 1.0000\n",
            "Epoch 96/100\n",
            "6/6 [==============================] - 0s 20ms/step - loss: 0.0153 - categorical_accuracy: 1.0000 - val_loss: 0.1202 - val_categorical_accuracy: 0.9444\n",
            "Epoch 97/100\n",
            "6/6 [==============================] - 0s 17ms/step - loss: 0.0172 - categorical_accuracy: 0.9944 - val_loss: 0.0417 - val_categorical_accuracy: 1.0000\n",
            "Epoch 98/100\n",
            "6/6 [==============================] - 0s 19ms/step - loss: 0.0139 - categorical_accuracy: 1.0000 - val_loss: 0.0457 - val_categorical_accuracy: 1.0000\n",
            "Epoch 99/100\n",
            "6/6 [==============================] - 0s 18ms/step - loss: 0.0097 - categorical_accuracy: 1.0000 - val_loss: 0.1202 - val_categorical_accuracy: 0.9444\n",
            "Epoch 100/100\n",
            "6/6 [==============================] - 0s 19ms/step - loss: 0.0126 - categorical_accuracy: 1.0000 - val_loss: 0.0287 - val_categorical_accuracy: 1.0000\n"
          ]
        }
      ]
    },
    {
      "cell_type": "code",
      "source": [
        "model.summary()\n",
        "model.save('/content/Tutorial_LSTM_MP/Weight_model/actionGRUNikoCheatDataReal_ReportGRU3.h5')\n",
        "plot_graphs(history, 'categorical_accuracy')\n",
        "plot_graphs(history, 'loss')"
      ],
      "metadata": {
        "colab": {
          "base_uri": "https://localhost:8080/",
          "height": 975
        },
        "outputId": "3e32fee1-a925-4027-91e3-0f5e32c39e93",
        "id": "JLOgJK7hWZ3i"
      },
      "execution_count": 55,
      "outputs": [
        {
          "output_type": "stream",
          "name": "stdout",
          "text": [
            "Model: \"sequential_5\"\n",
            "_________________________________________________________________\n",
            " Layer (type)                Output Shape              Param #   \n",
            "=================================================================\n",
            " gru_6 (GRU)                 (None, 50, 128)           55680     \n",
            "                                                                 \n",
            " dropout_10 (Dropout)        (None, 50, 128)           0         \n",
            "                                                                 \n",
            " gru_7 (GRU)                 (None, 50, 256)           296448    \n",
            "                                                                 \n",
            " dropout_11 (Dropout)        (None, 50, 256)           0         \n",
            "                                                                 \n",
            " gru_8 (GRU)                 (None, 128)               148224    \n",
            "                                                                 \n",
            " dense_15 (Dense)            (None, 64)                8256      \n",
            "                                                                 \n",
            " dense_16 (Dense)            (None, 32)                2080      \n",
            "                                                                 \n",
            " dense_17 (Dense)            (None, 6)                 198       \n",
            "                                                                 \n",
            "=================================================================\n",
            "Total params: 510,886\n",
            "Trainable params: 510,886\n",
            "Non-trainable params: 0\n",
            "_________________________________________________________________\n"
          ]
        },
        {
          "output_type": "display_data",
          "data": {
            "text/plain": [
              "<Figure size 432x288 with 1 Axes>"
            ],
            "image/png": "[encoded data removed]"
          },
          "metadata": {
            "needs_background": "light"
          }
        },
        {
          "output_type": "display_data",
          "data": {
            "text/plain": [
              "<Figure size 432x288 with 1 Axes>"
            ],
            "image/png": "[encoded data removed]"
          },
          "metadata": {
            "needs_background": "light"
          }
        }
      ]
    },
    {
      "cell_type": "code",
      "source": [
        "y_test_predict = model.predict(X_test)\n",
        "ytrue = np.argmax(y_test, axis=1).tolist()\n",
        "yhat = np.argmax(y_test_predict, axis=1).tolist()\n",
        "multilabel_confusion_matrix(ytrue, yhat)\n",
        "accuracy_score(ytrue, yhat)"
      ],
      "metadata": {
        "colab": {
          "base_uri": "https://localhost:8080/"
        },
        "outputId": "490af037-0482-4c97-9cd7-f38878a17f4b",
        "id": "TzV3eYT8WZ3j"
      },
      "execution_count": 56,
      "outputs": [
        {
          "output_type": "execute_result",
          "data": {
            "text/plain": [
              "0.9166666666666666"
            ]
          },
          "metadata": {},
          "execution_count": 56
        }
      ]
    }
  ],
  "metadata": {
    "accelerator": "GPU",
    "colab": {
      "provenance": [],
      "collapsed_sections": [
        "bSUQCFAg41jm"
      ]
    },
    "gpuClass": "standard",
    "kernelspec": {
      "display_name": "Python 3.10.2 64-bit",
      "language": "python",
      "name": "python3"
    },
    "language_info": {
      "name": "python",
      "version": "3.10.2"
    },
    "vscode": {
      "interpreter": {
        "hash": "c2d1da28924dd73d48b374a30035f4a3d427e107cd96680887f7889f9d1a8264"
      }
    }
  },
  "nbformat": 4,
  "nbformat_minor": 0
}