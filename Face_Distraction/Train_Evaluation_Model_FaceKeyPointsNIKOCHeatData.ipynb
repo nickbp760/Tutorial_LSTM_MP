{
  "cells": [
    {
      "cell_type": "markdown",
      "metadata": {
        "id": "B2cfeWV3Cv6r"
      },
      "source": [
        "# *SOURCE*\n",
        "https://www.youtube.com/watch?v=doDUihpj6ro&t=7339s\n",
        "https://github.com/nicknochnack/ActionDetectionforSignLanguage"
      ]
    },
    {
      "cell_type": "code",
      "source": [
        "! pip install PyQt5"
      ],
      "metadata": {
        "colab": {
          "base_uri": "https://localhost:8080/"
        },
        "id": "krl26FJLF4UL",
        "outputId": "0130f814-b87a-468e-b752-f35fdee352aa"
      },
      "execution_count": 1,
      "outputs": [
        {
          "output_type": "stream",
          "name": "stdout",
          "text": [
            "Looking in indexes: https://pypi.org/simple, https://us-python.pkg.dev/colab-wheels/public/simple/\n",
            "Collecting PyQt5\n",
            "  Downloading PyQt5-5.15.9-cp37-abi3-manylinux_2_17_x86_64.whl (8.4 MB)\n",
            "\u001b[2K     \u001b[90m━━━━━━━━━━━━━━━━━━━━━━━━━━━━━━━━━━━━━━━━\u001b[0m \u001b[32m8.4/8.4 MB\u001b[0m \u001b[31m48.1 MB/s\u001b[0m eta \u001b[36m0:00:00\u001b[0m\n",
            "\u001b[?25hCollecting PyQt5-sip<13,>=12.11\n",
            "  Downloading PyQt5_sip-12.11.1-cp39-cp39-manylinux_2_5_x86_64.manylinux1_x86_64.whl (357 kB)\n",
            "\u001b[2K     \u001b[90m━━━━━━━━━━━━━━━━━━━━━━━━━━━━━━━━━━━━━━\u001b[0m \u001b[32m357.8/357.8 KB\u001b[0m \u001b[31m23.5 MB/s\u001b[0m eta \u001b[36m0:00:00\u001b[0m\n",
            "\u001b[?25hCollecting PyQt5-Qt5>=5.15.2\n",
            "  Downloading PyQt5_Qt5-5.15.2-py3-none-manylinux2014_x86_64.whl (59.9 MB)\n",
            "\u001b[2K     \u001b[90m━━━━━━━━━━━━━━━━━━━━━━━━━━━━━━━━━━━━━━━━\u001b[0m \u001b[32m59.9/59.9 MB\u001b[0m \u001b[31m11.1 MB/s\u001b[0m eta \u001b[36m0:00:00\u001b[0m\n",
            "\u001b[?25hInstalling collected packages: PyQt5-Qt5, PyQt5-sip, PyQt5\n",
            "Successfully installed PyQt5-5.15.9 PyQt5-Qt5-5.15.2 PyQt5-sip-12.11.1\n"
          ]
        }
      ]
    },
    {
      "cell_type": "code",
      "execution_count": 2,
      "metadata": {
        "colab": {
          "base_uri": "https://localhost:8080/"
        },
        "id": "01jSxBD21OU7",
        "outputId": "77e686e4-21f7-46c7-a709-6e71174d9f4d"
      },
      "outputs": [
        {
          "output_type": "stream",
          "name": "stdout",
          "text": [
            "Looking in indexes: https://pypi.org/simple, https://us-python.pkg.dev/colab-wheels/public/simple/\n",
            "Collecting tensorflow==2.8.1\n",
            "  Downloading tensorflow-2.8.1-cp39-cp39-manylinux2010_x86_64.whl (498.0 MB)\n",
            "\u001b[2K     \u001b[90m━━━━━━━━━━━━━━━━━━━━━━━━━━━━━━━━━━━━━━━\u001b[0m \u001b[32m498.0/498.0 MB\u001b[0m \u001b[31m2.9 MB/s\u001b[0m eta \u001b[36m0:00:00\u001b[0m\n",
            "\u001b[?25hCollecting tensorflow-gpu==2.8.1\n",
            "  Downloading tensorflow_gpu-2.8.1-cp39-cp39-manylinux2010_x86_64.whl (498.0 MB)\n",
            "\u001b[2K     \u001b[90m━━━━━━━━━━━━━━━━━━━━━━━━━━━━━━━━━━━━━━━\u001b[0m \u001b[32m498.0/498.0 MB\u001b[0m \u001b[31m3.3 MB/s\u001b[0m eta \u001b[36m0:00:00\u001b[0m\n",
            "\u001b[?25hRequirement already satisfied: opencv-python in /usr/local/lib/python3.9/dist-packages (4.6.0.66)\n",
            "Collecting mediapipe\n",
            "  Downloading mediapipe-0.9.1.0-cp39-cp39-manylinux_2_17_x86_64.manylinux2014_x86_64.whl (33.0 MB)\n",
            "\u001b[2K     \u001b[90m━━━━━━━━━━━━━━━━━━━━━━━━━━━━━━━━━━━━━━━━\u001b[0m \u001b[32m33.0/33.0 MB\u001b[0m \u001b[31m37.4 MB/s\u001b[0m eta \u001b[36m0:00:00\u001b[0m\n",
            "\u001b[?25hRequirement already satisfied: h5py>=2.9.0 in /usr/local/lib/python3.9/dist-packages (from tensorflow==2.8.1) (3.1.0)\n",
            "Requirement already satisfied: libclang>=9.0.1 in /usr/local/lib/python3.9/dist-packages (from tensorflow==2.8.1) (15.0.6.1)\n",
            "Requirement already satisfied: opt-einsum>=2.3.2 in /usr/local/lib/python3.9/dist-packages (from tensorflow==2.8.1) (3.3.0)\n",
            "Collecting tensorboard<2.9,>=2.8\n",
            "  Downloading tensorboard-2.8.0-py3-none-any.whl (5.8 MB)\n",
            "\u001b[2K     \u001b[90m━━━━━━━━━━━━━━━━━━━━━━━━━━━━━━━━━━━━━━━━\u001b[0m \u001b[32m5.8/5.8 MB\u001b[0m \u001b[31m89.0 MB/s\u001b[0m eta \u001b[36m0:00:00\u001b[0m\n",
            "\u001b[?25hRequirement already satisfied: google-pasta>=0.1.1 in /usr/local/lib/python3.9/dist-packages (from tensorflow==2.8.1) (0.2.0)\n",
            "Requirement already satisfied: typing-extensions>=3.6.6 in /usr/local/lib/python3.9/dist-packages (from tensorflow==2.8.1) (4.5.0)\n",
            "Requirement already satisfied: protobuf>=3.9.2 in /usr/local/lib/python3.9/dist-packages (from tensorflow==2.8.1) (3.19.6)\n",
            "Requirement already satisfied: termcolor>=1.1.0 in /usr/local/lib/python3.9/dist-packages (from tensorflow==2.8.1) (2.2.0)\n",
            "Collecting keras-preprocessing>=1.1.1\n",
            "  Downloading Keras_Preprocessing-1.1.2-py2.py3-none-any.whl (42 kB)\n",
            "\u001b[2K     \u001b[90m━━━━━━━━━━━━━━━━━━━━━━━━━━━━━━━━━━━━━━━━\u001b[0m \u001b[32m42.6/42.6 KB\u001b[0m \u001b[31m6.2 MB/s\u001b[0m eta \u001b[36m0:00:00\u001b[0m\n",
            "\u001b[?25hRequirement already satisfied: wrapt>=1.11.0 in /usr/local/lib/python3.9/dist-packages (from tensorflow==2.8.1) (1.15.0)\n",
            "Requirement already satisfied: numpy>=1.20 in /usr/local/lib/python3.9/dist-packages (from tensorflow==2.8.1) (1.22.4)\n",
            "Collecting keras<2.9,>=2.8.0rc0\n",
            "  Downloading keras-2.8.0-py2.py3-none-any.whl (1.4 MB)\n",
            "\u001b[2K     \u001b[90m━━━━━━━━━━━━━━━━━━━━━━━━━━━━━━━━━━━━━━━━\u001b[0m \u001b[32m1.4/1.4 MB\u001b[0m \u001b[31m78.7 MB/s\u001b[0m eta \u001b[36m0:00:00\u001b[0m\n",
            "\u001b[?25hCollecting tensorflow-estimator<2.9,>=2.8\n",
            "  Downloading tensorflow_estimator-2.8.0-py2.py3-none-any.whl (462 kB)\n",
            "\u001b[2K     \u001b[90m━━━━━━━━━━━━━━━━━━━━━━━━━━━━━━━━━━━━━━\u001b[0m \u001b[32m462.3/462.3 KB\u001b[0m \u001b[31m50.6 MB/s\u001b[0m eta \u001b[36m0:00:00\u001b[0m\n",
            "\u001b[?25hRequirement already satisfied: gast>=0.2.1 in /usr/local/lib/python3.9/dist-packages (from tensorflow==2.8.1) (0.4.0)\n",
            "Requirement already satisfied: six>=1.12.0 in /usr/local/lib/python3.9/dist-packages (from tensorflow==2.8.1) (1.15.0)\n",
            "Requirement already satisfied: tensorflow-io-gcs-filesystem>=0.23.1 in /usr/local/lib/python3.9/dist-packages (from tensorflow==2.8.1) (0.31.0)\n",
            "Requirement already satisfied: setuptools in /usr/local/lib/python3.9/dist-packages (from tensorflow==2.8.1) (63.4.3)\n",
            "Requirement already satisfied: astunparse>=1.6.0 in /usr/local/lib/python3.9/dist-packages (from tensorflow==2.8.1) (1.6.3)\n",
            "Requirement already satisfied: grpcio<2.0,>=1.24.3 in /usr/local/lib/python3.9/dist-packages (from tensorflow==2.8.1) (1.51.3)\n",
            "Requirement already satisfied: flatbuffers>=1.12 in /usr/local/lib/python3.9/dist-packages (from tensorflow==2.8.1) (23.3.3)\n",
            "Requirement already satisfied: absl-py>=0.4.0 in /usr/local/lib/python3.9/dist-packages (from tensorflow==2.8.1) (1.4.0)\n",
            "Requirement already satisfied: attrs>=19.1.0 in /usr/local/lib/python3.9/dist-packages (from mediapipe) (22.2.0)\n",
            "Requirement already satisfied: matplotlib in /usr/local/lib/python3.9/dist-packages (from mediapipe) (3.5.3)\n",
            "Requirement already satisfied: opencv-contrib-python in /usr/local/lib/python3.9/dist-packages (from mediapipe) (4.6.0.66)\n",
            "Requirement already satisfied: wheel<1.0,>=0.23.0 in /usr/local/lib/python3.9/dist-packages (from astunparse>=1.6.0->tensorflow==2.8.1) (0.38.4)\n",
            "Requirement already satisfied: google-auth<3,>=1.6.3 in /usr/local/lib/python3.9/dist-packages (from tensorboard<2.9,>=2.8->tensorflow==2.8.1) (2.16.2)\n",
            "Requirement already satisfied: requests<3,>=2.21.0 in /usr/local/lib/python3.9/dist-packages (from tensorboard<2.9,>=2.8->tensorflow==2.8.1) (2.25.1)\n",
            "Requirement already satisfied: tensorboard-plugin-wit>=1.6.0 in /usr/local/lib/python3.9/dist-packages (from tensorboard<2.9,>=2.8->tensorflow==2.8.1) (1.8.1)\n",
            "Requirement already satisfied: markdown>=2.6.8 in /usr/local/lib/python3.9/dist-packages (from tensorboard<2.9,>=2.8->tensorflow==2.8.1) (3.4.1)\n",
            "Requirement already satisfied: google-auth-oauthlib<0.5,>=0.4.1 in /usr/local/lib/python3.9/dist-packages (from tensorboard<2.9,>=2.8->tensorflow==2.8.1) (0.4.6)\n",
            "Requirement already satisfied: tensorboard-data-server<0.7.0,>=0.6.0 in /usr/local/lib/python3.9/dist-packages (from tensorboard<2.9,>=2.8->tensorflow==2.8.1) (0.6.1)\n",
            "Requirement already satisfied: werkzeug>=0.11.15 in /usr/local/lib/python3.9/dist-packages (from tensorboard<2.9,>=2.8->tensorflow==2.8.1) (2.2.3)\n",
            "Requirement already satisfied: pyparsing>=2.2.1 in /usr/local/lib/python3.9/dist-packages (from matplotlib->mediapipe) (3.0.9)\n",
            "Requirement already satisfied: cycler>=0.10 in /usr/local/lib/python3.9/dist-packages (from matplotlib->mediapipe) (0.11.0)\n",
            "Requirement already satisfied: fonttools>=4.22.0 in /usr/local/lib/python3.9/dist-packages (from matplotlib->mediapipe) (4.39.0)\n",
            "Requirement already satisfied: pillow>=6.2.0 in /usr/local/lib/python3.9/dist-packages (from matplotlib->mediapipe) (8.4.0)\n",
            "Requirement already satisfied: python-dateutil>=2.7 in /usr/local/lib/python3.9/dist-packages (from matplotlib->mediapipe) (2.8.2)\n",
            "Requirement already satisfied: kiwisolver>=1.0.1 in /usr/local/lib/python3.9/dist-packages (from matplotlib->mediapipe) (1.4.4)\n",
            "Requirement already satisfied: packaging>=20.0 in /usr/local/lib/python3.9/dist-packages (from matplotlib->mediapipe) (23.0)\n",
            "Requirement already satisfied: pyasn1-modules>=0.2.1 in /usr/local/lib/python3.9/dist-packages (from google-auth<3,>=1.6.3->tensorboard<2.9,>=2.8->tensorflow==2.8.1) (0.2.8)\n",
            "Requirement already satisfied: cachetools<6.0,>=2.0.0 in /usr/local/lib/python3.9/dist-packages (from google-auth<3,>=1.6.3->tensorboard<2.9,>=2.8->tensorflow==2.8.1) (5.3.0)\n",
            "Requirement already satisfied: rsa<5,>=3.1.4 in /usr/local/lib/python3.9/dist-packages (from google-auth<3,>=1.6.3->tensorboard<2.9,>=2.8->tensorflow==2.8.1) (4.9)\n",
            "Requirement already satisfied: requests-oauthlib>=0.7.0 in /usr/local/lib/python3.9/dist-packages (from google-auth-oauthlib<0.5,>=0.4.1->tensorboard<2.9,>=2.8->tensorflow==2.8.1) (1.3.1)\n",
            "Requirement already satisfied: importlib-metadata>=4.4 in /usr/local/lib/python3.9/dist-packages (from markdown>=2.6.8->tensorboard<2.9,>=2.8->tensorflow==2.8.1) (6.0.0)\n",
            "Requirement already satisfied: idna<3,>=2.5 in /usr/local/lib/python3.9/dist-packages (from requests<3,>=2.21.0->tensorboard<2.9,>=2.8->tensorflow==2.8.1) (2.10)\n",
            "Requirement already satisfied: chardet<5,>=3.0.2 in /usr/local/lib/python3.9/dist-packages (from requests<3,>=2.21.0->tensorboard<2.9,>=2.8->tensorflow==2.8.1) (4.0.0)\n",
            "Requirement already satisfied: urllib3<1.27,>=1.21.1 in /usr/local/lib/python3.9/dist-packages (from requests<3,>=2.21.0->tensorboard<2.9,>=2.8->tensorflow==2.8.1) (1.26.15)\n",
            "Requirement already satisfied: certifi>=2017.4.17 in /usr/local/lib/python3.9/dist-packages (from requests<3,>=2.21.0->tensorboard<2.9,>=2.8->tensorflow==2.8.1) (2022.12.7)\n",
            "Requirement already satisfied: MarkupSafe>=2.1.1 in /usr/local/lib/python3.9/dist-packages (from werkzeug>=0.11.15->tensorboard<2.9,>=2.8->tensorflow==2.8.1) (2.1.2)\n",
            "Requirement already satisfied: zipp>=0.5 in /usr/local/lib/python3.9/dist-packages (from importlib-metadata>=4.4->markdown>=2.6.8->tensorboard<2.9,>=2.8->tensorflow==2.8.1) (3.15.0)\n",
            "Requirement already satisfied: pyasn1<0.5.0,>=0.4.6 in /usr/local/lib/python3.9/dist-packages (from pyasn1-modules>=0.2.1->google-auth<3,>=1.6.3->tensorboard<2.9,>=2.8->tensorflow==2.8.1) (0.4.8)\n",
            "Requirement already satisfied: oauthlib>=3.0.0 in /usr/local/lib/python3.9/dist-packages (from requests-oauthlib>=0.7.0->google-auth-oauthlib<0.5,>=0.4.1->tensorboard<2.9,>=2.8->tensorflow==2.8.1) (3.2.2)\n",
            "Installing collected packages: tensorflow-estimator, keras, keras-preprocessing, mediapipe, tensorboard, tensorflow-gpu, tensorflow\n",
            "  Attempting uninstall: tensorflow-estimator\n",
            "    Found existing installation: tensorflow-estimator 2.11.0\n",
            "    Uninstalling tensorflow-estimator-2.11.0:\n",
            "      Successfully uninstalled tensorflow-estimator-2.11.0\n",
            "  Attempting uninstall: keras\n",
            "    Found existing installation: keras 2.11.0\n",
            "    Uninstalling keras-2.11.0:\n",
            "      Successfully uninstalled keras-2.11.0\n",
            "  Attempting uninstall: tensorboard\n",
            "    Found existing installation: tensorboard 2.11.2\n",
            "    Uninstalling tensorboard-2.11.2:\n",
            "      Successfully uninstalled tensorboard-2.11.2\n",
            "  Attempting uninstall: tensorflow\n",
            "    Found existing installation: tensorflow 2.11.0\n",
            "    Uninstalling tensorflow-2.11.0:\n",
            "      Successfully uninstalled tensorflow-2.11.0\n",
            "Successfully installed keras-2.8.0 keras-preprocessing-1.1.2 mediapipe-0.9.1.0 tensorboard-2.8.0 tensorflow-2.8.1 tensorflow-estimator-2.8.0 tensorflow-gpu-2.8.1\n"
          ]
        }
      ],
      "source": [
        "!pip install tensorflow==2.8.1 tensorflow-gpu==2.8.1 opencv-python mediapipe "
      ]
    },
    {
      "cell_type": "code",
      "execution_count": 3,
      "metadata": {
        "id": "jmck_Duo16sH"
      },
      "outputs": [],
      "source": [
        "from sklearn.model_selection import train_test_split\n",
        "from tensorflow.keras.utils import to_categorical\n",
        "import cv2\n",
        "import numpy as np\n",
        "import os\n",
        "from matplotlib import pyplot as plt\n",
        "import time\n",
        "import mediapipe as mp\n",
        "from tensorflow.keras.models import Sequential\n",
        "from tensorflow.keras.layers import LSTM, Dense, GRU\n",
        "from tensorflow.keras.callbacks import TensorBoard\n",
        "from sklearn.metrics import multilabel_confusion_matrix, accuracy_score"
      ]
    },
    {
      "cell_type": "code",
      "execution_count": 4,
      "metadata": {
        "id": "q_tJp7Ua2G8m"
      },
      "outputs": [],
      "source": [
        "# Path for exported data, numpy arrays\n",
        "DATA_PATH = os.path.join('/content/Tutorial_LSTM_MP/Complete_CheatDataNiko') \n",
        "\n",
        "# Actions that we try to detect\n",
        "actions = np.array(['LirikKanan', 'LirikKiri', 'MenolehKanan', 'MenolehKiri', 'Normal', 'TutupMata'])\n",
        "\n",
        "# Thirty videos worth of data\n",
        "no_sequences = 30\n",
        "\n",
        "# Videos are going to be 30 frames in length\n",
        "sequence_length = 50"
      ]
    },
    {
      "cell_type": "code",
      "execution_count": 5,
      "metadata": {
        "id": "JwKesrxr2T8-",
        "colab": {
          "base_uri": "https://localhost:8080/"
        },
        "outputId": "7d661811-f4d4-4adb-a102-88fc6e3d978f"
      },
      "outputs": [
        {
          "output_type": "stream",
          "name": "stdout",
          "text": [
            "Cloning into 'Tutorial_LSTM_MP'...\n",
            "remote: Enumerating objects: 37875, done.\u001b[K\n",
            "remote: Counting objects: 100% (14863/14863), done.\u001b[K\n",
            "remote: Compressing objects: 100% (10166/10166), done.\u001b[K\n",
            "remote: Total 37875 (delta 4699), reused 14854 (delta 4691), pack-reused 23012\u001b[K\n",
            "Receiving objects: 100% (37875/37875), 631.10 MiB | 26.15 MiB/s, done.\n",
            "Resolving deltas: 100% (4904/4904), done.\n",
            "Updating files: 100% (31881/31881), done.\n"
          ]
        }
      ],
      "source": [
        "! git clone https://github.com/nickbp760/Tutorial_LSTM_MP.git"
      ]
    },
    {
      "cell_type": "markdown",
      "metadata": {
        "id": "wQxJ8Faz2zhe"
      },
      "source": [
        "### **Preprocess Data and Create Labels and Features**"
      ]
    },
    {
      "cell_type": "markdown",
      "metadata": {
        "id": "C80wYflo3R2O"
      },
      "source": [
        "The label map containts the action label"
      ]
    },
    {
      "cell_type": "code",
      "execution_count": 6,
      "metadata": {
        "id": "OIwDfz9t2puH"
      },
      "outputs": [],
      "source": [
        "label_map = {label:num for num, label in enumerate(actions)}"
      ]
    },
    {
      "cell_type": "code",
      "execution_count": 7,
      "metadata": {
        "id": "7b0QZxvg2tI2",
        "colab": {
          "base_uri": "https://localhost:8080/"
        },
        "outputId": "17fdad47-8c36-436f-e070-bf83cf22375f"
      },
      "outputs": [
        {
          "output_type": "execute_result",
          "data": {
            "text/plain": [
              "{'LirikKanan': 0,\n",
              " 'LirikKiri': 1,\n",
              " 'MenolehKanan': 2,\n",
              " 'MenolehKiri': 3,\n",
              " 'Normal': 4,\n",
              " 'TutupMata': 5}"
            ]
          },
          "metadata": {},
          "execution_count": 7
        }
      ],
      "source": [
        "label_map"
      ]
    },
    {
      "cell_type": "markdown",
      "metadata": {
        "id": "Iz5HooSw3ZEG"
      },
      "source": [
        "load the the data that have been prepared before"
      ]
    },
    {
      "cell_type": "code",
      "execution_count": 8,
      "metadata": {
        "id": "3rnaU3Sf2729"
      },
      "outputs": [],
      "source": [
        "sequences, labels = [], []\n",
        "for action in actions:\n",
        "    for sequence in range(no_sequences):\n",
        "        window = []\n",
        "        for frame_num in range(sequence_length):\n",
        "            res = np.load(os.path.join(DATA_PATH, action, str(sequence), \"{}.npy\".format(frame_num)))\n",
        "            window.append(res)\n",
        "        sequences.append(window)\n",
        "        labels.append(label_map[action])"
      ]
    },
    {
      "cell_type": "code",
      "execution_count": 9,
      "metadata": {
        "id": "4-t-H7AV3qiv",
        "colab": {
          "base_uri": "https://localhost:8080/"
        },
        "outputId": "ea78f76d-2a25-4624-8e09-721ac19ce5d4"
      },
      "outputs": [
        {
          "output_type": "execute_result",
          "data": {
            "text/plain": [
              "(180, 50, 15)"
            ]
          },
          "metadata": {},
          "execution_count": 9
        }
      ],
      "source": [
        "np.array(sequences).shape"
      ]
    },
    {
      "cell_type": "markdown",
      "metadata": {
        "id": "bSUQCFAg41jm"
      },
      "source": [
        "DEFINE X (Input) and y (Output)"
      ]
    },
    {
      "cell_type": "code",
      "execution_count": 10,
      "metadata": {
        "id": "P1P7mqVT4hTO",
        "colab": {
          "base_uri": "https://localhost:8080/"
        },
        "outputId": "97547e60-d258-4967-f285-88858adb7914"
      },
      "outputs": [
        {
          "output_type": "stream",
          "name": "stdout",
          "text": [
            "(180, 50, 15)\n",
            "(180, 6)\n"
          ]
        }
      ],
      "source": [
        "X = np.array(sequences)\n",
        "print(X.shape)\n",
        "y = to_categorical(labels).astype(int)\n",
        "print(y.shape)"
      ]
    },
    {
      "cell_type": "code",
      "execution_count": 11,
      "metadata": {
        "id": "nI6Vfm5A4vA-"
      },
      "outputs": [],
      "source": [
        "X_train, X_test, y_train, y_test = train_test_split(X, y, test_size=0.1)"
      ]
    },
    {
      "cell_type": "code",
      "source": [
        "def plot_graphs(history, string):\n",
        "    plt.plot(history.history[string])\n",
        "    plt.plot(history.history['val_'+string])\n",
        "    plt.xlabel(\"Epochs\")\n",
        "    plt.ylabel(string)\n",
        "    plt.legend([string, 'val_'+string])\n",
        "    plt.show()\n",
        "    "
      ],
      "metadata": {
        "id": "xfFaOsHKeB3a"
      },
      "execution_count": 12,
      "outputs": []
    },
    {
      "cell_type": "markdown",
      "metadata": {
        "id": "09LN9RY75Bid"
      },
      "source": [
        "### **Build and Train Neural Network**"
      ]
    },
    {
      "cell_type": "code",
      "execution_count": 13,
      "metadata": {
        "id": "ptTzydZM5KCt"
      },
      "outputs": [],
      "source": [
        "log_dir = os.path.join('Logs')\n",
        "tb_callback = TensorBoard(log_dir=log_dir)"
      ]
    },
    {
      "cell_type": "code",
      "source": [
        "model = Sequential()\n",
        "model.add(GRU(128, return_sequences=True, activation='relu', input_shape=(50,15)))\n",
        "model.add(GRU(64, return_sequences=True, activation='relu'))\n",
        "model.add(GRU(128, return_sequences=False, activation='relu'))\n",
        "model.add(Dense(64, activation='relu'))\n",
        "model.add(Dense(32, activation='relu'))\n",
        "model.add(Dense(actions.shape[0], activation='softmax'))"
      ],
      "metadata": {
        "colab": {
          "base_uri": "https://localhost:8080/"
        },
        "id": "mcfMbYMeTiMn",
        "outputId": "6d492712-b425-4af1-8b6f-79986148eb9d"
      },
      "execution_count": 31,
      "outputs": [
        {
          "output_type": "stream",
          "name": "stderr",
          "text": [
            "WARNING:tensorflow:Layer gru_9 will not use cuDNN kernels since it doesn't meet the criteria. It will use a generic GPU kernel as fallback when running on GPU.\n",
            "WARNING:tensorflow:Layer gru_10 will not use cuDNN kernels since it doesn't meet the criteria. It will use a generic GPU kernel as fallback when running on GPU.\n",
            "WARNING:tensorflow:Layer gru_11 will not use cuDNN kernels since it doesn't meet the criteria. It will use a generic GPU kernel as fallback when running on GPU.\n"
          ]
        }
      ]
    },
    {
      "cell_type": "code",
      "source": [
        "model.compile(optimizer='adam', loss='categorical_crossentropy', metrics=['categorical_accuracy'])\n",
        "model.optimizer.lr.assign(0.0001)"
      ],
      "metadata": {
        "id": "pT2nuqEvSY8Z",
        "colab": {
          "base_uri": "https://localhost:8080/"
        },
        "outputId": "a328e7b2-c27f-4391-bda0-7a129f8ec6ea"
      },
      "execution_count": 32,
      "outputs": [
        {
          "output_type": "execute_result",
          "data": {
            "text/plain": [
              "<tf.Variable 'UnreadVariable' shape=() dtype=float32, numpy=1e-04>"
            ]
          },
          "metadata": {},
          "execution_count": 32
        }
      ]
    },
    {
      "cell_type": "code",
      "source": [
        "history = model.fit(X_train, y_train, epochs=100, callbacks=[tb_callback], validation_data = (X_test, y_test))"
      ],
      "metadata": {
        "colab": {
          "base_uri": "https://localhost:8080/"
        },
        "id": "Wp4-43BrStY7",
        "outputId": "8bbc06bc-3ea7-48e0-9f47-e1bbd5100277"
      },
      "execution_count": 33,
      "outputs": [
        {
          "output_type": "stream",
          "name": "stdout",
          "text": [
            "Epoch 1/100\n",
            "6/6 [==============================] - 7s 672ms/step - loss: 1.7795 - categorical_accuracy: 0.1667 - val_loss: 1.7840 - val_categorical_accuracy: 0.2222\n",
            "Epoch 2/100\n",
            "6/6 [==============================] - 3s 477ms/step - loss: 1.7453 - categorical_accuracy: 0.3148 - val_loss: 1.7620 - val_categorical_accuracy: 0.2222\n",
            "Epoch 3/100\n",
            "6/6 [==============================] - 2s 344ms/step - loss: 1.7221 - categorical_accuracy: 0.3457 - val_loss: 1.7437 - val_categorical_accuracy: 0.2222\n",
            "Epoch 4/100\n",
            "6/6 [==============================] - 2s 326ms/step - loss: 1.7006 - categorical_accuracy: 0.3457 - val_loss: 1.7279 - val_categorical_accuracy: 0.2222\n",
            "Epoch 5/100\n",
            "6/6 [==============================] - 2s 338ms/step - loss: 1.6814 - categorical_accuracy: 0.3457 - val_loss: 1.7104 - val_categorical_accuracy: 0.2222\n",
            "Epoch 6/100\n",
            "6/6 [==============================] - 2s 324ms/step - loss: 1.6606 - categorical_accuracy: 0.3642 - val_loss: 1.6948 - val_categorical_accuracy: 0.2222\n",
            "Epoch 7/100\n",
            "6/6 [==============================] - 3s 570ms/step - loss: 1.6372 - categorical_accuracy: 0.3642 - val_loss: 1.6802 - val_categorical_accuracy: 0.2222\n",
            "Epoch 8/100\n",
            "6/6 [==============================] - 4s 547ms/step - loss: 1.6089 - categorical_accuracy: 0.3827 - val_loss: 1.6622 - val_categorical_accuracy: 0.3333\n",
            "Epoch 9/100\n",
            "6/6 [==============================] - 2s 324ms/step - loss: 1.5780 - categorical_accuracy: 0.5432 - val_loss: 1.6377 - val_categorical_accuracy: 0.4444\n",
            "Epoch 10/100\n",
            "6/6 [==============================] - 2s 322ms/step - loss: 1.5472 - categorical_accuracy: 0.6481 - val_loss: 1.6123 - val_categorical_accuracy: 0.4444\n",
            "Epoch 11/100\n",
            "6/6 [==============================] - 2s 408ms/step - loss: 1.5115 - categorical_accuracy: 0.6543 - val_loss: 1.5838 - val_categorical_accuracy: 0.4444\n",
            "Epoch 12/100\n",
            "6/6 [==============================] - 2s 332ms/step - loss: 1.4679 - categorical_accuracy: 0.6667 - val_loss: 1.5556 - val_categorical_accuracy: 0.4444\n",
            "Epoch 13/100\n",
            "6/6 [==============================] - 3s 551ms/step - loss: 1.4178 - categorical_accuracy: 0.6667 - val_loss: 1.5198 - val_categorical_accuracy: 0.4444\n",
            "Epoch 14/100\n",
            "6/6 [==============================] - 4s 597ms/step - loss: 1.3678 - categorical_accuracy: 0.6728 - val_loss: 1.4828 - val_categorical_accuracy: 0.4444\n",
            "Epoch 15/100\n",
            "6/6 [==============================] - 2s 333ms/step - loss: 1.3126 - categorical_accuracy: 0.6728 - val_loss: 1.4380 - val_categorical_accuracy: 0.4444\n",
            "Epoch 16/100\n",
            "6/6 [==============================] - 2s 331ms/step - loss: 1.2575 - categorical_accuracy: 0.5864 - val_loss: 1.4032 - val_categorical_accuracy: 0.3333\n",
            "Epoch 17/100\n",
            "6/6 [==============================] - 2s 330ms/step - loss: 1.2046 - categorical_accuracy: 0.5185 - val_loss: 1.3726 - val_categorical_accuracy: 0.3333\n",
            "Epoch 18/100\n",
            "6/6 [==============================] - 2s 315ms/step - loss: 1.1589 - categorical_accuracy: 0.5185 - val_loss: 1.3463 - val_categorical_accuracy: 0.3333\n",
            "Epoch 19/100\n",
            "6/6 [==============================] - 2s 404ms/step - loss: 1.1220 - categorical_accuracy: 0.5185 - val_loss: 1.3198 - val_categorical_accuracy: 0.3333\n",
            "Epoch 20/100\n",
            "6/6 [==============================] - 4s 711ms/step - loss: 1.0865 - categorical_accuracy: 0.5185 - val_loss: 1.2940 - val_categorical_accuracy: 0.3333\n",
            "Epoch 21/100\n",
            "6/6 [==============================] - 2s 337ms/step - loss: 1.0529 - categorical_accuracy: 0.5185 - val_loss: 1.2625 - val_categorical_accuracy: 0.3333\n",
            "Epoch 22/100\n",
            "6/6 [==============================] - 2s 334ms/step - loss: 1.0218 - categorical_accuracy: 0.5185 - val_loss: 1.2383 - val_categorical_accuracy: 0.3333\n",
            "Epoch 23/100\n",
            "6/6 [==============================] - 2s 325ms/step - loss: 0.9970 - categorical_accuracy: 0.5247 - val_loss: 1.2417 - val_categorical_accuracy: 0.3333\n",
            "Epoch 24/100\n",
            "6/6 [==============================] - 2s 319ms/step - loss: 0.9750 - categorical_accuracy: 0.6481 - val_loss: 1.2153 - val_categorical_accuracy: 0.3333\n",
            "Epoch 25/100\n",
            "6/6 [==============================] - 2s 335ms/step - loss: 0.9519 - categorical_accuracy: 0.5802 - val_loss: 1.1816 - val_categorical_accuracy: 0.3333\n",
            "Epoch 26/100\n",
            "6/6 [==============================] - 4s 756ms/step - loss: 0.9293 - categorical_accuracy: 0.5679 - val_loss: 1.1548 - val_categorical_accuracy: 0.4444\n",
            "Epoch 27/100\n",
            "6/6 [==============================] - 2s 329ms/step - loss: 0.9156 - categorical_accuracy: 0.6605 - val_loss: 1.1301 - val_categorical_accuracy: 0.5556\n",
            "Epoch 28/100\n",
            "6/6 [==============================] - 2s 325ms/step - loss: 0.8848 - categorical_accuracy: 0.6914 - val_loss: 1.0774 - val_categorical_accuracy: 0.5556\n",
            "Epoch 29/100\n",
            "6/6 [==============================] - 2s 349ms/step - loss: 0.8617 - categorical_accuracy: 0.7037 - val_loss: 1.0519 - val_categorical_accuracy: 0.5556\n",
            "Epoch 30/100\n",
            "6/6 [==============================] - 2s 323ms/step - loss: 0.8368 - categorical_accuracy: 0.7099 - val_loss: 1.0498 - val_categorical_accuracy: 0.5556\n",
            "Epoch 31/100\n",
            "6/6 [==============================] - 2s 334ms/step - loss: 0.8358 - categorical_accuracy: 0.6111 - val_loss: 1.0103 - val_categorical_accuracy: 0.6111\n",
            "Epoch 32/100\n",
            "6/6 [==============================] - 4s 684ms/step - loss: 0.8109 - categorical_accuracy: 0.7099 - val_loss: 0.9341 - val_categorical_accuracy: 0.7222\n",
            "Epoch 33/100\n",
            "6/6 [==============================] - 3s 419ms/step - loss: 0.7748 - categorical_accuracy: 0.6975 - val_loss: 0.9932 - val_categorical_accuracy: 0.5556\n",
            "Epoch 34/100\n",
            "6/6 [==============================] - 2s 331ms/step - loss: 0.7958 - categorical_accuracy: 0.6049 - val_loss: 0.9001 - val_categorical_accuracy: 0.5556\n",
            "Epoch 35/100\n",
            "6/6 [==============================] - 2s 328ms/step - loss: 0.7579 - categorical_accuracy: 0.6420 - val_loss: 0.9175 - val_categorical_accuracy: 0.5556\n",
            "Epoch 36/100\n",
            "6/6 [==============================] - 2s 326ms/step - loss: 0.7535 - categorical_accuracy: 0.6543 - val_loss: 0.9035 - val_categorical_accuracy: 0.6111\n",
            "Epoch 37/100\n",
            "6/6 [==============================] - 2s 312ms/step - loss: 0.7346 - categorical_accuracy: 0.6420 - val_loss: 0.8837 - val_categorical_accuracy: 0.7222\n",
            "Epoch 38/100\n",
            "6/6 [==============================] - 3s 518ms/step - loss: 0.7203 - categorical_accuracy: 0.6543 - val_loss: 0.8852 - val_categorical_accuracy: 0.7222\n",
            "Epoch 39/100\n",
            "6/6 [==============================] - 4s 624ms/step - loss: 0.6781 - categorical_accuracy: 0.7346 - val_loss: 0.8819 - val_categorical_accuracy: 0.6111\n",
            "Epoch 40/100\n",
            "6/6 [==============================] - 2s 331ms/step - loss: 0.6846 - categorical_accuracy: 0.7469 - val_loss: 0.8361 - val_categorical_accuracy: 0.6667\n",
            "Epoch 41/100\n",
            "6/6 [==============================] - 2s 322ms/step - loss: 0.6584 - categorical_accuracy: 0.7654 - val_loss: 0.8266 - val_categorical_accuracy: 0.7222\n",
            "Epoch 42/100\n",
            "6/6 [==============================] - 2s 344ms/step - loss: 0.6713 - categorical_accuracy: 0.7593 - val_loss: 0.8500 - val_categorical_accuracy: 0.7222\n",
            "Epoch 43/100\n",
            "6/6 [==============================] - 2s 335ms/step - loss: 0.6486 - categorical_accuracy: 0.7222 - val_loss: 0.8159 - val_categorical_accuracy: 0.6667\n",
            "Epoch 44/100\n",
            "6/6 [==============================] - 3s 441ms/step - loss: 0.6283 - categorical_accuracy: 0.7531 - val_loss: 0.8481 - val_categorical_accuracy: 0.6667\n",
            "Epoch 45/100\n",
            "6/6 [==============================] - 4s 677ms/step - loss: 0.5997 - categorical_accuracy: 0.7840 - val_loss: 0.7732 - val_categorical_accuracy: 0.6667\n",
            "Epoch 46/100\n",
            "6/6 [==============================] - 2s 322ms/step - loss: 0.5662 - categorical_accuracy: 0.8210 - val_loss: 0.7399 - val_categorical_accuracy: 0.6667\n",
            "Epoch 47/100\n",
            "6/6 [==============================] - 2s 325ms/step - loss: 0.5896 - categorical_accuracy: 0.7901 - val_loss: 0.7454 - val_categorical_accuracy: 0.6667\n",
            "Epoch 48/100\n",
            "6/6 [==============================] - 2s 324ms/step - loss: 0.5421 - categorical_accuracy: 0.8025 - val_loss: 0.7292 - val_categorical_accuracy: 0.7222\n",
            "Epoch 49/100\n",
            "6/6 [==============================] - 2s 333ms/step - loss: 0.5305 - categorical_accuracy: 0.8025 - val_loss: 0.7074 - val_categorical_accuracy: 0.6667\n",
            "Epoch 50/100\n",
            "6/6 [==============================] - 2s 326ms/step - loss: 0.5229 - categorical_accuracy: 0.8210 - val_loss: 0.7611 - val_categorical_accuracy: 0.6111\n",
            "Epoch 51/100\n",
            "6/6 [==============================] - 4s 731ms/step - loss: 0.5101 - categorical_accuracy: 0.8086 - val_loss: 0.6782 - val_categorical_accuracy: 0.7222\n",
            "Epoch 52/100\n",
            "6/6 [==============================] - 2s 333ms/step - loss: 0.5017 - categorical_accuracy: 0.7654 - val_loss: 0.6645 - val_categorical_accuracy: 0.7222\n",
            "Epoch 53/100\n",
            "6/6 [==============================] - 2s 316ms/step - loss: 0.4698 - categorical_accuracy: 0.8210 - val_loss: 0.6526 - val_categorical_accuracy: 0.7222\n",
            "Epoch 54/100\n",
            "6/6 [==============================] - 2s 340ms/step - loss: 0.4526 - categorical_accuracy: 0.8457 - val_loss: 0.6782 - val_categorical_accuracy: 0.6667\n",
            "Epoch 55/100\n",
            "6/6 [==============================] - 2s 331ms/step - loss: 0.4347 - categorical_accuracy: 0.8519 - val_loss: 0.6468 - val_categorical_accuracy: 0.7222\n",
            "Epoch 56/100\n",
            "6/6 [==============================] - 2s 331ms/step - loss: 0.4516 - categorical_accuracy: 0.8765 - val_loss: 0.7537 - val_categorical_accuracy: 0.6111\n",
            "Epoch 57/100\n",
            "6/6 [==============================] - 4s 753ms/step - loss: 0.4641 - categorical_accuracy: 0.8272 - val_loss: 0.5906 - val_categorical_accuracy: 0.7222\n",
            "Epoch 58/100\n",
            "6/6 [==============================] - 3s 392ms/step - loss: 0.4540 - categorical_accuracy: 0.8457 - val_loss: 0.5846 - val_categorical_accuracy: 0.7778\n",
            "Epoch 59/100\n",
            "6/6 [==============================] - 2s 329ms/step - loss: 0.4116 - categorical_accuracy: 0.8333 - val_loss: 0.5423 - val_categorical_accuracy: 0.7222\n",
            "Epoch 60/100\n",
            "6/6 [==============================] - 2s 314ms/step - loss: 0.3889 - categorical_accuracy: 0.8765 - val_loss: 0.7135 - val_categorical_accuracy: 0.6667\n",
            "Epoch 61/100\n",
            "6/6 [==============================] - 2s 324ms/step - loss: 0.4765 - categorical_accuracy: 0.7901 - val_loss: 0.6167 - val_categorical_accuracy: 0.7222\n",
            "Epoch 62/100\n",
            "6/6 [==============================] - 2s 336ms/step - loss: 0.4595 - categorical_accuracy: 0.8272 - val_loss: 0.5678 - val_categorical_accuracy: 0.7222\n",
            "Epoch 63/100\n",
            "6/6 [==============================] - 3s 620ms/step - loss: 0.3472 - categorical_accuracy: 0.9012 - val_loss: 0.6388 - val_categorical_accuracy: 0.6667\n",
            "Epoch 64/100\n",
            "6/6 [==============================] - 3s 507ms/step - loss: 0.3539 - categorical_accuracy: 0.8765 - val_loss: 0.5241 - val_categorical_accuracy: 0.7222\n",
            "Epoch 65/100\n",
            "6/6 [==============================] - 2s 318ms/step - loss: 0.3280 - categorical_accuracy: 0.9259 - val_loss: 0.5203 - val_categorical_accuracy: 0.7222\n",
            "Epoch 66/100\n",
            "6/6 [==============================] - 2s 319ms/step - loss: 0.3083 - categorical_accuracy: 0.9074 - val_loss: 0.5553 - val_categorical_accuracy: 0.7222\n",
            "Epoch 67/100\n",
            "6/6 [==============================] - 2s 332ms/step - loss: 0.2955 - categorical_accuracy: 0.9074 - val_loss: 0.5018 - val_categorical_accuracy: 0.7222\n",
            "Epoch 68/100\n",
            "6/6 [==============================] - 2s 326ms/step - loss: 0.2877 - categorical_accuracy: 0.9321 - val_loss: 0.4671 - val_categorical_accuracy: 0.7778\n",
            "Epoch 69/100\n",
            "6/6 [==============================] - 3s 500ms/step - loss: 0.2849 - categorical_accuracy: 0.9444 - val_loss: 0.4912 - val_categorical_accuracy: 0.6667\n",
            "Epoch 70/100\n",
            "6/6 [==============================] - 4s 658ms/step - loss: 0.2664 - categorical_accuracy: 0.9506 - val_loss: 0.4517 - val_categorical_accuracy: 0.7222\n",
            "Epoch 71/100\n",
            "6/6 [==============================] - 2s 329ms/step - loss: 0.2520 - categorical_accuracy: 0.9383 - val_loss: 0.4928 - val_categorical_accuracy: 0.7222\n",
            "Epoch 72/100\n",
            "6/6 [==============================] - 2s 329ms/step - loss: 0.2483 - categorical_accuracy: 0.9136 - val_loss: 0.5400 - val_categorical_accuracy: 0.7222\n",
            "Epoch 73/100\n",
            "6/6 [==============================] - 2s 341ms/step - loss: 0.3479 - categorical_accuracy: 0.8519 - val_loss: 0.5722 - val_categorical_accuracy: 0.7778\n",
            "Epoch 74/100\n",
            "6/6 [==============================] - 2s 327ms/step - loss: 0.3492 - categorical_accuracy: 0.8951 - val_loss: 0.5793 - val_categorical_accuracy: 0.6667\n",
            "Epoch 75/100\n",
            "6/6 [==============================] - 2s 362ms/step - loss: 0.5700 - categorical_accuracy: 0.7716 - val_loss: 0.7535 - val_categorical_accuracy: 0.6667\n",
            "Epoch 76/100\n",
            "6/6 [==============================] - 4s 671ms/step - loss: 0.3037 - categorical_accuracy: 0.8642 - val_loss: 0.5701 - val_categorical_accuracy: 0.7222\n",
            "Epoch 77/100\n",
            "6/6 [==============================] - 2s 346ms/step - loss: 0.3418 - categorical_accuracy: 0.8642 - val_loss: 0.5221 - val_categorical_accuracy: 0.7222\n",
            "Epoch 78/100\n",
            "6/6 [==============================] - 2s 322ms/step - loss: 0.2840 - categorical_accuracy: 0.9136 - val_loss: 0.5098 - val_categorical_accuracy: 0.7778\n",
            "Epoch 79/100\n",
            "6/6 [==============================] - 2s 349ms/step - loss: 0.2557 - categorical_accuracy: 0.9383 - val_loss: 0.4716 - val_categorical_accuracy: 0.7778\n",
            "Epoch 80/100\n",
            "6/6 [==============================] - 2s 350ms/step - loss: 0.2767 - categorical_accuracy: 0.9444 - val_loss: 0.4449 - val_categorical_accuracy: 0.7778\n",
            "Epoch 81/100\n",
            "6/6 [==============================] - 2s 350ms/step - loss: 0.2666 - categorical_accuracy: 0.9136 - val_loss: 0.5700 - val_categorical_accuracy: 0.7778\n",
            "Epoch 82/100\n",
            "6/6 [==============================] - 4s 712ms/step - loss: 0.2418 - categorical_accuracy: 0.9321 - val_loss: 0.4355 - val_categorical_accuracy: 0.7778\n",
            "Epoch 83/100\n",
            "6/6 [==============================] - 3s 390ms/step - loss: 0.2309 - categorical_accuracy: 0.9383 - val_loss: 0.5421 - val_categorical_accuracy: 0.7222\n",
            "Epoch 84/100\n",
            "6/6 [==============================] - 2s 306ms/step - loss: 0.2369 - categorical_accuracy: 0.9321 - val_loss: 0.4575 - val_categorical_accuracy: 0.7778\n",
            "Epoch 85/100\n",
            "6/6 [==============================] - 2s 320ms/step - loss: 0.2227 - categorical_accuracy: 0.9444 - val_loss: 0.3891 - val_categorical_accuracy: 0.8889\n",
            "Epoch 86/100\n",
            "6/6 [==============================] - 2s 327ms/step - loss: 0.2071 - categorical_accuracy: 0.9568 - val_loss: 0.5336 - val_categorical_accuracy: 0.8333\n",
            "Epoch 87/100\n",
            "6/6 [==============================] - 2s 323ms/step - loss: 0.1867 - categorical_accuracy: 0.9383 - val_loss: 0.4341 - val_categorical_accuracy: 0.7778\n",
            "Epoch 88/100\n",
            "6/6 [==============================] - 3s 527ms/step - loss: 0.1883 - categorical_accuracy: 0.9383 - val_loss: 0.4275 - val_categorical_accuracy: 0.8333\n",
            "Epoch 89/100\n",
            "6/6 [==============================] - 4s 588ms/step - loss: 0.2163 - categorical_accuracy: 0.9074 - val_loss: 0.5561 - val_categorical_accuracy: 0.7222\n",
            "Epoch 90/100\n",
            "6/6 [==============================] - 2s 327ms/step - loss: 0.1911 - categorical_accuracy: 0.9506 - val_loss: 0.4132 - val_categorical_accuracy: 0.7222\n",
            "Epoch 91/100\n",
            "6/6 [==============================] - 2s 328ms/step - loss: 0.1767 - categorical_accuracy: 0.9630 - val_loss: 0.7415 - val_categorical_accuracy: 0.7222\n",
            "Epoch 92/100\n",
            "6/6 [==============================] - 2s 335ms/step - loss: 0.4425 - categorical_accuracy: 0.8395 - val_loss: 0.5946 - val_categorical_accuracy: 0.6111\n",
            "Epoch 93/100\n",
            "6/6 [==============================] - 2s 324ms/step - loss: 0.3143 - categorical_accuracy: 0.8642 - val_loss: 0.4033 - val_categorical_accuracy: 0.8333\n",
            "Epoch 94/100\n",
            "6/6 [==============================] - 3s 495ms/step - loss: 0.2471 - categorical_accuracy: 0.9198 - val_loss: 0.6086 - val_categorical_accuracy: 0.7778\n",
            "Epoch 95/100\n",
            "6/6 [==============================] - 4s 657ms/step - loss: 0.2241 - categorical_accuracy: 0.9198 - val_loss: 0.5244 - val_categorical_accuracy: 0.8333\n",
            "Epoch 96/100\n",
            "6/6 [==============================] - 2s 327ms/step - loss: 0.2109 - categorical_accuracy: 0.9259 - val_loss: 0.3600 - val_categorical_accuracy: 0.8333\n",
            "Epoch 97/100\n",
            "6/6 [==============================] - 2s 330ms/step - loss: 0.1774 - categorical_accuracy: 0.9506 - val_loss: 0.3626 - val_categorical_accuracy: 0.7778\n",
            "Epoch 98/100\n",
            "6/6 [==============================] - 2s 323ms/step - loss: 0.1495 - categorical_accuracy: 0.9630 - val_loss: 0.4090 - val_categorical_accuracy: 0.8333\n",
            "Epoch 99/100\n",
            "6/6 [==============================] - 2s 332ms/step - loss: 0.1382 - categorical_accuracy: 0.9691 - val_loss: 0.4522 - val_categorical_accuracy: 0.8333\n",
            "Epoch 100/100\n",
            "6/6 [==============================] - 2s 364ms/step - loss: 0.1250 - categorical_accuracy: 0.9691 - val_loss: 0.3695 - val_categorical_accuracy: 0.8889\n"
          ]
        }
      ]
    },
    {
      "cell_type": "code",
      "source": [
        "model.summary()\n",
        "model.save('/content/Tutorial_LSTM_MP/Weight_model/actionGRUCheatData.h5')\n",
        "plot_graphs(history, 'categorical_accuracy')\n",
        "plot_graphs(history, 'loss')"
      ],
      "metadata": {
        "colab": {
          "base_uri": "https://localhost:8080/",
          "height": 907
        },
        "id": "e2GpesJhXp4e",
        "outputId": "5522c9a1-f42e-4d13-b00d-f0429e8a1b5e"
      },
      "execution_count": 34,
      "outputs": [
        {
          "output_type": "stream",
          "name": "stdout",
          "text": [
            "Model: \"sequential_4\"\n",
            "_________________________________________________________________\n",
            " Layer (type)                Output Shape              Param #   \n",
            "=================================================================\n",
            " gru_9 (GRU)                 (None, 50, 128)           55680     \n",
            "                                                                 \n",
            " gru_10 (GRU)                (None, 50, 64)            37248     \n",
            "                                                                 \n",
            " gru_11 (GRU)                (None, 128)               74496     \n",
            "                                                                 \n",
            " dense_12 (Dense)            (None, 64)                8256      \n",
            "                                                                 \n",
            " dense_13 (Dense)            (None, 32)                2080      \n",
            "                                                                 \n",
            " dense_14 (Dense)            (None, 6)                 198       \n",
            "                                                                 \n",
            "=================================================================\n",
            "Total params: 177,958\n",
            "Trainable params: 177,958\n",
            "Non-trainable params: 0\n",
            "_________________________________________________________________\n"
          ]
        },
        {
          "output_type": "display_data",
          "data": {
            "text/plain": [
              "<Figure size 432x288 with 1 Axes>"
            ],
            "image/png": "[encoded data removed]"
          },
          "metadata": {
            "needs_background": "light"
          }
        },
        {
          "output_type": "display_data",
          "data": {
            "text/plain": [
              "<Figure size 432x288 with 1 Axes>"
            ],
            "image/png": "[encoded data removed]"
          },
          "metadata": {
            "needs_background": "light"
          }
        }
      ]
    },
    {
      "cell_type": "code",
      "source": [
        "model = Sequential()\n",
        "model.add(LSTM(128, return_sequences=True, activation='relu', input_shape=(50,15)))\n",
        "model.add(LSTM(64, return_sequences=True, activation='relu'))\n",
        "model.add(LSTM(128, return_sequences=False, activation='relu'))\n",
        "model.add(Dense(128, activation='relu'))\n",
        "model.add(Dense(32, activation='relu'))\n",
        "model.add(Dense(actions.shape[0], activation='softmax'))"
      ],
      "metadata": {
        "colab": {
          "base_uri": "https://localhost:8080/"
        },
        "outputId": "82303b82-a43f-4a44-87e8-a516e6cf2e6a",
        "id": "_OdP-Pw2WYSa"
      },
      "execution_count": 36,
      "outputs": [
        {
          "output_type": "stream",
          "name": "stderr",
          "text": [
            "WARNING:tensorflow:Layer lstm_3 will not use cuDNN kernels since it doesn't meet the criteria. It will use a generic GPU kernel as fallback when running on GPU.\n",
            "WARNING:tensorflow:Layer lstm_4 will not use cuDNN kernels since it doesn't meet the criteria. It will use a generic GPU kernel as fallback when running on GPU.\n",
            "WARNING:tensorflow:Layer lstm_5 will not use cuDNN kernels since it doesn't meet the criteria. It will use a generic GPU kernel as fallback when running on GPU.\n"
          ]
        }
      ]
    },
    {
      "cell_type": "code",
      "source": [
        "model.compile(optimizer='adam', loss='categorical_crossentropy', metrics=['categorical_accuracy'])\n",
        "model.optimizer.lr.assign(0.0001)"
      ],
      "metadata": {
        "id": "PEyFNrWZWdVA",
        "colab": {
          "base_uri": "https://localhost:8080/"
        },
        "outputId": "30146c16-f688-4796-f09a-0d3b38f6997e"
      },
      "execution_count": 37,
      "outputs": [
        {
          "output_type": "execute_result",
          "data": {
            "text/plain": [
              "<tf.Variable 'UnreadVariable' shape=() dtype=float32, numpy=1e-04>"
            ]
          },
          "metadata": {},
          "execution_count": 37
        }
      ]
    },
    {
      "cell_type": "code",
      "source": [
        "history = model.fit(X_train, y_train, epochs=200, callbacks=[tb_callback], validation_data = (X_test, y_test))"
      ],
      "metadata": {
        "colab": {
          "base_uri": "https://localhost:8080/"
        },
        "id": "1pKvoo-HWglC",
        "outputId": "a7bbfcd5-777a-4588-b965-d362cd27a5c3"
      },
      "execution_count": 38,
      "outputs": [
        {
          "output_type": "stream",
          "name": "stdout",
          "text": [
            "Epoch 1/200\n",
            "6/6 [==============================] - 5s 346ms/step - loss: 1.8038 - categorical_accuracy: 0.0988 - val_loss: 1.7528 - val_categorical_accuracy: 0.2778\n",
            "Epoch 2/200\n",
            "6/6 [==============================] - 2s 281ms/step - loss: 1.7778 - categorical_accuracy: 0.2407 - val_loss: 1.7425 - val_categorical_accuracy: 0.4444\n",
            "Epoch 3/200\n",
            "6/6 [==============================] - 3s 583ms/step - loss: 1.7585 - categorical_accuracy: 0.3210 - val_loss: 1.7224 - val_categorical_accuracy: 0.4444\n",
            "Epoch 4/200\n",
            "6/6 [==============================] - 2s 369ms/step - loss: 1.7347 - categorical_accuracy: 0.3210 - val_loss: 1.6980 - val_categorical_accuracy: 0.5000\n",
            "Epoch 5/200\n",
            "6/6 [==============================] - 2s 280ms/step - loss: 1.7016 - categorical_accuracy: 0.4321 - val_loss: 1.6704 - val_categorical_accuracy: 0.5000\n",
            "Epoch 6/200\n",
            "6/6 [==============================] - 2s 257ms/step - loss: 1.6481 - categorical_accuracy: 0.5185 - val_loss: 1.6208 - val_categorical_accuracy: 0.5000\n",
            "Epoch 7/200\n",
            "6/6 [==============================] - 2s 265ms/step - loss: 1.5677 - categorical_accuracy: 0.4877 - val_loss: 1.5233 - val_categorical_accuracy: 0.5000\n",
            "Epoch 8/200\n",
            "6/6 [==============================] - 2s 270ms/step - loss: 1.4170 - categorical_accuracy: 0.6111 - val_loss: 1.3908 - val_categorical_accuracy: 0.6111\n",
            "Epoch 9/200\n",
            "6/6 [==============================] - 2s 261ms/step - loss: 1.2768 - categorical_accuracy: 0.6173 - val_loss: 1.2787 - val_categorical_accuracy: 0.5000\n",
            "Epoch 10/200\n",
            "6/6 [==============================] - 2s 346ms/step - loss: 1.1491 - categorical_accuracy: 0.6111 - val_loss: 1.2435 - val_categorical_accuracy: 0.3333\n",
            "Epoch 11/200\n",
            "6/6 [==============================] - 4s 597ms/step - loss: 1.0770 - categorical_accuracy: 0.5864 - val_loss: 1.1769 - val_categorical_accuracy: 0.5000\n",
            "Epoch 12/200\n",
            "6/6 [==============================] - 2s 284ms/step - loss: 0.9372 - categorical_accuracy: 0.6173 - val_loss: 1.3402 - val_categorical_accuracy: 0.5556\n",
            "Epoch 13/200\n",
            "6/6 [==============================] - 2s 257ms/step - loss: 0.8247 - categorical_accuracy: 0.7469 - val_loss: 1.4032 - val_categorical_accuracy: 0.5556\n",
            "Epoch 14/200\n",
            "6/6 [==============================] - 2s 270ms/step - loss: 0.8428 - categorical_accuracy: 0.7284 - val_loss: 1.0403 - val_categorical_accuracy: 0.6111\n",
            "Epoch 15/200\n",
            "6/6 [==============================] - 2s 264ms/step - loss: 0.8201 - categorical_accuracy: 0.7469 - val_loss: 1.0729 - val_categorical_accuracy: 0.6111\n",
            "Epoch 16/200\n",
            "6/6 [==============================] - 2s 276ms/step - loss: 0.7331 - categorical_accuracy: 0.7531 - val_loss: 1.0032 - val_categorical_accuracy: 0.6111\n",
            "Epoch 17/200\n",
            "6/6 [==============================] - 2s 287ms/step - loss: 0.6714 - categorical_accuracy: 0.7654 - val_loss: 1.1329 - val_categorical_accuracy: 0.5000\n",
            "Epoch 18/200\n",
            "6/6 [==============================] - 3s 500ms/step - loss: 0.6366 - categorical_accuracy: 0.7407 - val_loss: 1.5735 - val_categorical_accuracy: 0.5556\n",
            "Epoch 19/200\n",
            "6/6 [==============================] - 3s 506ms/step - loss: 0.4923 - categorical_accuracy: 0.8210 - val_loss: 1.8311 - val_categorical_accuracy: 0.6667\n",
            "Epoch 20/200\n",
            "6/6 [==============================] - 2s 267ms/step - loss: 0.3743 - categorical_accuracy: 0.8704 - val_loss: 2.2910 - val_categorical_accuracy: 0.5556\n",
            "Epoch 21/200\n",
            "6/6 [==============================] - 2s 280ms/step - loss: 0.4908 - categorical_accuracy: 0.8025 - val_loss: 0.7225 - val_categorical_accuracy: 0.6111\n",
            "Epoch 22/200\n",
            "6/6 [==============================] - 2s 276ms/step - loss: 0.5093 - categorical_accuracy: 0.7963 - val_loss: 0.6046 - val_categorical_accuracy: 0.8333\n",
            "Epoch 23/200\n",
            "6/6 [==============================] - 1s 250ms/step - loss: 0.8973 - categorical_accuracy: 0.8210 - val_loss: 1.2656 - val_categorical_accuracy: 0.6667\n",
            "Epoch 24/200\n",
            "6/6 [==============================] - 2s 273ms/step - loss: 0.8971 - categorical_accuracy: 0.6914 - val_loss: 1.6762 - val_categorical_accuracy: 0.6667\n",
            "Epoch 25/200\n",
            "6/6 [==============================] - 2s 297ms/step - loss: 0.7208 - categorical_accuracy: 0.7222 - val_loss: 1.8353 - val_categorical_accuracy: 0.5000\n",
            "Epoch 26/200\n",
            "6/6 [==============================] - 4s 593ms/step - loss: 0.5435 - categorical_accuracy: 0.7901 - val_loss: 0.7375 - val_categorical_accuracy: 0.7778\n",
            "Epoch 27/200\n",
            "6/6 [==============================] - 2s 314ms/step - loss: 0.4642 - categorical_accuracy: 0.9074 - val_loss: 1.0633 - val_categorical_accuracy: 0.7222\n",
            "Epoch 28/200\n",
            "6/6 [==============================] - 2s 269ms/step - loss: 0.3888 - categorical_accuracy: 0.8704 - val_loss: 2.3270 - val_categorical_accuracy: 0.7222\n",
            "Epoch 29/200\n",
            "6/6 [==============================] - 2s 264ms/step - loss: 0.3362 - categorical_accuracy: 0.9074 - val_loss: 2.2372 - val_categorical_accuracy: 0.6667\n",
            "Epoch 30/200\n",
            "6/6 [==============================] - 2s 276ms/step - loss: 0.3340 - categorical_accuracy: 0.9136 - val_loss: 3.0022 - val_categorical_accuracy: 0.7222\n",
            "Epoch 31/200\n",
            "6/6 [==============================] - 2s 274ms/step - loss: 0.2936 - categorical_accuracy: 0.8704 - val_loss: 2.8594 - val_categorical_accuracy: 0.7778\n",
            "Epoch 32/200\n",
            "6/6 [==============================] - 2s 270ms/step - loss: 0.3115 - categorical_accuracy: 0.9012 - val_loss: 2.3448 - val_categorical_accuracy: 0.6111\n",
            "Epoch 33/200\n",
            "6/6 [==============================] - 2s 429ms/step - loss: 0.2926 - categorical_accuracy: 0.8704 - val_loss: 3.8835 - val_categorical_accuracy: 0.7222\n",
            "Epoch 34/200\n",
            "6/6 [==============================] - 3s 590ms/step - loss: 0.2539 - categorical_accuracy: 0.9012 - val_loss: 3.2510 - val_categorical_accuracy: 0.6667\n",
            "Epoch 35/200\n",
            "6/6 [==============================] - 2s 261ms/step - loss: 0.2800 - categorical_accuracy: 0.9074 - val_loss: 2.7271 - val_categorical_accuracy: 0.6667\n",
            "Epoch 36/200\n",
            "6/6 [==============================] - 2s 256ms/step - loss: 0.3858 - categorical_accuracy: 0.9012 - val_loss: 1.2797 - val_categorical_accuracy: 0.6667\n",
            "Epoch 37/200\n",
            "6/6 [==============================] - 2s 281ms/step - loss: 0.3644 - categorical_accuracy: 0.8827 - val_loss: 0.5268 - val_categorical_accuracy: 0.8889\n",
            "Epoch 38/200\n",
            "6/6 [==============================] - 2s 274ms/step - loss: 0.3930 - categorical_accuracy: 0.8704 - val_loss: 0.5162 - val_categorical_accuracy: 0.7778\n",
            "Epoch 39/200\n",
            "6/6 [==============================] - 2s 262ms/step - loss: 0.3426 - categorical_accuracy: 0.8704 - val_loss: 0.7623 - val_categorical_accuracy: 0.7222\n",
            "Epoch 40/200\n",
            "6/6 [==============================] - 2s 272ms/step - loss: 0.3254 - categorical_accuracy: 0.8580 - val_loss: 0.5783 - val_categorical_accuracy: 0.7778\n",
            "Epoch 41/200\n",
            "6/6 [==============================] - 3s 577ms/step - loss: 0.2697 - categorical_accuracy: 0.8951 - val_loss: 0.8786 - val_categorical_accuracy: 0.7222\n",
            "Epoch 42/200\n",
            "6/6 [==============================] - 3s 431ms/step - loss: 0.2351 - categorical_accuracy: 0.9074 - val_loss: 1.2240 - val_categorical_accuracy: 0.7778\n",
            "Epoch 43/200\n",
            "6/6 [==============================] - 2s 284ms/step - loss: 0.2207 - categorical_accuracy: 0.9383 - val_loss: 1.1095 - val_categorical_accuracy: 0.7222\n",
            "Epoch 44/200\n",
            "6/6 [==============================] - 2s 262ms/step - loss: 0.2191 - categorical_accuracy: 0.9198 - val_loss: 0.7529 - val_categorical_accuracy: 0.7778\n",
            "Epoch 45/200\n",
            "6/6 [==============================] - 2s 279ms/step - loss: 0.2627 - categorical_accuracy: 0.9136 - val_loss: 1.0054 - val_categorical_accuracy: 0.7778\n",
            "Epoch 46/200\n",
            "6/6 [==============================] - 2s 266ms/step - loss: 0.1956 - categorical_accuracy: 0.9198 - val_loss: 1.2131 - val_categorical_accuracy: 0.7222\n",
            "Epoch 47/200\n",
            "6/6 [==============================] - 2s 267ms/step - loss: 0.3325 - categorical_accuracy: 0.9012 - val_loss: 2.0680 - val_categorical_accuracy: 0.7222\n",
            "Epoch 48/200\n",
            "6/6 [==============================] - 2s 275ms/step - loss: 0.2571 - categorical_accuracy: 0.8951 - val_loss: 0.7672 - val_categorical_accuracy: 0.8333\n",
            "Epoch 49/200\n",
            "6/6 [==============================] - 4s 602ms/step - loss: 0.1743 - categorical_accuracy: 0.9444 - val_loss: 0.4488 - val_categorical_accuracy: 0.8333\n",
            "Epoch 50/200\n",
            "6/6 [==============================] - 2s 342ms/step - loss: 0.1767 - categorical_accuracy: 0.9321 - val_loss: 0.8450 - val_categorical_accuracy: 0.8333\n",
            "Epoch 51/200\n",
            "6/6 [==============================] - 2s 255ms/step - loss: 0.1370 - categorical_accuracy: 0.9321 - val_loss: 1.1411 - val_categorical_accuracy: 0.7778\n",
            "Epoch 52/200\n",
            "6/6 [==============================] - 2s 253ms/step - loss: 0.1083 - categorical_accuracy: 0.9753 - val_loss: 1.4012 - val_categorical_accuracy: 0.7778\n",
            "Epoch 53/200\n",
            "6/6 [==============================] - 2s 270ms/step - loss: 0.1072 - categorical_accuracy: 0.9691 - val_loss: 1.9495 - val_categorical_accuracy: 0.7778\n",
            "Epoch 54/200\n",
            "6/6 [==============================] - 2s 272ms/step - loss: 0.0783 - categorical_accuracy: 0.9753 - val_loss: 1.7756 - val_categorical_accuracy: 0.7778\n",
            "Epoch 55/200\n",
            "6/6 [==============================] - 2s 271ms/step - loss: 0.0752 - categorical_accuracy: 0.9815 - val_loss: 2.1246 - val_categorical_accuracy: 0.7778\n",
            "Epoch 56/200\n",
            "6/6 [==============================] - 2s 351ms/step - loss: 0.0626 - categorical_accuracy: 0.9877 - val_loss: 2.5492 - val_categorical_accuracy: 0.7222\n",
            "Epoch 57/200\n",
            "6/6 [==============================] - 4s 603ms/step - loss: 0.0597 - categorical_accuracy: 0.9815 - val_loss: 2.9953 - val_categorical_accuracy: 0.7222\n",
            "Epoch 58/200\n",
            "6/6 [==============================] - 2s 269ms/step - loss: 0.0474 - categorical_accuracy: 0.9877 - val_loss: 3.2374 - val_categorical_accuracy: 0.7778\n",
            "Epoch 59/200\n",
            "6/6 [==============================] - 2s 267ms/step - loss: 0.0440 - categorical_accuracy: 0.9877 - val_loss: 3.6027 - val_categorical_accuracy: 0.6667\n",
            "Epoch 60/200\n",
            "6/6 [==============================] - 2s 275ms/step - loss: 0.1964 - categorical_accuracy: 0.9506 - val_loss: 1.9378 - val_categorical_accuracy: 0.6667\n",
            "Epoch 61/200\n",
            "6/6 [==============================] - 2s 269ms/step - loss: 0.1629 - categorical_accuracy: 0.9321 - val_loss: 1.0830 - val_categorical_accuracy: 0.7222\n",
            "Epoch 62/200\n",
            "6/6 [==============================] - 2s 272ms/step - loss: 0.1589 - categorical_accuracy: 0.9383 - val_loss: 1.5009 - val_categorical_accuracy: 0.7778\n",
            "Epoch 63/200\n",
            "6/6 [==============================] - 2s 271ms/step - loss: 0.1615 - categorical_accuracy: 0.9198 - val_loss: 0.8064 - val_categorical_accuracy: 0.7778\n",
            "Epoch 64/200\n",
            "6/6 [==============================] - 3s 482ms/step - loss: 0.0999 - categorical_accuracy: 0.9753 - val_loss: 1.4717 - val_categorical_accuracy: 0.7778\n",
            "Epoch 65/200\n",
            "6/6 [==============================] - 3s 495ms/step - loss: 0.0988 - categorical_accuracy: 0.9691 - val_loss: 1.2708 - val_categorical_accuracy: 0.7778\n",
            "Epoch 66/200\n",
            "6/6 [==============================] - 2s 264ms/step - loss: 0.0835 - categorical_accuracy: 0.9691 - val_loss: 1.1377 - val_categorical_accuracy: 0.7778\n",
            "Epoch 67/200\n",
            "6/6 [==============================] - 2s 254ms/step - loss: 0.0489 - categorical_accuracy: 0.9938 - val_loss: 1.1108 - val_categorical_accuracy: 0.8333\n",
            "Epoch 68/200\n",
            "6/6 [==============================] - 2s 263ms/step - loss: 0.0499 - categorical_accuracy: 0.9938 - val_loss: 1.3673 - val_categorical_accuracy: 0.8333\n",
            "Epoch 69/200\n",
            "6/6 [==============================] - 2s 269ms/step - loss: 0.0377 - categorical_accuracy: 0.9938 - val_loss: 1.8126 - val_categorical_accuracy: 0.8333\n",
            "Epoch 70/200\n",
            "6/6 [==============================] - 2s 264ms/step - loss: 0.0346 - categorical_accuracy: 0.9938 - val_loss: 1.6673 - val_categorical_accuracy: 0.8333\n",
            "Epoch 71/200\n",
            "6/6 [==============================] - 2s 259ms/step - loss: 0.0308 - categorical_accuracy: 0.9877 - val_loss: 2.2237 - val_categorical_accuracy: 0.8333\n",
            "Epoch 72/200\n",
            "6/6 [==============================] - 3s 519ms/step - loss: 0.0227 - categorical_accuracy: 0.9938 - val_loss: 2.1095 - val_categorical_accuracy: 0.8333\n",
            "Epoch 73/200\n",
            "6/6 [==============================] - 3s 447ms/step - loss: 0.0147 - categorical_accuracy: 1.0000 - val_loss: 2.6204 - val_categorical_accuracy: 0.8333\n",
            "Epoch 74/200\n",
            "6/6 [==============================] - 2s 258ms/step - loss: 0.0129 - categorical_accuracy: 1.0000 - val_loss: 2.1748 - val_categorical_accuracy: 0.8333\n",
            "Epoch 75/200\n",
            "6/6 [==============================] - 2s 266ms/step - loss: 0.0105 - categorical_accuracy: 1.0000 - val_loss: 2.4556 - val_categorical_accuracy: 0.8333\n",
            "Epoch 76/200\n",
            "6/6 [==============================] - 2s 279ms/step - loss: 0.0103 - categorical_accuracy: 0.9938 - val_loss: 2.0700 - val_categorical_accuracy: 0.8333\n",
            "Epoch 77/200\n",
            "6/6 [==============================] - 2s 272ms/step - loss: 0.3702 - categorical_accuracy: 0.9074 - val_loss: 6.9388 - val_categorical_accuracy: 0.5556\n",
            "Epoch 78/200\n",
            "6/6 [==============================] - 2s 282ms/step - loss: 0.9141 - categorical_accuracy: 0.8333 - val_loss: 2.7145 - val_categorical_accuracy: 0.7222\n",
            "Epoch 79/200\n",
            "6/6 [==============================] - 2s 319ms/step - loss: 0.9130 - categorical_accuracy: 0.7469 - val_loss: 1.1481 - val_categorical_accuracy: 0.4444\n",
            "Epoch 80/200\n",
            "6/6 [==============================] - 3s 585ms/step - loss: 0.8502 - categorical_accuracy: 0.6975 - val_loss: 1.1873 - val_categorical_accuracy: 0.5000\n",
            "Epoch 81/200\n",
            "6/6 [==============================] - 2s 298ms/step - loss: 0.8747 - categorical_accuracy: 0.7099 - val_loss: 1.0860 - val_categorical_accuracy: 0.5556\n",
            "Epoch 82/200\n",
            "6/6 [==============================] - 2s 269ms/step - loss: 0.8313 - categorical_accuracy: 0.7407 - val_loss: 0.9790 - val_categorical_accuracy: 0.6667\n",
            "Epoch 83/200\n",
            "6/6 [==============================] - 2s 279ms/step - loss: 0.7616 - categorical_accuracy: 0.8333 - val_loss: 0.8557 - val_categorical_accuracy: 0.7222\n",
            "Epoch 84/200\n",
            "6/6 [==============================] - 2s 281ms/step - loss: 0.6649 - categorical_accuracy: 0.8951 - val_loss: 0.7043 - val_categorical_accuracy: 0.7778\n",
            "Epoch 85/200\n",
            "6/6 [==============================] - 2s 290ms/step - loss: 0.5332 - categorical_accuracy: 0.9136 - val_loss: 0.5619 - val_categorical_accuracy: 0.8333\n",
            "Epoch 86/200\n",
            "6/6 [==============================] - 2s 279ms/step - loss: 0.3826 - categorical_accuracy: 0.8951 - val_loss: 0.7951 - val_categorical_accuracy: 0.7778\n",
            "Epoch 87/200\n",
            "6/6 [==============================] - 3s 548ms/step - loss: 0.2964 - categorical_accuracy: 0.9074 - val_loss: 0.8090 - val_categorical_accuracy: 0.8333\n",
            "Epoch 88/200\n",
            "6/6 [==============================] - 3s 471ms/step - loss: 0.2373 - categorical_accuracy: 0.9444 - val_loss: 0.6415 - val_categorical_accuracy: 0.8333\n",
            "Epoch 89/200\n",
            "6/6 [==============================] - 2s 259ms/step - loss: 0.1659 - categorical_accuracy: 0.9506 - val_loss: 1.3526 - val_categorical_accuracy: 0.8889\n",
            "Epoch 90/200\n",
            "6/6 [==============================] - 2s 261ms/step - loss: 0.1217 - categorical_accuracy: 0.9630 - val_loss: 0.6558 - val_categorical_accuracy: 0.7778\n",
            "Epoch 91/200\n",
            "6/6 [==============================] - 2s 254ms/step - loss: 0.0990 - categorical_accuracy: 0.9753 - val_loss: 0.6735 - val_categorical_accuracy: 0.8333\n",
            "Epoch 92/200\n",
            "6/6 [==============================] - 2s 260ms/step - loss: 0.0819 - categorical_accuracy: 0.9877 - val_loss: 0.6283 - val_categorical_accuracy: 0.8333\n",
            "Epoch 93/200\n",
            "6/6 [==============================] - 2s 285ms/step - loss: 0.6051 - categorical_accuracy: 0.8333 - val_loss: 1.1879 - val_categorical_accuracy: 0.6667\n",
            "Epoch 94/200\n",
            "6/6 [==============================] - 2s 268ms/step - loss: 0.4684 - categorical_accuracy: 0.8272 - val_loss: 0.9330 - val_categorical_accuracy: 0.6111\n",
            "Epoch 95/200\n",
            "6/6 [==============================] - 3s 614ms/step - loss: 0.4917 - categorical_accuracy: 0.8086 - val_loss: 1.0527 - val_categorical_accuracy: 0.5556\n",
            "Epoch 96/200\n",
            "6/6 [==============================] - 3s 410ms/step - loss: 0.4714 - categorical_accuracy: 0.8395 - val_loss: 0.8843 - val_categorical_accuracy: 0.6667\n",
            "Epoch 97/200\n",
            "6/6 [==============================] - 2s 274ms/step - loss: 0.3932 - categorical_accuracy: 0.8765 - val_loss: 0.6817 - val_categorical_accuracy: 0.6667\n",
            "Epoch 98/200\n",
            "6/6 [==============================] - 2s 258ms/step - loss: 0.2835 - categorical_accuracy: 0.9012 - val_loss: 0.5908 - val_categorical_accuracy: 0.7222\n",
            "Epoch 99/200\n",
            "6/6 [==============================] - 2s 281ms/step - loss: 0.2229 - categorical_accuracy: 0.9074 - val_loss: 3.3125 - val_categorical_accuracy: 0.7222\n",
            "Epoch 100/200\n",
            "6/6 [==============================] - 2s 266ms/step - loss: 0.1945 - categorical_accuracy: 0.9198 - val_loss: 3.5840 - val_categorical_accuracy: 0.7222\n",
            "Epoch 101/200\n",
            "6/6 [==============================] - 2s 268ms/step - loss: 0.1034 - categorical_accuracy: 0.9691 - val_loss: 2.3444 - val_categorical_accuracy: 0.8889\n",
            "Epoch 102/200\n",
            "6/6 [==============================] - 2s 375ms/step - loss: 0.1350 - categorical_accuracy: 0.9444 - val_loss: 3.0520 - val_categorical_accuracy: 0.8333\n",
            "Epoch 103/200\n",
            "6/6 [==============================] - 3s 582ms/step - loss: 0.0904 - categorical_accuracy: 0.9691 - val_loss: 2.9773 - val_categorical_accuracy: 0.8333\n",
            "Epoch 104/200\n",
            "6/6 [==============================] - 2s 257ms/step - loss: 0.0660 - categorical_accuracy: 0.9815 - val_loss: 2.9812 - val_categorical_accuracy: 0.8333\n",
            "Epoch 105/200\n",
            "6/6 [==============================] - 2s 262ms/step - loss: 0.0555 - categorical_accuracy: 0.9877 - val_loss: 3.1874 - val_categorical_accuracy: 0.7778\n",
            "Epoch 106/200\n",
            "6/6 [==============================] - 2s 256ms/step - loss: 0.0583 - categorical_accuracy: 0.9815 - val_loss: 3.1523 - val_categorical_accuracy: 0.7778\n",
            "Epoch 107/200\n",
            "6/6 [==============================] - 2s 277ms/step - loss: 0.2013 - categorical_accuracy: 0.9753 - val_loss: 1.7898 - val_categorical_accuracy: 0.7222\n",
            "Epoch 108/200\n",
            "6/6 [==============================] - 2s 278ms/step - loss: 0.3640 - categorical_accuracy: 0.8704 - val_loss: 1.8077 - val_categorical_accuracy: 0.5000\n",
            "Epoch 109/200\n",
            "6/6 [==============================] - 2s 263ms/step - loss: 0.8470 - categorical_accuracy: 0.7778 - val_loss: 1.8400 - val_categorical_accuracy: 0.5556\n",
            "Epoch 110/200\n",
            "6/6 [==============================] - 3s 453ms/step - loss: 0.5943 - categorical_accuracy: 0.8086 - val_loss: 1.3141 - val_categorical_accuracy: 0.6111\n",
            "Epoch 111/200\n",
            "6/6 [==============================] - 3s 534ms/step - loss: 0.7569 - categorical_accuracy: 0.7469 - val_loss: 2.2600 - val_categorical_accuracy: 0.2778\n",
            "Epoch 112/200\n",
            "6/6 [==============================] - 2s 268ms/step - loss: 1.4161 - categorical_accuracy: 0.5062 - val_loss: 1.6630 - val_categorical_accuracy: 0.3889\n",
            "Epoch 113/200\n",
            "6/6 [==============================] - 1s 252ms/step - loss: 1.1649 - categorical_accuracy: 0.5432 - val_loss: 1.1311 - val_categorical_accuracy: 0.5000\n",
            "Epoch 114/200\n",
            "6/6 [==============================] - 2s 270ms/step - loss: 0.9434 - categorical_accuracy: 0.6420 - val_loss: 1.0223 - val_categorical_accuracy: 0.5556\n",
            "Epoch 115/200\n",
            "6/6 [==============================] - 2s 272ms/step - loss: 0.9481 - categorical_accuracy: 0.6605 - val_loss: 1.0234 - val_categorical_accuracy: 0.6111\n",
            "Epoch 116/200\n",
            "6/6 [==============================] - 2s 260ms/step - loss: 0.9576 - categorical_accuracy: 0.5864 - val_loss: 1.0205 - val_categorical_accuracy: 0.6111\n",
            "Epoch 117/200\n",
            "6/6 [==============================] - 2s 266ms/step - loss: 0.9308 - categorical_accuracy: 0.6296 - val_loss: 0.9972 - val_categorical_accuracy: 0.6667\n",
            "Epoch 118/200\n",
            "6/6 [==============================] - 3s 539ms/step - loss: 0.8880 - categorical_accuracy: 0.7099 - val_loss: 0.9719 - val_categorical_accuracy: 0.5000\n",
            "Epoch 119/200\n",
            "6/6 [==============================] - 3s 441ms/step - loss: 0.8513 - categorical_accuracy: 0.7407 - val_loss: 0.9507 - val_categorical_accuracy: 0.5556\n",
            "Epoch 120/200\n",
            "6/6 [==============================] - 2s 268ms/step - loss: 0.8172 - categorical_accuracy: 0.7284 - val_loss: 0.9280 - val_categorical_accuracy: 0.5556\n",
            "Epoch 121/200\n",
            "6/6 [==============================] - 2s 272ms/step - loss: 0.7839 - categorical_accuracy: 0.7284 - val_loss: 0.8846 - val_categorical_accuracy: 0.5556\n",
            "Epoch 122/200\n",
            "6/6 [==============================] - 2s 274ms/step - loss: 0.7470 - categorical_accuracy: 0.7284 - val_loss: 0.8835 - val_categorical_accuracy: 0.5556\n",
            "Epoch 123/200\n",
            "6/6 [==============================] - 2s 269ms/step - loss: 0.7144 - categorical_accuracy: 0.7346 - val_loss: 0.9034 - val_categorical_accuracy: 0.5556\n",
            "Epoch 124/200\n",
            "6/6 [==============================] - 2s 265ms/step - loss: 0.6742 - categorical_accuracy: 0.7593 - val_loss: 0.8955 - val_categorical_accuracy: 0.5000\n",
            "Epoch 125/200\n",
            "6/6 [==============================] - 2s 357ms/step - loss: 0.6536 - categorical_accuracy: 0.7593 - val_loss: 1.0977 - val_categorical_accuracy: 0.5000\n",
            "Epoch 126/200\n",
            "6/6 [==============================] - 4s 602ms/step - loss: 0.6215 - categorical_accuracy: 0.7901 - val_loss: 0.8479 - val_categorical_accuracy: 0.6667\n",
            "Epoch 127/200\n",
            "6/6 [==============================] - 2s 253ms/step - loss: 0.5788 - categorical_accuracy: 0.7840 - val_loss: 0.7820 - val_categorical_accuracy: 0.6111\n",
            "Epoch 128/200\n",
            "6/6 [==============================] - 2s 264ms/step - loss: 0.5386 - categorical_accuracy: 0.8457 - val_loss: 0.8565 - val_categorical_accuracy: 0.6111\n",
            "Epoch 129/200\n",
            "6/6 [==============================] - 2s 278ms/step - loss: 0.5056 - categorical_accuracy: 0.8642 - val_loss: 0.7124 - val_categorical_accuracy: 0.7222\n",
            "Epoch 130/200\n",
            "6/6 [==============================] - 2s 278ms/step - loss: 0.4463 - categorical_accuracy: 0.8704 - val_loss: 0.6895 - val_categorical_accuracy: 0.7778\n",
            "Epoch 131/200\n",
            "6/6 [==============================] - 2s 266ms/step - loss: 0.4068 - categorical_accuracy: 0.8704 - val_loss: 0.9031 - val_categorical_accuracy: 0.7222\n",
            "Epoch 132/200\n",
            "6/6 [==============================] - 2s 278ms/step - loss: 0.3594 - categorical_accuracy: 0.8704 - val_loss: 0.9734 - val_categorical_accuracy: 0.6111\n",
            "Epoch 133/200\n",
            "6/6 [==============================] - 3s 495ms/step - loss: 0.3345 - categorical_accuracy: 0.8765 - val_loss: 0.9539 - val_categorical_accuracy: 0.6111\n",
            "Epoch 134/200\n",
            "6/6 [==============================] - 3s 518ms/step - loss: 0.3257 - categorical_accuracy: 0.8642 - val_loss: 1.2829 - val_categorical_accuracy: 0.6111\n",
            "Epoch 135/200\n",
            "6/6 [==============================] - 2s 276ms/step - loss: 0.2887 - categorical_accuracy: 0.8827 - val_loss: 1.4421 - val_categorical_accuracy: 0.5556\n",
            "Epoch 136/200\n",
            "6/6 [==============================] - 2s 276ms/step - loss: 0.2791 - categorical_accuracy: 0.8889 - val_loss: 1.4107 - val_categorical_accuracy: 0.6111\n",
            "Epoch 137/200\n",
            "6/6 [==============================] - 2s 279ms/step - loss: 0.3679 - categorical_accuracy: 0.8642 - val_loss: 1.2741 - val_categorical_accuracy: 0.6667\n",
            "Epoch 138/200\n",
            "6/6 [==============================] - 2s 275ms/step - loss: 0.3078 - categorical_accuracy: 0.8827 - val_loss: 1.1187 - val_categorical_accuracy: 0.7222\n",
            "Epoch 139/200\n",
            "6/6 [==============================] - 2s 271ms/step - loss: 0.3096 - categorical_accuracy: 0.8704 - val_loss: 1.3331 - val_categorical_accuracy: 0.6111\n",
            "Epoch 140/200\n",
            "6/6 [==============================] - 2s 310ms/step - loss: 0.2736 - categorical_accuracy: 0.8889 - val_loss: 1.4105 - val_categorical_accuracy: 0.6111\n",
            "Epoch 141/200\n",
            "6/6 [==============================] - 3s 502ms/step - loss: 0.2614 - categorical_accuracy: 0.8951 - val_loss: 1.1946 - val_categorical_accuracy: 0.6111\n",
            "Epoch 142/200\n",
            "6/6 [==============================] - 2s 388ms/step - loss: 0.4834 - categorical_accuracy: 0.8148 - val_loss: 2.0706 - val_categorical_accuracy: 0.4444\n",
            "Epoch 143/200\n",
            "6/6 [==============================] - 2s 272ms/step - loss: 1.2069 - categorical_accuracy: 0.6481 - val_loss: 1.7581 - val_categorical_accuracy: 0.4444\n",
            "Epoch 144/200\n",
            "6/6 [==============================] - 2s 269ms/step - loss: 0.9911 - categorical_accuracy: 0.6543 - val_loss: 1.0661 - val_categorical_accuracy: 0.4444\n",
            "Epoch 145/200\n",
            "6/6 [==============================] - 2s 265ms/step - loss: 0.8775 - categorical_accuracy: 0.6605 - val_loss: 1.0044 - val_categorical_accuracy: 0.5556\n",
            "Epoch 146/200\n",
            "6/6 [==============================] - 2s 268ms/step - loss: 0.8773 - categorical_accuracy: 0.7222 - val_loss: 0.8978 - val_categorical_accuracy: 0.7222\n",
            "Epoch 147/200\n",
            "6/6 [==============================] - 2s 277ms/step - loss: 0.7905 - categorical_accuracy: 0.7593 - val_loss: 0.9139 - val_categorical_accuracy: 0.6667\n",
            "Epoch 148/200\n",
            "6/6 [==============================] - 2s 380ms/step - loss: 0.7753 - categorical_accuracy: 0.7593 - val_loss: 0.9496 - val_categorical_accuracy: 0.6111\n",
            "Epoch 149/200\n",
            "6/6 [==============================] - 4s 609ms/step - loss: 0.7227 - categorical_accuracy: 0.7778 - val_loss: 0.7883 - val_categorical_accuracy: 0.7222\n",
            "Epoch 150/200\n",
            "6/6 [==============================] - 2s 268ms/step - loss: 0.6922 - categorical_accuracy: 0.7963 - val_loss: 0.7607 - val_categorical_accuracy: 0.6667\n",
            "Epoch 151/200\n",
            "6/6 [==============================] - 2s 272ms/step - loss: 0.6507 - categorical_accuracy: 0.8086 - val_loss: 0.7991 - val_categorical_accuracy: 0.6667\n",
            "Epoch 152/200\n",
            "6/6 [==============================] - 2s 274ms/step - loss: 0.6348 - categorical_accuracy: 0.7963 - val_loss: 0.7052 - val_categorical_accuracy: 0.7222\n",
            "Epoch 153/200\n",
            "6/6 [==============================] - 2s 275ms/step - loss: 0.6932 - categorical_accuracy: 0.7222 - val_loss: 0.9273 - val_categorical_accuracy: 0.5000\n",
            "Epoch 154/200\n",
            "6/6 [==============================] - 2s 265ms/step - loss: 0.7308 - categorical_accuracy: 0.6543 - val_loss: 0.7475 - val_categorical_accuracy: 0.6111\n",
            "Epoch 155/200\n",
            "6/6 [==============================] - 2s 269ms/step - loss: 0.5690 - categorical_accuracy: 0.7901 - val_loss: 0.8543 - val_categorical_accuracy: 0.6667\n",
            "Epoch 156/200\n",
            "6/6 [==============================] - 3s 571ms/step - loss: 0.6014 - categorical_accuracy: 0.8025 - val_loss: 0.6572 - val_categorical_accuracy: 0.7222\n",
            "Epoch 157/200\n",
            "6/6 [==============================] - 3s 450ms/step - loss: 0.5203 - categorical_accuracy: 0.8272 - val_loss: 0.5959 - val_categorical_accuracy: 0.8333\n",
            "Epoch 158/200\n",
            "6/6 [==============================] - 2s 265ms/step - loss: 0.4928 - categorical_accuracy: 0.8210 - val_loss: 0.5545 - val_categorical_accuracy: 0.7222\n",
            "Epoch 159/200\n",
            "6/6 [==============================] - 2s 265ms/step - loss: 0.4539 - categorical_accuracy: 0.8704 - val_loss: 0.4725 - val_categorical_accuracy: 0.8333\n",
            "Epoch 160/200\n",
            "6/6 [==============================] - 2s 260ms/step - loss: 0.4203 - categorical_accuracy: 0.8457 - val_loss: 0.4672 - val_categorical_accuracy: 0.8333\n",
            "Epoch 161/200\n",
            "6/6 [==============================] - 2s 280ms/step - loss: 0.3876 - categorical_accuracy: 0.8457 - val_loss: 0.6883 - val_categorical_accuracy: 0.7778\n",
            "Epoch 162/200\n",
            "6/6 [==============================] - 2s 282ms/step - loss: 0.3905 - categorical_accuracy: 0.8457 - val_loss: 0.9059 - val_categorical_accuracy: 0.6667\n",
            "Epoch 163/200\n",
            "6/6 [==============================] - 2s 351ms/step - loss: 0.5032 - categorical_accuracy: 0.8148 - val_loss: 0.4927 - val_categorical_accuracy: 0.7778\n",
            "Epoch 164/200\n",
            "6/6 [==============================] - 3s 582ms/step - loss: 0.4344 - categorical_accuracy: 0.8333 - val_loss: 0.3521 - val_categorical_accuracy: 1.0000\n",
            "Epoch 165/200\n",
            "6/6 [==============================] - 2s 322ms/step - loss: 0.4318 - categorical_accuracy: 0.8333 - val_loss: 0.4085 - val_categorical_accuracy: 0.8889\n",
            "Epoch 166/200\n",
            "6/6 [==============================] - 2s 275ms/step - loss: 0.3605 - categorical_accuracy: 0.8519 - val_loss: 0.3735 - val_categorical_accuracy: 0.8889\n",
            "Epoch 167/200\n",
            "6/6 [==============================] - 2s 279ms/step - loss: 0.3299 - categorical_accuracy: 0.8457 - val_loss: 0.3369 - val_categorical_accuracy: 0.8889\n",
            "Epoch 168/200\n",
            "6/6 [==============================] - 2s 276ms/step - loss: 0.3064 - categorical_accuracy: 0.8889 - val_loss: 0.3417 - val_categorical_accuracy: 0.9444\n",
            "Epoch 169/200\n",
            "6/6 [==============================] - 2s 274ms/step - loss: 0.2909 - categorical_accuracy: 0.8827 - val_loss: 0.3194 - val_categorical_accuracy: 0.9444\n",
            "Epoch 170/200\n",
            "6/6 [==============================] - 2s 277ms/step - loss: 0.2656 - categorical_accuracy: 0.9074 - val_loss: 0.2730 - val_categorical_accuracy: 0.8889\n",
            "Epoch 171/200\n",
            "6/6 [==============================] - 3s 481ms/step - loss: 0.2666 - categorical_accuracy: 0.8889 - val_loss: 0.2677 - val_categorical_accuracy: 0.9444\n",
            "Epoch 172/200\n",
            "6/6 [==============================] - 3s 529ms/step - loss: 0.2918 - categorical_accuracy: 0.8827 - val_loss: 1.1392 - val_categorical_accuracy: 0.6111\n",
            "Epoch 173/200\n",
            "6/6 [==============================] - 2s 274ms/step - loss: 1.0899 - categorical_accuracy: 0.7346 - val_loss: 0.6591 - val_categorical_accuracy: 0.7222\n",
            "Epoch 174/200\n",
            "6/6 [==============================] - 2s 277ms/step - loss: 0.4190 - categorical_accuracy: 0.8395 - val_loss: 0.7006 - val_categorical_accuracy: 0.6667\n",
            "Epoch 175/200\n",
            "6/6 [==============================] - 2s 271ms/step - loss: 0.3784 - categorical_accuracy: 0.8519 - val_loss: 0.4268 - val_categorical_accuracy: 0.9444\n",
            "Epoch 176/200\n",
            "6/6 [==============================] - 2s 267ms/step - loss: 0.3750 - categorical_accuracy: 0.8395 - val_loss: 0.4337 - val_categorical_accuracy: 0.8333\n",
            "Epoch 177/200\n",
            "6/6 [==============================] - 2s 262ms/step - loss: 0.3644 - categorical_accuracy: 0.8519 - val_loss: 0.3427 - val_categorical_accuracy: 0.9444\n",
            "Epoch 178/200\n",
            "6/6 [==============================] - 2s 310ms/step - loss: 0.3314 - categorical_accuracy: 0.9012 - val_loss: 0.3759 - val_categorical_accuracy: 0.8889\n",
            "Epoch 179/200\n",
            "6/6 [==============================] - 3s 553ms/step - loss: 0.3238 - categorical_accuracy: 0.9012 - val_loss: 0.3397 - val_categorical_accuracy: 0.8333\n",
            "Epoch 180/200\n",
            "6/6 [==============================] - 2s 323ms/step - loss: 0.2861 - categorical_accuracy: 0.9074 - val_loss: 0.4052 - val_categorical_accuracy: 0.8333\n",
            "Epoch 181/200\n",
            "6/6 [==============================] - 2s 262ms/step - loss: 0.2847 - categorical_accuracy: 0.8827 - val_loss: 0.3715 - val_categorical_accuracy: 0.7778\n",
            "Epoch 182/200\n",
            "6/6 [==============================] - 2s 283ms/step - loss: 0.2761 - categorical_accuracy: 0.9012 - val_loss: 0.4841 - val_categorical_accuracy: 0.8333\n",
            "Epoch 183/200\n",
            "6/6 [==============================] - 2s 268ms/step - loss: 0.3506 - categorical_accuracy: 0.8580 - val_loss: 0.4315 - val_categorical_accuracy: 0.7778\n",
            "Epoch 184/200\n",
            "6/6 [==============================] - 2s 260ms/step - loss: 0.2815 - categorical_accuracy: 0.9012 - val_loss: 0.5034 - val_categorical_accuracy: 0.7222\n",
            "Epoch 185/200\n",
            "6/6 [==============================] - 2s 272ms/step - loss: 0.2956 - categorical_accuracy: 0.8951 - val_loss: 0.4123 - val_categorical_accuracy: 0.7778\n",
            "Epoch 186/200\n",
            "6/6 [==============================] - 2s 391ms/step - loss: 0.2489 - categorical_accuracy: 0.9074 - val_loss: 0.3706 - val_categorical_accuracy: 0.7778\n",
            "Epoch 187/200\n",
            "6/6 [==============================] - 4s 595ms/step - loss: 0.2301 - categorical_accuracy: 0.9136 - val_loss: 0.3753 - val_categorical_accuracy: 0.8889\n",
            "Epoch 188/200\n",
            "6/6 [==============================] - 2s 278ms/step - loss: 0.2285 - categorical_accuracy: 0.9136 - val_loss: 0.5103 - val_categorical_accuracy: 0.8333\n",
            "Epoch 189/200\n",
            "6/6 [==============================] - 2s 272ms/step - loss: 0.2347 - categorical_accuracy: 0.9074 - val_loss: 0.5109 - val_categorical_accuracy: 0.8333\n",
            "Epoch 190/200\n",
            "6/6 [==============================] - 2s 269ms/step - loss: 0.1898 - categorical_accuracy: 0.9321 - val_loss: 0.4529 - val_categorical_accuracy: 0.8333\n",
            "Epoch 191/200\n",
            "6/6 [==============================] - 2s 279ms/step - loss: 0.3014 - categorical_accuracy: 0.8889 - val_loss: 0.3966 - val_categorical_accuracy: 0.8889\n",
            "Epoch 192/200\n",
            "6/6 [==============================] - 2s 273ms/step - loss: 0.4043 - categorical_accuracy: 0.8704 - val_loss: 0.9463 - val_categorical_accuracy: 0.6667\n",
            "Epoch 193/200\n",
            "6/6 [==============================] - 2s 268ms/step - loss: 0.3240 - categorical_accuracy: 0.8642 - val_loss: 0.4716 - val_categorical_accuracy: 0.7778\n",
            "Epoch 194/200\n",
            "6/6 [==============================] - 3s 482ms/step - loss: 0.2665 - categorical_accuracy: 0.9074 - val_loss: 0.6468 - val_categorical_accuracy: 0.7222\n",
            "Epoch 195/200\n",
            "6/6 [==============================] - 3s 517ms/step - loss: 0.1744 - categorical_accuracy: 0.9506 - val_loss: 0.4636 - val_categorical_accuracy: 0.8889\n",
            "Epoch 196/200\n",
            "6/6 [==============================] - 2s 279ms/step - loss: 0.1903 - categorical_accuracy: 0.9198 - val_loss: 0.5305 - val_categorical_accuracy: 0.9444\n",
            "Epoch 197/200\n",
            "6/6 [==============================] - 2s 271ms/step - loss: 0.1726 - categorical_accuracy: 0.9198 - val_loss: 0.6094 - val_categorical_accuracy: 0.8333\n",
            "Epoch 198/200\n",
            "6/6 [==============================] - 2s 264ms/step - loss: 0.1748 - categorical_accuracy: 0.9444 - val_loss: 0.5434 - val_categorical_accuracy: 0.7222\n",
            "Epoch 199/200\n",
            "6/6 [==============================] - 2s 264ms/step - loss: 0.1590 - categorical_accuracy: 0.9383 - val_loss: 0.3357 - val_categorical_accuracy: 0.8889\n",
            "Epoch 200/200\n",
            "6/6 [==============================] - 2s 281ms/step - loss: 0.1485 - categorical_accuracy: 0.9444 - val_loss: 0.4250 - val_categorical_accuracy: 0.8333\n"
          ]
        }
      ]
    },
    {
      "cell_type": "code",
      "source": [
        "model.summary()\n",
        "model.save('/content/Tutorial_LSTM_MP/Weight_model/actionLSTMCheatData.h5')\n",
        "plot_graphs(history, 'categorical_accuracy')\n",
        "plot_graphs(history, 'loss')"
      ],
      "metadata": {
        "colab": {
          "base_uri": "https://localhost:8080/",
          "height": 905
        },
        "id": "zfh7eLG9Wi3Z",
        "outputId": "d0764b36-eaed-46c9-a479-5dca3d89a09b"
      },
      "execution_count": 40,
      "outputs": [
        {
          "output_type": "stream",
          "name": "stdout",
          "text": [
            "Model: \"sequential_5\"\n",
            "_________________________________________________________________\n",
            " Layer (type)                Output Shape              Param #   \n",
            "=================================================================\n",
            " lstm_3 (LSTM)               (None, 50, 128)           73728     \n",
            "                                                                 \n",
            " lstm_4 (LSTM)               (None, 50, 64)            49408     \n",
            "                                                                 \n",
            " lstm_5 (LSTM)               (None, 128)               98816     \n",
            "                                                                 \n",
            " dense_15 (Dense)            (None, 128)               16512     \n",
            "                                                                 \n",
            " dense_16 (Dense)            (None, 32)                4128      \n",
            "                                                                 \n",
            " dense_17 (Dense)            (None, 6)                 198       \n",
            "                                                                 \n",
            "=================================================================\n",
            "Total params: 242,790\n",
            "Trainable params: 242,790\n",
            "Non-trainable params: 0\n",
            "_________________________________________________________________\n"
          ]
        },
        {
          "output_type": "display_data",
          "data": {
            "text/plain": [
              "<Figure size 432x288 with 1 Axes>"
            ],
            "image/png": "[encoded data removed]"
          },
          "metadata": {
            "needs_background": "light"
          }
        },
        {
          "output_type": "display_data",
          "data": {
            "text/plain": [
              "<Figure size 432x288 with 1 Axes>"
            ],
            "image/png": "[encoded data removed]"
          },
          "metadata": {
            "needs_background": "light"
          }
        }
      ]
    }
  ],
  "metadata": {
    "accelerator": "GPU",
    "colab": {
      "provenance": []
    },
    "gpuClass": "standard",
    "kernelspec": {
      "display_name": "Python 3.10.2 64-bit",
      "language": "python",
      "name": "python3"
    },
    "language_info": {
      "name": "python",
      "version": "3.10.2"
    },
    "vscode": {
      "interpreter": {
        "hash": "c2d1da28924dd73d48b374a30035f4a3d427e107cd96680887f7889f9d1a8264"
      }
    }
  },
  "nbformat": 4,
  "nbformat_minor": 0
}