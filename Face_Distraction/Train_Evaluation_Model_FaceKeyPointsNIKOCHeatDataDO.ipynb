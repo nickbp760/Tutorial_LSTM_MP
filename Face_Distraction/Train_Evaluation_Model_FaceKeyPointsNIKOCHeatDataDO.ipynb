{
  "cells": [
    {
      "cell_type": "markdown",
      "metadata": {
        "id": "B2cfeWV3Cv6r"
      },
      "source": [
        "# *SOURCE*\n",
        "https://www.youtube.com/watch?v=doDUihpj6ro&t=7339s\n",
        "https://github.com/nicknochnack/ActionDetectionforSignLanguage"
      ]
    },
    {
      "cell_type": "code",
      "source": [
        "! pip install PyQt5"
      ],
      "metadata": {
        "colab": {
          "base_uri": "https://localhost:8080/"
        },
        "id": "krl26FJLF4UL",
        "outputId": "6c54ee2a-c24d-47ec-8c78-d2357b1bb97d"
      },
      "execution_count": 1,
      "outputs": [
        {
          "output_type": "stream",
          "name": "stdout",
          "text": [
            "Looking in indexes: https://pypi.org/simple, https://us-python.pkg.dev/colab-wheels/public/simple/\n",
            "Collecting PyQt5\n",
            "  Downloading PyQt5-5.15.9-cp37-abi3-manylinux_2_17_x86_64.whl (8.4 MB)\n",
            "\u001b[2K     \u001b[90m━━━━━━━━━━━━━━━━━━━━━━━━━━━━━━━━━━━━━━━━\u001b[0m \u001b[32m8.4/8.4 MB\u001b[0m \u001b[31m49.1 MB/s\u001b[0m eta \u001b[36m0:00:00\u001b[0m\n",
            "\u001b[?25hCollecting PyQt5-sip<13,>=12.11\n",
            "  Downloading PyQt5_sip-12.11.1-cp39-cp39-manylinux_2_5_x86_64.manylinux1_x86_64.whl (357 kB)\n",
            "\u001b[2K     \u001b[90m━━━━━━━━━━━━━━━━━━━━━━━━━━━━━━━━━━━━━━\u001b[0m \u001b[32m357.8/357.8 KB\u001b[0m \u001b[31m14.3 MB/s\u001b[0m eta \u001b[36m0:00:00\u001b[0m\n",
            "\u001b[?25hCollecting PyQt5-Qt5>=5.15.2\n",
            "  Downloading PyQt5_Qt5-5.15.2-py3-none-manylinux2014_x86_64.whl (59.9 MB)\n",
            "\u001b[2K     \u001b[90m━━━━━━━━━━━━━━━━━━━━━━━━━━━━━━━━━━━━━━━━\u001b[0m \u001b[32m59.9/59.9 MB\u001b[0m \u001b[31m11.8 MB/s\u001b[0m eta \u001b[36m0:00:00\u001b[0m\n",
            "\u001b[?25hInstalling collected packages: PyQt5-Qt5, PyQt5-sip, PyQt5\n",
            "Successfully installed PyQt5-5.15.9 PyQt5-Qt5-5.15.2 PyQt5-sip-12.11.1\n"
          ]
        }
      ]
    },
    {
      "cell_type": "code",
      "execution_count": 2,
      "metadata": {
        "colab": {
          "base_uri": "https://localhost:8080/"
        },
        "id": "01jSxBD21OU7",
        "outputId": "aad4327a-d328-46a3-c43a-385fbdfc617c"
      },
      "outputs": [
        {
          "output_type": "stream",
          "name": "stdout",
          "text": [
            "Looking in indexes: https://pypi.org/simple, https://us-python.pkg.dev/colab-wheels/public/simple/\n",
            "Collecting tensorflow==2.8.1\n",
            "  Downloading tensorflow-2.8.1-cp39-cp39-manylinux2010_x86_64.whl (498.0 MB)\n",
            "\u001b[2K     \u001b[90m━━━━━━━━━━━━━━━━━━━━━━━━━━━━━━━━━━━━━━━\u001b[0m \u001b[32m498.0/498.0 MB\u001b[0m \u001b[31m3.2 MB/s\u001b[0m eta \u001b[36m0:00:00\u001b[0m\n",
            "\u001b[?25hCollecting tensorflow-gpu==2.8.1\n",
            "  Downloading tensorflow_gpu-2.8.1-cp39-cp39-manylinux2010_x86_64.whl (498.0 MB)\n",
            "\u001b[2K     \u001b[90m━━━━━━━━━━━━━━━━━━━━━━━━━━━━━━━━━━━━━━━\u001b[0m \u001b[32m498.0/498.0 MB\u001b[0m \u001b[31m2.5 MB/s\u001b[0m eta \u001b[36m0:00:00\u001b[0m\n",
            "\u001b[?25hRequirement already satisfied: opencv-python in /usr/local/lib/python3.9/dist-packages (4.6.0.66)\n",
            "Collecting mediapipe\n",
            "  Downloading mediapipe-0.9.1.0-cp39-cp39-manylinux_2_17_x86_64.manylinux2014_x86_64.whl (33.0 MB)\n",
            "\u001b[2K     \u001b[90m━━━━━━━━━━━━━━━━━━━━━━━━━━━━━━━━━━━━━━━━\u001b[0m \u001b[32m33.0/33.0 MB\u001b[0m \u001b[31m46.0 MB/s\u001b[0m eta \u001b[36m0:00:00\u001b[0m\n",
            "\u001b[?25hRequirement already satisfied: termcolor>=1.1.0 in /usr/local/lib/python3.9/dist-packages (from tensorflow==2.8.1) (2.2.0)\n",
            "Collecting keras-preprocessing>=1.1.1\n",
            "  Downloading Keras_Preprocessing-1.1.2-py2.py3-none-any.whl (42 kB)\n",
            "\u001b[2K     \u001b[90m━━━━━━━━━━━━━━━━━━━━━━━━━━━━━━━━━━━━━━━━\u001b[0m \u001b[32m42.6/42.6 KB\u001b[0m \u001b[31m5.3 MB/s\u001b[0m eta \u001b[36m0:00:00\u001b[0m\n",
            "\u001b[?25hRequirement already satisfied: astunparse>=1.6.0 in /usr/local/lib/python3.9/dist-packages (from tensorflow==2.8.1) (1.6.3)\n",
            "Requirement already satisfied: gast>=0.2.1 in /usr/local/lib/python3.9/dist-packages (from tensorflow==2.8.1) (0.4.0)\n",
            "Requirement already satisfied: protobuf>=3.9.2 in /usr/local/lib/python3.9/dist-packages (from tensorflow==2.8.1) (3.19.6)\n",
            "Requirement already satisfied: absl-py>=0.4.0 in /usr/local/lib/python3.9/dist-packages (from tensorflow==2.8.1) (1.4.0)\n",
            "Requirement already satisfied: numpy>=1.20 in /usr/local/lib/python3.9/dist-packages (from tensorflow==2.8.1) (1.22.4)\n",
            "Collecting keras<2.9,>=2.8.0rc0\n",
            "  Downloading keras-2.8.0-py2.py3-none-any.whl (1.4 MB)\n",
            "\u001b[2K     \u001b[90m━━━━━━━━━━━━━━━━━━━━━━━━━━━━━━━━━━━━━━━━\u001b[0m \u001b[32m1.4/1.4 MB\u001b[0m \u001b[31m78.4 MB/s\u001b[0m eta \u001b[36m0:00:00\u001b[0m\n",
            "\u001b[?25hRequirement already satisfied: grpcio<2.0,>=1.24.3 in /usr/local/lib/python3.9/dist-packages (from tensorflow==2.8.1) (1.51.3)\n",
            "Collecting tensorflow-estimator<2.9,>=2.8\n",
            "  Downloading tensorflow_estimator-2.8.0-py2.py3-none-any.whl (462 kB)\n",
            "\u001b[2K     \u001b[90m━━━━━━━━━━━━━━━━━━━━━━━━━━━━━━━━━━━━━━\u001b[0m \u001b[32m462.3/462.3 KB\u001b[0m \u001b[31m45.0 MB/s\u001b[0m eta \u001b[36m0:00:00\u001b[0m\n",
            "\u001b[?25hRequirement already satisfied: wrapt>=1.11.0 in /usr/local/lib/python3.9/dist-packages (from tensorflow==2.8.1) (1.15.0)\n",
            "Requirement already satisfied: tensorflow-io-gcs-filesystem>=0.23.1 in /usr/local/lib/python3.9/dist-packages (from tensorflow==2.8.1) (0.31.0)\n",
            "Requirement already satisfied: libclang>=9.0.1 in /usr/local/lib/python3.9/dist-packages (from tensorflow==2.8.1) (15.0.6.1)\n",
            "Collecting tensorboard<2.9,>=2.8\n",
            "  Downloading tensorboard-2.8.0-py3-none-any.whl (5.8 MB)\n",
            "\u001b[2K     \u001b[90m━━━━━━━━━━━━━━━━━━━━━━━━━━━━━━━━━━━━━━━━\u001b[0m \u001b[32m5.8/5.8 MB\u001b[0m \u001b[31m101.6 MB/s\u001b[0m eta \u001b[36m0:00:00\u001b[0m\n",
            "\u001b[?25hRequirement already satisfied: flatbuffers>=1.12 in /usr/local/lib/python3.9/dist-packages (from tensorflow==2.8.1) (23.3.3)\n",
            "Requirement already satisfied: six>=1.12.0 in /usr/local/lib/python3.9/dist-packages (from tensorflow==2.8.1) (1.15.0)\n",
            "Requirement already satisfied: google-pasta>=0.1.1 in /usr/local/lib/python3.9/dist-packages (from tensorflow==2.8.1) (0.2.0)\n",
            "Requirement already satisfied: setuptools in /usr/local/lib/python3.9/dist-packages (from tensorflow==2.8.1) (63.4.3)\n",
            "Requirement already satisfied: h5py>=2.9.0 in /usr/local/lib/python3.9/dist-packages (from tensorflow==2.8.1) (3.8.0)\n",
            "Requirement already satisfied: typing-extensions>=3.6.6 in /usr/local/lib/python3.9/dist-packages (from tensorflow==2.8.1) (4.5.0)\n",
            "Requirement already satisfied: opt-einsum>=2.3.2 in /usr/local/lib/python3.9/dist-packages (from tensorflow==2.8.1) (3.3.0)\n",
            "Requirement already satisfied: opencv-contrib-python in /usr/local/lib/python3.9/dist-packages (from mediapipe) (4.6.0.66)\n",
            "Requirement already satisfied: matplotlib in /usr/local/lib/python3.9/dist-packages (from mediapipe) (3.7.1)\n",
            "Requirement already satisfied: attrs>=19.1.0 in /usr/local/lib/python3.9/dist-packages (from mediapipe) (22.2.0)\n",
            "Requirement already satisfied: wheel<1.0,>=0.23.0 in /usr/local/lib/python3.9/dist-packages (from astunparse>=1.6.0->tensorflow==2.8.1) (0.40.0)\n",
            "Requirement already satisfied: tensorboard-data-server<0.7.0,>=0.6.0 in /usr/local/lib/python3.9/dist-packages (from tensorboard<2.9,>=2.8->tensorflow==2.8.1) (0.6.1)\n",
            "Requirement already satisfied: werkzeug>=0.11.15 in /usr/local/lib/python3.9/dist-packages (from tensorboard<2.9,>=2.8->tensorflow==2.8.1) (2.2.3)\n",
            "Requirement already satisfied: google-auth-oauthlib<0.5,>=0.4.1 in /usr/local/lib/python3.9/dist-packages (from tensorboard<2.9,>=2.8->tensorflow==2.8.1) (0.4.6)\n",
            "Requirement already satisfied: google-auth<3,>=1.6.3 in /usr/local/lib/python3.9/dist-packages (from tensorboard<2.9,>=2.8->tensorflow==2.8.1) (2.16.2)\n",
            "Requirement already satisfied: markdown>=2.6.8 in /usr/local/lib/python3.9/dist-packages (from tensorboard<2.9,>=2.8->tensorflow==2.8.1) (3.4.1)\n",
            "Requirement already satisfied: tensorboard-plugin-wit>=1.6.0 in /usr/local/lib/python3.9/dist-packages (from tensorboard<2.9,>=2.8->tensorflow==2.8.1) (1.8.1)\n",
            "Requirement already satisfied: requests<3,>=2.21.0 in /usr/local/lib/python3.9/dist-packages (from tensorboard<2.9,>=2.8->tensorflow==2.8.1) (2.27.1)\n",
            "Requirement already satisfied: pyparsing>=2.3.1 in /usr/local/lib/python3.9/dist-packages (from matplotlib->mediapipe) (3.0.9)\n",
            "Requirement already satisfied: contourpy>=1.0.1 in /usr/local/lib/python3.9/dist-packages (from matplotlib->mediapipe) (1.0.7)\n",
            "Requirement already satisfied: importlib-resources>=3.2.0 in /usr/local/lib/python3.9/dist-packages (from matplotlib->mediapipe) (5.12.0)\n",
            "Requirement already satisfied: pillow>=6.2.0 in /usr/local/lib/python3.9/dist-packages (from matplotlib->mediapipe) (8.4.0)\n",
            "Requirement already satisfied: packaging>=20.0 in /usr/local/lib/python3.9/dist-packages (from matplotlib->mediapipe) (23.0)\n",
            "Requirement already satisfied: cycler>=0.10 in /usr/local/lib/python3.9/dist-packages (from matplotlib->mediapipe) (0.11.0)\n",
            "Requirement already satisfied: python-dateutil>=2.7 in /usr/local/lib/python3.9/dist-packages (from matplotlib->mediapipe) (2.8.2)\n",
            "Requirement already satisfied: fonttools>=4.22.0 in /usr/local/lib/python3.9/dist-packages (from matplotlib->mediapipe) (4.39.0)\n",
            "Requirement already satisfied: kiwisolver>=1.0.1 in /usr/local/lib/python3.9/dist-packages (from matplotlib->mediapipe) (1.4.4)\n",
            "Requirement already satisfied: pyasn1-modules>=0.2.1 in /usr/local/lib/python3.9/dist-packages (from google-auth<3,>=1.6.3->tensorboard<2.9,>=2.8->tensorflow==2.8.1) (0.2.8)\n",
            "Requirement already satisfied: rsa<5,>=3.1.4 in /usr/local/lib/python3.9/dist-packages (from google-auth<3,>=1.6.3->tensorboard<2.9,>=2.8->tensorflow==2.8.1) (4.9)\n",
            "Requirement already satisfied: cachetools<6.0,>=2.0.0 in /usr/local/lib/python3.9/dist-packages (from google-auth<3,>=1.6.3->tensorboard<2.9,>=2.8->tensorflow==2.8.1) (5.3.0)\n",
            "Requirement already satisfied: requests-oauthlib>=0.7.0 in /usr/local/lib/python3.9/dist-packages (from google-auth-oauthlib<0.5,>=0.4.1->tensorboard<2.9,>=2.8->tensorflow==2.8.1) (1.3.1)\n",
            "Requirement already satisfied: zipp>=3.1.0 in /usr/local/lib/python3.9/dist-packages (from importlib-resources>=3.2.0->matplotlib->mediapipe) (3.15.0)\n",
            "Requirement already satisfied: importlib-metadata>=4.4 in /usr/local/lib/python3.9/dist-packages (from markdown>=2.6.8->tensorboard<2.9,>=2.8->tensorflow==2.8.1) (6.0.0)\n",
            "Requirement already satisfied: urllib3<1.27,>=1.21.1 in /usr/local/lib/python3.9/dist-packages (from requests<3,>=2.21.0->tensorboard<2.9,>=2.8->tensorflow==2.8.1) (1.26.15)\n",
            "Requirement already satisfied: idna<4,>=2.5 in /usr/local/lib/python3.9/dist-packages (from requests<3,>=2.21.0->tensorboard<2.9,>=2.8->tensorflow==2.8.1) (3.4)\n",
            "Requirement already satisfied: certifi>=2017.4.17 in /usr/local/lib/python3.9/dist-packages (from requests<3,>=2.21.0->tensorboard<2.9,>=2.8->tensorflow==2.8.1) (2022.12.7)\n",
            "Requirement already satisfied: charset-normalizer~=2.0.0 in /usr/local/lib/python3.9/dist-packages (from requests<3,>=2.21.0->tensorboard<2.9,>=2.8->tensorflow==2.8.1) (2.0.12)\n",
            "Requirement already satisfied: MarkupSafe>=2.1.1 in /usr/local/lib/python3.9/dist-packages (from werkzeug>=0.11.15->tensorboard<2.9,>=2.8->tensorflow==2.8.1) (2.1.2)\n",
            "Requirement already satisfied: pyasn1<0.5.0,>=0.4.6 in /usr/local/lib/python3.9/dist-packages (from pyasn1-modules>=0.2.1->google-auth<3,>=1.6.3->tensorboard<2.9,>=2.8->tensorflow==2.8.1) (0.4.8)\n",
            "Requirement already satisfied: oauthlib>=3.0.0 in /usr/local/lib/python3.9/dist-packages (from requests-oauthlib>=0.7.0->google-auth-oauthlib<0.5,>=0.4.1->tensorboard<2.9,>=2.8->tensorflow==2.8.1) (3.2.2)\n",
            "Installing collected packages: tensorflow-estimator, keras, keras-preprocessing, mediapipe, tensorboard, tensorflow-gpu, tensorflow\n",
            "  Attempting uninstall: tensorflow-estimator\n",
            "    Found existing installation: tensorflow-estimator 2.11.0\n",
            "    Uninstalling tensorflow-estimator-2.11.0:\n",
            "      Successfully uninstalled tensorflow-estimator-2.11.0\n",
            "  Attempting uninstall: keras\n",
            "    Found existing installation: keras 2.11.0\n",
            "    Uninstalling keras-2.11.0:\n",
            "      Successfully uninstalled keras-2.11.0\n",
            "  Attempting uninstall: tensorboard\n",
            "    Found existing installation: tensorboard 2.11.2\n",
            "    Uninstalling tensorboard-2.11.2:\n",
            "      Successfully uninstalled tensorboard-2.11.2\n",
            "  Attempting uninstall: tensorflow\n",
            "    Found existing installation: tensorflow 2.11.0\n",
            "    Uninstalling tensorflow-2.11.0:\n",
            "      Successfully uninstalled tensorflow-2.11.0\n",
            "Successfully installed keras-2.8.0 keras-preprocessing-1.1.2 mediapipe-0.9.1.0 tensorboard-2.8.0 tensorflow-2.8.1 tensorflow-estimator-2.8.0 tensorflow-gpu-2.8.1\n"
          ]
        }
      ],
      "source": [
        "!pip install tensorflow==2.8.1 tensorflow-gpu==2.8.1 opencv-python mediapipe "
      ]
    },
    {
      "cell_type": "code",
      "execution_count": 16,
      "metadata": {
        "id": "jmck_Duo16sH"
      },
      "outputs": [],
      "source": [
        "from sklearn.model_selection import train_test_split\n",
        "from tensorflow.keras.utils import to_categorical\n",
        "import cv2\n",
        "import numpy as np\n",
        "import os\n",
        "from matplotlib import pyplot as plt\n",
        "import time\n",
        "import mediapipe as mp\n",
        "from tensorflow.keras.models import Sequential\n",
        "from tensorflow.keras.layers import LSTM, Dense, GRU, Dropout\n",
        "from tensorflow.keras.callbacks import TensorBoard\n",
        "from sklearn.metrics import multilabel_confusion_matrix, accuracy_score"
      ]
    },
    {
      "cell_type": "code",
      "execution_count": 4,
      "metadata": {
        "id": "q_tJp7Ua2G8m"
      },
      "outputs": [],
      "source": [
        "# Path for exported data, numpy arrays\n",
        "DATA_PATH = os.path.join('/content/Tutorial_LSTM_MP/Complete_CheatDataNiko') \n",
        "\n",
        "# Actions that we try to detect\n",
        "actions = np.array(['LirikKanan', 'LirikKiri', 'MenolehKanan', 'MenolehKiri', 'Normal', 'TutupMata'])\n",
        "\n",
        "# Thirty videos worth of data\n",
        "no_sequences = 30\n",
        "\n",
        "# Videos are going to be 30 frames in length\n",
        "sequence_length = 50"
      ]
    },
    {
      "cell_type": "code",
      "execution_count": 5,
      "metadata": {
        "id": "JwKesrxr2T8-",
        "colab": {
          "base_uri": "https://localhost:8080/"
        },
        "outputId": "6ad37824-6f97-4eeb-eaa0-6a49c4719843"
      },
      "outputs": [
        {
          "output_type": "stream",
          "name": "stdout",
          "text": [
            "Cloning into 'Tutorial_LSTM_MP'...\n",
            "remote: Enumerating objects: 37889, done.\u001b[K\n",
            "remote: Counting objects: 100% (14877/14877), done.\u001b[K\n",
            "remote: Compressing objects: 100% (10175/10175), done.\u001b[K\n",
            "remote: Total 37889 (delta 4707), reused 14865 (delta 4696), pack-reused 23012\n",
            "Receiving objects: 100% (37889/37889), 635.58 MiB | 22.83 MiB/s, done.\n",
            "Resolving deltas: 100% (4912/4912), done.\n",
            "Updating files: 100% (31884/31884), done.\n"
          ]
        }
      ],
      "source": [
        "! git clone https://github.com/nickbp760/Tutorial_LSTM_MP.git"
      ]
    },
    {
      "cell_type": "markdown",
      "metadata": {
        "id": "wQxJ8Faz2zhe"
      },
      "source": [
        "### **Preprocess Data and Create Labels and Features**"
      ]
    },
    {
      "cell_type": "markdown",
      "metadata": {
        "id": "C80wYflo3R2O"
      },
      "source": [
        "The label map containts the action label"
      ]
    },
    {
      "cell_type": "code",
      "execution_count": 6,
      "metadata": {
        "id": "OIwDfz9t2puH"
      },
      "outputs": [],
      "source": [
        "label_map = {label:num for num, label in enumerate(actions)}"
      ]
    },
    {
      "cell_type": "code",
      "execution_count": 7,
      "metadata": {
        "id": "7b0QZxvg2tI2",
        "colab": {
          "base_uri": "https://localhost:8080/"
        },
        "outputId": "8da9795d-8d23-4466-e7c4-d16732c3cee2"
      },
      "outputs": [
        {
          "output_type": "execute_result",
          "data": {
            "text/plain": [
              "{'LirikKanan': 0,\n",
              " 'LirikKiri': 1,\n",
              " 'MenolehKanan': 2,\n",
              " 'MenolehKiri': 3,\n",
              " 'Normal': 4,\n",
              " 'TutupMata': 5}"
            ]
          },
          "metadata": {},
          "execution_count": 7
        }
      ],
      "source": [
        "label_map"
      ]
    },
    {
      "cell_type": "markdown",
      "metadata": {
        "id": "Iz5HooSw3ZEG"
      },
      "source": [
        "load the the data that have been prepared before"
      ]
    },
    {
      "cell_type": "code",
      "execution_count": 8,
      "metadata": {
        "id": "3rnaU3Sf2729"
      },
      "outputs": [],
      "source": [
        "sequences, labels = [], []\n",
        "for action in actions:\n",
        "    for sequence in range(no_sequences):\n",
        "        window = []\n",
        "        for frame_num in range(sequence_length):\n",
        "            res = np.load(os.path.join(DATA_PATH, action, str(sequence), \"{}.npy\".format(frame_num)))\n",
        "            window.append(res)\n",
        "        sequences.append(window)\n",
        "        labels.append(label_map[action])"
      ]
    },
    {
      "cell_type": "code",
      "execution_count": 9,
      "metadata": {
        "id": "4-t-H7AV3qiv",
        "colab": {
          "base_uri": "https://localhost:8080/"
        },
        "outputId": "11491c3c-9c2b-4840-b3fe-0ef738c0e63c"
      },
      "outputs": [
        {
          "output_type": "execute_result",
          "data": {
            "text/plain": [
              "(180, 50, 15)"
            ]
          },
          "metadata": {},
          "execution_count": 9
        }
      ],
      "source": [
        "np.array(sequences).shape"
      ]
    },
    {
      "cell_type": "markdown",
      "metadata": {
        "id": "bSUQCFAg41jm"
      },
      "source": [
        "DEFINE X (Input) and y (Output)"
      ]
    },
    {
      "cell_type": "code",
      "execution_count": 10,
      "metadata": {
        "id": "P1P7mqVT4hTO",
        "colab": {
          "base_uri": "https://localhost:8080/"
        },
        "outputId": "4f813b90-6dcc-4786-92da-e4f6b4e92632"
      },
      "outputs": [
        {
          "output_type": "stream",
          "name": "stdout",
          "text": [
            "(180, 50, 15)\n",
            "(180, 6)\n"
          ]
        }
      ],
      "source": [
        "X = np.array(sequences)\n",
        "print(X.shape)\n",
        "y = to_categorical(labels).astype(int)\n",
        "print(y.shape)"
      ]
    },
    {
      "cell_type": "code",
      "execution_count": 11,
      "metadata": {
        "id": "nI6Vfm5A4vA-"
      },
      "outputs": [],
      "source": [
        "X_train, X_test, y_train, y_test = train_test_split(X, y, test_size=0.1)"
      ]
    },
    {
      "cell_type": "code",
      "source": [
        "def plot_graphs(history, string):\n",
        "    plt.plot(history.history[string])\n",
        "    plt.plot(history.history['val_'+string])\n",
        "    plt.xlabel(\"Epochs\")\n",
        "    plt.ylabel(string)\n",
        "    plt.legend([string, 'val_'+string])\n",
        "    plt.show()\n",
        "    "
      ],
      "metadata": {
        "id": "xfFaOsHKeB3a"
      },
      "execution_count": 12,
      "outputs": []
    },
    {
      "cell_type": "markdown",
      "metadata": {
        "id": "09LN9RY75Bid"
      },
      "source": [
        "### **Build and Train Neural Network**"
      ]
    },
    {
      "cell_type": "code",
      "execution_count": 27,
      "metadata": {
        "id": "ptTzydZM5KCt"
      },
      "outputs": [],
      "source": [
        "log_dir = os.path.join('Logs')\n",
        "tb_callback = TensorBoard(log_dir=log_dir)"
      ]
    },
    {
      "cell_type": "code",
      "source": [
        "model = Sequential()\n",
        "model.add(GRU(128, return_sequences=True, activation='relu', input_shape=(50,15)))\n",
        "model.add(Dropout(0.2))\n",
        "model.add(GRU(64, return_sequences=True, activation='relu'))\n",
        "model.add(Dropout(0.2))\n",
        "model.add(GRU(128, return_sequences=False, activation='relu'))\n",
        "model.add(Dense(64, activation='relu'))\n",
        "model.add(Dense(32, activation='relu'))\n",
        "model.add(Dense(actions.shape[0], activation='softmax'))"
      ],
      "metadata": {
        "colab": {
          "base_uri": "https://localhost:8080/"
        },
        "id": "mcfMbYMeTiMn",
        "outputId": "78cfd348-27ca-43f1-dbf5-373b0fa46ca0"
      },
      "execution_count": 35,
      "outputs": [
        {
          "output_type": "stream",
          "name": "stderr",
          "text": [
            "WARNING:tensorflow:Layer gru_10 will not use cuDNN kernels since it doesn't meet the criteria. It will use a generic GPU kernel as fallback when running on GPU.\n",
            "WARNING:tensorflow:Layer gru_11 will not use cuDNN kernels since it doesn't meet the criteria. It will use a generic GPU kernel as fallback when running on GPU.\n",
            "WARNING:tensorflow:Layer gru_12 will not use cuDNN kernels since it doesn't meet the criteria. It will use a generic GPU kernel as fallback when running on GPU.\n"
          ]
        }
      ]
    },
    {
      "cell_type": "code",
      "source": [
        "model.compile(optimizer='adam', loss='categorical_crossentropy', metrics=['categorical_accuracy'])\n",
        "model.optimizer.lr.assign(0.0001)"
      ],
      "metadata": {
        "id": "pT2nuqEvSY8Z",
        "colab": {
          "base_uri": "https://localhost:8080/"
        },
        "outputId": "9c5f8ea3-6f30-4e25-d618-32c19070fc84"
      },
      "execution_count": 36,
      "outputs": [
        {
          "output_type": "execute_result",
          "data": {
            "text/plain": [
              "<tf.Variable 'UnreadVariable' shape=() dtype=float32, numpy=1e-04>"
            ]
          },
          "metadata": {},
          "execution_count": 36
        }
      ]
    },
    {
      "cell_type": "code",
      "source": [
        "history = model.fit(X_train, y_train, epochs=100, callbacks=[tb_callback], validation_data = (X_test, y_test))"
      ],
      "metadata": {
        "colab": {
          "base_uri": "https://localhost:8080/"
        },
        "id": "Wp4-43BrStY7",
        "outputId": "5b26a1fc-4cb3-405b-f5a5-2230ed138188"
      },
      "execution_count": 37,
      "outputs": [
        {
          "output_type": "stream",
          "name": "stdout",
          "text": [
            "Epoch 1/100\n",
            "6/6 [==============================] - 6s 426ms/step - loss: 1.7688 - categorical_accuracy: 0.1667 - val_loss: 1.7484 - val_categorical_accuracy: 0.1667\n",
            "Epoch 2/100\n",
            "6/6 [==============================] - 4s 783ms/step - loss: 1.7340 - categorical_accuracy: 0.1667 - val_loss: 1.7200 - val_categorical_accuracy: 0.3333\n",
            "Epoch 3/100\n",
            "6/6 [==============================] - 4s 630ms/step - loss: 1.7074 - categorical_accuracy: 0.1975 - val_loss: 1.6901 - val_categorical_accuracy: 0.3333\n",
            "Epoch 4/100\n",
            "6/6 [==============================] - 3s 530ms/step - loss: 1.6744 - categorical_accuracy: 0.2593 - val_loss: 1.6594 - val_categorical_accuracy: 0.3333\n",
            "Epoch 5/100\n",
            "6/6 [==============================] - 2s 318ms/step - loss: 1.6517 - categorical_accuracy: 0.3210 - val_loss: 1.6284 - val_categorical_accuracy: 0.3333\n",
            "Epoch 6/100\n",
            "6/6 [==============================] - 2s 324ms/step - loss: 1.6202 - categorical_accuracy: 0.3519 - val_loss: 1.5963 - val_categorical_accuracy: 0.5556\n",
            "Epoch 7/100\n",
            "6/6 [==============================] - 2s 324ms/step - loss: 1.5891 - categorical_accuracy: 0.3951 - val_loss: 1.5643 - val_categorical_accuracy: 0.5556\n",
            "Epoch 8/100\n",
            "6/6 [==============================] - 4s 649ms/step - loss: 1.5590 - categorical_accuracy: 0.4074 - val_loss: 1.5333 - val_categorical_accuracy: 0.5556\n",
            "Epoch 9/100\n",
            "6/6 [==============================] - 3s 456ms/step - loss: 1.5348 - categorical_accuracy: 0.4259 - val_loss: 1.5021 - val_categorical_accuracy: 0.5556\n",
            "Epoch 10/100\n",
            "6/6 [==============================] - 2s 317ms/step - loss: 1.4936 - categorical_accuracy: 0.4691 - val_loss: 1.4706 - val_categorical_accuracy: 0.5556\n",
            "Epoch 11/100\n",
            "6/6 [==============================] - 2s 313ms/step - loss: 1.4643 - categorical_accuracy: 0.4691 - val_loss: 1.4354 - val_categorical_accuracy: 0.5556\n",
            "Epoch 12/100\n",
            "6/6 [==============================] - 2s 312ms/step - loss: 1.4365 - categorical_accuracy: 0.4938 - val_loss: 1.3958 - val_categorical_accuracy: 0.5556\n",
            "Epoch 13/100\n",
            "6/6 [==============================] - 2s 333ms/step - loss: 1.3882 - categorical_accuracy: 0.4938 - val_loss: 1.3535 - val_categorical_accuracy: 0.5556\n",
            "Epoch 14/100\n",
            "6/6 [==============================] - 3s 449ms/step - loss: 1.3603 - categorical_accuracy: 0.4815 - val_loss: 1.3153 - val_categorical_accuracy: 0.5556\n",
            "Epoch 15/100\n",
            "6/6 [==============================] - 4s 683ms/step - loss: 1.3233 - categorical_accuracy: 0.4630 - val_loss: 1.2789 - val_categorical_accuracy: 0.5556\n",
            "Epoch 16/100\n",
            "6/6 [==============================] - 2s 301ms/step - loss: 1.2927 - categorical_accuracy: 0.4938 - val_loss: 1.2440 - val_categorical_accuracy: 0.5556\n",
            "Epoch 17/100\n",
            "6/6 [==============================] - 2s 330ms/step - loss: 1.2609 - categorical_accuracy: 0.4938 - val_loss: 1.2113 - val_categorical_accuracy: 0.5556\n",
            "Epoch 18/100\n",
            "6/6 [==============================] - 2s 327ms/step - loss: 1.2332 - categorical_accuracy: 0.4938 - val_loss: 1.1845 - val_categorical_accuracy: 0.5556\n",
            "Epoch 19/100\n",
            "6/6 [==============================] - 2s 325ms/step - loss: 1.2046 - categorical_accuracy: 0.4938 - val_loss: 1.1615 - val_categorical_accuracy: 0.5556\n",
            "Epoch 20/100\n",
            "6/6 [==============================] - 2s 323ms/step - loss: 1.1852 - categorical_accuracy: 0.4938 - val_loss: 1.1390 - val_categorical_accuracy: 0.5556\n",
            "Epoch 21/100\n",
            "6/6 [==============================] - 4s 745ms/step - loss: 1.1734 - categorical_accuracy: 0.4938 - val_loss: 1.1116 - val_categorical_accuracy: 0.5556\n",
            "Epoch 22/100\n",
            "6/6 [==============================] - 3s 363ms/step - loss: 1.1572 - categorical_accuracy: 0.4938 - val_loss: 1.0940 - val_categorical_accuracy: 0.5556\n",
            "Epoch 23/100\n",
            "6/6 [==============================] - 2s 318ms/step - loss: 1.1341 - categorical_accuracy: 0.4938 - val_loss: 1.0777 - val_categorical_accuracy: 0.5556\n",
            "Epoch 24/100\n",
            "6/6 [==============================] - 2s 328ms/step - loss: 1.1248 - categorical_accuracy: 0.4938 - val_loss: 1.0603 - val_categorical_accuracy: 0.5556\n",
            "Epoch 25/100\n",
            "6/6 [==============================] - 2s 314ms/step - loss: 1.1116 - categorical_accuracy: 0.4938 - val_loss: 1.0450 - val_categorical_accuracy: 0.5556\n",
            "Epoch 26/100\n",
            "6/6 [==============================] - 2s 321ms/step - loss: 1.0956 - categorical_accuracy: 0.5000 - val_loss: 1.0278 - val_categorical_accuracy: 0.5556\n",
            "Epoch 27/100\n",
            "6/6 [==============================] - 3s 565ms/step - loss: 1.0880 - categorical_accuracy: 0.5123 - val_loss: 1.0038 - val_categorical_accuracy: 0.5556\n",
            "Epoch 28/100\n",
            "6/6 [==============================] - 4s 554ms/step - loss: 1.0604 - categorical_accuracy: 0.5494 - val_loss: 0.9782 - val_categorical_accuracy: 0.5556\n",
            "Epoch 29/100\n",
            "6/6 [==============================] - 2s 318ms/step - loss: 1.0539 - categorical_accuracy: 0.5062 - val_loss: 0.9701 - val_categorical_accuracy: 0.5556\n",
            "Epoch 30/100\n",
            "6/6 [==============================] - 2s 340ms/step - loss: 1.0287 - categorical_accuracy: 0.5062 - val_loss: 0.9592 - val_categorical_accuracy: 0.5556\n",
            "Epoch 31/100\n",
            "6/6 [==============================] - 2s 321ms/step - loss: 1.0153 - categorical_accuracy: 0.5370 - val_loss: 0.9553 - val_categorical_accuracy: 0.8333\n",
            "Epoch 32/100\n",
            "6/6 [==============================] - 2s 321ms/step - loss: 1.0072 - categorical_accuracy: 0.5988 - val_loss: 0.9376 - val_categorical_accuracy: 0.9444\n",
            "Epoch 33/100\n",
            "6/6 [==============================] - 2s 433ms/step - loss: 0.9768 - categorical_accuracy: 0.5926 - val_loss: 0.8839 - val_categorical_accuracy: 0.7222\n",
            "Epoch 34/100\n",
            "6/6 [==============================] - 4s 758ms/step - loss: 0.9436 - categorical_accuracy: 0.5802 - val_loss: 0.8763 - val_categorical_accuracy: 0.6111\n",
            "Epoch 35/100\n",
            "6/6 [==============================] - 2s 326ms/step - loss: 0.9113 - categorical_accuracy: 0.5988 - val_loss: 0.8302 - val_categorical_accuracy: 0.8333\n",
            "Epoch 36/100\n",
            "6/6 [==============================] - 2s 336ms/step - loss: 0.8945 - categorical_accuracy: 0.6173 - val_loss: 0.8291 - val_categorical_accuracy: 0.6667\n",
            "Epoch 37/100\n",
            "6/6 [==============================] - 2s 329ms/step - loss: 0.8675 - categorical_accuracy: 0.6296 - val_loss: 0.8078 - val_categorical_accuracy: 0.8889\n",
            "Epoch 38/100\n",
            "6/6 [==============================] - 2s 324ms/step - loss: 0.8064 - categorical_accuracy: 0.6728 - val_loss: 0.8272 - val_categorical_accuracy: 0.4444\n",
            "Epoch 39/100\n",
            "6/6 [==============================] - 2s 310ms/step - loss: 0.7955 - categorical_accuracy: 0.6790 - val_loss: 0.7880 - val_categorical_accuracy: 0.7222\n",
            "Epoch 40/100\n",
            "6/6 [==============================] - 4s 719ms/step - loss: 0.7497 - categorical_accuracy: 0.7531 - val_loss: 0.6897 - val_categorical_accuracy: 0.8889\n",
            "Epoch 41/100\n",
            "6/6 [==============================] - 3s 406ms/step - loss: 0.7031 - categorical_accuracy: 0.6975 - val_loss: 0.6024 - val_categorical_accuracy: 0.9444\n",
            "Epoch 42/100\n",
            "6/6 [==============================] - 3s 436ms/step - loss: 0.6366 - categorical_accuracy: 0.7778 - val_loss: 0.6121 - val_categorical_accuracy: 0.8333\n",
            "Epoch 43/100\n",
            "6/6 [==============================] - 2s 314ms/step - loss: 0.5690 - categorical_accuracy: 0.7840 - val_loss: 0.6281 - val_categorical_accuracy: 0.7222\n",
            "Epoch 44/100\n",
            "6/6 [==============================] - 2s 333ms/step - loss: 0.5774 - categorical_accuracy: 0.7716 - val_loss: 0.6009 - val_categorical_accuracy: 0.6667\n",
            "Epoch 45/100\n",
            "6/6 [==============================] - 2s 324ms/step - loss: 0.5700 - categorical_accuracy: 0.7654 - val_loss: 0.5986 - val_categorical_accuracy: 0.7778\n",
            "Epoch 46/100\n",
            "6/6 [==============================] - 4s 739ms/step - loss: 0.4884 - categorical_accuracy: 0.8086 - val_loss: 0.4316 - val_categorical_accuracy: 0.8333\n",
            "Epoch 47/100\n",
            "6/6 [==============================] - 3s 396ms/step - loss: 0.4386 - categorical_accuracy: 0.8272 - val_loss: 0.3974 - val_categorical_accuracy: 0.8333\n",
            "Epoch 48/100\n",
            "6/6 [==============================] - 2s 325ms/step - loss: 0.4462 - categorical_accuracy: 0.8395 - val_loss: 0.4836 - val_categorical_accuracy: 0.8333\n",
            "Epoch 49/100\n",
            "6/6 [==============================] - 2s 322ms/step - loss: 0.5146 - categorical_accuracy: 0.7716 - val_loss: 0.2894 - val_categorical_accuracy: 1.0000\n",
            "Epoch 50/100\n",
            "6/6 [==============================] - 2s 328ms/step - loss: 0.4296 - categorical_accuracy: 0.8025 - val_loss: 0.4530 - val_categorical_accuracy: 0.7778\n",
            "Epoch 51/100\n",
            "6/6 [==============================] - 2s 320ms/step - loss: 0.4138 - categorical_accuracy: 0.8025 - val_loss: 0.5634 - val_categorical_accuracy: 0.7222\n",
            "Epoch 52/100\n",
            "6/6 [==============================] - 3s 575ms/step - loss: 0.4329 - categorical_accuracy: 0.8086 - val_loss: 0.5669 - val_categorical_accuracy: 0.6667\n",
            "Epoch 53/100\n",
            "6/6 [==============================] - 3s 552ms/step - loss: 0.4698 - categorical_accuracy: 0.8210 - val_loss: 0.2850 - val_categorical_accuracy: 0.9444\n",
            "Epoch 54/100\n",
            "6/6 [==============================] - 2s 334ms/step - loss: 0.3594 - categorical_accuracy: 0.8704 - val_loss: 0.3778 - val_categorical_accuracy: 0.7778\n",
            "Epoch 55/100\n",
            "6/6 [==============================] - 2s 322ms/step - loss: 0.3274 - categorical_accuracy: 0.8889 - val_loss: 0.3221 - val_categorical_accuracy: 0.8333\n",
            "Epoch 56/100\n",
            "6/6 [==============================] - 2s 313ms/step - loss: 0.3721 - categorical_accuracy: 0.8519 - val_loss: 0.2679 - val_categorical_accuracy: 0.9444\n",
            "Epoch 57/100\n",
            "6/6 [==============================] - 2s 308ms/step - loss: 0.3299 - categorical_accuracy: 0.8704 - val_loss: 0.2495 - val_categorical_accuracy: 0.9444\n",
            "Epoch 58/100\n",
            "6/6 [==============================] - 2s 367ms/step - loss: 0.2806 - categorical_accuracy: 0.8951 - val_loss: 0.2100 - val_categorical_accuracy: 0.9444\n",
            "Epoch 59/100\n",
            "6/6 [==============================] - 4s 739ms/step - loss: 0.2857 - categorical_accuracy: 0.9074 - val_loss: 0.2461 - val_categorical_accuracy: 0.9444\n",
            "Epoch 60/100\n",
            "6/6 [==============================] - 2s 318ms/step - loss: 0.2613 - categorical_accuracy: 0.9012 - val_loss: 0.2250 - val_categorical_accuracy: 0.9444\n",
            "Epoch 61/100\n",
            "6/6 [==============================] - 2s 308ms/step - loss: 0.2640 - categorical_accuracy: 0.9074 - val_loss: 0.2259 - val_categorical_accuracy: 0.9444\n",
            "Epoch 62/100\n",
            "6/6 [==============================] - 2s 319ms/step - loss: 0.2425 - categorical_accuracy: 0.9198 - val_loss: 0.1694 - val_categorical_accuracy: 0.9444\n",
            "Epoch 63/100\n",
            "6/6 [==============================] - 2s 328ms/step - loss: 0.2435 - categorical_accuracy: 0.9198 - val_loss: 0.3260 - val_categorical_accuracy: 0.8889\n",
            "Epoch 64/100\n",
            "6/6 [==============================] - 2s 319ms/step - loss: 0.2828 - categorical_accuracy: 0.9012 - val_loss: 0.1487 - val_categorical_accuracy: 0.9444\n",
            "Epoch 65/100\n",
            "6/6 [==============================] - 3s 624ms/step - loss: 0.3192 - categorical_accuracy: 0.8765 - val_loss: 0.1322 - val_categorical_accuracy: 1.0000\n",
            "Epoch 66/100\n",
            "6/6 [==============================] - 3s 488ms/step - loss: 0.3141 - categorical_accuracy: 0.8519 - val_loss: 0.1178 - val_categorical_accuracy: 1.0000\n",
            "Epoch 67/100\n",
            "6/6 [==============================] - 2s 314ms/step - loss: 0.2669 - categorical_accuracy: 0.9012 - val_loss: 0.1097 - val_categorical_accuracy: 1.0000\n",
            "Epoch 68/100\n",
            "6/6 [==============================] - 2s 330ms/step - loss: 0.2934 - categorical_accuracy: 0.8704 - val_loss: 0.1074 - val_categorical_accuracy: 1.0000\n",
            "Epoch 69/100\n",
            "6/6 [==============================] - 2s 315ms/step - loss: 0.2271 - categorical_accuracy: 0.9136 - val_loss: 0.2045 - val_categorical_accuracy: 0.8889\n",
            "Epoch 70/100\n",
            "6/6 [==============================] - 2s 312ms/step - loss: 0.2151 - categorical_accuracy: 0.9506 - val_loss: 0.1307 - val_categorical_accuracy: 1.0000\n",
            "Epoch 71/100\n",
            "6/6 [==============================] - 2s 367ms/step - loss: 0.2479 - categorical_accuracy: 0.8889 - val_loss: 0.1685 - val_categorical_accuracy: 0.9444\n",
            "Epoch 72/100\n",
            "6/6 [==============================] - 5s 769ms/step - loss: 0.3031 - categorical_accuracy: 0.8889 - val_loss: 0.5171 - val_categorical_accuracy: 0.7222\n",
            "Epoch 73/100\n",
            "6/6 [==============================] - 2s 310ms/step - loss: 0.3625 - categorical_accuracy: 0.8580 - val_loss: 0.1686 - val_categorical_accuracy: 0.9444\n",
            "Epoch 74/100\n",
            "6/6 [==============================] - 2s 315ms/step - loss: 0.2308 - categorical_accuracy: 0.9136 - val_loss: 0.2585 - val_categorical_accuracy: 0.8889\n",
            "Epoch 75/100\n",
            "6/6 [==============================] - 2s 332ms/step - loss: 0.2659 - categorical_accuracy: 0.8951 - val_loss: 0.1485 - val_categorical_accuracy: 0.9444\n",
            "Epoch 76/100\n",
            "6/6 [==============================] - 2s 319ms/step - loss: 0.2306 - categorical_accuracy: 0.9012 - val_loss: 0.2079 - val_categorical_accuracy: 0.9444\n",
            "Epoch 77/100\n",
            "6/6 [==============================] - 2s 323ms/step - loss: 0.2304 - categorical_accuracy: 0.9136 - val_loss: 0.1344 - val_categorical_accuracy: 0.9444\n",
            "Epoch 78/100\n",
            "6/6 [==============================] - 4s 643ms/step - loss: 0.1620 - categorical_accuracy: 0.9568 - val_loss: 0.1399 - val_categorical_accuracy: 0.8889\n",
            "Epoch 79/100\n",
            "6/6 [==============================] - 3s 463ms/step - loss: 0.1866 - categorical_accuracy: 0.9198 - val_loss: 0.1155 - val_categorical_accuracy: 0.9444\n",
            "Epoch 80/100\n",
            "6/6 [==============================] - 2s 315ms/step - loss: 0.1817 - categorical_accuracy: 0.9444 - val_loss: 0.1384 - val_categorical_accuracy: 0.9444\n",
            "Epoch 81/100\n",
            "6/6 [==============================] - 2s 327ms/step - loss: 0.1911 - categorical_accuracy: 0.9321 - val_loss: 0.1070 - val_categorical_accuracy: 1.0000\n",
            "Epoch 82/100\n",
            "6/6 [==============================] - 2s 319ms/step - loss: 0.1570 - categorical_accuracy: 0.9321 - val_loss: 0.1587 - val_categorical_accuracy: 0.9444\n",
            "Epoch 83/100\n",
            "6/6 [==============================] - 2s 322ms/step - loss: 0.1456 - categorical_accuracy: 0.9383 - val_loss: 0.1248 - val_categorical_accuracy: 0.9444\n",
            "Epoch 84/100\n",
            "6/6 [==============================] - 2s 379ms/step - loss: 0.1812 - categorical_accuracy: 0.9383 - val_loss: 0.1253 - val_categorical_accuracy: 0.9444\n",
            "Epoch 85/100\n",
            "6/6 [==============================] - 4s 734ms/step - loss: 0.1440 - categorical_accuracy: 0.9568 - val_loss: 0.1321 - val_categorical_accuracy: 0.9444\n",
            "Epoch 86/100\n",
            "6/6 [==============================] - 2s 325ms/step - loss: 0.1451 - categorical_accuracy: 0.9568 - val_loss: 0.0924 - val_categorical_accuracy: 0.9444\n",
            "Epoch 87/100\n",
            "6/6 [==============================] - 2s 318ms/step - loss: 0.1386 - categorical_accuracy: 0.9630 - val_loss: 0.1327 - val_categorical_accuracy: 0.9444\n",
            "Epoch 88/100\n",
            "6/6 [==============================] - 2s 306ms/step - loss: 0.1369 - categorical_accuracy: 0.9506 - val_loss: 0.0755 - val_categorical_accuracy: 1.0000\n",
            "Epoch 89/100\n",
            "6/6 [==============================] - 2s 316ms/step - loss: 0.1335 - categorical_accuracy: 0.9506 - val_loss: 0.1347 - val_categorical_accuracy: 0.9444\n",
            "Epoch 90/100\n",
            "6/6 [==============================] - 2s 313ms/step - loss: 0.1519 - categorical_accuracy: 0.9321 - val_loss: 0.0684 - val_categorical_accuracy: 1.0000\n",
            "Epoch 91/100\n",
            "6/6 [==============================] - 4s 717ms/step - loss: 0.1522 - categorical_accuracy: 0.9321 - val_loss: 0.1980 - val_categorical_accuracy: 0.9444\n",
            "Epoch 92/100\n",
            "6/6 [==============================] - 3s 422ms/step - loss: 0.1433 - categorical_accuracy: 0.9506 - val_loss: 0.0783 - val_categorical_accuracy: 0.9444\n",
            "Epoch 93/100\n",
            "6/6 [==============================] - 2s 319ms/step - loss: 0.1684 - categorical_accuracy: 0.9444 - val_loss: 0.1266 - val_categorical_accuracy: 0.9444\n",
            "Epoch 94/100\n",
            "6/6 [==============================] - 2s 335ms/step - loss: 0.1250 - categorical_accuracy: 0.9383 - val_loss: 0.0529 - val_categorical_accuracy: 1.0000\n",
            "Epoch 95/100\n",
            "6/6 [==============================] - 2s 316ms/step - loss: 0.1828 - categorical_accuracy: 0.9136 - val_loss: 0.0622 - val_categorical_accuracy: 1.0000\n",
            "Epoch 96/100\n",
            "6/6 [==============================] - 2s 309ms/step - loss: 0.1155 - categorical_accuracy: 0.9568 - val_loss: 0.1543 - val_categorical_accuracy: 0.9444\n",
            "Epoch 97/100\n",
            "6/6 [==============================] - 3s 504ms/step - loss: 0.1076 - categorical_accuracy: 0.9691 - val_loss: 0.0741 - val_categorical_accuracy: 1.0000\n",
            "Epoch 98/100\n",
            "6/6 [==============================] - 4s 619ms/step - loss: 0.2383 - categorical_accuracy: 0.9198 - val_loss: 0.2242 - val_categorical_accuracy: 0.9444\n",
            "Epoch 99/100\n",
            "6/6 [==============================] - 2s 321ms/step - loss: 0.2061 - categorical_accuracy: 0.9198 - val_loss: 0.2063 - val_categorical_accuracy: 0.8889\n",
            "Epoch 100/100\n",
            "6/6 [==============================] - 2s 331ms/step - loss: 0.3335 - categorical_accuracy: 0.8519 - val_loss: 0.0960 - val_categorical_accuracy: 1.0000\n"
          ]
        }
      ]
    },
    {
      "cell_type": "code",
      "source": [
        "model.summary()\n",
        "model.save('/content/Tutorial_LSTM_MP/Weight_model/actionGRUCheatData.h5')\n",
        "plot_graphs(history, 'categorical_accuracy')\n",
        "plot_graphs(history, 'loss')"
      ],
      "metadata": {
        "colab": {
          "base_uri": "https://localhost:8080/",
          "height": 975
        },
        "id": "e2GpesJhXp4e",
        "outputId": "a2549e93-b885-462b-9c98-8f744208b412"
      },
      "execution_count": 38,
      "outputs": [
        {
          "output_type": "stream",
          "name": "stdout",
          "text": [
            "Model: \"sequential_6\"\n",
            "_________________________________________________________________\n",
            " Layer (type)                Output Shape              Param #   \n",
            "=================================================================\n",
            " gru_10 (GRU)                (None, 50, 128)           55680     \n",
            "                                                                 \n",
            " dropout_8 (Dropout)         (None, 50, 128)           0         \n",
            "                                                                 \n",
            " gru_11 (GRU)                (None, 50, 64)            37248     \n",
            "                                                                 \n",
            " dropout_9 (Dropout)         (None, 50, 64)            0         \n",
            "                                                                 \n",
            " gru_12 (GRU)                (None, 128)               74496     \n",
            "                                                                 \n",
            " dense_15 (Dense)            (None, 64)                8256      \n",
            "                                                                 \n",
            " dense_16 (Dense)            (None, 32)                2080      \n",
            "                                                                 \n",
            " dense_17 (Dense)            (None, 6)                 198       \n",
            "                                                                 \n",
            "=================================================================\n",
            "Total params: 177,958\n",
            "Trainable params: 177,958\n",
            "Non-trainable params: 0\n",
            "_________________________________________________________________\n"
          ]
        },
        {
          "output_type": "display_data",
          "data": {
            "text/plain": [
              "<Figure size 432x288 with 1 Axes>"
            ],
            "image/png": "[encoded data removed]"
          },
          "metadata": {
            "needs_background": "light"
          }
        },
        {
          "output_type": "display_data",
          "data": {
            "text/plain": [
              "<Figure size 432x288 with 1 Axes>"
            ],
            "image/png": "[encoded data removed]"
          },
          "metadata": {
            "needs_background": "light"
          }
        }
      ]
    },
    {
      "cell_type": "code",
      "source": [
        "model = Sequential()\n",
        "model.add(LSTM(128, return_sequences=True, activation='relu', input_shape=(50,15)))\n",
        "model.add(Dropout(0.2))\n",
        "model.add(LSTM(64, return_sequences=True, activation='relu'))\n",
        "model.add(Dropout(0.2))\n",
        "model.add(LSTM(128, return_sequences=False, activation='relu'))\n",
        "model.add(Dense(128, activation='relu'))\n",
        "model.add(Dense(32, activation='relu'))\n",
        "model.add(Dense(actions.shape[0], activation='softmax'))"
      ],
      "metadata": {
        "colab": {
          "base_uri": "https://localhost:8080/"
        },
        "outputId": "83c95c23-32db-4f4d-e246-ab617b4c9d17",
        "id": "_OdP-Pw2WYSa"
      },
      "execution_count": 39,
      "outputs": [
        {
          "output_type": "stream",
          "name": "stderr",
          "text": [
            "WARNING:tensorflow:Layer lstm_6 will not use cuDNN kernels since it doesn't meet the criteria. It will use a generic GPU kernel as fallback when running on GPU.\n",
            "WARNING:tensorflow:Layer lstm_7 will not use cuDNN kernels since it doesn't meet the criteria. It will use a generic GPU kernel as fallback when running on GPU.\n",
            "WARNING:tensorflow:Layer lstm_8 will not use cuDNN kernels since it doesn't meet the criteria. It will use a generic GPU kernel as fallback when running on GPU.\n"
          ]
        }
      ]
    },
    {
      "cell_type": "code",
      "source": [
        "model.compile(optimizer='adam', loss='categorical_crossentropy', metrics=['categorical_accuracy'])\n",
        "model.optimizer.lr.assign(0.0001)"
      ],
      "metadata": {
        "id": "PEyFNrWZWdVA",
        "colab": {
          "base_uri": "https://localhost:8080/"
        },
        "outputId": "adcfc78c-c474-4b66-fc2c-d5ff5004436b"
      },
      "execution_count": 40,
      "outputs": [
        {
          "output_type": "execute_result",
          "data": {
            "text/plain": [
              "<tf.Variable 'UnreadVariable' shape=() dtype=float32, numpy=1e-04>"
            ]
          },
          "metadata": {},
          "execution_count": 40
        }
      ]
    },
    {
      "cell_type": "code",
      "source": [
        "history = model.fit(X_train, y_train, epochs=100, callbacks=[tb_callback], validation_data = (X_test, y_test))"
      ],
      "metadata": {
        "colab": {
          "base_uri": "https://localhost:8080/"
        },
        "id": "1pKvoo-HWglC",
        "outputId": "05bd6854-0d0c-4f3d-e2ee-452a7a87af8f"
      },
      "execution_count": 41,
      "outputs": [
        {
          "output_type": "stream",
          "name": "stdout",
          "text": [
            "Epoch 1/100\n",
            "6/6 [==============================] - 6s 350ms/step - loss: 1.7908 - categorical_accuracy: 0.2469 - val_loss: 1.7199 - val_categorical_accuracy: 0.2778\n",
            "Epoch 2/100\n",
            "6/6 [==============================] - 2s 262ms/step - loss: 1.7495 - categorical_accuracy: 0.2284 - val_loss: 1.6783 - val_categorical_accuracy: 0.3889\n",
            "Epoch 3/100\n",
            "6/6 [==============================] - 2s 264ms/step - loss: 1.7035 - categorical_accuracy: 0.2716 - val_loss: 1.6054 - val_categorical_accuracy: 0.4444\n",
            "Epoch 4/100\n",
            "6/6 [==============================] - 2s 278ms/step - loss: 1.6446 - categorical_accuracy: 0.2901 - val_loss: 1.4982 - val_categorical_accuracy: 0.4444\n",
            "Epoch 5/100\n",
            "6/6 [==============================] - 2s 361ms/step - loss: 1.5883 - categorical_accuracy: 0.2963 - val_loss: 1.4373 - val_categorical_accuracy: 0.4444\n",
            "Epoch 6/100\n",
            "6/6 [==============================] - 4s 603ms/step - loss: 1.5274 - categorical_accuracy: 0.2840 - val_loss: 1.3967 - val_categorical_accuracy: 0.4444\n",
            "Epoch 7/100\n",
            "6/6 [==============================] - 2s 276ms/step - loss: 1.4616 - categorical_accuracy: 0.3457 - val_loss: 1.3175 - val_categorical_accuracy: 0.4444\n",
            "Epoch 8/100\n",
            "6/6 [==============================] - 2s 270ms/step - loss: 1.4851 - categorical_accuracy: 0.3519 - val_loss: 1.3541 - val_categorical_accuracy: 0.3333\n",
            "Epoch 9/100\n",
            "6/6 [==============================] - 2s 264ms/step - loss: 1.5942 - categorical_accuracy: 0.2654 - val_loss: 1.3713 - val_categorical_accuracy: 0.3333\n",
            "Epoch 10/100\n",
            "6/6 [==============================] - 2s 269ms/step - loss: 1.4126 - categorical_accuracy: 0.4630 - val_loss: 1.4090 - val_categorical_accuracy: 0.3333\n",
            "Epoch 11/100\n",
            "6/6 [==============================] - 2s 261ms/step - loss: 1.4315 - categorical_accuracy: 0.4198 - val_loss: 1.3992 - val_categorical_accuracy: 0.3333\n",
            "Epoch 12/100\n",
            "6/6 [==============================] - 2s 270ms/step - loss: 1.3900 - categorical_accuracy: 0.3457 - val_loss: 1.3187 - val_categorical_accuracy: 0.3889\n",
            "Epoch 13/100\n",
            "6/6 [==============================] - 2s 423ms/step - loss: 1.3291 - categorical_accuracy: 0.3704 - val_loss: 1.1918 - val_categorical_accuracy: 0.4444\n",
            "Epoch 14/100\n",
            "6/6 [==============================] - 3s 562ms/step - loss: 1.2027 - categorical_accuracy: 0.5185 - val_loss: 1.0693 - val_categorical_accuracy: 0.5556\n",
            "Epoch 15/100\n",
            "6/6 [==============================] - 2s 267ms/step - loss: 1.0795 - categorical_accuracy: 0.5247 - val_loss: 0.9294 - val_categorical_accuracy: 0.6111\n",
            "Epoch 16/100\n",
            "6/6 [==============================] - 2s 267ms/step - loss: 1.0024 - categorical_accuracy: 0.5926 - val_loss: 0.8463 - val_categorical_accuracy: 0.6667\n",
            "Epoch 17/100\n",
            "6/6 [==============================] - 2s 252ms/step - loss: 0.9680 - categorical_accuracy: 0.6049 - val_loss: 0.8786 - val_categorical_accuracy: 0.6111\n",
            "Epoch 18/100\n",
            "6/6 [==============================] - 2s 307ms/step - loss: 0.9303 - categorical_accuracy: 0.6420 - val_loss: 0.8113 - val_categorical_accuracy: 0.5556\n",
            "Epoch 19/100\n",
            "6/6 [==============================] - 2s 274ms/step - loss: 0.9038 - categorical_accuracy: 0.5926 - val_loss: 0.9038 - val_categorical_accuracy: 0.5000\n",
            "Epoch 20/100\n",
            "6/6 [==============================] - 2s 273ms/step - loss: 0.8642 - categorical_accuracy: 0.6420 - val_loss: 0.7068 - val_categorical_accuracy: 0.5556\n",
            "Epoch 21/100\n",
            "6/6 [==============================] - 3s 488ms/step - loss: 0.7647 - categorical_accuracy: 0.6852 - val_loss: 0.7765 - val_categorical_accuracy: 0.5000\n",
            "Epoch 22/100\n",
            "6/6 [==============================] - 3s 526ms/step - loss: 0.6992 - categorical_accuracy: 0.7531 - val_loss: 1.0099 - val_categorical_accuracy: 0.6111\n",
            "Epoch 23/100\n",
            "6/6 [==============================] - 2s 264ms/step - loss: 0.6338 - categorical_accuracy: 0.7531 - val_loss: 0.6779 - val_categorical_accuracy: 0.6111\n",
            "Epoch 24/100\n",
            "6/6 [==============================] - 2s 278ms/step - loss: 0.5671 - categorical_accuracy: 0.7778 - val_loss: 1.0001 - val_categorical_accuracy: 0.5556\n",
            "Epoch 25/100\n",
            "6/6 [==============================] - 2s 270ms/step - loss: 0.5563 - categorical_accuracy: 0.7469 - val_loss: 0.7645 - val_categorical_accuracy: 0.6111\n",
            "Epoch 26/100\n",
            "6/6 [==============================] - 2s 265ms/step - loss: 0.4658 - categorical_accuracy: 0.7901 - val_loss: 0.9409 - val_categorical_accuracy: 0.5556\n",
            "Epoch 27/100\n",
            "6/6 [==============================] - 2s 273ms/step - loss: 0.4440 - categorical_accuracy: 0.8457 - val_loss: 0.7868 - val_categorical_accuracy: 0.6667\n",
            "Epoch 28/100\n",
            "6/6 [==============================] - 2s 271ms/step - loss: 0.5736 - categorical_accuracy: 0.7963 - val_loss: 0.9446 - val_categorical_accuracy: 0.6667\n",
            "Epoch 29/100\n",
            "6/6 [==============================] - 3s 559ms/step - loss: 0.4861 - categorical_accuracy: 0.8086 - val_loss: 0.4278 - val_categorical_accuracy: 0.7222\n",
            "Epoch 30/100\n",
            "6/6 [==============================] - 3s 421ms/step - loss: 0.5259 - categorical_accuracy: 0.7840 - val_loss: 1.2439 - val_categorical_accuracy: 0.6667\n",
            "Epoch 31/100\n",
            "6/6 [==============================] - 2s 271ms/step - loss: 0.6014 - categorical_accuracy: 0.7469 - val_loss: 0.3881 - val_categorical_accuracy: 0.7778\n",
            "Epoch 32/100\n",
            "6/6 [==============================] - 2s 265ms/step - loss: 0.5658 - categorical_accuracy: 0.7840 - val_loss: 0.5885 - val_categorical_accuracy: 0.8333\n",
            "Epoch 33/100\n",
            "6/6 [==============================] - 2s 257ms/step - loss: 0.4373 - categorical_accuracy: 0.8951 - val_loss: 0.7023 - val_categorical_accuracy: 0.6667\n",
            "Epoch 34/100\n",
            "6/6 [==============================] - 2s 257ms/step - loss: 0.4032 - categorical_accuracy: 0.8395 - val_loss: 0.5920 - val_categorical_accuracy: 0.7222\n",
            "Epoch 35/100\n",
            "6/6 [==============================] - 2s 281ms/step - loss: 0.3270 - categorical_accuracy: 0.9136 - val_loss: 0.5450 - val_categorical_accuracy: 0.6667\n",
            "Epoch 36/100\n",
            "6/6 [==============================] - 2s 266ms/step - loss: 0.2557 - categorical_accuracy: 0.9198 - val_loss: 1.1061 - val_categorical_accuracy: 0.7222\n",
            "Epoch 37/100\n",
            "6/6 [==============================] - 3s 570ms/step - loss: 0.3920 - categorical_accuracy: 0.8457 - val_loss: 1.0280 - val_categorical_accuracy: 0.7222\n",
            "Epoch 38/100\n",
            "6/6 [==============================] - 3s 384ms/step - loss: 0.5235 - categorical_accuracy: 0.7716 - val_loss: 0.3417 - val_categorical_accuracy: 0.8333\n",
            "Epoch 39/100\n",
            "6/6 [==============================] - 2s 265ms/step - loss: 0.4493 - categorical_accuracy: 0.8889 - val_loss: 0.5486 - val_categorical_accuracy: 0.7778\n",
            "Epoch 40/100\n",
            "6/6 [==============================] - 2s 268ms/step - loss: 0.3747 - categorical_accuracy: 0.8642 - val_loss: 0.5747 - val_categorical_accuracy: 0.7778\n",
            "Epoch 41/100\n",
            "6/6 [==============================] - 2s 276ms/step - loss: 0.3522 - categorical_accuracy: 0.8951 - val_loss: 0.3567 - val_categorical_accuracy: 0.8889\n",
            "Epoch 42/100\n",
            "6/6 [==============================] - 2s 260ms/step - loss: 0.2373 - categorical_accuracy: 0.9383 - val_loss: 0.6753 - val_categorical_accuracy: 0.7778\n",
            "Epoch 43/100\n",
            "6/6 [==============================] - 2s 271ms/step - loss: 0.2017 - categorical_accuracy: 0.9383 - val_loss: 0.7223 - val_categorical_accuracy: 0.7778\n",
            "Epoch 44/100\n",
            "6/6 [==============================] - 2s 385ms/step - loss: 0.2608 - categorical_accuracy: 0.9074 - val_loss: 0.4421 - val_categorical_accuracy: 0.8333\n",
            "Epoch 45/100\n",
            "6/6 [==============================] - 3s 565ms/step - loss: 0.4507 - categorical_accuracy: 0.8210 - val_loss: 0.9385 - val_categorical_accuracy: 0.6667\n",
            "Epoch 46/100\n",
            "6/6 [==============================] - 2s 271ms/step - loss: 0.5040 - categorical_accuracy: 0.8272 - val_loss: 1.3516 - val_categorical_accuracy: 0.6667\n",
            "Epoch 47/100\n",
            "6/6 [==============================] - 2s 261ms/step - loss: 0.3542 - categorical_accuracy: 0.9012 - val_loss: 0.3403 - val_categorical_accuracy: 0.8889\n",
            "Epoch 48/100\n",
            "6/6 [==============================] - 2s 277ms/step - loss: 0.3901 - categorical_accuracy: 0.8951 - val_loss: 0.2463 - val_categorical_accuracy: 0.9444\n",
            "Epoch 49/100\n",
            "6/6 [==============================] - 2s 284ms/step - loss: 0.4622 - categorical_accuracy: 0.8333 - val_loss: 0.3606 - val_categorical_accuracy: 0.8333\n",
            "Epoch 50/100\n",
            "6/6 [==============================] - 2s 279ms/step - loss: 0.3626 - categorical_accuracy: 0.9136 - val_loss: 0.9938 - val_categorical_accuracy: 0.7222\n",
            "Epoch 51/100\n",
            "6/6 [==============================] - 2s 269ms/step - loss: 0.3206 - categorical_accuracy: 0.8951 - val_loss: 0.3349 - val_categorical_accuracy: 0.8889\n",
            "Epoch 52/100\n",
            "6/6 [==============================] - 3s 469ms/step - loss: 0.2504 - categorical_accuracy: 0.9136 - val_loss: 0.5859 - val_categorical_accuracy: 0.7778\n",
            "Epoch 53/100\n",
            "6/6 [==============================] - 3s 540ms/step - loss: 0.2730 - categorical_accuracy: 0.9136 - val_loss: 0.5677 - val_categorical_accuracy: 0.8333\n",
            "Epoch 54/100\n",
            "6/6 [==============================] - 2s 275ms/step - loss: 0.1927 - categorical_accuracy: 0.9321 - val_loss: 0.5528 - val_categorical_accuracy: 0.8333\n",
            "Epoch 55/100\n",
            "6/6 [==============================] - 2s 256ms/step - loss: 0.1899 - categorical_accuracy: 0.9136 - val_loss: 0.2026 - val_categorical_accuracy: 0.8889\n",
            "Epoch 56/100\n",
            "6/6 [==============================] - 2s 273ms/step - loss: 0.1866 - categorical_accuracy: 0.9506 - val_loss: 0.2761 - val_categorical_accuracy: 0.8889\n",
            "Epoch 57/100\n",
            "6/6 [==============================] - 2s 263ms/step - loss: 0.1447 - categorical_accuracy: 0.9321 - val_loss: 0.3296 - val_categorical_accuracy: 0.8889\n",
            "Epoch 58/100\n",
            "6/6 [==============================] - 2s 283ms/step - loss: 0.1640 - categorical_accuracy: 0.9383 - val_loss: 0.4102 - val_categorical_accuracy: 0.8889\n",
            "Epoch 59/100\n",
            "6/6 [==============================] - 2s 259ms/step - loss: 0.1652 - categorical_accuracy: 0.9259 - val_loss: 0.3278 - val_categorical_accuracy: 0.8889\n",
            "Epoch 60/100\n",
            "6/6 [==============================] - 3s 474ms/step - loss: 0.2027 - categorical_accuracy: 0.9506 - val_loss: 0.4577 - val_categorical_accuracy: 0.8889\n",
            "Epoch 61/100\n",
            "6/6 [==============================] - 3s 535ms/step - loss: 0.1440 - categorical_accuracy: 0.9691 - val_loss: 0.4434 - val_categorical_accuracy: 0.8889\n",
            "Epoch 62/100\n",
            "6/6 [==============================] - 2s 259ms/step - loss: 0.1775 - categorical_accuracy: 0.9198 - val_loss: 0.5747 - val_categorical_accuracy: 0.7778\n",
            "Epoch 63/100\n",
            "6/6 [==============================] - 2s 260ms/step - loss: 0.2158 - categorical_accuracy: 0.8889 - val_loss: 0.3172 - val_categorical_accuracy: 0.8889\n",
            "Epoch 64/100\n",
            "6/6 [==============================] - 2s 257ms/step - loss: 0.2194 - categorical_accuracy: 0.9321 - val_loss: 0.6099 - val_categorical_accuracy: 0.8333\n",
            "Epoch 65/100\n",
            "6/6 [==============================] - 2s 344ms/step - loss: 0.2262 - categorical_accuracy: 0.9383 - val_loss: 0.3470 - val_categorical_accuracy: 0.8889\n",
            "Epoch 66/100\n",
            "6/6 [==============================] - 2s 264ms/step - loss: 0.1142 - categorical_accuracy: 0.9691 - val_loss: 0.2459 - val_categorical_accuracy: 0.8889\n",
            "Epoch 67/100\n",
            "6/6 [==============================] - 2s 297ms/step - loss: 0.1236 - categorical_accuracy: 0.9568 - val_loss: 0.3353 - val_categorical_accuracy: 0.8333\n",
            "Epoch 68/100\n",
            "6/6 [==============================] - 3s 532ms/step - loss: 0.1502 - categorical_accuracy: 0.9383 - val_loss: 0.2858 - val_categorical_accuracy: 0.9444\n",
            "Epoch 69/100\n",
            "6/6 [==============================] - 3s 415ms/step - loss: 0.1689 - categorical_accuracy: 0.9383 - val_loss: 0.6924 - val_categorical_accuracy: 0.7222\n",
            "Epoch 70/100\n",
            "6/6 [==============================] - 2s 273ms/step - loss: 0.1981 - categorical_accuracy: 0.9259 - val_loss: 0.2730 - val_categorical_accuracy: 0.9444\n",
            "Epoch 71/100\n",
            "6/6 [==============================] - 2s 264ms/step - loss: 0.1803 - categorical_accuracy: 0.9506 - val_loss: 0.1646 - val_categorical_accuracy: 0.8889\n",
            "Epoch 72/100\n",
            "6/6 [==============================] - 2s 266ms/step - loss: 0.2553 - categorical_accuracy: 0.9198 - val_loss: 0.4822 - val_categorical_accuracy: 0.8889\n",
            "Epoch 73/100\n",
            "6/6 [==============================] - 2s 255ms/step - loss: 0.1553 - categorical_accuracy: 0.9506 - val_loss: 0.8633 - val_categorical_accuracy: 0.8333\n",
            "Epoch 74/100\n",
            "6/6 [==============================] - 2s 265ms/step - loss: 0.1355 - categorical_accuracy: 0.9630 - val_loss: 0.0769 - val_categorical_accuracy: 0.9444\n",
            "Epoch 75/100\n",
            "6/6 [==============================] - 2s 269ms/step - loss: 0.1212 - categorical_accuracy: 0.9444 - val_loss: 0.0454 - val_categorical_accuracy: 1.0000\n",
            "Epoch 76/100\n",
            "6/6 [==============================] - 3s 581ms/step - loss: 0.1030 - categorical_accuracy: 0.9630 - val_loss: 0.1234 - val_categorical_accuracy: 0.9444\n",
            "Epoch 77/100\n",
            "6/6 [==============================] - 2s 312ms/step - loss: 0.1450 - categorical_accuracy: 0.9506 - val_loss: 0.6137 - val_categorical_accuracy: 0.8333\n",
            "Epoch 78/100\n",
            "6/6 [==============================] - 2s 271ms/step - loss: 0.1098 - categorical_accuracy: 0.9630 - val_loss: 0.2491 - val_categorical_accuracy: 0.9444\n",
            "Epoch 79/100\n",
            "6/6 [==============================] - 2s 253ms/step - loss: 0.2272 - categorical_accuracy: 0.9321 - val_loss: 1.4400 - val_categorical_accuracy: 0.7778\n",
            "Epoch 80/100\n",
            "6/6 [==============================] - 2s 258ms/step - loss: 0.7327 - categorical_accuracy: 0.7778 - val_loss: 1.4053 - val_categorical_accuracy: 0.6111\n",
            "Epoch 81/100\n",
            "6/6 [==============================] - 2s 273ms/step - loss: 0.6684 - categorical_accuracy: 0.7716 - val_loss: 0.4874 - val_categorical_accuracy: 0.8333\n",
            "Epoch 82/100\n",
            "6/6 [==============================] - 1s 252ms/step - loss: 0.5505 - categorical_accuracy: 0.8457 - val_loss: 0.5617 - val_categorical_accuracy: 0.7778\n",
            "Epoch 83/100\n",
            "6/6 [==============================] - 2s 378ms/step - loss: 0.5365 - categorical_accuracy: 0.8704 - val_loss: 0.4077 - val_categorical_accuracy: 0.8889\n",
            "Epoch 84/100\n",
            "6/6 [==============================] - 3s 556ms/step - loss: 0.4341 - categorical_accuracy: 0.8704 - val_loss: 0.4482 - val_categorical_accuracy: 0.7778\n",
            "Epoch 85/100\n",
            "6/6 [==============================] - 2s 295ms/step - loss: 0.3358 - categorical_accuracy: 0.9074 - val_loss: 0.5102 - val_categorical_accuracy: 0.7778\n",
            "Epoch 86/100\n",
            "6/6 [==============================] - 2s 268ms/step - loss: 0.2862 - categorical_accuracy: 0.9444 - val_loss: 0.4247 - val_categorical_accuracy: 0.8333\n",
            "Epoch 87/100\n",
            "6/6 [==============================] - 1s 248ms/step - loss: 0.1885 - categorical_accuracy: 0.9198 - val_loss: 0.4116 - val_categorical_accuracy: 0.9444\n",
            "Epoch 88/100\n",
            "6/6 [==============================] - 2s 263ms/step - loss: 0.1991 - categorical_accuracy: 0.9321 - val_loss: 0.4208 - val_categorical_accuracy: 0.7778\n",
            "Epoch 89/100\n",
            "6/6 [==============================] - 2s 272ms/step - loss: 0.1939 - categorical_accuracy: 0.9198 - val_loss: 0.4828 - val_categorical_accuracy: 0.7778\n",
            "Epoch 90/100\n",
            "6/6 [==============================] - 2s 270ms/step - loss: 0.1386 - categorical_accuracy: 0.9321 - val_loss: 0.5246 - val_categorical_accuracy: 0.8333\n",
            "Epoch 91/100\n",
            "6/6 [==============================] - 2s 389ms/step - loss: 0.1905 - categorical_accuracy: 0.9383 - val_loss: 0.3402 - val_categorical_accuracy: 0.8889\n",
            "Epoch 92/100\n",
            "6/6 [==============================] - 3s 539ms/step - loss: 0.1428 - categorical_accuracy: 0.9506 - val_loss: 0.3447 - val_categorical_accuracy: 0.9444\n",
            "Epoch 93/100\n",
            "6/6 [==============================] - 2s 285ms/step - loss: 0.1462 - categorical_accuracy: 0.9630 - val_loss: 0.3501 - val_categorical_accuracy: 0.9444\n",
            "Epoch 94/100\n",
            "6/6 [==============================] - 2s 268ms/step - loss: 0.1584 - categorical_accuracy: 0.9383 - val_loss: 0.3218 - val_categorical_accuracy: 0.7778\n",
            "Epoch 95/100\n",
            "6/6 [==============================] - 1s 252ms/step - loss: 0.1239 - categorical_accuracy: 0.9568 - val_loss: 0.2689 - val_categorical_accuracy: 0.9444\n",
            "Epoch 96/100\n",
            "6/6 [==============================] - 2s 276ms/step - loss: 0.1210 - categorical_accuracy: 0.9753 - val_loss: 0.2414 - val_categorical_accuracy: 0.9444\n",
            "Epoch 97/100\n",
            "6/6 [==============================] - 2s 259ms/step - loss: 0.1371 - categorical_accuracy: 0.9691 - val_loss: 0.3146 - val_categorical_accuracy: 0.8333\n",
            "Epoch 98/100\n",
            "6/6 [==============================] - 2s 259ms/step - loss: 0.1147 - categorical_accuracy: 0.9568 - val_loss: 0.3837 - val_categorical_accuracy: 0.8333\n",
            "Epoch 99/100\n",
            "6/6 [==============================] - 2s 377ms/step - loss: 0.1355 - categorical_accuracy: 0.9691 - val_loss: 0.0981 - val_categorical_accuracy: 1.0000\n",
            "Epoch 100/100\n",
            "6/6 [==============================] - 4s 590ms/step - loss: 0.1898 - categorical_accuracy: 0.9568 - val_loss: 0.1297 - val_categorical_accuracy: 0.9444\n"
          ]
        }
      ]
    },
    {
      "cell_type": "code",
      "source": [
        "model.summary()\n",
        "model.save('/content/Tutorial_LSTM_MP/Weight_model/actionLSTMCheatData.h5')\n",
        "plot_graphs(history, 'categorical_accuracy')\n",
        "plot_graphs(history, 'loss')"
      ],
      "metadata": {
        "colab": {
          "base_uri": "https://localhost:8080/",
          "height": 975
        },
        "id": "zfh7eLG9Wi3Z",
        "outputId": "bc1a173c-cbfb-47c6-cf84-537be9fba4de"
      },
      "execution_count": 42,
      "outputs": [
        {
          "output_type": "stream",
          "name": "stdout",
          "text": [
            "Model: \"sequential_7\"\n",
            "_________________________________________________________________\n",
            " Layer (type)                Output Shape              Param #   \n",
            "=================================================================\n",
            " lstm_6 (LSTM)               (None, 50, 128)           73728     \n",
            "                                                                 \n",
            " dropout_10 (Dropout)        (None, 50, 128)           0         \n",
            "                                                                 \n",
            " lstm_7 (LSTM)               (None, 50, 64)            49408     \n",
            "                                                                 \n",
            " dropout_11 (Dropout)        (None, 50, 64)            0         \n",
            "                                                                 \n",
            " lstm_8 (LSTM)               (None, 128)               98816     \n",
            "                                                                 \n",
            " dense_18 (Dense)            (None, 128)               16512     \n",
            "                                                                 \n",
            " dense_19 (Dense)            (None, 32)                4128      \n",
            "                                                                 \n",
            " dense_20 (Dense)            (None, 6)                 198       \n",
            "                                                                 \n",
            "=================================================================\n",
            "Total params: 242,790\n",
            "Trainable params: 242,790\n",
            "Non-trainable params: 0\n",
            "_________________________________________________________________\n"
          ]
        },
        {
          "output_type": "display_data",
          "data": {
            "text/plain": [
              "<Figure size 432x288 with 1 Axes>"
            ],
            "image/png": "[encoded data removed]"
          },
          "metadata": {
            "needs_background": "light"
          }
        },
        {
          "output_type": "display_data",
          "data": {
            "text/plain": [
              "<Figure size 432x288 with 1 Axes>"
            ],
            "image/png": "[encoded data removed]"
          },
          "metadata": {
            "needs_background": "light"
          }
        }
      ]
    }
  ],
  "metadata": {
    "accelerator": "GPU",
    "colab": {
      "provenance": []
    },
    "gpuClass": "standard",
    "kernelspec": {
      "display_name": "Python 3.10.2 64-bit",
      "language": "python",
      "name": "python3"
    },
    "language_info": {
      "name": "python",
      "version": "3.10.2"
    },
    "vscode": {
      "interpreter": {
        "hash": "c2d1da28924dd73d48b374a30035f4a3d427e107cd96680887f7889f9d1a8264"
      }
    }
  },
  "nbformat": 4,
  "nbformat_minor": 0
}