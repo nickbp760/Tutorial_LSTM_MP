{
  "cells": [
    {
      "cell_type": "markdown",
      "metadata": {
        "id": "B2cfeWV3Cv6r"
      },
      "source": [
        "# *SOURCE*\n",
        "https://www.youtube.com/watch?v=doDUihpj6ro&t=7339s\n",
        "https://github.com/nicknochnack/ActionDetectionforSignLanguage"
      ]
    },
    {
      "cell_type": "code",
      "source": [
        "! pip install PyQt5"
      ],
      "metadata": {
        "colab": {
          "base_uri": "https://localhost:8080/"
        },
        "id": "krl26FJLF4UL",
        "outputId": "f59ba751-339d-48e0-f793-29487336ca5e"
      },
      "execution_count": 1,
      "outputs": [
        {
          "output_type": "stream",
          "name": "stdout",
          "text": [
            "Looking in indexes: https://pypi.org/simple, https://us-python.pkg.dev/colab-wheels/public/simple/\n",
            "Collecting PyQt5\n",
            "  Downloading PyQt5-5.15.9-cp37-abi3-manylinux_2_17_x86_64.whl (8.4 MB)\n",
            "\u001b[2K     \u001b[90m━━━━━━━━━━━━━━━━━━━━━━━━━━━━━━━━━━━━━━━━\u001b[0m \u001b[32m8.4/8.4 MB\u001b[0m \u001b[31m50.3 MB/s\u001b[0m eta \u001b[36m0:00:00\u001b[0m\n",
            "\u001b[?25hCollecting PyQt5-sip<13,>=12.11\n",
            "  Downloading PyQt5_sip-12.11.1-cp39-cp39-manylinux_2_5_x86_64.manylinux1_x86_64.whl (357 kB)\n",
            "\u001b[2K     \u001b[90m━━━━━━━━━━━━━━━━━━━━━━━━━━━━━━━━━━━━━━\u001b[0m \u001b[32m357.8/357.8 KB\u001b[0m \u001b[31m15.9 MB/s\u001b[0m eta \u001b[36m0:00:00\u001b[0m\n",
            "\u001b[?25hCollecting PyQt5-Qt5>=5.15.2\n",
            "  Downloading PyQt5_Qt5-5.15.2-py3-none-manylinux2014_x86_64.whl (59.9 MB)\n",
            "\u001b[2K     \u001b[90m━━━━━━━━━━━━━━━━━━━━━━━━━━━━━━━━━━━━━━━━\u001b[0m \u001b[32m59.9/59.9 MB\u001b[0m \u001b[31m12.7 MB/s\u001b[0m eta \u001b[36m0:00:00\u001b[0m\n",
            "\u001b[?25hInstalling collected packages: PyQt5-Qt5, PyQt5-sip, PyQt5\n",
            "Successfully installed PyQt5-5.15.9 PyQt5-Qt5-5.15.2 PyQt5-sip-12.11.1\n"
          ]
        }
      ]
    },
    {
      "cell_type": "code",
      "execution_count": 2,
      "metadata": {
        "colab": {
          "base_uri": "https://localhost:8080/"
        },
        "id": "01jSxBD21OU7",
        "outputId": "9c789783-6a85-4c65-adf9-a45a21a7b7ad"
      },
      "outputs": [
        {
          "output_type": "stream",
          "name": "stdout",
          "text": [
            "Looking in indexes: https://pypi.org/simple, https://us-python.pkg.dev/colab-wheels/public/simple/\n",
            "Collecting tensorflow==2.8.1\n",
            "  Downloading tensorflow-2.8.1-cp39-cp39-manylinux2010_x86_64.whl (498.0 MB)\n",
            "\u001b[2K     \u001b[90m━━━━━━━━━━━━━━━━━━━━━━━━━━━━━━━━━━━━━━━\u001b[0m \u001b[32m498.0/498.0 MB\u001b[0m \u001b[31m3.2 MB/s\u001b[0m eta \u001b[36m0:00:00\u001b[0m\n",
            "\u001b[?25hCollecting tensorflow-gpu==2.8.1\n",
            "  Downloading tensorflow_gpu-2.8.1-cp39-cp39-manylinux2010_x86_64.whl (498.0 MB)\n",
            "\u001b[2K     \u001b[90m━━━━━━━━━━━━━━━━━━━━━━━━━━━━━━━━━━━━━━━\u001b[0m \u001b[32m498.0/498.0 MB\u001b[0m \u001b[31m3.2 MB/s\u001b[0m eta \u001b[36m0:00:00\u001b[0m\n",
            "\u001b[?25hRequirement already satisfied: opencv-python in /usr/local/lib/python3.9/dist-packages (4.6.0.66)\n",
            "Collecting mediapipe\n",
            "  Downloading mediapipe-0.9.1.0-cp39-cp39-manylinux_2_17_x86_64.manylinux2014_x86_64.whl (33.0 MB)\n",
            "\u001b[2K     \u001b[90m━━━━━━━━━━━━━━━━━━━━━━━━━━━━━━━━━━━━━━━━\u001b[0m \u001b[32m33.0/33.0 MB\u001b[0m \u001b[31m43.0 MB/s\u001b[0m eta \u001b[36m0:00:00\u001b[0m\n",
            "\u001b[?25hCollecting tensorboard<2.9,>=2.8\n",
            "  Downloading tensorboard-2.8.0-py3-none-any.whl (5.8 MB)\n",
            "\u001b[2K     \u001b[90m━━━━━━━━━━━━━━━━━━━━━━━━━━━━━━━━━━━━━━━━\u001b[0m \u001b[32m5.8/5.8 MB\u001b[0m \u001b[31m76.1 MB/s\u001b[0m eta \u001b[36m0:00:00\u001b[0m\n",
            "\u001b[?25hRequirement already satisfied: opt-einsum>=2.3.2 in /usr/local/lib/python3.9/dist-packages (from tensorflow==2.8.1) (3.3.0)\n",
            "Requirement already satisfied: google-pasta>=0.1.1 in /usr/local/lib/python3.9/dist-packages (from tensorflow==2.8.1) (0.2.0)\n",
            "Collecting keras<2.9,>=2.8.0rc0\n",
            "  Downloading keras-2.8.0-py2.py3-none-any.whl (1.4 MB)\n",
            "\u001b[2K     \u001b[90m━━━━━━━━━━━━━━━━━━━━━━━━━━━━━━━━━━━━━━━━\u001b[0m \u001b[32m1.4/1.4 MB\u001b[0m \u001b[31m81.9 MB/s\u001b[0m eta \u001b[36m0:00:00\u001b[0m\n",
            "\u001b[?25hRequirement already satisfied: gast>=0.2.1 in /usr/local/lib/python3.9/dist-packages (from tensorflow==2.8.1) (0.4.0)\n",
            "Requirement already satisfied: termcolor>=1.1.0 in /usr/local/lib/python3.9/dist-packages (from tensorflow==2.8.1) (2.2.0)\n",
            "Collecting tensorflow-estimator<2.9,>=2.8\n",
            "  Downloading tensorflow_estimator-2.8.0-py2.py3-none-any.whl (462 kB)\n",
            "\u001b[2K     \u001b[90m━━━━━━━━━━━━━━━━━━━━━━━━━━━━━━━━━━━━━━\u001b[0m \u001b[32m462.3/462.3 KB\u001b[0m \u001b[31m34.9 MB/s\u001b[0m eta \u001b[36m0:00:00\u001b[0m\n",
            "\u001b[?25hRequirement already satisfied: flatbuffers>=1.12 in /usr/local/lib/python3.9/dist-packages (from tensorflow==2.8.1) (23.3.3)\n",
            "Requirement already satisfied: wrapt>=1.11.0 in /usr/local/lib/python3.9/dist-packages (from tensorflow==2.8.1) (1.15.0)\n",
            "Requirement already satisfied: astunparse>=1.6.0 in /usr/local/lib/python3.9/dist-packages (from tensorflow==2.8.1) (1.6.3)\n",
            "Requirement already satisfied: setuptools in /usr/local/lib/python3.9/dist-packages (from tensorflow==2.8.1) (63.4.3)\n",
            "Requirement already satisfied: typing-extensions>=3.6.6 in /usr/local/lib/python3.9/dist-packages (from tensorflow==2.8.1) (4.5.0)\n",
            "Requirement already satisfied: h5py>=2.9.0 in /usr/local/lib/python3.9/dist-packages (from tensorflow==2.8.1) (3.8.0)\n",
            "Collecting keras-preprocessing>=1.1.1\n",
            "  Downloading Keras_Preprocessing-1.1.2-py2.py3-none-any.whl (42 kB)\n",
            "\u001b[2K     \u001b[90m━━━━━━━━━━━━━━━━━━━━━━━━━━━━━━━━━━━━━━━━\u001b[0m \u001b[32m42.6/42.6 KB\u001b[0m \u001b[31m4.3 MB/s\u001b[0m eta \u001b[36m0:00:00\u001b[0m\n",
            "\u001b[?25hRequirement already satisfied: protobuf>=3.9.2 in /usr/local/lib/python3.9/dist-packages (from tensorflow==2.8.1) (3.19.6)\n",
            "Requirement already satisfied: absl-py>=0.4.0 in /usr/local/lib/python3.9/dist-packages (from tensorflow==2.8.1) (1.4.0)\n",
            "Requirement already satisfied: grpcio<2.0,>=1.24.3 in /usr/local/lib/python3.9/dist-packages (from tensorflow==2.8.1) (1.51.3)\n",
            "Requirement already satisfied: libclang>=9.0.1 in /usr/local/lib/python3.9/dist-packages (from tensorflow==2.8.1) (15.0.6.1)\n",
            "Requirement already satisfied: tensorflow-io-gcs-filesystem>=0.23.1 in /usr/local/lib/python3.9/dist-packages (from tensorflow==2.8.1) (0.31.0)\n",
            "Requirement already satisfied: six>=1.12.0 in /usr/local/lib/python3.9/dist-packages (from tensorflow==2.8.1) (1.15.0)\n",
            "Requirement already satisfied: numpy>=1.20 in /usr/local/lib/python3.9/dist-packages (from tensorflow==2.8.1) (1.22.4)\n",
            "Requirement already satisfied: matplotlib in /usr/local/lib/python3.9/dist-packages (from mediapipe) (3.7.1)\n",
            "Requirement already satisfied: opencv-contrib-python in /usr/local/lib/python3.9/dist-packages (from mediapipe) (4.6.0.66)\n",
            "Requirement already satisfied: attrs>=19.1.0 in /usr/local/lib/python3.9/dist-packages (from mediapipe) (22.2.0)\n",
            "Requirement already satisfied: wheel<1.0,>=0.23.0 in /usr/local/lib/python3.9/dist-packages (from astunparse>=1.6.0->tensorflow==2.8.1) (0.40.0)\n",
            "Requirement already satisfied: markdown>=2.6.8 in /usr/local/lib/python3.9/dist-packages (from tensorboard<2.9,>=2.8->tensorflow==2.8.1) (3.4.1)\n",
            "Requirement already satisfied: tensorboard-plugin-wit>=1.6.0 in /usr/local/lib/python3.9/dist-packages (from tensorboard<2.9,>=2.8->tensorflow==2.8.1) (1.8.1)\n",
            "Requirement already satisfied: werkzeug>=0.11.15 in /usr/local/lib/python3.9/dist-packages (from tensorboard<2.9,>=2.8->tensorflow==2.8.1) (2.2.3)\n",
            "Requirement already satisfied: google-auth<3,>=1.6.3 in /usr/local/lib/python3.9/dist-packages (from tensorboard<2.9,>=2.8->tensorflow==2.8.1) (2.16.2)\n",
            "Requirement already satisfied: google-auth-oauthlib<0.5,>=0.4.1 in /usr/local/lib/python3.9/dist-packages (from tensorboard<2.9,>=2.8->tensorflow==2.8.1) (0.4.6)\n",
            "Requirement already satisfied: requests<3,>=2.21.0 in /usr/local/lib/python3.9/dist-packages (from tensorboard<2.9,>=2.8->tensorflow==2.8.1) (2.27.1)\n",
            "Requirement already satisfied: tensorboard-data-server<0.7.0,>=0.6.0 in /usr/local/lib/python3.9/dist-packages (from tensorboard<2.9,>=2.8->tensorflow==2.8.1) (0.6.1)\n",
            "Requirement already satisfied: packaging>=20.0 in /usr/local/lib/python3.9/dist-packages (from matplotlib->mediapipe) (23.0)\n",
            "Requirement already satisfied: contourpy>=1.0.1 in /usr/local/lib/python3.9/dist-packages (from matplotlib->mediapipe) (1.0.7)\n",
            "Requirement already satisfied: python-dateutil>=2.7 in /usr/local/lib/python3.9/dist-packages (from matplotlib->mediapipe) (2.8.2)\n",
            "Requirement already satisfied: pillow>=6.2.0 in /usr/local/lib/python3.9/dist-packages (from matplotlib->mediapipe) (8.4.0)\n",
            "Requirement already satisfied: kiwisolver>=1.0.1 in /usr/local/lib/python3.9/dist-packages (from matplotlib->mediapipe) (1.4.4)\n",
            "Requirement already satisfied: importlib-resources>=3.2.0 in /usr/local/lib/python3.9/dist-packages (from matplotlib->mediapipe) (5.12.0)\n",
            "Requirement already satisfied: fonttools>=4.22.0 in /usr/local/lib/python3.9/dist-packages (from matplotlib->mediapipe) (4.39.0)\n",
            "Requirement already satisfied: pyparsing>=2.3.1 in /usr/local/lib/python3.9/dist-packages (from matplotlib->mediapipe) (3.0.9)\n",
            "Requirement already satisfied: cycler>=0.10 in /usr/local/lib/python3.9/dist-packages (from matplotlib->mediapipe) (0.11.0)\n",
            "Requirement already satisfied: cachetools<6.0,>=2.0.0 in /usr/local/lib/python3.9/dist-packages (from google-auth<3,>=1.6.3->tensorboard<2.9,>=2.8->tensorflow==2.8.1) (5.3.0)\n",
            "Requirement already satisfied: pyasn1-modules>=0.2.1 in /usr/local/lib/python3.9/dist-packages (from google-auth<3,>=1.6.3->tensorboard<2.9,>=2.8->tensorflow==2.8.1) (0.2.8)\n",
            "Requirement already satisfied: rsa<5,>=3.1.4 in /usr/local/lib/python3.9/dist-packages (from google-auth<3,>=1.6.3->tensorboard<2.9,>=2.8->tensorflow==2.8.1) (4.9)\n",
            "Requirement already satisfied: requests-oauthlib>=0.7.0 in /usr/local/lib/python3.9/dist-packages (from google-auth-oauthlib<0.5,>=0.4.1->tensorboard<2.9,>=2.8->tensorflow==2.8.1) (1.3.1)\n",
            "Requirement already satisfied: zipp>=3.1.0 in /usr/local/lib/python3.9/dist-packages (from importlib-resources>=3.2.0->matplotlib->mediapipe) (3.15.0)\n",
            "Requirement already satisfied: importlib-metadata>=4.4 in /usr/local/lib/python3.9/dist-packages (from markdown>=2.6.8->tensorboard<2.9,>=2.8->tensorflow==2.8.1) (6.0.0)\n",
            "Requirement already satisfied: idna<4,>=2.5 in /usr/local/lib/python3.9/dist-packages (from requests<3,>=2.21.0->tensorboard<2.9,>=2.8->tensorflow==2.8.1) (3.4)\n",
            "Requirement already satisfied: urllib3<1.27,>=1.21.1 in /usr/local/lib/python3.9/dist-packages (from requests<3,>=2.21.0->tensorboard<2.9,>=2.8->tensorflow==2.8.1) (1.26.15)\n",
            "Requirement already satisfied: charset-normalizer~=2.0.0 in /usr/local/lib/python3.9/dist-packages (from requests<3,>=2.21.0->tensorboard<2.9,>=2.8->tensorflow==2.8.1) (2.0.12)\n",
            "Requirement already satisfied: certifi>=2017.4.17 in /usr/local/lib/python3.9/dist-packages (from requests<3,>=2.21.0->tensorboard<2.9,>=2.8->tensorflow==2.8.1) (2022.12.7)\n",
            "Requirement already satisfied: MarkupSafe>=2.1.1 in /usr/local/lib/python3.9/dist-packages (from werkzeug>=0.11.15->tensorboard<2.9,>=2.8->tensorflow==2.8.1) (2.1.2)\n",
            "Requirement already satisfied: pyasn1<0.5.0,>=0.4.6 in /usr/local/lib/python3.9/dist-packages (from pyasn1-modules>=0.2.1->google-auth<3,>=1.6.3->tensorboard<2.9,>=2.8->tensorflow==2.8.1) (0.4.8)\n",
            "Requirement already satisfied: oauthlib>=3.0.0 in /usr/local/lib/python3.9/dist-packages (from requests-oauthlib>=0.7.0->google-auth-oauthlib<0.5,>=0.4.1->tensorboard<2.9,>=2.8->tensorflow==2.8.1) (3.2.2)\n",
            "Installing collected packages: tensorflow-estimator, keras, keras-preprocessing, mediapipe, tensorboard, tensorflow-gpu, tensorflow\n",
            "  Attempting uninstall: tensorflow-estimator\n",
            "    Found existing installation: tensorflow-estimator 2.11.0\n",
            "    Uninstalling tensorflow-estimator-2.11.0:\n",
            "      Successfully uninstalled tensorflow-estimator-2.11.0\n",
            "  Attempting uninstall: keras\n",
            "    Found existing installation: keras 2.11.0\n",
            "    Uninstalling keras-2.11.0:\n",
            "      Successfully uninstalled keras-2.11.0\n",
            "  Attempting uninstall: tensorboard\n",
            "    Found existing installation: tensorboard 2.11.2\n",
            "    Uninstalling tensorboard-2.11.2:\n",
            "      Successfully uninstalled tensorboard-2.11.2\n",
            "  Attempting uninstall: tensorflow\n",
            "    Found existing installation: tensorflow 2.11.0\n",
            "    Uninstalling tensorflow-2.11.0:\n",
            "      Successfully uninstalled tensorflow-2.11.0\n",
            "Successfully installed keras-2.8.0 keras-preprocessing-1.1.2 mediapipe-0.9.1.0 tensorboard-2.8.0 tensorflow-2.8.1 tensorflow-estimator-2.8.0 tensorflow-gpu-2.8.1\n"
          ]
        }
      ],
      "source": [
        "!pip install tensorflow==2.8.1 tensorflow-gpu==2.8.1 opencv-python mediapipe "
      ]
    },
    {
      "cell_type": "code",
      "execution_count": 3,
      "metadata": {
        "id": "jmck_Duo16sH"
      },
      "outputs": [],
      "source": [
        "from sklearn.model_selection import train_test_split\n",
        "from tensorflow.keras.utils import to_categorical\n",
        "import cv2\n",
        "import numpy as np\n",
        "import os\n",
        "from matplotlib import pyplot as plt\n",
        "import time\n",
        "import mediapipe as mp\n",
        "from tensorflow.keras.models import Sequential\n",
        "from tensorflow.keras.layers import LSTM, Dense, GRU, Dropout\n",
        "from tensorflow.keras.callbacks import TensorBoard\n",
        "from sklearn.metrics import multilabel_confusion_matrix, accuracy_score"
      ]
    },
    {
      "cell_type": "code",
      "execution_count": 5,
      "metadata": {
        "id": "JwKesrxr2T8-",
        "colab": {
          "base_uri": "https://localhost:8080/"
        },
        "outputId": "78cb4bb5-9a31-4324-e8ad-9dd7cca44f7b"
      },
      "outputs": [
        {
          "output_type": "stream",
          "name": "stdout",
          "text": [
            "Cloning into 'Tutorial_LSTM_MP'...\n",
            "remote: Enumerating objects: 48460, done.\u001b[K\n",
            "remote: Counting objects: 100% (25448/25448), done.\u001b[K\n",
            "remote: Compressing objects: 100% (10579/10579), done.\u001b[K\n",
            "remote: Total 48460 (delta 14891), reused 25414 (delta 14857), pack-reused 23012\n",
            "Receiving objects: 100% (48460/48460), 641.49 MiB | 17.50 MiB/s, done.\n",
            "Resolving deltas: 100% (15096/15096), done.\n",
            "Updating files: 100% (39987/39987), done.\n"
          ]
        }
      ],
      "source": [
        "! git clone https://github.com/nickbp760/Tutorial_LSTM_MP.git"
      ]
    },
    {
      "cell_type": "markdown",
      "metadata": {
        "id": "wQxJ8Faz2zhe"
      },
      "source": [
        "### **Preprocess Data and Create Labels and Features**"
      ]
    },
    {
      "cell_type": "markdown",
      "metadata": {
        "id": "C80wYflo3R2O"
      },
      "source": [
        "The label map containts the action label"
      ]
    },
    {
      "cell_type": "code",
      "execution_count": 6,
      "metadata": {
        "id": "OIwDfz9t2puH"
      },
      "outputs": [],
      "source": [
        "label_map = {label:num for num, label in enumerate(actions)}"
      ]
    },
    {
      "cell_type": "code",
      "execution_count": 7,
      "metadata": {
        "id": "7b0QZxvg2tI2",
        "colab": {
          "base_uri": "https://localhost:8080/"
        },
        "outputId": "18105504-8d2d-46fd-e920-7beb7c14747f"
      },
      "outputs": [
        {
          "output_type": "execute_result",
          "data": {
            "text/plain": [
              "{'LirikKanan': 0,\n",
              " 'LirikKiri': 1,\n",
              " 'MenolehKanan': 2,\n",
              " 'MenolehKiri': 3,\n",
              " 'Normal': 4,\n",
              " 'TutupMata': 5}"
            ]
          },
          "metadata": {},
          "execution_count": 7
        }
      ],
      "source": [
        "label_map"
      ]
    },
    {
      "cell_type": "markdown",
      "metadata": {
        "id": "Iz5HooSw3ZEG"
      },
      "source": [
        "load the the data that have been prepared before"
      ]
    },
    {
      "cell_type": "code",
      "source": [
        "def plot_graphs(history, string):\n",
        "    plt.plot(history.history[string])\n",
        "    plt.plot(history.history['val_'+string])\n",
        "    plt.xlabel(\"Epochs\")\n",
        "    plt.ylabel(string)\n",
        "    plt.legend([string, 'val_'+string])\n",
        "    plt.show()\n",
        "    "
      ],
      "metadata": {
        "id": "xfFaOsHKeB3a"
      },
      "execution_count": 12,
      "outputs": []
    },
    {
      "cell_type": "markdown",
      "metadata": {
        "id": "bSUQCFAg41jm"
      },
      "source": [
        "DEFINE X (Input) and y (Output)"
      ]
    },
    {
      "cell_type": "code",
      "execution_count": 26,
      "metadata": {
        "id": "q_tJp7Ua2G8m",
        "colab": {
          "base_uri": "https://localhost:8080/"
        },
        "outputId": "b82dcfcd-748c-49fe-d052-697fa28880cd"
      },
      "outputs": [
        {
          "output_type": "stream",
          "name": "stdout",
          "text": [
            "(144, 50, 15)\n",
            "(144, 6)\n"
          ]
        }
      ],
      "source": [
        "# Path for exported data, numpy arrays\n",
        "DATA_PATH = os.path.join('/content/Tutorial_LSTM_MP/Real_CheatDataTrain') \n",
        "\n",
        "# Actions that we try to detect\n",
        "actions = np.array(['LirikKanan', 'LirikKiri', 'MenolehKanan', 'MenolehKiri', 'Normal', 'TutupMata'])\n",
        "\n",
        "# Thirty videos worth of data\n",
        "no_sequences = 24\n",
        "\n",
        "# Videos are going to be 30 frames in length\n",
        "sequence_length = 50\n",
        "\n",
        "sequences, labels = [], []\n",
        "for action in actions:\n",
        "    for sequence in range(no_sequences):\n",
        "        window = []\n",
        "\n",
        "        for frame_num in range(sequence_length):\n",
        "            res = np.load(os.path.join(DATA_PATH, action, str(sequence), \"{}.npy\".format(frame_num)))\n",
        "            window.append(res)\n",
        "        sequences.append(window)\n",
        "        labels.append(label_map[action])\n",
        "\n",
        "X_train = np.array(sequences)\n",
        "print(X_train.shape)\n",
        "y_train = to_categorical(labels).astype(int)\n",
        "print(y_train.shape)"
      ]
    },
    {
      "cell_type": "code",
      "source": [
        "# Path for exported data, numpy arrays\n",
        "DATA_PATH = os.path.join('/content/Tutorial_LSTM_MP/Real_CheatDataTest') \n",
        "\n",
        "# Actions that we try to detect\n",
        "actions = np.array(['LirikKanan', 'LirikKiri', 'MenolehKanan', 'MenolehKiri', 'Normal', 'TutupMata'])\n",
        "\n",
        "# Thirty videos worth of data\n",
        "no_sequences = 3\n",
        "\n",
        "# Videos are going to be 30 frames in length\n",
        "sequence_length = 50\n",
        "\n",
        "sequences, labels = [], []\n",
        "for action in actions:\n",
        "    for sequence in range(no_sequences):\n",
        "        window = []\n",
        "\n",
        "        for frame_num in range(sequence_length):\n",
        "            res = np.load(os.path.join(DATA_PATH, action, str(sequence), \"{}.npy\".format(frame_num)))\n",
        "            window.append(res)\n",
        "        sequences.append(window)\n",
        "        labels.append(label_map[action])\n",
        "\n",
        "X_test = np.array(sequences)\n",
        "print(X_test.shape)\n",
        "y_test = to_categorical(labels).astype(int)\n",
        "print(y_test.shape)"
      ],
      "metadata": {
        "colab": {
          "base_uri": "https://localhost:8080/"
        },
        "id": "3DcnksV6bHBe",
        "outputId": "83d29194-6797-44fb-dc83-86a060d4f32d"
      },
      "execution_count": 28,
      "outputs": [
        {
          "output_type": "stream",
          "name": "stdout",
          "text": [
            "(18, 50, 15)\n",
            "(18, 6)\n"
          ]
        }
      ]
    },
    {
      "cell_type": "markdown",
      "metadata": {
        "id": "09LN9RY75Bid"
      },
      "source": [
        "### **Build and Train Neural Network**"
      ]
    },
    {
      "cell_type": "code",
      "execution_count": 29,
      "metadata": {
        "id": "ptTzydZM5KCt"
      },
      "outputs": [],
      "source": [
        "log_dir = os.path.join('Logs')\n",
        "tb_callback = TensorBoard(log_dir=log_dir)"
      ]
    },
    {
      "cell_type": "code",
      "source": [
        "model = Sequential()\n",
        "model.add(GRU(128, return_sequences=True, activation='relu', input_shape=(50,15)))\n",
        "model.add(Dropout(0.2))\n",
        "model.add(GRU(64, return_sequences=True, activation='relu'))\n",
        "model.add(Dropout(0.2))\n",
        "model.add(GRU(128, return_sequences=False, activation='relu'))\n",
        "model.add(Dense(64, activation='relu'))\n",
        "model.add(Dense(32, activation='relu'))\n",
        "model.add(Dense(actions.shape[0], activation='softmax'))"
      ],
      "metadata": {
        "colab": {
          "base_uri": "https://localhost:8080/"
        },
        "id": "mcfMbYMeTiMn",
        "outputId": "4703eb3c-290b-49df-8281-799c216ce6d5"
      },
      "execution_count": 30,
      "outputs": [
        {
          "output_type": "stream",
          "name": "stderr",
          "text": [
            "WARNING:tensorflow:Layer gru_3 will not use cuDNN kernels since it doesn't meet the criteria. It will use a generic GPU kernel as fallback when running on GPU.\n",
            "WARNING:tensorflow:Layer gru_4 will not use cuDNN kernels since it doesn't meet the criteria. It will use a generic GPU kernel as fallback when running on GPU.\n",
            "WARNING:tensorflow:Layer gru_5 will not use cuDNN kernels since it doesn't meet the criteria. It will use a generic GPU kernel as fallback when running on GPU.\n"
          ]
        }
      ]
    },
    {
      "cell_type": "code",
      "source": [
        "model.compile(optimizer='adam', loss='categorical_crossentropy', metrics=['categorical_accuracy'])\n",
        "model.optimizer.lr.assign(0.0001)"
      ],
      "metadata": {
        "id": "pT2nuqEvSY8Z",
        "colab": {
          "base_uri": "https://localhost:8080/"
        },
        "outputId": "56f0113e-64c1-4ecc-e06e-102a5269d5a1"
      },
      "execution_count": 31,
      "outputs": [
        {
          "output_type": "execute_result",
          "data": {
            "text/plain": [
              "<tf.Variable 'UnreadVariable' shape=() dtype=float32, numpy=1e-04>"
            ]
          },
          "metadata": {},
          "execution_count": 31
        }
      ]
    },
    {
      "cell_type": "code",
      "source": [
        "history = model.fit(X_train, y_train, epochs=100, callbacks=[tb_callback], validation_data = (X_test, y_test))"
      ],
      "metadata": {
        "colab": {
          "base_uri": "https://localhost:8080/"
        },
        "id": "Wp4-43BrStY7",
        "outputId": "09438fae-73d7-49ee-85e3-ad4fc0a79ad4"
      },
      "execution_count": 32,
      "outputs": [
        {
          "output_type": "stream",
          "name": "stdout",
          "text": [
            "Epoch 1/100\n",
            "5/5 [==============================] - 9s 505ms/step - loss: 1.8392 - categorical_accuracy: 0.1250 - val_loss: 1.8182 - val_categorical_accuracy: 0.1667\n",
            "Epoch 2/100\n",
            "5/5 [==============================] - 4s 743ms/step - loss: 1.8088 - categorical_accuracy: 0.1667 - val_loss: 1.7636 - val_categorical_accuracy: 0.1667\n",
            "Epoch 3/100\n",
            "5/5 [==============================] - 2s 334ms/step - loss: 1.7522 - categorical_accuracy: 0.2153 - val_loss: 1.7234 - val_categorical_accuracy: 0.2778\n",
            "Epoch 4/100\n",
            "5/5 [==============================] - 2s 334ms/step - loss: 1.6818 - categorical_accuracy: 0.2778 - val_loss: 1.6833 - val_categorical_accuracy: 0.3333\n",
            "Epoch 5/100\n",
            "5/5 [==============================] - 2s 335ms/step - loss: 1.6895 - categorical_accuracy: 0.2500 - val_loss: 1.6474 - val_categorical_accuracy: 0.5000\n",
            "Epoch 6/100\n",
            "5/5 [==============================] - 2s 324ms/step - loss: 1.6474 - categorical_accuracy: 0.2500 - val_loss: 1.6108 - val_categorical_accuracy: 0.4444\n",
            "Epoch 7/100\n",
            "5/5 [==============================] - 2s 331ms/step - loss: 1.6210 - categorical_accuracy: 0.3681 - val_loss: 1.5793 - val_categorical_accuracy: 0.5556\n",
            "Epoch 8/100\n",
            "5/5 [==============================] - 2s 322ms/step - loss: 1.5724 - categorical_accuracy: 0.3611 - val_loss: 1.5427 - val_categorical_accuracy: 0.5556\n",
            "Epoch 9/100\n",
            "5/5 [==============================] - 3s 609ms/step - loss: 1.5677 - categorical_accuracy: 0.4097 - val_loss: 1.5065 - val_categorical_accuracy: 0.6111\n",
            "Epoch 10/100\n",
            "5/5 [==============================] - 3s 599ms/step - loss: 1.5411 - categorical_accuracy: 0.3611 - val_loss: 1.4694 - val_categorical_accuracy: 0.6111\n",
            "Epoch 11/100\n",
            "5/5 [==============================] - 2s 336ms/step - loss: 1.4849 - categorical_accuracy: 0.4375 - val_loss: 1.4308 - val_categorical_accuracy: 0.6667\n",
            "Epoch 12/100\n",
            "5/5 [==============================] - 2s 354ms/step - loss: 1.4438 - categorical_accuracy: 0.4306 - val_loss: 1.3919 - val_categorical_accuracy: 0.6667\n",
            "Epoch 13/100\n",
            "5/5 [==============================] - 2s 318ms/step - loss: 1.4061 - categorical_accuracy: 0.5556 - val_loss: 1.3538 - val_categorical_accuracy: 0.6111\n",
            "Epoch 14/100\n",
            "5/5 [==============================] - 2s 336ms/step - loss: 1.3815 - categorical_accuracy: 0.5347 - val_loss: 1.3160 - val_categorical_accuracy: 0.5556\n",
            "Epoch 15/100\n",
            "5/5 [==============================] - 2s 339ms/step - loss: 1.3312 - categorical_accuracy: 0.5694 - val_loss: 1.2711 - val_categorical_accuracy: 0.6111\n",
            "Epoch 16/100\n",
            "5/5 [==============================] - 2s 501ms/step - loss: 1.3241 - categorical_accuracy: 0.5139 - val_loss: 1.2242 - val_categorical_accuracy: 0.6111\n",
            "Epoch 17/100\n",
            "5/5 [==============================] - 4s 763ms/step - loss: 1.2441 - categorical_accuracy: 0.5764 - val_loss: 1.1765 - val_categorical_accuracy: 0.7222\n",
            "Epoch 18/100\n",
            "5/5 [==============================] - 2s 322ms/step - loss: 1.2179 - categorical_accuracy: 0.6042 - val_loss: 1.1281 - val_categorical_accuracy: 0.7222\n",
            "Epoch 19/100\n",
            "5/5 [==============================] - 2s 337ms/step - loss: 1.1608 - categorical_accuracy: 0.6111 - val_loss: 1.0788 - val_categorical_accuracy: 0.7222\n",
            "Epoch 20/100\n",
            "5/5 [==============================] - 2s 351ms/step - loss: 1.1120 - categorical_accuracy: 0.6250 - val_loss: 1.0225 - val_categorical_accuracy: 0.7222\n",
            "Epoch 21/100\n",
            "5/5 [==============================] - 2s 334ms/step - loss: 1.0485 - categorical_accuracy: 0.6389 - val_loss: 0.9658 - val_categorical_accuracy: 0.7778\n",
            "Epoch 22/100\n",
            "5/5 [==============================] - 2s 336ms/step - loss: 1.0156 - categorical_accuracy: 0.6042 - val_loss: 0.9164 - val_categorical_accuracy: 0.6667\n",
            "Epoch 23/100\n",
            "5/5 [==============================] - 2s 321ms/step - loss: 1.0010 - categorical_accuracy: 0.5903 - val_loss: 0.8806 - val_categorical_accuracy: 0.6667\n",
            "Epoch 24/100\n",
            "5/5 [==============================] - 3s 710ms/step - loss: 0.8974 - categorical_accuracy: 0.6875 - val_loss: 0.8338 - val_categorical_accuracy: 0.7222\n",
            "Epoch 25/100\n",
            "5/5 [==============================] - 3s 463ms/step - loss: 0.8956 - categorical_accuracy: 0.6250 - val_loss: 0.7900 - val_categorical_accuracy: 0.7778\n",
            "Epoch 26/100\n",
            "5/5 [==============================] - 2s 342ms/step - loss: 0.8582 - categorical_accuracy: 0.6319 - val_loss: 0.7489 - val_categorical_accuracy: 0.6667\n",
            "Epoch 27/100\n",
            "5/5 [==============================] - 2s 341ms/step - loss: 0.7860 - categorical_accuracy: 0.6736 - val_loss: 0.7054 - val_categorical_accuracy: 0.7222\n",
            "Epoch 28/100\n",
            "5/5 [==============================] - 2s 328ms/step - loss: 0.7838 - categorical_accuracy: 0.6667 - val_loss: 0.6722 - val_categorical_accuracy: 0.7222\n",
            "Epoch 29/100\n",
            "5/5 [==============================] - 2s 320ms/step - loss: 0.7925 - categorical_accuracy: 0.6319 - val_loss: 0.6517 - val_categorical_accuracy: 0.6667\n",
            "Epoch 30/100\n",
            "5/5 [==============================] - 2s 330ms/step - loss: 0.7489 - categorical_accuracy: 0.6667 - val_loss: 0.6441 - val_categorical_accuracy: 0.6667\n",
            "Epoch 31/100\n",
            "5/5 [==============================] - 2s 492ms/step - loss: 0.7350 - categorical_accuracy: 0.6944 - val_loss: 0.6631 - val_categorical_accuracy: 0.6111\n",
            "Epoch 32/100\n",
            "5/5 [==============================] - 4s 754ms/step - loss: 0.7205 - categorical_accuracy: 0.6528 - val_loss: 0.6212 - val_categorical_accuracy: 0.8333\n",
            "Epoch 33/100\n",
            "5/5 [==============================] - 2s 346ms/step - loss: 0.6888 - categorical_accuracy: 0.6944 - val_loss: 0.6061 - val_categorical_accuracy: 0.8333\n",
            "Epoch 34/100\n",
            "5/5 [==============================] - 2s 329ms/step - loss: 0.6690 - categorical_accuracy: 0.6806 - val_loss: 0.6243 - val_categorical_accuracy: 0.6667\n",
            "Epoch 35/100\n",
            "5/5 [==============================] - 2s 327ms/step - loss: 0.6695 - categorical_accuracy: 0.7014 - val_loss: 0.5940 - val_categorical_accuracy: 0.6667\n",
            "Epoch 36/100\n",
            "5/5 [==============================] - 2s 313ms/step - loss: 0.6412 - categorical_accuracy: 0.6667 - val_loss: 0.5640 - val_categorical_accuracy: 0.6667\n",
            "Epoch 37/100\n",
            "5/5 [==============================] - 2s 324ms/step - loss: 0.6112 - categorical_accuracy: 0.7292 - val_loss: 0.5485 - val_categorical_accuracy: 0.7222\n",
            "Epoch 38/100\n",
            "5/5 [==============================] - 2s 318ms/step - loss: 0.6123 - categorical_accuracy: 0.7153 - val_loss: 0.5725 - val_categorical_accuracy: 0.7222\n",
            "Epoch 39/100\n",
            "5/5 [==============================] - 3s 732ms/step - loss: 0.6027 - categorical_accuracy: 0.6736 - val_loss: 0.5792 - val_categorical_accuracy: 0.7222\n",
            "Epoch 40/100\n",
            "5/5 [==============================] - 3s 539ms/step - loss: 0.5970 - categorical_accuracy: 0.6944 - val_loss: 0.5814 - val_categorical_accuracy: 0.6667\n",
            "Epoch 41/100\n",
            "5/5 [==============================] - 2s 327ms/step - loss: 0.5643 - categorical_accuracy: 0.7431 - val_loss: 0.5763 - val_categorical_accuracy: 0.6667\n",
            "Epoch 42/100\n",
            "5/5 [==============================] - 2s 354ms/step - loss: 0.5896 - categorical_accuracy: 0.6806 - val_loss: 0.5707 - val_categorical_accuracy: 0.7222\n",
            "Epoch 43/100\n",
            "5/5 [==============================] - 2s 325ms/step - loss: 0.5958 - categorical_accuracy: 0.7292 - val_loss: 0.5576 - val_categorical_accuracy: 0.6667\n",
            "Epoch 44/100\n",
            "5/5 [==============================] - 2s 321ms/step - loss: 0.5223 - categorical_accuracy: 0.7569 - val_loss: 0.5089 - val_categorical_accuracy: 0.7222\n",
            "Epoch 45/100\n",
            "5/5 [==============================] - 2s 340ms/step - loss: 0.5698 - categorical_accuracy: 0.7222 - val_loss: 0.4991 - val_categorical_accuracy: 0.7222\n",
            "Epoch 46/100\n",
            "5/5 [==============================] - 2s 504ms/step - loss: 0.5618 - categorical_accuracy: 0.7292 - val_loss: 0.5428 - val_categorical_accuracy: 0.7222\n",
            "Epoch 47/100\n",
            "5/5 [==============================] - 4s 790ms/step - loss: 0.5292 - categorical_accuracy: 0.7500 - val_loss: 0.5602 - val_categorical_accuracy: 0.7222\n",
            "Epoch 48/100\n",
            "5/5 [==============================] - 2s 326ms/step - loss: 0.4821 - categorical_accuracy: 0.7917 - val_loss: 0.5777 - val_categorical_accuracy: 0.7222\n",
            "Epoch 49/100\n",
            "5/5 [==============================] - 2s 323ms/step - loss: 0.5353 - categorical_accuracy: 0.7431 - val_loss: 0.6160 - val_categorical_accuracy: 0.7222\n",
            "Epoch 50/100\n",
            "5/5 [==============================] - 2s 329ms/step - loss: 0.5098 - categorical_accuracy: 0.7361 - val_loss: 0.4579 - val_categorical_accuracy: 0.8333\n",
            "Epoch 51/100\n",
            "5/5 [==============================] - 2s 332ms/step - loss: 0.4746 - categorical_accuracy: 0.7778 - val_loss: 0.5502 - val_categorical_accuracy: 0.7222\n",
            "Epoch 52/100\n",
            "5/5 [==============================] - 2s 323ms/step - loss: 0.4528 - categorical_accuracy: 0.7917 - val_loss: 0.5577 - val_categorical_accuracy: 0.6667\n",
            "Epoch 53/100\n",
            "5/5 [==============================] - 2s 337ms/step - loss: 0.4545 - categorical_accuracy: 0.7847 - val_loss: 0.4547 - val_categorical_accuracy: 0.8333\n",
            "Epoch 54/100\n",
            "5/5 [==============================] - 3s 676ms/step - loss: 0.4850 - categorical_accuracy: 0.7917 - val_loss: 0.4885 - val_categorical_accuracy: 0.8333\n",
            "Epoch 55/100\n",
            "5/5 [==============================] - 3s 526ms/step - loss: 0.4373 - categorical_accuracy: 0.8056 - val_loss: 0.5530 - val_categorical_accuracy: 0.7222\n",
            "Epoch 56/100\n",
            "5/5 [==============================] - 2s 320ms/step - loss: 0.4116 - categorical_accuracy: 0.8333 - val_loss: 0.4059 - val_categorical_accuracy: 0.8333\n",
            "Epoch 57/100\n",
            "5/5 [==============================] - 2s 312ms/step - loss: 0.4330 - categorical_accuracy: 0.8056 - val_loss: 0.4965 - val_categorical_accuracy: 0.7222\n",
            "Epoch 58/100\n",
            "5/5 [==============================] - 2s 324ms/step - loss: 0.3840 - categorical_accuracy: 0.8403 - val_loss: 0.4592 - val_categorical_accuracy: 0.8333\n",
            "Epoch 59/100\n",
            "5/5 [==============================] - 2s 339ms/step - loss: 0.3707 - categorical_accuracy: 0.8333 - val_loss: 0.4847 - val_categorical_accuracy: 0.7778\n",
            "Epoch 60/100\n",
            "5/5 [==============================] - 2s 312ms/step - loss: 0.3706 - categorical_accuracy: 0.8750 - val_loss: 0.4160 - val_categorical_accuracy: 0.8333\n",
            "Epoch 61/100\n",
            "5/5 [==============================] - 2s 431ms/step - loss: 0.3589 - categorical_accuracy: 0.8333 - val_loss: 0.4114 - val_categorical_accuracy: 0.7778\n",
            "Epoch 62/100\n",
            "5/5 [==============================] - 4s 743ms/step - loss: 0.3413 - categorical_accuracy: 0.8611 - val_loss: 0.3995 - val_categorical_accuracy: 0.8333\n",
            "Epoch 63/100\n",
            "5/5 [==============================] - 2s 340ms/step - loss: 0.3390 - categorical_accuracy: 0.8611 - val_loss: 0.3816 - val_categorical_accuracy: 0.8333\n",
            "Epoch 64/100\n",
            "5/5 [==============================] - 2s 348ms/step - loss: 0.3271 - categorical_accuracy: 0.8472 - val_loss: 0.6256 - val_categorical_accuracy: 0.6667\n",
            "Epoch 65/100\n",
            "5/5 [==============================] - 2s 324ms/step - loss: 0.3132 - categorical_accuracy: 0.8750 - val_loss: 0.4525 - val_categorical_accuracy: 0.7778\n",
            "Epoch 66/100\n",
            "5/5 [==============================] - 2s 332ms/step - loss: 0.3074 - categorical_accuracy: 0.8819 - val_loss: 0.3680 - val_categorical_accuracy: 0.8333\n",
            "Epoch 67/100\n",
            "5/5 [==============================] - 2s 329ms/step - loss: 0.2725 - categorical_accuracy: 0.9097 - val_loss: 0.5439 - val_categorical_accuracy: 0.7222\n",
            "Epoch 68/100\n",
            "5/5 [==============================] - 2s 319ms/step - loss: 0.2708 - categorical_accuracy: 0.8889 - val_loss: 0.3038 - val_categorical_accuracy: 0.8889\n",
            "Epoch 69/100\n",
            "5/5 [==============================] - 3s 686ms/step - loss: 0.2926 - categorical_accuracy: 0.8403 - val_loss: 0.3592 - val_categorical_accuracy: 0.8333\n",
            "Epoch 70/100\n",
            "5/5 [==============================] - 3s 585ms/step - loss: 0.2352 - categorical_accuracy: 0.9028 - val_loss: 0.3394 - val_categorical_accuracy: 0.8333\n",
            "Epoch 71/100\n",
            "5/5 [==============================] - 2s 327ms/step - loss: 0.2404 - categorical_accuracy: 0.9028 - val_loss: 0.2893 - val_categorical_accuracy: 0.8889\n",
            "Epoch 72/100\n",
            "5/5 [==============================] - 2s 353ms/step - loss: 0.2319 - categorical_accuracy: 0.9097 - val_loss: 0.2889 - val_categorical_accuracy: 0.8889\n",
            "Epoch 73/100\n",
            "5/5 [==============================] - 2s 321ms/step - loss: 0.2419 - categorical_accuracy: 0.8958 - val_loss: 0.2012 - val_categorical_accuracy: 1.0000\n",
            "Epoch 74/100\n",
            "5/5 [==============================] - 2s 336ms/step - loss: 0.2364 - categorical_accuracy: 0.9028 - val_loss: 0.2551 - val_categorical_accuracy: 0.8889\n",
            "Epoch 75/100\n",
            "5/5 [==============================] - 2s 327ms/step - loss: 0.1715 - categorical_accuracy: 0.9306 - val_loss: 0.2074 - val_categorical_accuracy: 0.8889\n",
            "Epoch 76/100\n",
            "5/5 [==============================] - 2s 400ms/step - loss: 0.1682 - categorical_accuracy: 0.9514 - val_loss: 0.2240 - val_categorical_accuracy: 0.8889\n",
            "Epoch 77/100\n",
            "5/5 [==============================] - 4s 714ms/step - loss: 0.1631 - categorical_accuracy: 0.9375 - val_loss: 0.1775 - val_categorical_accuracy: 0.8889\n",
            "Epoch 78/100\n",
            "5/5 [==============================] - 2s 346ms/step - loss: 0.2088 - categorical_accuracy: 0.8958 - val_loss: 0.2269 - val_categorical_accuracy: 0.8889\n",
            "Epoch 79/100\n",
            "5/5 [==============================] - 2s 309ms/step - loss: 0.1888 - categorical_accuracy: 0.9236 - val_loss: 0.9493 - val_categorical_accuracy: 0.6111\n",
            "Epoch 80/100\n",
            "5/5 [==============================] - 2s 328ms/step - loss: 0.2075 - categorical_accuracy: 0.9306 - val_loss: 0.1532 - val_categorical_accuracy: 1.0000\n",
            "Epoch 81/100\n",
            "5/5 [==============================] - 2s 341ms/step - loss: 0.1558 - categorical_accuracy: 0.9236 - val_loss: 0.2530 - val_categorical_accuracy: 0.8333\n",
            "Epoch 82/100\n",
            "5/5 [==============================] - 2s 337ms/step - loss: 0.1333 - categorical_accuracy: 0.9444 - val_loss: 0.1350 - val_categorical_accuracy: 1.0000\n",
            "Epoch 83/100\n",
            "5/5 [==============================] - 2s 341ms/step - loss: 0.1028 - categorical_accuracy: 0.9792 - val_loss: 0.2798 - val_categorical_accuracy: 0.8333\n",
            "Epoch 84/100\n",
            "5/5 [==============================] - 3s 642ms/step - loss: 0.1165 - categorical_accuracy: 0.9583 - val_loss: 0.1669 - val_categorical_accuracy: 0.9444\n",
            "Epoch 85/100\n",
            "5/5 [==============================] - 3s 633ms/step - loss: 0.1173 - categorical_accuracy: 0.9653 - val_loss: 0.2233 - val_categorical_accuracy: 0.8333\n",
            "Epoch 86/100\n",
            "5/5 [==============================] - 2s 319ms/step - loss: 0.0777 - categorical_accuracy: 0.9861 - val_loss: 0.1016 - val_categorical_accuracy: 1.0000\n",
            "Epoch 87/100\n",
            "5/5 [==============================] - 2s 329ms/step - loss: 0.0732 - categorical_accuracy: 0.9792 - val_loss: 0.1080 - val_categorical_accuracy: 1.0000\n",
            "Epoch 88/100\n",
            "5/5 [==============================] - 2s 327ms/step - loss: 0.0824 - categorical_accuracy: 0.9792 - val_loss: 0.1004 - val_categorical_accuracy: 1.0000\n",
            "Epoch 89/100\n",
            "5/5 [==============================] - 2s 344ms/step - loss: 0.1289 - categorical_accuracy: 0.9653 - val_loss: 0.1595 - val_categorical_accuracy: 0.8889\n",
            "Epoch 90/100\n",
            "5/5 [==============================] - 2s 322ms/step - loss: 0.1218 - categorical_accuracy: 0.9653 - val_loss: 0.1429 - val_categorical_accuracy: 0.9444\n",
            "Epoch 91/100\n",
            "5/5 [==============================] - 2s 430ms/step - loss: 0.1233 - categorical_accuracy: 0.9514 - val_loss: 0.1548 - val_categorical_accuracy: 0.8889\n",
            "Epoch 92/100\n",
            "5/5 [==============================] - 3s 686ms/step - loss: 0.1549 - categorical_accuracy: 0.9306 - val_loss: 0.1001 - val_categorical_accuracy: 1.0000\n",
            "Epoch 93/100\n",
            "5/5 [==============================] - 2s 342ms/step - loss: 0.1718 - categorical_accuracy: 0.9236 - val_loss: 0.1187 - val_categorical_accuracy: 1.0000\n",
            "Epoch 94/100\n",
            "5/5 [==============================] - 2s 318ms/step - loss: 0.1137 - categorical_accuracy: 0.9722 - val_loss: 0.1948 - val_categorical_accuracy: 0.8889\n",
            "Epoch 95/100\n",
            "5/5 [==============================] - 2s 319ms/step - loss: 0.0915 - categorical_accuracy: 0.9653 - val_loss: 0.0915 - val_categorical_accuracy: 1.0000\n",
            "Epoch 96/100\n",
            "5/5 [==============================] - 2s 316ms/step - loss: 0.1161 - categorical_accuracy: 0.9653 - val_loss: 0.1447 - val_categorical_accuracy: 0.9444\n",
            "Epoch 97/100\n",
            "5/5 [==============================] - 2s 345ms/step - loss: 0.0901 - categorical_accuracy: 0.9722 - val_loss: 0.0696 - val_categorical_accuracy: 1.0000\n",
            "Epoch 98/100\n",
            "5/5 [==============================] - 2s 329ms/step - loss: 0.0787 - categorical_accuracy: 0.9722 - val_loss: 0.1511 - val_categorical_accuracy: 0.8889\n",
            "Epoch 99/100\n",
            "5/5 [==============================] - 3s 613ms/step - loss: 0.1359 - categorical_accuracy: 0.9444 - val_loss: 0.0907 - val_categorical_accuracy: 1.0000\n",
            "Epoch 100/100\n",
            "5/5 [==============================] - 3s 694ms/step - loss: 0.0858 - categorical_accuracy: 0.9653 - val_loss: 0.1436 - val_categorical_accuracy: 0.9444\n"
          ]
        }
      ]
    },
    {
      "cell_type": "code",
      "source": [
        "model.summary()\n",
        "model.save('/content/Tutorial_LSTM_MP/Weight_model/actionGRUNikoCheatDataReal.h5')\n",
        "plot_graphs(history, 'categorical_accuracy')\n",
        "plot_graphs(history, 'loss')"
      ],
      "metadata": {
        "colab": {
          "base_uri": "https://localhost:8080/",
          "height": 975
        },
        "id": "e2GpesJhXp4e",
        "outputId": "29dbcf5c-fef1-4333-dfe9-7c65af83aa62"
      },
      "execution_count": 37,
      "outputs": [
        {
          "output_type": "stream",
          "name": "stdout",
          "text": [
            "Model: \"sequential_1\"\n",
            "_________________________________________________________________\n",
            " Layer (type)                Output Shape              Param #   \n",
            "=================================================================\n",
            " gru_3 (GRU)                 (None, 50, 128)           55680     \n",
            "                                                                 \n",
            " dropout_2 (Dropout)         (None, 50, 128)           0         \n",
            "                                                                 \n",
            " gru_4 (GRU)                 (None, 50, 64)            37248     \n",
            "                                                                 \n",
            " dropout_3 (Dropout)         (None, 50, 64)            0         \n",
            "                                                                 \n",
            " gru_5 (GRU)                 (None, 128)               74496     \n",
            "                                                                 \n",
            " dense_3 (Dense)             (None, 64)                8256      \n",
            "                                                                 \n",
            " dense_4 (Dense)             (None, 32)                2080      \n",
            "                                                                 \n",
            " dense_5 (Dense)             (None, 6)                 198       \n",
            "                                                                 \n",
            "=================================================================\n",
            "Total params: 177,958\n",
            "Trainable params: 177,958\n",
            "Non-trainable params: 0\n",
            "_________________________________________________________________\n"
          ]
        },
        {
          "output_type": "display_data",
          "data": {
            "text/plain": [
              "<Figure size 432x288 with 1 Axes>"
            ],
            "image/png": "[encoded data removed]"
          },
          "metadata": {
            "needs_background": "light"
          }
        },
        {
          "output_type": "display_data",
          "data": {
            "text/plain": [
              "<Figure size 432x288 with 1 Axes>"
            ],
            "image/png": "[encoded data removed]"
          },
          "metadata": {
            "needs_background": "light"
          }
        }
      ]
    },
    {
      "cell_type": "code",
      "source": [
        "# Path for exported data, numpy arrays\n",
        "DATA_PATH = os.path.join('/content/Tutorial_LSTM_MP/Complete_CheatDataNiko') \n",
        "\n",
        "# Actions that we try to detect\n",
        "actions = np.array(['LirikKanan', 'LirikKiri', 'MenolehKanan', 'MenolehKiri', 'Normal', 'TutupMata'])\n",
        "\n",
        "# Thirty videos worth of data\n",
        "no_sequences = 30\n",
        "\n",
        "# Videos are going to be 30 frames in length\n",
        "sequence_length = 50\n",
        "\n",
        "sequences, labels = [], []\n",
        "for action in actions:\n",
        "    for sequence in range(no_sequences):\n",
        "        window = []\n",
        "\n",
        "        for frame_num in range(sequence_length):\n",
        "            res = np.load(os.path.join(DATA_PATH, action, str(sequence), \"{}.npy\".format(frame_num)))\n",
        "            window.append(res)\n",
        "        sequences.append(window)\n",
        "        labels.append(label_map[action])\n",
        "\n",
        "X_test = np.array(sequences)\n",
        "print(X_test.shape)\n",
        "y_test = to_categorical(labels).astype(int)\n",
        "print(y_test.shape)"
      ],
      "metadata": {
        "colab": {
          "base_uri": "https://localhost:8080/"
        },
        "id": "DJAPeVAQdlr-",
        "outputId": "4ad65c73-5aa1-4dc2-a2ae-3b81c70794dc"
      },
      "execution_count": 35,
      "outputs": [
        {
          "output_type": "stream",
          "name": "stdout",
          "text": [
            "(180, 50, 15)\n",
            "(180, 6)\n"
          ]
        }
      ]
    },
    {
      "cell_type": "code",
      "source": [
        "y_test_predict = model.predict(X_test)\n",
        "ytrue = np.argmax(y_test, axis=1).tolist()\n",
        "yhat = np.argmax(y_test_predict, axis=1).tolist()\n",
        "multilabel_confusion_matrix(ytrue, yhat)\n",
        "accuracy_score(ytrue, yhat)"
      ],
      "metadata": {
        "colab": {
          "base_uri": "https://localhost:8080/"
        },
        "id": "OCCS45FelFL3",
        "outputId": "2bcc6ff7-53bd-448c-c3de-b041c97e558d"
      },
      "execution_count": 36,
      "outputs": [
        {
          "output_type": "execute_result",
          "data": {
            "text/plain": [
              "0.85"
            ]
          },
          "metadata": {},
          "execution_count": 36
        }
      ]
    }
  ],
  "metadata": {
    "accelerator": "GPU",
    "colab": {
      "provenance": []
    },
    "gpuClass": "standard",
    "kernelspec": {
      "display_name": "Python 3.10.2 64-bit",
      "language": "python",
      "name": "python3"
    },
    "language_info": {
      "name": "python",
      "version": "3.10.2"
    },
    "vscode": {
      "interpreter": {
        "hash": "c2d1da28924dd73d48b374a30035f4a3d427e107cd96680887f7889f9d1a8264"
      }
    }
  },
  "nbformat": 4,
  "nbformat_minor": 0
}