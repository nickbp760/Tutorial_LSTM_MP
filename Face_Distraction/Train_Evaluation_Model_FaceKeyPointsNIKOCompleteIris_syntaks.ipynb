{
  "cells": [
    {
      "cell_type": "markdown",
      "metadata": {
        "id": "B2cfeWV3Cv6r"
      },
      "source": [
        "# *SOURCE*\n",
        "https://www.youtube.com/watch?v=doDUihpj6ro&t=7339s\n",
        "https://github.com/nicknochnack/ActionDetectionforSignLanguage"
      ]
    },
    {
      "cell_type": "code",
      "source": [
        "! pip install PyQt5"
      ],
      "metadata": {
        "colab": {
          "base_uri": "https://localhost:8080/"
        },
        "id": "krl26FJLF4UL",
        "outputId": "c82c68a0-645a-4152-b21e-1923f3e025b0"
      },
      "execution_count": 1,
      "outputs": [
        {
          "output_type": "stream",
          "name": "stdout",
          "text": [
            "Looking in indexes: https://pypi.org/simple, https://us-python.pkg.dev/colab-wheels/public/simple/\n",
            "Collecting PyQt5\n",
            "  Downloading PyQt5-5.15.9-cp37-abi3-manylinux_2_17_x86_64.whl (8.4 MB)\n",
            "\u001b[2K     \u001b[90m━━━━━━━━━━━━━━━━━━━━━━━━━━━━━━━━━━━━━━━━\u001b[0m \u001b[32m8.4/8.4 MB\u001b[0m \u001b[31m50.8 MB/s\u001b[0m eta \u001b[36m0:00:00\u001b[0m\n",
            "\u001b[?25hCollecting PyQt5-sip<13,>=12.11\n",
            "  Downloading PyQt5_sip-12.11.1-cp39-cp39-manylinux_2_5_x86_64.manylinux1_x86_64.whl (357 kB)\n",
            "\u001b[2K     \u001b[90m━━━━━━━━━━━━━━━━━━━━━━━━━━━━━━━━━━━━━━\u001b[0m \u001b[32m357.8/357.8 KB\u001b[0m \u001b[31m15.2 MB/s\u001b[0m eta \u001b[36m0:00:00\u001b[0m\n",
            "\u001b[?25hCollecting PyQt5-Qt5>=5.15.2\n",
            "  Downloading PyQt5_Qt5-5.15.2-py3-none-manylinux2014_x86_64.whl (59.9 MB)\n",
            "\u001b[2K     \u001b[90m━━━━━━━━━━━━━━━━━━━━━━━━━━━━━━━━━━━━━━━━\u001b[0m \u001b[32m59.9/59.9 MB\u001b[0m \u001b[31m13.9 MB/s\u001b[0m eta \u001b[36m0:00:00\u001b[0m\n",
            "\u001b[?25hInstalling collected packages: PyQt5-Qt5, PyQt5-sip, PyQt5\n",
            "Successfully installed PyQt5-5.15.9 PyQt5-Qt5-5.15.2 PyQt5-sip-12.11.1\n"
          ]
        }
      ]
    },
    {
      "cell_type": "code",
      "execution_count": 2,
      "metadata": {
        "colab": {
          "base_uri": "https://localhost:8080/"
        },
        "id": "01jSxBD21OU7",
        "outputId": "b124a652-c0fc-4501-c4c5-e3d3d569a979"
      },
      "outputs": [
        {
          "output_type": "stream",
          "name": "stdout",
          "text": [
            "Looking in indexes: https://pypi.org/simple, https://us-python.pkg.dev/colab-wheels/public/simple/\n",
            "Collecting tensorflow==2.8.1\n",
            "  Downloading tensorflow-2.8.1-cp39-cp39-manylinux2010_x86_64.whl (498.0 MB)\n",
            "\u001b[2K     \u001b[90m━━━━━━━━━━━━━━━━━━━━━━━━━━━━━━━━━━━━━━━\u001b[0m \u001b[32m498.0/498.0 MB\u001b[0m \u001b[31m3.1 MB/s\u001b[0m eta \u001b[36m0:00:00\u001b[0m\n",
            "\u001b[?25hCollecting tensorflow-gpu==2.8.1\n",
            "  Downloading tensorflow_gpu-2.8.1-cp39-cp39-manylinux2010_x86_64.whl (498.0 MB)\n",
            "\u001b[2K     \u001b[90m━━━━━━━━━━━━━━━━━━━━━━━━━━━━━━━━━━━━━━━\u001b[0m \u001b[32m498.0/498.0 MB\u001b[0m \u001b[31m3.2 MB/s\u001b[0m eta \u001b[36m0:00:00\u001b[0m\n",
            "\u001b[?25hRequirement already satisfied: opencv-python in /usr/local/lib/python3.9/dist-packages (4.6.0.66)\n",
            "Collecting mediapipe\n",
            "  Downloading mediapipe-0.9.1.0-cp39-cp39-manylinux_2_17_x86_64.manylinux2014_x86_64.whl (33.0 MB)\n",
            "\u001b[2K     \u001b[90m━━━━━━━━━━━━━━━━━━━━━━━━━━━━━━━━━━━━━━━━\u001b[0m \u001b[32m33.0/33.0 MB\u001b[0m \u001b[31m35.6 MB/s\u001b[0m eta \u001b[36m0:00:00\u001b[0m\n",
            "\u001b[?25hRequirement already satisfied: opt-einsum>=2.3.2 in /usr/local/lib/python3.9/dist-packages (from tensorflow==2.8.1) (3.3.0)\n",
            "Requirement already satisfied: typing-extensions>=3.6.6 in /usr/local/lib/python3.9/dist-packages (from tensorflow==2.8.1) (4.5.0)\n",
            "Requirement already satisfied: tensorflow-io-gcs-filesystem>=0.23.1 in /usr/local/lib/python3.9/dist-packages (from tensorflow==2.8.1) (0.31.0)\n",
            "Requirement already satisfied: six>=1.12.0 in /usr/local/lib/python3.9/dist-packages (from tensorflow==2.8.1) (1.15.0)\n",
            "Collecting tensorboard<2.9,>=2.8\n",
            "  Downloading tensorboard-2.8.0-py3-none-any.whl (5.8 MB)\n",
            "\u001b[2K     \u001b[90m━━━━━━━━━━━━━━━━━━━━━━━━━━━━━━━━━━━━━━━━\u001b[0m \u001b[32m5.8/5.8 MB\u001b[0m \u001b[31m74.0 MB/s\u001b[0m eta \u001b[36m0:00:00\u001b[0m\n",
            "\u001b[?25hCollecting keras<2.9,>=2.8.0rc0\n",
            "  Downloading keras-2.8.0-py2.py3-none-any.whl (1.4 MB)\n",
            "\u001b[2K     \u001b[90m━━━━━━━━━━━━━━━━━━━━━━━━━━━━━━━━━━━━━━━━\u001b[0m \u001b[32m1.4/1.4 MB\u001b[0m \u001b[31m64.9 MB/s\u001b[0m eta \u001b[36m0:00:00\u001b[0m\n",
            "\u001b[?25hRequirement already satisfied: setuptools in /usr/local/lib/python3.9/dist-packages (from tensorflow==2.8.1) (63.4.3)\n",
            "Requirement already satisfied: termcolor>=1.1.0 in /usr/local/lib/python3.9/dist-packages (from tensorflow==2.8.1) (2.2.0)\n",
            "Collecting keras-preprocessing>=1.1.1\n",
            "  Downloading Keras_Preprocessing-1.1.2-py2.py3-none-any.whl (42 kB)\n",
            "\u001b[2K     \u001b[90m━━━━━━━━━━━━━━━━━━━━━━━━━━━━━━━━━━━━━━━━\u001b[0m \u001b[32m42.6/42.6 KB\u001b[0m \u001b[31m5.0 MB/s\u001b[0m eta \u001b[36m0:00:00\u001b[0m\n",
            "\u001b[?25hRequirement already satisfied: grpcio<2.0,>=1.24.3 in /usr/local/lib/python3.9/dist-packages (from tensorflow==2.8.1) (1.51.3)\n",
            "Requirement already satisfied: wrapt>=1.11.0 in /usr/local/lib/python3.9/dist-packages (from tensorflow==2.8.1) (1.15.0)\n",
            "Requirement already satisfied: h5py>=2.9.0 in /usr/local/lib/python3.9/dist-packages (from tensorflow==2.8.1) (3.1.0)\n",
            "Requirement already satisfied: google-pasta>=0.1.1 in /usr/local/lib/python3.9/dist-packages (from tensorflow==2.8.1) (0.2.0)\n",
            "Requirement already satisfied: libclang>=9.0.1 in /usr/local/lib/python3.9/dist-packages (from tensorflow==2.8.1) (15.0.6.1)\n",
            "Requirement already satisfied: protobuf>=3.9.2 in /usr/local/lib/python3.9/dist-packages (from tensorflow==2.8.1) (3.19.6)\n",
            "Requirement already satisfied: absl-py>=0.4.0 in /usr/local/lib/python3.9/dist-packages (from tensorflow==2.8.1) (1.4.0)\n",
            "Requirement already satisfied: astunparse>=1.6.0 in /usr/local/lib/python3.9/dist-packages (from tensorflow==2.8.1) (1.6.3)\n",
            "Requirement already satisfied: numpy>=1.20 in /usr/local/lib/python3.9/dist-packages (from tensorflow==2.8.1) (1.22.4)\n",
            "Requirement already satisfied: gast>=0.2.1 in /usr/local/lib/python3.9/dist-packages (from tensorflow==2.8.1) (0.4.0)\n",
            "Collecting tensorflow-estimator<2.9,>=2.8\n",
            "  Downloading tensorflow_estimator-2.8.0-py2.py3-none-any.whl (462 kB)\n",
            "\u001b[2K     \u001b[90m━━━━━━━━━━━━━━━━━━━━━━━━━━━━━━━━━━━━━━\u001b[0m \u001b[32m462.3/462.3 KB\u001b[0m \u001b[31m36.5 MB/s\u001b[0m eta \u001b[36m0:00:00\u001b[0m\n",
            "\u001b[?25hRequirement already satisfied: flatbuffers>=1.12 in /usr/local/lib/python3.9/dist-packages (from tensorflow==2.8.1) (23.3.3)\n",
            "Requirement already satisfied: attrs>=19.1.0 in /usr/local/lib/python3.9/dist-packages (from mediapipe) (22.2.0)\n",
            "Requirement already satisfied: matplotlib in /usr/local/lib/python3.9/dist-packages (from mediapipe) (3.5.3)\n",
            "Requirement already satisfied: opencv-contrib-python in /usr/local/lib/python3.9/dist-packages (from mediapipe) (4.6.0.66)\n",
            "Requirement already satisfied: wheel<1.0,>=0.23.0 in /usr/local/lib/python3.9/dist-packages (from astunparse>=1.6.0->tensorflow==2.8.1) (0.38.4)\n",
            "Requirement already satisfied: tensorboard-data-server<0.7.0,>=0.6.0 in /usr/local/lib/python3.9/dist-packages (from tensorboard<2.9,>=2.8->tensorflow==2.8.1) (0.6.1)\n",
            "Requirement already satisfied: google-auth<3,>=1.6.3 in /usr/local/lib/python3.9/dist-packages (from tensorboard<2.9,>=2.8->tensorflow==2.8.1) (2.16.2)\n",
            "Requirement already satisfied: requests<3,>=2.21.0 in /usr/local/lib/python3.9/dist-packages (from tensorboard<2.9,>=2.8->tensorflow==2.8.1) (2.25.1)\n",
            "Requirement already satisfied: google-auth-oauthlib<0.5,>=0.4.1 in /usr/local/lib/python3.9/dist-packages (from tensorboard<2.9,>=2.8->tensorflow==2.8.1) (0.4.6)\n",
            "Requirement already satisfied: werkzeug>=0.11.15 in /usr/local/lib/python3.9/dist-packages (from tensorboard<2.9,>=2.8->tensorflow==2.8.1) (2.2.3)\n",
            "Requirement already satisfied: markdown>=2.6.8 in /usr/local/lib/python3.9/dist-packages (from tensorboard<2.9,>=2.8->tensorflow==2.8.1) (3.4.1)\n",
            "Requirement already satisfied: tensorboard-plugin-wit>=1.6.0 in /usr/local/lib/python3.9/dist-packages (from tensorboard<2.9,>=2.8->tensorflow==2.8.1) (1.8.1)\n",
            "Requirement already satisfied: pillow>=6.2.0 in /usr/local/lib/python3.9/dist-packages (from matplotlib->mediapipe) (8.4.0)\n",
            "Requirement already satisfied: pyparsing>=2.2.1 in /usr/local/lib/python3.9/dist-packages (from matplotlib->mediapipe) (3.0.9)\n",
            "Requirement already satisfied: python-dateutil>=2.7 in /usr/local/lib/python3.9/dist-packages (from matplotlib->mediapipe) (2.8.2)\n",
            "Requirement already satisfied: kiwisolver>=1.0.1 in /usr/local/lib/python3.9/dist-packages (from matplotlib->mediapipe) (1.4.4)\n",
            "Requirement already satisfied: fonttools>=4.22.0 in /usr/local/lib/python3.9/dist-packages (from matplotlib->mediapipe) (4.39.0)\n",
            "Requirement already satisfied: packaging>=20.0 in /usr/local/lib/python3.9/dist-packages (from matplotlib->mediapipe) (23.0)\n",
            "Requirement already satisfied: cycler>=0.10 in /usr/local/lib/python3.9/dist-packages (from matplotlib->mediapipe) (0.11.0)\n",
            "Requirement already satisfied: cachetools<6.0,>=2.0.0 in /usr/local/lib/python3.9/dist-packages (from google-auth<3,>=1.6.3->tensorboard<2.9,>=2.8->tensorflow==2.8.1) (5.3.0)\n",
            "Requirement already satisfied: rsa<5,>=3.1.4 in /usr/local/lib/python3.9/dist-packages (from google-auth<3,>=1.6.3->tensorboard<2.9,>=2.8->tensorflow==2.8.1) (4.9)\n",
            "Requirement already satisfied: pyasn1-modules>=0.2.1 in /usr/local/lib/python3.9/dist-packages (from google-auth<3,>=1.6.3->tensorboard<2.9,>=2.8->tensorflow==2.8.1) (0.2.8)\n",
            "Requirement already satisfied: requests-oauthlib>=0.7.0 in /usr/local/lib/python3.9/dist-packages (from google-auth-oauthlib<0.5,>=0.4.1->tensorboard<2.9,>=2.8->tensorflow==2.8.1) (1.3.1)\n",
            "Requirement already satisfied: importlib-metadata>=4.4 in /usr/local/lib/python3.9/dist-packages (from markdown>=2.6.8->tensorboard<2.9,>=2.8->tensorflow==2.8.1) (6.0.0)\n",
            "Requirement already satisfied: idna<3,>=2.5 in /usr/local/lib/python3.9/dist-packages (from requests<3,>=2.21.0->tensorboard<2.9,>=2.8->tensorflow==2.8.1) (2.10)\n",
            "Requirement already satisfied: urllib3<1.27,>=1.21.1 in /usr/local/lib/python3.9/dist-packages (from requests<3,>=2.21.0->tensorboard<2.9,>=2.8->tensorflow==2.8.1) (1.26.15)\n",
            "Requirement already satisfied: chardet<5,>=3.0.2 in /usr/local/lib/python3.9/dist-packages (from requests<3,>=2.21.0->tensorboard<2.9,>=2.8->tensorflow==2.8.1) (4.0.0)\n",
            "Requirement already satisfied: certifi>=2017.4.17 in /usr/local/lib/python3.9/dist-packages (from requests<3,>=2.21.0->tensorboard<2.9,>=2.8->tensorflow==2.8.1) (2022.12.7)\n",
            "Requirement already satisfied: MarkupSafe>=2.1.1 in /usr/local/lib/python3.9/dist-packages (from werkzeug>=0.11.15->tensorboard<2.9,>=2.8->tensorflow==2.8.1) (2.1.2)\n",
            "Requirement already satisfied: zipp>=0.5 in /usr/local/lib/python3.9/dist-packages (from importlib-metadata>=4.4->markdown>=2.6.8->tensorboard<2.9,>=2.8->tensorflow==2.8.1) (3.15.0)\n",
            "Requirement already satisfied: pyasn1<0.5.0,>=0.4.6 in /usr/local/lib/python3.9/dist-packages (from pyasn1-modules>=0.2.1->google-auth<3,>=1.6.3->tensorboard<2.9,>=2.8->tensorflow==2.8.1) (0.4.8)\n",
            "Requirement already satisfied: oauthlib>=3.0.0 in /usr/local/lib/python3.9/dist-packages (from requests-oauthlib>=0.7.0->google-auth-oauthlib<0.5,>=0.4.1->tensorboard<2.9,>=2.8->tensorflow==2.8.1) (3.2.2)\n",
            "Installing collected packages: tensorflow-estimator, keras, keras-preprocessing, mediapipe, tensorboard, tensorflow-gpu, tensorflow\n",
            "  Attempting uninstall: tensorflow-estimator\n",
            "    Found existing installation: tensorflow-estimator 2.11.0\n",
            "    Uninstalling tensorflow-estimator-2.11.0:\n",
            "      Successfully uninstalled tensorflow-estimator-2.11.0\n",
            "  Attempting uninstall: keras\n",
            "    Found existing installation: keras 2.11.0\n",
            "    Uninstalling keras-2.11.0:\n",
            "      Successfully uninstalled keras-2.11.0\n",
            "  Attempting uninstall: tensorboard\n",
            "    Found existing installation: tensorboard 2.11.2\n",
            "    Uninstalling tensorboard-2.11.2:\n",
            "      Successfully uninstalled tensorboard-2.11.2\n",
            "  Attempting uninstall: tensorflow\n",
            "    Found existing installation: tensorflow 2.11.0\n",
            "    Uninstalling tensorflow-2.11.0:\n",
            "      Successfully uninstalled tensorflow-2.11.0\n",
            "Successfully installed keras-2.8.0 keras-preprocessing-1.1.2 mediapipe-0.9.1.0 tensorboard-2.8.0 tensorflow-2.8.1 tensorflow-estimator-2.8.0 tensorflow-gpu-2.8.1\n"
          ]
        }
      ],
      "source": [
        "!pip install tensorflow==2.8.1 tensorflow-gpu==2.8.1 opencv-python mediapipe "
      ]
    },
    {
      "cell_type": "code",
      "execution_count": 3,
      "metadata": {
        "id": "jmck_Duo16sH"
      },
      "outputs": [],
      "source": [
        "from sklearn.model_selection import train_test_split\n",
        "from tensorflow.keras.utils import to_categorical\n",
        "import cv2\n",
        "import numpy as np\n",
        "import os\n",
        "from matplotlib import pyplot as plt\n",
        "import time\n",
        "import mediapipe as mp\n",
        "from tensorflow.keras.models import Sequential\n",
        "from tensorflow.keras.layers import LSTM, Dense, GRU\n",
        "from tensorflow.keras.callbacks import TensorBoard\n",
        "from sklearn.metrics import multilabel_confusion_matrix, accuracy_score"
      ]
    },
    {
      "cell_type": "code",
      "execution_count": 4,
      "metadata": {
        "id": "q_tJp7Ua2G8m"
      },
      "outputs": [],
      "source": [
        "# Path for exported data, numpy arrays\n",
        "DATA_PATH = os.path.join('/content/Tutorial_LSTM_MP/Complete_Face_Data') \n",
        "\n",
        "# Actions that we try to detect\n",
        "actions = np.array(['LirikKanan', 'LirikKiri', 'MenolehKanan', 'MenolehKiri', 'Normal', 'TutupMata'])\n",
        "\n",
        "# Thirty videos worth of data\n",
        "no_sequences = 27\n",
        "\n",
        "# Videos are going to be 30 frames in length\n",
        "sequence_length = 50"
      ]
    },
    {
      "cell_type": "code",
      "execution_count": 5,
      "metadata": {
        "id": "JwKesrxr2T8-",
        "colab": {
          "base_uri": "https://localhost:8080/"
        },
        "outputId": "5e5f5164-99ae-4e3d-ceb3-9988892d797d"
      },
      "outputs": [
        {
          "output_type": "stream",
          "name": "stdout",
          "text": [
            "Cloning into 'Tutorial_LSTM_MP'...\n",
            "remote: Enumerating objects: 28087, done.\u001b[K\n",
            "remote: Counting objects: 100% (5075/5075), done.\u001b[K\n",
            "remote: Compressing objects: 100% (5067/5067), done.\u001b[K\n",
            "remote: Total 28087 (delta 4), reused 5073 (delta 2), pack-reused 23012\u001b[K\n",
            "Receiving objects: 100% (28087/28087), 573.94 MiB | 17.60 MiB/s, done.\n",
            "Resolving deltas: 100% (209/209), done.\n",
            "Updating files: 100% (22879/22879), done.\n"
          ]
        }
      ],
      "source": [
        "! git clone https://github.com/nickbp760/Tutorial_LSTM_MP.git"
      ]
    },
    {
      "cell_type": "markdown",
      "metadata": {
        "id": "wQxJ8Faz2zhe"
      },
      "source": [
        "### **Preprocess Data and Create Labels and Features**"
      ]
    },
    {
      "cell_type": "markdown",
      "metadata": {
        "id": "C80wYflo3R2O"
      },
      "source": [
        "The label map containts the action label"
      ]
    },
    {
      "cell_type": "code",
      "execution_count": 6,
      "metadata": {
        "id": "OIwDfz9t2puH"
      },
      "outputs": [],
      "source": [
        "label_map = {label:num for num, label in enumerate(actions)}"
      ]
    },
    {
      "cell_type": "code",
      "execution_count": 7,
      "metadata": {
        "id": "7b0QZxvg2tI2",
        "colab": {
          "base_uri": "https://localhost:8080/"
        },
        "outputId": "91ab77bd-b09e-4bfe-dcc5-c01dd9dc1499"
      },
      "outputs": [
        {
          "output_type": "execute_result",
          "data": {
            "text/plain": [
              "{'LirikKanan': 0,\n",
              " 'LirikKiri': 1,\n",
              " 'MenolehKanan': 2,\n",
              " 'MenolehKiri': 3,\n",
              " 'Normal': 4,\n",
              " 'TutupMata': 5}"
            ]
          },
          "metadata": {},
          "execution_count": 7
        }
      ],
      "source": [
        "label_map"
      ]
    },
    {
      "cell_type": "markdown",
      "metadata": {
        "id": "Iz5HooSw3ZEG"
      },
      "source": [
        "load the the data that have been prepared before"
      ]
    },
    {
      "cell_type": "code",
      "execution_count": 8,
      "metadata": {
        "id": "3rnaU3Sf2729"
      },
      "outputs": [],
      "source": [
        "sequences, labels = [], []\n",
        "for action in actions:\n",
        "    for sequence in range(no_sequences):\n",
        "        window = []\n",
        "        for frame_num in range(sequence_length):\n",
        "            res = np.load(os.path.join(DATA_PATH, action, str(sequence), \"{}.npy\".format(frame_num)))\n",
        "            window.append(res)\n",
        "        sequences.append(window)\n",
        "        labels.append(label_map[action])"
      ]
    },
    {
      "cell_type": "code",
      "execution_count": 9,
      "metadata": {
        "id": "mBTTK0z93FvS",
        "colab": {
          "base_uri": "https://localhost:8080/"
        },
        "outputId": "f5d18eb2-55d7-4ff1-a75c-771bdbddddeb"
      },
      "outputs": [
        {
          "output_type": "execute_result",
          "data": {
            "text/plain": [
              "1434"
            ]
          },
          "metadata": {},
          "execution_count": 9
        }
      ],
      "source": [
        "478*3"
      ]
    },
    {
      "cell_type": "code",
      "execution_count": 10,
      "metadata": {
        "id": "4-t-H7AV3qiv",
        "colab": {
          "base_uri": "https://localhost:8080/"
        },
        "outputId": "54958d94-fd82-4911-c716-75df210bc960"
      },
      "outputs": [
        {
          "output_type": "execute_result",
          "data": {
            "text/plain": [
              "(162, 50, 1434)"
            ]
          },
          "metadata": {},
          "execution_count": 10
        }
      ],
      "source": [
        "np.array(sequences).shape"
      ]
    },
    {
      "cell_type": "markdown",
      "metadata": {
        "id": "bSUQCFAg41jm"
      },
      "source": [
        "DEFINE X (Input) and y (Output)"
      ]
    },
    {
      "cell_type": "code",
      "execution_count": 11,
      "metadata": {
        "id": "P1P7mqVT4hTO",
        "colab": {
          "base_uri": "https://localhost:8080/"
        },
        "outputId": "64526525-c6c3-4c45-a99e-396d6563cdfe"
      },
      "outputs": [
        {
          "output_type": "stream",
          "name": "stdout",
          "text": [
            "(162, 50, 1434)\n",
            "(162, 6)\n"
          ]
        }
      ],
      "source": [
        "X = np.array(sequences)\n",
        "print(X.shape)\n",
        "y = to_categorical(labels).astype(int)\n",
        "print(y.shape)"
      ]
    },
    {
      "cell_type": "code",
      "execution_count": 12,
      "metadata": {
        "id": "nI6Vfm5A4vA-"
      },
      "outputs": [],
      "source": [
        "X_train, X_test, y_train, y_test = train_test_split(X, y, test_size=0.1)"
      ]
    },
    {
      "cell_type": "code",
      "source": [
        "def plot_graphs(history, string):\n",
        "    plt.plot(history.history[string])\n",
        "    plt.plot(history.history['val_'+string])\n",
        "    plt.xlabel(\"Epochs\")\n",
        "    plt.ylabel(string)\n",
        "    plt.legend([string, 'val_'+string])\n",
        "    plt.show()\n",
        "    "
      ],
      "metadata": {
        "id": "xfFaOsHKeB3a"
      },
      "execution_count": 13,
      "outputs": []
    },
    {
      "cell_type": "markdown",
      "metadata": {
        "id": "09LN9RY75Bid"
      },
      "source": [
        "### **Build and Train Neural Network**"
      ]
    },
    {
      "cell_type": "code",
      "execution_count": 14,
      "metadata": {
        "id": "ptTzydZM5KCt"
      },
      "outputs": [],
      "source": [
        "log_dir = os.path.join('Logs')\n",
        "tb_callback = TensorBoard(log_dir=log_dir)"
      ]
    },
    {
      "cell_type": "code",
      "source": [
        "model = Sequential()\n",
        "model.add(GRU(128, return_sequences=True, activation='relu', input_shape=(50,1434)))\n",
        "model.add(GRU(64, return_sequences=True, activation='relu'))\n",
        "model.add(GRU(128, return_sequences=False, activation='relu'))\n",
        "model.add(Dense(128, activation='relu'))\n",
        "model.add(Dense(32, activation='relu'))\n",
        "model.add(Dense(actions.shape[0], activation='softmax'))"
      ],
      "metadata": {
        "colab": {
          "base_uri": "https://localhost:8080/"
        },
        "id": "mcfMbYMeTiMn",
        "outputId": "4bb39645-8ae9-4a6c-9507-3e57217e5f33"
      },
      "execution_count": 15,
      "outputs": [
        {
          "output_type": "stream",
          "name": "stderr",
          "text": [
            "WARNING:tensorflow:Layer gru will not use cuDNN kernels since it doesn't meet the criteria. It will use a generic GPU kernel as fallback when running on GPU.\n",
            "WARNING:tensorflow:Layer gru_1 will not use cuDNN kernels since it doesn't meet the criteria. It will use a generic GPU kernel as fallback when running on GPU.\n",
            "WARNING:tensorflow:Layer gru_2 will not use cuDNN kernels since it doesn't meet the criteria. It will use a generic GPU kernel as fallback when running on GPU.\n"
          ]
        }
      ]
    },
    {
      "cell_type": "markdown",
      "source": [],
      "metadata": {
        "id": "G5hr05HkaJWc"
      }
    },
    {
      "cell_type": "code",
      "source": [
        "model.compile(optimizer='adam', loss='categorical_crossentropy', metrics=['categorical_accuracy'])\n",
        "# model.optimizer.lr.assign(0.001)"
      ],
      "metadata": {
        "id": "pT2nuqEvSY8Z"
      },
      "execution_count": 16,
      "outputs": []
    },
    {
      "cell_type": "code",
      "source": [
        "history = model.fit(X_train, y_train, epochs=200, callbacks=[tb_callback], validation_data = (X_test, y_test))"
      ],
      "metadata": {
        "colab": {
          "base_uri": "https://localhost:8080/"
        },
        "id": "Wp4-43BrStY7",
        "outputId": "cfea034f-250a-4151-8d42-c99e1883d87a"
      },
      "execution_count": 18,
      "outputs": [
        {
          "output_type": "stream",
          "name": "stdout",
          "text": [
            "Epoch 1/200\n",
            "5/5 [==============================] - 2s 471ms/step - loss: 0.3824 - categorical_accuracy: 0.8414 - val_loss: 0.3876 - val_categorical_accuracy: 0.8824\n",
            "Epoch 2/200\n",
            "5/5 [==============================] - 4s 737ms/step - loss: 0.3110 - categorical_accuracy: 0.8966 - val_loss: 0.4002 - val_categorical_accuracy: 0.8824\n",
            "Epoch 3/200\n",
            "5/5 [==============================] - 3s 671ms/step - loss: 0.3610 - categorical_accuracy: 0.8345 - val_loss: 0.1842 - val_categorical_accuracy: 0.9412\n",
            "Epoch 4/200\n",
            "5/5 [==============================] - 2s 326ms/step - loss: 0.3059 - categorical_accuracy: 0.9034 - val_loss: 0.5404 - val_categorical_accuracy: 0.8235\n",
            "Epoch 5/200\n",
            "5/5 [==============================] - 2s 317ms/step - loss: 0.3041 - categorical_accuracy: 0.9103 - val_loss: 0.2378 - val_categorical_accuracy: 0.9412\n",
            "Epoch 6/200\n",
            "5/5 [==============================] - 2s 325ms/step - loss: 0.2888 - categorical_accuracy: 0.8690 - val_loss: 0.3699 - val_categorical_accuracy: 0.9412\n",
            "Epoch 7/200\n",
            "5/5 [==============================] - 2s 320ms/step - loss: 0.3778 - categorical_accuracy: 0.8759 - val_loss: 0.4589 - val_categorical_accuracy: 0.8824\n",
            "Epoch 8/200\n",
            "5/5 [==============================] - 3s 581ms/step - loss: 0.3392 - categorical_accuracy: 0.8483 - val_loss: 0.4326 - val_categorical_accuracy: 0.9412\n",
            "Epoch 9/200\n",
            "5/5 [==============================] - 3s 634ms/step - loss: 0.2541 - categorical_accuracy: 0.8897 - val_loss: 0.5427 - val_categorical_accuracy: 0.8235\n",
            "Epoch 10/200\n",
            "5/5 [==============================] - 2s 320ms/step - loss: 0.2512 - categorical_accuracy: 0.8966 - val_loss: 0.1331 - val_categorical_accuracy: 0.9412\n",
            "Epoch 11/200\n",
            "5/5 [==============================] - 2s 307ms/step - loss: 0.2323 - categorical_accuracy: 0.9172 - val_loss: 0.4728 - val_categorical_accuracy: 0.9412\n",
            "Epoch 12/200\n",
            "5/5 [==============================] - 2s 337ms/step - loss: 0.2207 - categorical_accuracy: 0.9103 - val_loss: 0.2806 - val_categorical_accuracy: 0.9412\n",
            "Epoch 13/200\n",
            "5/5 [==============================] - 2s 317ms/step - loss: 0.1891 - categorical_accuracy: 0.9379 - val_loss: 0.5031 - val_categorical_accuracy: 0.8824\n",
            "Epoch 14/200\n",
            "5/5 [==============================] - 2s 315ms/step - loss: 0.2095 - categorical_accuracy: 0.9241 - val_loss: 0.1747 - val_categorical_accuracy: 0.9412\n",
            "Epoch 15/200\n",
            "5/5 [==============================] - 2s 339ms/step - loss: 0.2012 - categorical_accuracy: 0.9172 - val_loss: 0.4185 - val_categorical_accuracy: 0.9412\n",
            "Epoch 16/200\n",
            "5/5 [==============================] - 3s 701ms/step - loss: 0.1867 - categorical_accuracy: 0.9310 - val_loss: 0.6360 - val_categorical_accuracy: 0.8824\n",
            "Epoch 17/200\n",
            "5/5 [==============================] - 2s 450ms/step - loss: 0.1808 - categorical_accuracy: 0.9310 - val_loss: 0.5110 - val_categorical_accuracy: 0.9412\n",
            "Epoch 18/200\n",
            "5/5 [==============================] - 2s 343ms/step - loss: 0.1985 - categorical_accuracy: 0.9241 - val_loss: 0.2280 - val_categorical_accuracy: 0.9412\n",
            "Epoch 19/200\n",
            "5/5 [==============================] - 2s 334ms/step - loss: 0.2988 - categorical_accuracy: 0.8828 - val_loss: 0.3804 - val_categorical_accuracy: 0.9412\n",
            "Epoch 20/200\n",
            "5/5 [==============================] - 2s 322ms/step - loss: 0.3197 - categorical_accuracy: 0.8759 - val_loss: 4.5445 - val_categorical_accuracy: 0.7647\n",
            "Epoch 21/200\n",
            "5/5 [==============================] - 2s 320ms/step - loss: 0.5116 - categorical_accuracy: 0.8207 - val_loss: 0.7684 - val_categorical_accuracy: 0.8824\n",
            "Epoch 22/200\n",
            "5/5 [==============================] - 2s 324ms/step - loss: 0.3986 - categorical_accuracy: 0.8483 - val_loss: 1.1102 - val_categorical_accuracy: 0.7647\n",
            "Epoch 23/200\n",
            "5/5 [==============================] - 2s 543ms/step - loss: 0.4035 - categorical_accuracy: 0.8414 - val_loss: 0.6001 - val_categorical_accuracy: 0.9412\n",
            "Epoch 24/200\n",
            "5/5 [==============================] - 4s 697ms/step - loss: 0.2710 - categorical_accuracy: 0.8966 - val_loss: 0.7334 - val_categorical_accuracy: 0.8824\n",
            "Epoch 25/200\n",
            "5/5 [==============================] - 2s 324ms/step - loss: 0.2735 - categorical_accuracy: 0.8828 - val_loss: 0.5815 - val_categorical_accuracy: 0.7647\n",
            "Epoch 26/200\n",
            "5/5 [==============================] - 2s 319ms/step - loss: 0.2790 - categorical_accuracy: 0.8759 - val_loss: 0.7752 - val_categorical_accuracy: 0.7647\n",
            "Epoch 27/200\n",
            "5/5 [==============================] - 2s 326ms/step - loss: 0.2119 - categorical_accuracy: 0.9172 - val_loss: 0.5732 - val_categorical_accuracy: 0.8235\n",
            "Epoch 28/200\n",
            "5/5 [==============================] - 2s 327ms/step - loss: 0.2664 - categorical_accuracy: 0.8897 - val_loss: 0.6144 - val_categorical_accuracy: 0.7647\n",
            "Epoch 29/200\n",
            "5/5 [==============================] - 2s 324ms/step - loss: 0.3129 - categorical_accuracy: 0.8828 - val_loss: 0.7165 - val_categorical_accuracy: 0.7647\n",
            "Epoch 30/200\n",
            "5/5 [==============================] - 2s 332ms/step - loss: 0.4070 - categorical_accuracy: 0.7862 - val_loss: 0.6829 - val_categorical_accuracy: 0.7647\n",
            "Epoch 31/200\n",
            "5/5 [==============================] - 3s 590ms/step - loss: 0.3106 - categorical_accuracy: 0.8483 - val_loss: 0.6784 - val_categorical_accuracy: 0.8235\n",
            "Epoch 32/200\n",
            "5/5 [==============================] - 3s 578ms/step - loss: 0.2477 - categorical_accuracy: 0.8759 - val_loss: 0.7057 - val_categorical_accuracy: 0.8824\n",
            "Epoch 33/200\n",
            "5/5 [==============================] - 2s 321ms/step - loss: 0.2368 - categorical_accuracy: 0.9103 - val_loss: 0.7841 - val_categorical_accuracy: 0.8235\n",
            "Epoch 34/200\n",
            "5/5 [==============================] - 2s 338ms/step - loss: 0.1940 - categorical_accuracy: 0.9103 - val_loss: 0.3159 - val_categorical_accuracy: 0.8824\n",
            "Epoch 35/200\n",
            "5/5 [==============================] - 2s 332ms/step - loss: 0.2101 - categorical_accuracy: 0.8966 - val_loss: 0.3134 - val_categorical_accuracy: 0.9412\n",
            "Epoch 36/200\n",
            "5/5 [==============================] - 2s 320ms/step - loss: 0.1988 - categorical_accuracy: 0.9448 - val_loss: 0.8717 - val_categorical_accuracy: 0.7647\n",
            "Epoch 37/200\n",
            "5/5 [==============================] - 2s 316ms/step - loss: 0.2343 - categorical_accuracy: 0.9034 - val_loss: 0.3475 - val_categorical_accuracy: 0.9412\n",
            "Epoch 38/200\n",
            "5/5 [==============================] - 2s 329ms/step - loss: 0.1870 - categorical_accuracy: 0.9034 - val_loss: 0.6599 - val_categorical_accuracy: 0.8824\n",
            "Epoch 39/200\n",
            "5/5 [==============================] - 3s 708ms/step - loss: 0.1693 - categorical_accuracy: 0.9448 - val_loss: 0.4097 - val_categorical_accuracy: 0.9412\n",
            "Epoch 40/200\n",
            "5/5 [==============================] - 2s 416ms/step - loss: 0.1590 - categorical_accuracy: 0.9310 - val_loss: 0.7444 - val_categorical_accuracy: 0.8824\n",
            "Epoch 41/200\n",
            "5/5 [==============================] - 2s 324ms/step - loss: 0.1605 - categorical_accuracy: 0.9517 - val_loss: 0.3410 - val_categorical_accuracy: 0.9412\n",
            "Epoch 42/200\n",
            "5/5 [==============================] - 2s 318ms/step - loss: 0.2111 - categorical_accuracy: 0.9172 - val_loss: 0.8624 - val_categorical_accuracy: 0.8824\n",
            "Epoch 43/200\n",
            "5/5 [==============================] - 2s 329ms/step - loss: 0.1663 - categorical_accuracy: 0.9241 - val_loss: 0.4876 - val_categorical_accuracy: 0.9412\n",
            "Epoch 44/200\n",
            "5/5 [==============================] - 2s 330ms/step - loss: 0.1338 - categorical_accuracy: 0.9379 - val_loss: 0.6023 - val_categorical_accuracy: 0.8824\n",
            "Epoch 45/200\n",
            "5/5 [==============================] - 2s 310ms/step - loss: 0.1122 - categorical_accuracy: 0.9655 - val_loss: 0.7751 - val_categorical_accuracy: 0.8235\n",
            "Epoch 46/200\n",
            "5/5 [==============================] - 2s 444ms/step - loss: 0.1230 - categorical_accuracy: 0.9586 - val_loss: 0.4054 - val_categorical_accuracy: 0.9412\n",
            "Epoch 47/200\n",
            "5/5 [==============================] - 4s 760ms/step - loss: 0.1758 - categorical_accuracy: 0.9241 - val_loss: 0.5616 - val_categorical_accuracy: 0.8824\n",
            "Epoch 48/200\n",
            "5/5 [==============================] - 2s 314ms/step - loss: 0.2095 - categorical_accuracy: 0.9172 - val_loss: 0.8572 - val_categorical_accuracy: 0.8824\n",
            "Epoch 49/200\n",
            "5/5 [==============================] - 2s 318ms/step - loss: 0.2156 - categorical_accuracy: 0.9103 - val_loss: 0.5759 - val_categorical_accuracy: 0.9412\n",
            "Epoch 50/200\n",
            "5/5 [==============================] - 2s 337ms/step - loss: 0.1547 - categorical_accuracy: 0.9448 - val_loss: 0.9040 - val_categorical_accuracy: 0.8235\n",
            "Epoch 51/200\n",
            "5/5 [==============================] - 2s 329ms/step - loss: 0.1413 - categorical_accuracy: 0.9379 - val_loss: 0.6044 - val_categorical_accuracy: 0.9412\n",
            "Epoch 52/200\n",
            "5/5 [==============================] - 2s 317ms/step - loss: 0.1302 - categorical_accuracy: 0.9448 - val_loss: 1.7115 - val_categorical_accuracy: 0.8235\n",
            "Epoch 53/200\n",
            "5/5 [==============================] - 2s 317ms/step - loss: 0.1294 - categorical_accuracy: 0.9448 - val_loss: 0.4808 - val_categorical_accuracy: 0.9412\n",
            "Epoch 54/200\n",
            "5/5 [==============================] - 3s 692ms/step - loss: 0.1217 - categorical_accuracy: 0.9586 - val_loss: 0.9354 - val_categorical_accuracy: 0.8235\n",
            "Epoch 55/200\n",
            "5/5 [==============================] - 3s 496ms/step - loss: 0.1800 - categorical_accuracy: 0.9310 - val_loss: 0.4881 - val_categorical_accuracy: 0.8824\n",
            "Epoch 56/200\n",
            "5/5 [==============================] - 2s 328ms/step - loss: 0.1933 - categorical_accuracy: 0.9241 - val_loss: 1.4627 - val_categorical_accuracy: 0.7647\n",
            "Epoch 57/200\n",
            "5/5 [==============================] - 2s 313ms/step - loss: 0.1465 - categorical_accuracy: 0.9310 - val_loss: 0.6814 - val_categorical_accuracy: 0.9412\n",
            "Epoch 58/200\n",
            "5/5 [==============================] - 2s 335ms/step - loss: 0.1851 - categorical_accuracy: 0.9172 - val_loss: 1.4198 - val_categorical_accuracy: 0.8235\n",
            "Epoch 59/200\n",
            "5/5 [==============================] - 2s 309ms/step - loss: 0.1296 - categorical_accuracy: 0.9517 - val_loss: 1.7766 - val_categorical_accuracy: 0.8235\n",
            "Epoch 60/200\n",
            "5/5 [==============================] - 2s 323ms/step - loss: 0.1007 - categorical_accuracy: 0.9724 - val_loss: 1.1779 - val_categorical_accuracy: 0.8235\n",
            "Epoch 61/200\n",
            "5/5 [==============================] - 2s 375ms/step - loss: 0.1009 - categorical_accuracy: 0.9655 - val_loss: 0.6812 - val_categorical_accuracy: 0.8824\n",
            "Epoch 62/200\n",
            "5/5 [==============================] - 4s 704ms/step - loss: 0.0990 - categorical_accuracy: 0.9724 - val_loss: 0.6442 - val_categorical_accuracy: 0.8824\n",
            "Epoch 63/200\n",
            "5/5 [==============================] - 2s 376ms/step - loss: 0.0905 - categorical_accuracy: 0.9724 - val_loss: 0.8239 - val_categorical_accuracy: 0.8235\n",
            "Epoch 64/200\n",
            "5/5 [==============================] - 2s 314ms/step - loss: 0.0988 - categorical_accuracy: 0.9517 - val_loss: 1.2222 - val_categorical_accuracy: 0.7647\n",
            "Epoch 65/200\n",
            "5/5 [==============================] - 2s 331ms/step - loss: 0.1400 - categorical_accuracy: 0.9517 - val_loss: 0.7532 - val_categorical_accuracy: 0.8824\n",
            "Epoch 66/200\n",
            "5/5 [==============================] - 2s 334ms/step - loss: 0.1908 - categorical_accuracy: 0.9241 - val_loss: 1.2336 - val_categorical_accuracy: 0.8235\n",
            "Epoch 67/200\n",
            "5/5 [==============================] - 2s 342ms/step - loss: 0.1358 - categorical_accuracy: 0.9448 - val_loss: 0.8940 - val_categorical_accuracy: 0.8824\n",
            "Epoch 68/200\n",
            "5/5 [==============================] - 2s 322ms/step - loss: 0.1309 - categorical_accuracy: 0.9655 - val_loss: 1.2986 - val_categorical_accuracy: 0.8235\n",
            "Epoch 69/200\n",
            "5/5 [==============================] - 2s 550ms/step - loss: 0.2199 - categorical_accuracy: 0.8966 - val_loss: 0.8950 - val_categorical_accuracy: 0.8824\n",
            "Epoch 70/200\n",
            "5/5 [==============================] - 3s 683ms/step - loss: 0.1415 - categorical_accuracy: 0.9379 - val_loss: 2.9449 - val_categorical_accuracy: 0.7647\n",
            "Epoch 71/200\n",
            "5/5 [==============================] - 2s 316ms/step - loss: 0.1054 - categorical_accuracy: 0.9724 - val_loss: 1.0022 - val_categorical_accuracy: 0.8235\n",
            "Epoch 72/200\n",
            "5/5 [==============================] - 2s 320ms/step - loss: 0.1146 - categorical_accuracy: 0.9517 - val_loss: 1.3597 - val_categorical_accuracy: 0.8235\n",
            "Epoch 73/200\n",
            "5/5 [==============================] - 2s 336ms/step - loss: 0.0886 - categorical_accuracy: 0.9724 - val_loss: 1.2598 - val_categorical_accuracy: 0.8235\n",
            "Epoch 74/200\n",
            "5/5 [==============================] - 2s 318ms/step - loss: 0.0857 - categorical_accuracy: 0.9724 - val_loss: 1.8322 - val_categorical_accuracy: 0.8235\n",
            "Epoch 75/200\n",
            "5/5 [==============================] - 2s 327ms/step - loss: 0.0821 - categorical_accuracy: 0.9862 - val_loss: 2.1616 - val_categorical_accuracy: 0.8235\n",
            "Epoch 76/200\n",
            "5/5 [==============================] - 2s 309ms/step - loss: 0.0618 - categorical_accuracy: 0.9862 - val_loss: 1.3803 - val_categorical_accuracy: 0.8235\n",
            "Epoch 77/200\n",
            "5/5 [==============================] - 3s 687ms/step - loss: 0.0601 - categorical_accuracy: 0.9793 - val_loss: 1.8456 - val_categorical_accuracy: 0.8235\n",
            "Epoch 78/200\n",
            "5/5 [==============================] - 3s 503ms/step - loss: 0.0524 - categorical_accuracy: 0.9862 - val_loss: 2.1149 - val_categorical_accuracy: 0.8235\n",
            "Epoch 79/200\n",
            "5/5 [==============================] - 2s 327ms/step - loss: 0.0504 - categorical_accuracy: 0.9931 - val_loss: 2.0101 - val_categorical_accuracy: 0.8235\n",
            "Epoch 80/200\n",
            "5/5 [==============================] - 2s 310ms/step - loss: 0.0504 - categorical_accuracy: 0.9862 - val_loss: 2.2793 - val_categorical_accuracy: 0.8235\n",
            "Epoch 81/200\n",
            "5/5 [==============================] - 2s 312ms/step - loss: 0.0499 - categorical_accuracy: 0.9862 - val_loss: 1.6524 - val_categorical_accuracy: 0.8235\n",
            "Epoch 82/200\n",
            "5/5 [==============================] - 2s 332ms/step - loss: 0.0502 - categorical_accuracy: 0.9862 - val_loss: 4.1160 - val_categorical_accuracy: 0.7647\n",
            "Epoch 83/200\n",
            "5/5 [==============================] - 2s 336ms/step - loss: 0.0809 - categorical_accuracy: 0.9793 - val_loss: 0.6801 - val_categorical_accuracy: 0.9412\n",
            "Epoch 84/200\n",
            "5/5 [==============================] - 2s 343ms/step - loss: 0.1539 - categorical_accuracy: 0.9379 - val_loss: 4.6500 - val_categorical_accuracy: 0.7647\n",
            "Epoch 85/200\n",
            "5/5 [==============================] - 3s 687ms/step - loss: 0.2247 - categorical_accuracy: 0.9241 - val_loss: 1.1374 - val_categorical_accuracy: 0.8824\n",
            "Epoch 86/200\n",
            "5/5 [==============================] - 2s 361ms/step - loss: 0.1773 - categorical_accuracy: 0.9241 - val_loss: 0.6579 - val_categorical_accuracy: 0.8824\n",
            "Epoch 87/200\n",
            "5/5 [==============================] - 2s 336ms/step - loss: 0.2077 - categorical_accuracy: 0.9103 - val_loss: 3.9780 - val_categorical_accuracy: 0.7647\n",
            "Epoch 88/200\n",
            "5/5 [==============================] - 2s 327ms/step - loss: 0.1257 - categorical_accuracy: 0.9517 - val_loss: 1.9949 - val_categorical_accuracy: 0.8824\n",
            "Epoch 89/200\n",
            "5/5 [==============================] - 2s 321ms/step - loss: 0.1157 - categorical_accuracy: 0.9586 - val_loss: 3.4984 - val_categorical_accuracy: 0.8235\n",
            "Epoch 90/200\n",
            "5/5 [==============================] - 2s 312ms/step - loss: 0.1101 - categorical_accuracy: 0.9517 - val_loss: 1.5266 - val_categorical_accuracy: 0.8235\n",
            "Epoch 91/200\n",
            "5/5 [==============================] - 2s 327ms/step - loss: 0.0849 - categorical_accuracy: 0.9724 - val_loss: 1.1016 - val_categorical_accuracy: 0.8824\n",
            "Epoch 92/200\n",
            "5/5 [==============================] - 2s 475ms/step - loss: 0.0982 - categorical_accuracy: 0.9724 - val_loss: 1.1194 - val_categorical_accuracy: 0.8235\n",
            "Epoch 93/200\n",
            "5/5 [==============================] - 4s 727ms/step - loss: 0.1096 - categorical_accuracy: 0.9724 - val_loss: 1.1732 - val_categorical_accuracy: 0.8235\n",
            "Epoch 94/200\n",
            "5/5 [==============================] - 2s 325ms/step - loss: 0.0880 - categorical_accuracy: 0.9586 - val_loss: 0.6737 - val_categorical_accuracy: 0.9412\n",
            "Epoch 95/200\n",
            "5/5 [==============================] - 2s 316ms/step - loss: 0.0900 - categorical_accuracy: 0.9724 - val_loss: 0.7074 - val_categorical_accuracy: 0.8824\n",
            "Epoch 96/200\n",
            "5/5 [==============================] - 2s 333ms/step - loss: 0.0816 - categorical_accuracy: 0.9793 - val_loss: 1.1214 - val_categorical_accuracy: 0.8235\n",
            "Epoch 97/200\n",
            "5/5 [==============================] - 2s 330ms/step - loss: 0.0691 - categorical_accuracy: 0.9793 - val_loss: 1.3752 - val_categorical_accuracy: 0.8235\n",
            "Epoch 98/200\n",
            "5/5 [==============================] - 2s 315ms/step - loss: 0.0727 - categorical_accuracy: 0.9724 - val_loss: 1.3304 - val_categorical_accuracy: 0.8824\n",
            "Epoch 99/200\n",
            "5/5 [==============================] - 2s 327ms/step - loss: 0.0652 - categorical_accuracy: 0.9793 - val_loss: 1.4796 - val_categorical_accuracy: 0.8235\n",
            "Epoch 100/200\n",
            "5/5 [==============================] - 3s 645ms/step - loss: 0.0716 - categorical_accuracy: 0.9793 - val_loss: 1.5107 - val_categorical_accuracy: 0.8235\n",
            "Epoch 101/200\n",
            "5/5 [==============================] - 3s 591ms/step - loss: 0.0686 - categorical_accuracy: 0.9793 - val_loss: 1.5109 - val_categorical_accuracy: 0.8235\n",
            "Epoch 102/200\n",
            "5/5 [==============================] - 2s 319ms/step - loss: 0.0732 - categorical_accuracy: 0.9793 - val_loss: 1.4647 - val_categorical_accuracy: 0.8824\n",
            "Epoch 103/200\n",
            "5/5 [==============================] - 2s 331ms/step - loss: 0.0677 - categorical_accuracy: 0.9862 - val_loss: 1.4836 - val_categorical_accuracy: 0.8235\n",
            "Epoch 104/200\n",
            "5/5 [==============================] - 2s 330ms/step - loss: 0.0551 - categorical_accuracy: 0.9862 - val_loss: 1.5154 - val_categorical_accuracy: 0.8235\n",
            "Epoch 105/200\n",
            "5/5 [==============================] - 2s 326ms/step - loss: 0.0413 - categorical_accuracy: 0.9862 - val_loss: 1.5177 - val_categorical_accuracy: 0.8235\n",
            "Epoch 106/200\n",
            "5/5 [==============================] - 2s 334ms/step - loss: 0.0373 - categorical_accuracy: 0.9931 - val_loss: 1.5147 - val_categorical_accuracy: 0.8235\n",
            "Epoch 107/200\n",
            "5/5 [==============================] - 2s 334ms/step - loss: 0.0374 - categorical_accuracy: 0.9862 - val_loss: 1.5452 - val_categorical_accuracy: 0.8235\n",
            "Epoch 108/200\n",
            "5/5 [==============================] - 3s 687ms/step - loss: 0.0321 - categorical_accuracy: 0.9931 - val_loss: 1.4954 - val_categorical_accuracy: 0.8235\n",
            "Epoch 109/200\n",
            "5/5 [==============================] - 2s 434ms/step - loss: 0.0317 - categorical_accuracy: 0.9862 - val_loss: 1.4710 - val_categorical_accuracy: 0.8235\n",
            "Epoch 110/200\n",
            "5/5 [==============================] - 2s 322ms/step - loss: 0.0303 - categorical_accuracy: 0.9862 - val_loss: 1.6337 - val_categorical_accuracy: 0.8824\n",
            "Epoch 111/200\n",
            "5/5 [==============================] - 2s 321ms/step - loss: 0.0330 - categorical_accuracy: 0.9931 - val_loss: 1.6500 - val_categorical_accuracy: 0.8235\n",
            "Epoch 112/200\n",
            "5/5 [==============================] - 2s 338ms/step - loss: 0.0271 - categorical_accuracy: 0.9931 - val_loss: 1.5758 - val_categorical_accuracy: 0.8235\n",
            "Epoch 113/200\n",
            "5/5 [==============================] - 2s 332ms/step - loss: 0.0328 - categorical_accuracy: 0.9862 - val_loss: 1.5751 - val_categorical_accuracy: 0.8235\n",
            "Epoch 114/200\n",
            "5/5 [==============================] - 2s 326ms/step - loss: 0.0240 - categorical_accuracy: 0.9931 - val_loss: 1.7708 - val_categorical_accuracy: 0.8824\n",
            "Epoch 115/200\n",
            "5/5 [==============================] - 2s 534ms/step - loss: 0.0357 - categorical_accuracy: 0.9862 - val_loss: 1.7967 - val_categorical_accuracy: 0.8235\n",
            "Epoch 116/200\n",
            "5/5 [==============================] - 4s 716ms/step - loss: 0.0448 - categorical_accuracy: 0.9793 - val_loss: 1.7822 - val_categorical_accuracy: 0.8235\n",
            "Epoch 117/200\n",
            "5/5 [==============================] - 2s 323ms/step - loss: 0.0305 - categorical_accuracy: 0.9862 - val_loss: 1.8833 - val_categorical_accuracy: 0.8235\n",
            "Epoch 118/200\n",
            "5/5 [==============================] - 2s 329ms/step - loss: 0.0270 - categorical_accuracy: 0.9931 - val_loss: 1.7905 - val_categorical_accuracy: 0.8824\n",
            "Epoch 119/200\n",
            "5/5 [==============================] - 2s 322ms/step - loss: 0.0358 - categorical_accuracy: 0.9862 - val_loss: 1.8858 - val_categorical_accuracy: 0.8235\n",
            "Epoch 120/200\n",
            "5/5 [==============================] - 2s 311ms/step - loss: 0.0439 - categorical_accuracy: 0.9862 - val_loss: 1.8088 - val_categorical_accuracy: 0.8824\n",
            "Epoch 121/200\n",
            "5/5 [==============================] - 2s 327ms/step - loss: 0.0651 - categorical_accuracy: 0.9793 - val_loss: 3.6168 - val_categorical_accuracy: 0.7647\n",
            "Epoch 122/200\n",
            "5/5 [==============================] - 2s 310ms/step - loss: 0.1138 - categorical_accuracy: 0.9517 - val_loss: 1.7945 - val_categorical_accuracy: 0.8235\n",
            "Epoch 123/200\n",
            "5/5 [==============================] - 3s 632ms/step - loss: 0.0580 - categorical_accuracy: 0.9862 - val_loss: 2.2957 - val_categorical_accuracy: 0.7647\n",
            "Epoch 124/200\n",
            "5/5 [==============================] - 3s 580ms/step - loss: 0.0566 - categorical_accuracy: 0.9793 - val_loss: 1.8070 - val_categorical_accuracy: 0.8235\n",
            "Epoch 125/200\n",
            "5/5 [==============================] - 2s 341ms/step - loss: 0.0554 - categorical_accuracy: 0.9793 - val_loss: 1.9098 - val_categorical_accuracy: 0.7647\n",
            "Epoch 126/200\n",
            "5/5 [==============================] - 2s 318ms/step - loss: 0.0688 - categorical_accuracy: 0.9793 - val_loss: 1.9441 - val_categorical_accuracy: 0.8235\n",
            "Epoch 127/200\n",
            "5/5 [==============================] - 2s 330ms/step - loss: 0.1606 - categorical_accuracy: 0.9241 - val_loss: 1.1532 - val_categorical_accuracy: 0.8235\n",
            "Epoch 128/200\n",
            "5/5 [==============================] - 2s 332ms/step - loss: 0.3200 - categorical_accuracy: 0.8966 - val_loss: 2.3525 - val_categorical_accuracy: 0.8235\n",
            "Epoch 129/200\n",
            "5/5 [==============================] - 2s 326ms/step - loss: 0.3589 - categorical_accuracy: 0.8690 - val_loss: 1.3188 - val_categorical_accuracy: 0.8824\n",
            "Epoch 130/200\n",
            "5/5 [==============================] - 2s 361ms/step - loss: 0.2021 - categorical_accuracy: 0.9241 - val_loss: 1.9066 - val_categorical_accuracy: 0.7647\n",
            "Epoch 131/200\n",
            "5/5 [==============================] - 3s 632ms/step - loss: 0.6970 - categorical_accuracy: 0.8276 - val_loss: 1.1293 - val_categorical_accuracy: 0.8235\n",
            "Epoch 132/200\n",
            "5/5 [==============================] - 2s 470ms/step - loss: 0.5571 - categorical_accuracy: 0.8207 - val_loss: 0.3127 - val_categorical_accuracy: 0.8235\n",
            "Epoch 133/200\n",
            "5/5 [==============================] - 2s 319ms/step - loss: 0.5869 - categorical_accuracy: 0.7931 - val_loss: 0.5514 - val_categorical_accuracy: 0.9412\n",
            "Epoch 134/200\n",
            "5/5 [==============================] - 2s 323ms/step - loss: 0.4509 - categorical_accuracy: 0.8552 - val_loss: 1.6955 - val_categorical_accuracy: 0.7647\n",
            "Epoch 135/200\n",
            "5/5 [==============================] - 2s 318ms/step - loss: 0.3932 - categorical_accuracy: 0.8414 - val_loss: 0.6471 - val_categorical_accuracy: 0.8235\n",
            "Epoch 136/200\n",
            "5/5 [==============================] - 2s 314ms/step - loss: 0.3660 - categorical_accuracy: 0.8759 - val_loss: 0.3906 - val_categorical_accuracy: 0.9412\n",
            "Epoch 137/200\n",
            "5/5 [==============================] - 2s 322ms/step - loss: 0.2644 - categorical_accuracy: 0.8897 - val_loss: 0.4111 - val_categorical_accuracy: 0.9412\n",
            "Epoch 138/200\n",
            "5/5 [==============================] - 2s 342ms/step - loss: 0.3521 - categorical_accuracy: 0.8828 - val_loss: 0.5119 - val_categorical_accuracy: 0.8235\n",
            "Epoch 139/200\n",
            "5/5 [==============================] - 3s 696ms/step - loss: 0.1882 - categorical_accuracy: 0.9379 - val_loss: 0.5606 - val_categorical_accuracy: 0.8235\n",
            "Epoch 140/200\n",
            "5/5 [==============================] - 2s 375ms/step - loss: 0.1986 - categorical_accuracy: 0.9172 - val_loss: 0.5104 - val_categorical_accuracy: 0.8824\n",
            "Epoch 141/200\n",
            "5/5 [==============================] - 2s 315ms/step - loss: 0.2052 - categorical_accuracy: 0.9034 - val_loss: 0.5605 - val_categorical_accuracy: 0.8824\n",
            "Epoch 142/200\n",
            "5/5 [==============================] - 2s 319ms/step - loss: 0.1142 - categorical_accuracy: 0.9517 - val_loss: 0.4328 - val_categorical_accuracy: 0.9412\n",
            "Epoch 143/200\n",
            "5/5 [==============================] - 2s 328ms/step - loss: 0.0941 - categorical_accuracy: 0.9724 - val_loss: 0.6730 - val_categorical_accuracy: 0.8824\n",
            "Epoch 144/200\n",
            "5/5 [==============================] - 2s 312ms/step - loss: 0.0922 - categorical_accuracy: 0.9724 - val_loss: 0.5430 - val_categorical_accuracy: 0.9412\n",
            "Epoch 145/200\n",
            "5/5 [==============================] - 2s 314ms/step - loss: 0.0985 - categorical_accuracy: 0.9586 - val_loss: 0.5418 - val_categorical_accuracy: 0.9412\n",
            "Epoch 146/200\n",
            "5/5 [==============================] - 2s 491ms/step - loss: 0.1277 - categorical_accuracy: 0.9517 - val_loss: 0.5362 - val_categorical_accuracy: 0.8824\n",
            "Epoch 147/200\n",
            "5/5 [==============================] - 4s 744ms/step - loss: 0.1251 - categorical_accuracy: 0.9517 - val_loss: 0.9968 - val_categorical_accuracy: 0.7647\n",
            "Epoch 148/200\n",
            "5/5 [==============================] - 2s 314ms/step - loss: 0.0951 - categorical_accuracy: 0.9724 - val_loss: 0.7340 - val_categorical_accuracy: 0.8824\n",
            "Epoch 149/200\n",
            "5/5 [==============================] - 2s 317ms/step - loss: 0.1218 - categorical_accuracy: 0.9448 - val_loss: 0.7679 - val_categorical_accuracy: 0.8824\n",
            "Epoch 150/200\n",
            "5/5 [==============================] - 2s 321ms/step - loss: 0.0989 - categorical_accuracy: 0.9586 - val_loss: 0.8120 - val_categorical_accuracy: 0.8824\n",
            "Epoch 151/200\n",
            "5/5 [==============================] - 2s 325ms/step - loss: 0.1342 - categorical_accuracy: 0.9586 - val_loss: 0.7906 - val_categorical_accuracy: 0.8824\n",
            "Epoch 152/200\n",
            "5/5 [==============================] - 2s 323ms/step - loss: 0.1960 - categorical_accuracy: 0.9241 - val_loss: 0.7824 - val_categorical_accuracy: 0.8824\n",
            "Epoch 153/200\n",
            "5/5 [==============================] - 2s 331ms/step - loss: 0.3106 - categorical_accuracy: 0.9103 - val_loss: 0.9949 - val_categorical_accuracy: 0.8824\n",
            "Epoch 154/200\n",
            "5/5 [==============================] - 3s 705ms/step - loss: 0.2941 - categorical_accuracy: 0.8966 - val_loss: 0.9329 - val_categorical_accuracy: 0.8824\n",
            "Epoch 155/200\n",
            "5/5 [==============================] - 3s 541ms/step - loss: 0.1705 - categorical_accuracy: 0.9379 - val_loss: 0.4764 - val_categorical_accuracy: 0.9412\n",
            "Epoch 156/200\n",
            "5/5 [==============================] - 2s 318ms/step - loss: 0.1836 - categorical_accuracy: 0.9310 - val_loss: 0.6209 - val_categorical_accuracy: 0.8235\n",
            "Epoch 157/200\n",
            "5/5 [==============================] - 2s 320ms/step - loss: 0.1132 - categorical_accuracy: 0.9655 - val_loss: 0.8516 - val_categorical_accuracy: 0.8235\n",
            "Epoch 158/200\n",
            "5/5 [==============================] - 2s 317ms/step - loss: 0.0913 - categorical_accuracy: 0.9724 - val_loss: 0.9452 - val_categorical_accuracy: 0.8824\n",
            "Epoch 159/200\n",
            "5/5 [==============================] - 2s 343ms/step - loss: 0.0788 - categorical_accuracy: 0.9793 - val_loss: 0.9063 - val_categorical_accuracy: 0.8235\n",
            "Epoch 160/200\n",
            "5/5 [==============================] - 2s 317ms/step - loss: 0.0664 - categorical_accuracy: 0.9862 - val_loss: 0.8325 - val_categorical_accuracy: 0.8824\n",
            "Epoch 161/200\n",
            "5/5 [==============================] - 2s 397ms/step - loss: 0.0591 - categorical_accuracy: 0.9793 - val_loss: 0.8347 - val_categorical_accuracy: 0.8824\n",
            "Epoch 162/200\n",
            "5/5 [==============================] - 4s 733ms/step - loss: 0.0542 - categorical_accuracy: 0.9862 - val_loss: 0.9105 - val_categorical_accuracy: 0.8235\n",
            "Epoch 163/200\n",
            "5/5 [==============================] - 2s 326ms/step - loss: 0.0595 - categorical_accuracy: 0.9724 - val_loss: 0.8838 - val_categorical_accuracy: 0.8235\n",
            "Epoch 164/200\n",
            "5/5 [==============================] - 2s 324ms/step - loss: 0.0497 - categorical_accuracy: 0.9862 - val_loss: 0.8865 - val_categorical_accuracy: 0.8824\n",
            "Epoch 165/200\n",
            "5/5 [==============================] - 2s 322ms/step - loss: 0.0534 - categorical_accuracy: 0.9724 - val_loss: 0.9020 - val_categorical_accuracy: 0.8235\n",
            "Epoch 166/200\n",
            "5/5 [==============================] - 2s 324ms/step - loss: 0.0418 - categorical_accuracy: 0.9862 - val_loss: 0.8729 - val_categorical_accuracy: 0.8824\n",
            "Epoch 167/200\n",
            "5/5 [==============================] - 2s 323ms/step - loss: 0.0468 - categorical_accuracy: 0.9862 - val_loss: 0.9487 - val_categorical_accuracy: 0.8235\n",
            "Epoch 168/200\n",
            "5/5 [==============================] - 2s 309ms/step - loss: 0.0410 - categorical_accuracy: 0.9862 - val_loss: 1.0600 - val_categorical_accuracy: 0.8235\n",
            "Epoch 169/200\n",
            "5/5 [==============================] - 3s 576ms/step - loss: 0.0383 - categorical_accuracy: 0.9862 - val_loss: 1.0142 - val_categorical_accuracy: 0.8824\n",
            "Epoch 170/200\n",
            "5/5 [==============================] - 3s 637ms/step - loss: 0.0358 - categorical_accuracy: 0.9931 - val_loss: 0.9840 - val_categorical_accuracy: 0.8235\n",
            "Epoch 171/200\n",
            "5/5 [==============================] - 2s 330ms/step - loss: 0.0374 - categorical_accuracy: 0.9862 - val_loss: 1.0039 - val_categorical_accuracy: 0.8235\n",
            "Epoch 172/200\n",
            "5/5 [==============================] - 2s 317ms/step - loss: 0.0294 - categorical_accuracy: 0.9931 - val_loss: 0.9869 - val_categorical_accuracy: 0.8235\n",
            "Epoch 173/200\n",
            "5/5 [==============================] - 2s 321ms/step - loss: 0.0286 - categorical_accuracy: 0.9862 - val_loss: 0.9842 - val_categorical_accuracy: 0.8235\n",
            "Epoch 174/200\n",
            "5/5 [==============================] - 2s 324ms/step - loss: 0.0275 - categorical_accuracy: 0.9862 - val_loss: 0.9792 - val_categorical_accuracy: 0.8235\n",
            "Epoch 175/200\n",
            "5/5 [==============================] - 2s 335ms/step - loss: 0.0263 - categorical_accuracy: 0.9862 - val_loss: 0.9666 - val_categorical_accuracy: 0.8235\n",
            "Epoch 176/200\n",
            "5/5 [==============================] - 2s 322ms/step - loss: 0.0269 - categorical_accuracy: 0.9931 - val_loss: 1.0487 - val_categorical_accuracy: 0.8235\n",
            "Epoch 177/200\n",
            "5/5 [==============================] - 3s 724ms/step - loss: 0.0304 - categorical_accuracy: 0.9862 - val_loss: 0.9922 - val_categorical_accuracy: 0.8235\n",
            "Epoch 178/200\n",
            "5/5 [==============================] - 3s 470ms/step - loss: 0.0225 - categorical_accuracy: 0.9931 - val_loss: 0.9766 - val_categorical_accuracy: 0.8235\n",
            "Epoch 179/200\n",
            "5/5 [==============================] - 2s 322ms/step - loss: 0.0245 - categorical_accuracy: 0.9931 - val_loss: 1.0075 - val_categorical_accuracy: 0.8235\n",
            "Epoch 180/200\n",
            "5/5 [==============================] - 2s 322ms/step - loss: 0.0280 - categorical_accuracy: 0.9931 - val_loss: 0.9953 - val_categorical_accuracy: 0.8235\n",
            "Epoch 181/200\n",
            "5/5 [==============================] - 2s 321ms/step - loss: 0.0206 - categorical_accuracy: 0.9931 - val_loss: 1.0446 - val_categorical_accuracy: 0.8824\n",
            "Epoch 182/200\n",
            "5/5 [==============================] - 2s 309ms/step - loss: 0.0586 - categorical_accuracy: 0.9793 - val_loss: 1.2986 - val_categorical_accuracy: 0.7647\n",
            "Epoch 183/200\n",
            "5/5 [==============================] - 2s 325ms/step - loss: 0.1353 - categorical_accuracy: 0.9448 - val_loss: 1.3055 - val_categorical_accuracy: 0.8235\n",
            "Epoch 184/200\n",
            "5/5 [==============================] - 2s 432ms/step - loss: 0.3046 - categorical_accuracy: 0.8828 - val_loss: 6.4754 - val_categorical_accuracy: 0.7647\n",
            "Epoch 185/200\n",
            "5/5 [==============================] - 4s 730ms/step - loss: 0.6423 - categorical_accuracy: 0.8138 - val_loss: 0.2032 - val_categorical_accuracy: 0.9412\n",
            "Epoch 186/200\n",
            "5/5 [==============================] - 2s 335ms/step - loss: 0.5596 - categorical_accuracy: 0.7862 - val_loss: 1.4236 - val_categorical_accuracy: 0.7059\n",
            "Epoch 187/200\n",
            "5/5 [==============================] - 2s 342ms/step - loss: 0.6261 - categorical_accuracy: 0.7517 - val_loss: 0.7643 - val_categorical_accuracy: 0.7647\n",
            "Epoch 188/200\n",
            "5/5 [==============================] - 2s 338ms/step - loss: 0.4238 - categorical_accuracy: 0.8345 - val_loss: 0.6405 - val_categorical_accuracy: 0.8235\n",
            "Epoch 189/200\n",
            "5/5 [==============================] - 2s 324ms/step - loss: 0.2535 - categorical_accuracy: 0.9172 - val_loss: 0.4157 - val_categorical_accuracy: 0.8235\n",
            "Epoch 190/200\n",
            "5/5 [==============================] - 2s 330ms/step - loss: 0.3041 - categorical_accuracy: 0.8759 - val_loss: 0.2937 - val_categorical_accuracy: 0.9412\n",
            "Epoch 191/200\n",
            "5/5 [==============================] - 2s 331ms/step - loss: 0.2633 - categorical_accuracy: 0.9172 - val_loss: 0.3891 - val_categorical_accuracy: 0.8824\n",
            "Epoch 192/200\n",
            "5/5 [==============================] - 3s 746ms/step - loss: 0.1853 - categorical_accuracy: 0.9379 - val_loss: 0.6098 - val_categorical_accuracy: 0.8235\n",
            "Epoch 193/200\n",
            "5/5 [==============================] - 3s 497ms/step - loss: 0.1198 - categorical_accuracy: 0.9724 - val_loss: 0.3462 - val_categorical_accuracy: 0.8824\n",
            "Epoch 194/200\n",
            "5/5 [==============================] - 2s 317ms/step - loss: 0.1270 - categorical_accuracy: 0.9448 - val_loss: 0.5534 - val_categorical_accuracy: 0.8235\n",
            "Epoch 195/200\n",
            "5/5 [==============================] - 2s 317ms/step - loss: 0.0995 - categorical_accuracy: 0.9793 - val_loss: 0.4072 - val_categorical_accuracy: 0.8824\n",
            "Epoch 196/200\n",
            "5/5 [==============================] - 2s 323ms/step - loss: 0.0854 - categorical_accuracy: 0.9724 - val_loss: 0.5245 - val_categorical_accuracy: 0.8824\n",
            "Epoch 197/200\n",
            "5/5 [==============================] - 2s 327ms/step - loss: 0.0714 - categorical_accuracy: 0.9862 - val_loss: 0.6186 - val_categorical_accuracy: 0.8235\n",
            "Epoch 198/200\n",
            "5/5 [==============================] - 2s 329ms/step - loss: 0.0625 - categorical_accuracy: 0.9793 - val_loss: 0.4465 - val_categorical_accuracy: 0.8824\n",
            "Epoch 199/200\n",
            "5/5 [==============================] - 2s 388ms/step - loss: 0.0593 - categorical_accuracy: 0.9793 - val_loss: 0.5787 - val_categorical_accuracy: 0.8235\n",
            "Epoch 200/200\n",
            "5/5 [==============================] - 3s 657ms/step - loss: 0.0593 - categorical_accuracy: 0.9793 - val_loss: 0.3491 - val_categorical_accuracy: 0.9412\n"
          ]
        }
      ]
    },
    {
      "cell_type": "code",
      "source": [
        "model.summary()\n",
        "model.save('/content/Tutorial_LSTM_MP/Weight_model/actionGRUFaceNikoComplete.h5')\n",
        "plot_graphs(history, 'categorical_accuracy')\n",
        "plot_graphs(history, 'loss')"
      ],
      "metadata": {
        "colab": {
          "base_uri": "https://localhost:8080/",
          "height": 905
        },
        "id": "e2GpesJhXp4e",
        "outputId": "fbfb308c-1e9e-4fd8-cd0d-ab6222426b1b"
      },
      "execution_count": 19,
      "outputs": [
        {
          "output_type": "stream",
          "name": "stdout",
          "text": [
            "Model: \"sequential\"\n",
            "_________________________________________________________________\n",
            " Layer (type)                Output Shape              Param #   \n",
            "=================================================================\n",
            " gru (GRU)                   (None, 50, 128)           600576    \n",
            "                                                                 \n",
            " gru_1 (GRU)                 (None, 50, 64)            37248     \n",
            "                                                                 \n",
            " gru_2 (GRU)                 (None, 128)               74496     \n",
            "                                                                 \n",
            " dense (Dense)               (None, 128)               16512     \n",
            "                                                                 \n",
            " dense_1 (Dense)             (None, 32)                4128      \n",
            "                                                                 \n",
            " dense_2 (Dense)             (None, 6)                 198       \n",
            "                                                                 \n",
            "=================================================================\n",
            "Total params: 733,158\n",
            "Trainable params: 733,158\n",
            "Non-trainable params: 0\n",
            "_________________________________________________________________\n"
          ]
        },
        {
          "output_type": "display_data",
          "data": {
            "text/plain": [
              "<Figure size 432x288 with 1 Axes>"
            ],
            "image/png": "[encoded data removed]"
          },
          "metadata": {
            "needs_background": "light"
          }
        },
        {
          "output_type": "display_data",
          "data": {
            "text/plain": [
              "<Figure size 432x288 with 1 Axes>"
            ],
            "image/png": "[encoded data removed]"
          },
          "metadata": {
            "needs_background": "light"
          }
        }
      ]
    },
    {
      "cell_type": "code",
      "source": [
        "model = Sequential()\n",
        "model.add(LSTM(128, return_sequences=True, activation='relu', input_shape=(50,1434)))\n",
        "model.add(LSTM(64, return_sequences=True, activation='relu'))\n",
        "model.add(LSTM(128, return_sequences=False, activation='relu'))\n",
        "model.add(Dense(128, activation='relu'))\n",
        "model.add(Dense(32, activation='relu'))\n",
        "model.add(Dense(actions.shape[0], activation='softmax'))"
      ],
      "metadata": {
        "colab": {
          "base_uri": "https://localhost:8080/"
        },
        "outputId": "fffb6fec-5c10-4635-9de4-aa1b8e58123e",
        "id": "_OdP-Pw2WYSa"
      },
      "execution_count": 20,
      "outputs": [
        {
          "output_type": "stream",
          "name": "stderr",
          "text": [
            "WARNING:tensorflow:Layer lstm will not use cuDNN kernels since it doesn't meet the criteria. It will use a generic GPU kernel as fallback when running on GPU.\n",
            "WARNING:tensorflow:Layer lstm_1 will not use cuDNN kernels since it doesn't meet the criteria. It will use a generic GPU kernel as fallback when running on GPU.\n",
            "WARNING:tensorflow:Layer lstm_2 will not use cuDNN kernels since it doesn't meet the criteria. It will use a generic GPU kernel as fallback when running on GPU.\n"
          ]
        }
      ]
    },
    {
      "cell_type": "code",
      "source": [
        "model.compile(optimizer='adam', loss='categorical_crossentropy', metrics=['categorical_accuracy'])\n",
        "# model.optimizer.lr.assign(0.001)"
      ],
      "metadata": {
        "id": "PEyFNrWZWdVA"
      },
      "execution_count": 21,
      "outputs": []
    },
    {
      "cell_type": "code",
      "source": [
        "history = model.fit(X_train, y_train, epochs=200, callbacks=[tb_callback], validation_data = (X_test, y_test))"
      ],
      "metadata": {
        "colab": {
          "base_uri": "https://localhost:8080/"
        },
        "id": "1pKvoo-HWglC",
        "outputId": "87538e3a-2bab-4f1a-8f9d-e5e330904678"
      },
      "execution_count": 22,
      "outputs": [
        {
          "output_type": "stream",
          "name": "stdout",
          "text": [
            "Epoch 1/200\n",
            "5/5 [==============================] - 7s 748ms/step - loss: 202.9537 - categorical_accuracy: 0.1655 - val_loss: 408.9063 - val_categorical_accuracy: 0.3529\n",
            "Epoch 2/200\n",
            "5/5 [==============================] - 1s 251ms/step - loss: 300.3853 - categorical_accuracy: 0.1655 - val_loss: 460.5071 - val_categorical_accuracy: 0.1176\n",
            "Epoch 3/200\n",
            "5/5 [==============================] - 1s 280ms/step - loss: 291.2504 - categorical_accuracy: 0.1517 - val_loss: 234.5194 - val_categorical_accuracy: 0.0588\n",
            "Epoch 4/200\n",
            "5/5 [==============================] - 1s 258ms/step - loss: 136.6591 - categorical_accuracy: 0.1793 - val_loss: 202.1964 - val_categorical_accuracy: 0.2353\n",
            "Epoch 5/200\n",
            "5/5 [==============================] - 1s 264ms/step - loss: 199.1765 - categorical_accuracy: 0.1586 - val_loss: 247.7599 - val_categorical_accuracy: 0.0588\n",
            "Epoch 6/200\n",
            "5/5 [==============================] - 1s 271ms/step - loss: 178.3929 - categorical_accuracy: 0.1724 - val_loss: 160.5198 - val_categorical_accuracy: 0.0588\n",
            "Epoch 7/200\n",
            "5/5 [==============================] - 1s 259ms/step - loss: 461.4989 - categorical_accuracy: 0.2207 - val_loss: 720.3392 - val_categorical_accuracy: 0.0588\n",
            "Epoch 8/200\n",
            "5/5 [==============================] - 1s 261ms/step - loss: 576.0659 - categorical_accuracy: 0.1793 - val_loss: 633.9034 - val_categorical_accuracy: 0.0588\n",
            "Epoch 9/200\n",
            "5/5 [==============================] - 2s 448ms/step - loss: 631.1375 - categorical_accuracy: 0.1448 - val_loss: 847.7711 - val_categorical_accuracy: 0.1176\n",
            "Epoch 10/200\n",
            "5/5 [==============================] - 3s 604ms/step - loss: 1681.2523 - categorical_accuracy: 0.1379 - val_loss: 9490.1650 - val_categorical_accuracy: 0.2353\n",
            "Epoch 11/200\n",
            "5/5 [==============================] - 2s 263ms/step - loss: 7578.3032 - categorical_accuracy: 0.1724 - val_loss: 2271.8938 - val_categorical_accuracy: 0.1176\n",
            "Epoch 12/200\n",
            "5/5 [==============================] - 1s 273ms/step - loss: 1293.0393 - categorical_accuracy: 0.1586 - val_loss: 1299.5034 - val_categorical_accuracy: 0.0000e+00\n",
            "Epoch 13/200\n",
            "5/5 [==============================] - 1s 251ms/step - loss: 1410.4470 - categorical_accuracy: 0.1724 - val_loss: 949.7646 - val_categorical_accuracy: 0.2353\n",
            "Epoch 14/200\n",
            "5/5 [==============================] - 1s 274ms/step - loss: 1137.5760 - categorical_accuracy: 0.1655 - val_loss: 404.2063 - val_categorical_accuracy: 0.2353\n",
            "Epoch 15/200\n",
            "5/5 [==============================] - 1s 281ms/step - loss: 818.0820 - categorical_accuracy: 0.1655 - val_loss: 808.8511 - val_categorical_accuracy: 0.0588\n",
            "Epoch 16/200\n",
            "5/5 [==============================] - 1s 271ms/step - loss: 353.8378 - categorical_accuracy: 0.2069 - val_loss: 808.2761 - val_categorical_accuracy: 0.1765\n",
            "Epoch 17/200\n",
            "5/5 [==============================] - 1s 275ms/step - loss: 182.8885 - categorical_accuracy: 0.1517 - val_loss: 196.1364 - val_categorical_accuracy: 0.1176\n",
            "Epoch 18/200\n",
            "5/5 [==============================] - 2s 355ms/step - loss: 112.4785 - categorical_accuracy: 0.1655 - val_loss: 97.7458 - val_categorical_accuracy: 0.1765\n",
            "Epoch 19/200\n",
            "5/5 [==============================] - 3s 596ms/step - loss: 53.7162 - categorical_accuracy: 0.1724 - val_loss: 61.2413 - val_categorical_accuracy: 0.2353\n",
            "Epoch 20/200\n",
            "5/5 [==============================] - 2s 350ms/step - loss: 76.2339 - categorical_accuracy: 0.1793 - val_loss: 1.7938 - val_categorical_accuracy: 0.1765\n",
            "Epoch 21/200\n",
            "5/5 [==============================] - 1s 271ms/step - loss: 37.1361 - categorical_accuracy: 0.1793 - val_loss: 18.3281 - val_categorical_accuracy: 0.1765\n",
            "Epoch 22/200\n",
            "5/5 [==============================] - 1s 263ms/step - loss: 92.0180 - categorical_accuracy: 0.1655 - val_loss: 59.4507 - val_categorical_accuracy: 0.1176\n",
            "Epoch 23/200\n",
            "5/5 [==============================] - 1s 281ms/step - loss: 26.2102 - categorical_accuracy: 0.1724 - val_loss: 53.4298 - val_categorical_accuracy: 0.1765\n",
            "Epoch 24/200\n",
            "5/5 [==============================] - 1s 253ms/step - loss: 21.7145 - categorical_accuracy: 0.1655 - val_loss: 1.7948 - val_categorical_accuracy: 0.1765\n",
            "Epoch 25/200\n",
            "5/5 [==============================] - 1s 264ms/step - loss: 10.2949 - categorical_accuracy: 0.1724 - val_loss: 5.1565 - val_categorical_accuracy: 0.1765\n",
            "Epoch 26/200\n",
            "5/5 [==============================] - 1s 253ms/step - loss: 32.0602 - categorical_accuracy: 0.1586 - val_loss: 7.9605 - val_categorical_accuracy: 0.1176\n",
            "Epoch 27/200\n",
            "5/5 [==============================] - 1s 267ms/step - loss: 18.8729 - categorical_accuracy: 0.1655 - val_loss: 1.7953 - val_categorical_accuracy: 0.1765\n",
            "Epoch 28/200\n",
            "5/5 [==============================] - 3s 551ms/step - loss: 7.1395 - categorical_accuracy: 0.1724 - val_loss: 82.2065 - val_categorical_accuracy: 0.1765\n",
            "Epoch 29/200\n",
            "5/5 [==============================] - 3s 567ms/step - loss: 15.5376 - categorical_accuracy: 0.1655 - val_loss: 1.7957 - val_categorical_accuracy: 0.1765\n",
            "Epoch 30/200\n",
            "5/5 [==============================] - 2s 402ms/step - loss: 11.2694 - categorical_accuracy: 0.1655 - val_loss: 1.7959 - val_categorical_accuracy: 0.1765\n",
            "Epoch 31/200\n",
            "5/5 [==============================] - 1s 258ms/step - loss: 16.3823 - categorical_accuracy: 0.1379 - val_loss: 1.7961 - val_categorical_accuracy: 0.1765\n",
            "Epoch 32/200\n",
            "5/5 [==============================] - 1s 267ms/step - loss: 55.9606 - categorical_accuracy: 0.1655 - val_loss: 1.7963 - val_categorical_accuracy: 0.1765\n",
            "Epoch 33/200\n",
            "5/5 [==============================] - 1s 278ms/step - loss: 17.8189 - categorical_accuracy: 0.1655 - val_loss: 1.7964 - val_categorical_accuracy: 0.1765\n",
            "Epoch 34/200\n",
            "5/5 [==============================] - 1s 277ms/step - loss: 13.8966 - categorical_accuracy: 0.1724 - val_loss: 1.7965 - val_categorical_accuracy: 0.1765\n",
            "Epoch 35/200\n",
            "5/5 [==============================] - 1s 259ms/step - loss: 8.1966 - categorical_accuracy: 0.1724 - val_loss: 1.7968 - val_categorical_accuracy: 0.1765\n",
            "Epoch 36/200\n",
            "5/5 [==============================] - 2s 486ms/step - loss: 9.8194 - categorical_accuracy: 0.1655 - val_loss: 1.7969 - val_categorical_accuracy: 0.1765\n",
            "Epoch 37/200\n",
            "5/5 [==============================] - 3s 482ms/step - loss: 3.9064 - categorical_accuracy: 0.1655 - val_loss: 1.7970 - val_categorical_accuracy: 0.1765\n",
            "Epoch 38/200\n",
            "5/5 [==============================] - 2s 402ms/step - loss: 15.6147 - categorical_accuracy: 0.1655 - val_loss: 1.7972 - val_categorical_accuracy: 0.1765\n",
            "Epoch 39/200\n",
            "5/5 [==============================] - 1s 252ms/step - loss: 13.5921 - categorical_accuracy: 0.1724 - val_loss: 1.7972 - val_categorical_accuracy: 0.1765\n",
            "Epoch 40/200\n",
            "5/5 [==============================] - 1s 250ms/step - loss: 22.8028 - categorical_accuracy: 0.1655 - val_loss: 1.7974 - val_categorical_accuracy: 0.1765\n",
            "Epoch 41/200\n",
            "5/5 [==============================] - 1s 273ms/step - loss: 4.3889 - categorical_accuracy: 0.1724 - val_loss: 1.7975 - val_categorical_accuracy: 0.1765\n",
            "Epoch 42/200\n",
            "5/5 [==============================] - 1s 262ms/step - loss: 1.7914 - categorical_accuracy: 0.1655 - val_loss: 1.7976 - val_categorical_accuracy: 0.1765\n",
            "Epoch 43/200\n",
            "5/5 [==============================] - 1s 267ms/step - loss: 2.0382 - categorical_accuracy: 0.1655 - val_loss: 12.2698 - val_categorical_accuracy: 0.1176\n",
            "Epoch 44/200\n",
            "5/5 [==============================] - 1s 257ms/step - loss: 2.4756 - categorical_accuracy: 0.1655 - val_loss: 1.7979 - val_categorical_accuracy: 0.1765\n",
            "Epoch 45/200\n",
            "5/5 [==============================] - 1s 278ms/step - loss: 1.7914 - categorical_accuracy: 0.1655 - val_loss: 1.7980 - val_categorical_accuracy: 0.1765\n",
            "Epoch 46/200\n",
            "5/5 [==============================] - 2s 538ms/step - loss: 1.8978 - categorical_accuracy: 0.1586 - val_loss: 70.9338 - val_categorical_accuracy: 0.1765\n",
            "Epoch 47/200\n",
            "5/5 [==============================] - 3s 556ms/step - loss: 1.7935 - categorical_accuracy: 0.1586 - val_loss: 1.7985 - val_categorical_accuracy: 0.1765\n",
            "Epoch 48/200\n",
            "5/5 [==============================] - 1s 265ms/step - loss: 1.8027 - categorical_accuracy: 0.1586 - val_loss: 1.7987 - val_categorical_accuracy: 0.1765\n",
            "Epoch 49/200\n",
            "5/5 [==============================] - 1s 259ms/step - loss: 4.4530 - categorical_accuracy: 0.1586 - val_loss: 1.7989 - val_categorical_accuracy: 0.1765\n",
            "Epoch 50/200\n",
            "5/5 [==============================] - 1s 261ms/step - loss: 3.9007 - categorical_accuracy: 0.1586 - val_loss: 1.7991 - val_categorical_accuracy: 0.1765\n",
            "Epoch 51/200\n",
            "5/5 [==============================] - 2s 342ms/step - loss: 1.7921 - categorical_accuracy: 0.1586 - val_loss: 1.7994 - val_categorical_accuracy: 0.1765\n",
            "Epoch 52/200\n",
            "5/5 [==============================] - 2s 331ms/step - loss: 1.7664 - categorical_accuracy: 0.1793 - val_loss: 1.7994 - val_categorical_accuracy: 0.1765\n",
            "Epoch 53/200\n",
            "5/5 [==============================] - 1s 265ms/step - loss: 5.7015 - categorical_accuracy: 0.1586 - val_loss: 1.7996 - val_categorical_accuracy: 0.1765\n",
            "Epoch 54/200\n",
            "5/5 [==============================] - 1s 266ms/step - loss: 5.5133 - categorical_accuracy: 0.1655 - val_loss: 1.7998 - val_categorical_accuracy: 0.1765\n",
            "Epoch 55/200\n",
            "5/5 [==============================] - 3s 563ms/step - loss: 1.7912 - categorical_accuracy: 0.1655 - val_loss: 1.8000 - val_categorical_accuracy: 0.1765\n",
            "Epoch 56/200\n",
            "5/5 [==============================] - 3s 492ms/step - loss: 1.7912 - categorical_accuracy: 0.1655 - val_loss: 1.8001 - val_categorical_accuracy: 0.1765\n",
            "Epoch 57/200\n",
            "5/5 [==============================] - 1s 278ms/step - loss: 2.0426 - categorical_accuracy: 0.1655 - val_loss: 1.8003 - val_categorical_accuracy: 0.1765\n",
            "Epoch 58/200\n",
            "5/5 [==============================] - 1s 260ms/step - loss: 14.0089 - categorical_accuracy: 0.1655 - val_loss: 1.8006 - val_categorical_accuracy: 0.1765\n",
            "Epoch 59/200\n",
            "5/5 [==============================] - 1s 260ms/step - loss: 1.7911 - categorical_accuracy: 0.1655 - val_loss: 1.8009 - val_categorical_accuracy: 0.1765\n",
            "Epoch 60/200\n",
            "5/5 [==============================] - 1s 263ms/step - loss: 1.7911 - categorical_accuracy: 0.1655 - val_loss: 1.8012 - val_categorical_accuracy: 0.1765\n",
            "Epoch 61/200\n",
            "5/5 [==============================] - 1s 255ms/step - loss: 1.7911 - categorical_accuracy: 0.1655 - val_loss: 1.8014 - val_categorical_accuracy: 0.1765\n",
            "Epoch 62/200\n",
            "5/5 [==============================] - 1s 258ms/step - loss: 13.0439 - categorical_accuracy: 0.1586 - val_loss: 1.8016 - val_categorical_accuracy: 0.1765\n",
            "Epoch 63/200\n",
            "5/5 [==============================] - 1s 267ms/step - loss: 1.7910 - categorical_accuracy: 0.1655 - val_loss: 1.8017 - val_categorical_accuracy: 0.1765\n",
            "Epoch 64/200\n",
            "5/5 [==============================] - 2s 430ms/step - loss: 1.7910 - categorical_accuracy: 0.1655 - val_loss: 1.8019 - val_categorical_accuracy: 0.1765\n",
            "Epoch 65/200\n",
            "5/5 [==============================] - 3s 553ms/step - loss: 1.7910 - categorical_accuracy: 0.1655 - val_loss: 1.8020 - val_categorical_accuracy: 0.1765\n",
            "Epoch 66/200\n",
            "5/5 [==============================] - 2s 304ms/step - loss: 1.7910 - categorical_accuracy: 0.1655 - val_loss: 1.8022 - val_categorical_accuracy: 0.1765\n",
            "Epoch 67/200\n",
            "5/5 [==============================] - 1s 257ms/step - loss: 1.7910 - categorical_accuracy: 0.1655 - val_loss: 1.8022 - val_categorical_accuracy: 0.1765\n",
            "Epoch 68/200\n",
            "5/5 [==============================] - 1s 263ms/step - loss: 1.7910 - categorical_accuracy: 0.1655 - val_loss: 1.8023 - val_categorical_accuracy: 0.1765\n",
            "Epoch 69/200\n",
            "5/5 [==============================] - 1s 275ms/step - loss: 3.8564 - categorical_accuracy: 0.1655 - val_loss: 1.8025 - val_categorical_accuracy: 0.1765\n",
            "Epoch 70/200\n",
            "5/5 [==============================] - 1s 257ms/step - loss: 1.7787 - categorical_accuracy: 0.1724 - val_loss: 1.8026 - val_categorical_accuracy: 0.1765\n",
            "Epoch 71/200\n",
            "5/5 [==============================] - 1s 277ms/step - loss: 1.7910 - categorical_accuracy: 0.1655 - val_loss: 1.8028 - val_categorical_accuracy: 0.1765\n",
            "Epoch 72/200\n",
            "5/5 [==============================] - 1s 263ms/step - loss: 1.7909 - categorical_accuracy: 0.1655 - val_loss: 1.8030 - val_categorical_accuracy: 0.1765\n",
            "Epoch 73/200\n",
            "5/5 [==============================] - 1s 291ms/step - loss: 1.7909 - categorical_accuracy: 0.1655 - val_loss: 1.8032 - val_categorical_accuracy: 0.1765\n",
            "Epoch 74/200\n",
            "5/5 [==============================] - 3s 601ms/step - loss: 6.2435 - categorical_accuracy: 0.1655 - val_loss: 1.8033 - val_categorical_accuracy: 0.1765\n",
            "Epoch 75/200\n",
            "5/5 [==============================] - 2s 398ms/step - loss: 1.8053 - categorical_accuracy: 0.1586 - val_loss: 1.8035 - val_categorical_accuracy: 0.1765\n",
            "Epoch 76/200\n",
            "5/5 [==============================] - 1s 278ms/step - loss: 1.7909 - categorical_accuracy: 0.1655 - val_loss: 1.8037 - val_categorical_accuracy: 0.1765\n",
            "Epoch 77/200\n",
            "5/5 [==============================] - 1s 266ms/step - loss: 3.0061 - categorical_accuracy: 0.1655 - val_loss: 1.8038 - val_categorical_accuracy: 0.1765\n",
            "Epoch 78/200\n",
            "5/5 [==============================] - 1s 272ms/step - loss: 1.7908 - categorical_accuracy: 0.1655 - val_loss: 1.8040 - val_categorical_accuracy: 0.1765\n",
            "Epoch 79/200\n",
            "5/5 [==============================] - 1s 270ms/step - loss: 2.0888 - categorical_accuracy: 0.1655 - val_loss: 1.8042 - val_categorical_accuracy: 0.1765\n",
            "Epoch 80/200\n",
            "5/5 [==============================] - 1s 260ms/step - loss: 2.0429 - categorical_accuracy: 0.1655 - val_loss: 1.8044 - val_categorical_accuracy: 0.1765\n",
            "Epoch 81/200\n",
            "5/5 [==============================] - 1s 256ms/step - loss: 1.7908 - categorical_accuracy: 0.1655 - val_loss: 1.8045 - val_categorical_accuracy: 0.1765\n",
            "Epoch 82/200\n",
            "5/5 [==============================] - 1s 260ms/step - loss: 1.7908 - categorical_accuracy: 0.1655 - val_loss: 1.8046 - val_categorical_accuracy: 0.1765\n",
            "Epoch 83/200\n",
            "5/5 [==============================] - 2s 526ms/step - loss: 1.7908 - categorical_accuracy: 0.1517 - val_loss: 1.8048 - val_categorical_accuracy: 0.0588\n",
            "Epoch 84/200\n",
            "5/5 [==============================] - 3s 528ms/step - loss: 1.7785 - categorical_accuracy: 0.1862 - val_loss: 1.8049 - val_categorical_accuracy: 0.0588\n",
            "Epoch 85/200\n",
            "5/5 [==============================] - 1s 267ms/step - loss: 1.7907 - categorical_accuracy: 0.1793 - val_loss: 1.8050 - val_categorical_accuracy: 0.0588\n",
            "Epoch 86/200\n",
            "5/5 [==============================] - 1s 280ms/step - loss: 1.7907 - categorical_accuracy: 0.1793 - val_loss: 1.8051 - val_categorical_accuracy: 0.0588\n",
            "Epoch 87/200\n",
            "5/5 [==============================] - 1s 272ms/step - loss: 2.3446 - categorical_accuracy: 0.1793 - val_loss: 1.8053 - val_categorical_accuracy: 0.0588\n",
            "Epoch 88/200\n",
            "5/5 [==============================] - 1s 261ms/step - loss: 1.7907 - categorical_accuracy: 0.1793 - val_loss: 1.8054 - val_categorical_accuracy: 0.0588\n",
            "Epoch 89/200\n",
            "5/5 [==============================] - 1s 267ms/step - loss: 1.7907 - categorical_accuracy: 0.1793 - val_loss: 1.8056 - val_categorical_accuracy: 0.0588\n",
            "Epoch 90/200\n",
            "5/5 [==============================] - 1s 253ms/step - loss: 1.7907 - categorical_accuracy: 0.1793 - val_loss: 1.8058 - val_categorical_accuracy: 0.0588\n",
            "Epoch 91/200\n",
            "5/5 [==============================] - 1s 282ms/step - loss: 1.7907 - categorical_accuracy: 0.1793 - val_loss: 1.8060 - val_categorical_accuracy: 0.0588\n",
            "Epoch 92/200\n",
            "5/5 [==============================] - 2s 457ms/step - loss: 1.7907 - categorical_accuracy: 0.1793 - val_loss: 1.8063 - val_categorical_accuracy: 0.0588\n",
            "Epoch 93/200\n",
            "5/5 [==============================] - 3s 547ms/step - loss: 1.7906 - categorical_accuracy: 0.1793 - val_loss: 1.8065 - val_categorical_accuracy: 0.0588\n",
            "Epoch 94/200\n",
            "5/5 [==============================] - 2s 286ms/step - loss: 1.7906 - categorical_accuracy: 0.1793 - val_loss: 1.8067 - val_categorical_accuracy: 0.0588\n",
            "Epoch 95/200\n",
            "5/5 [==============================] - 1s 288ms/step - loss: 1.7906 - categorical_accuracy: 0.1793 - val_loss: 1.8070 - val_categorical_accuracy: 0.0588\n",
            "Epoch 96/200\n",
            "5/5 [==============================] - 1s 280ms/step - loss: 1.7906 - categorical_accuracy: 0.1793 - val_loss: 1.8071 - val_categorical_accuracy: 0.0588\n",
            "Epoch 97/200\n",
            "5/5 [==============================] - 1s 251ms/step - loss: 1.7780 - categorical_accuracy: 0.1862 - val_loss: 1.8071 - val_categorical_accuracy: 0.0588\n",
            "Epoch 98/200\n",
            "5/5 [==============================] - 1s 270ms/step - loss: 1.7780 - categorical_accuracy: 0.1862 - val_loss: 1.8072 - val_categorical_accuracy: 0.0588\n",
            "Epoch 99/200\n",
            "5/5 [==============================] - 1s 265ms/step - loss: 1.7906 - categorical_accuracy: 0.1793 - val_loss: 1.8074 - val_categorical_accuracy: 0.0588\n",
            "Epoch 100/200\n",
            "5/5 [==============================] - 1s 275ms/step - loss: 1.7906 - categorical_accuracy: 0.1793 - val_loss: 1.8075 - val_categorical_accuracy: 0.0588\n",
            "Epoch 101/200\n",
            "5/5 [==============================] - 2s 413ms/step - loss: 1.7906 - categorical_accuracy: 0.1793 - val_loss: 1.8077 - val_categorical_accuracy: 0.0588\n",
            "Epoch 102/200\n",
            "5/5 [==============================] - 3s 606ms/step - loss: 1.7906 - categorical_accuracy: 0.1793 - val_loss: 1.8077 - val_categorical_accuracy: 0.0588\n",
            "Epoch 103/200\n",
            "5/5 [==============================] - 2s 291ms/step - loss: 1.7905 - categorical_accuracy: 0.1793 - val_loss: 1.8077 - val_categorical_accuracy: 0.0588\n",
            "Epoch 104/200\n",
            "5/5 [==============================] - 1s 260ms/step - loss: 1.7906 - categorical_accuracy: 0.1793 - val_loss: 1.8078 - val_categorical_accuracy: 0.0588\n",
            "Epoch 105/200\n",
            "5/5 [==============================] - 1s 265ms/step - loss: 1.7905 - categorical_accuracy: 0.1793 - val_loss: 1.8078 - val_categorical_accuracy: 0.0588\n",
            "Epoch 106/200\n",
            "5/5 [==============================] - 1s 262ms/step - loss: 1.7905 - categorical_accuracy: 0.1793 - val_loss: 1.8078 - val_categorical_accuracy: 0.0588\n",
            "Epoch 107/200\n",
            "5/5 [==============================] - 1s 253ms/step - loss: 1.7905 - categorical_accuracy: 0.1793 - val_loss: 1.8079 - val_categorical_accuracy: 0.0588\n",
            "Epoch 108/200\n",
            "5/5 [==============================] - 1s 261ms/step - loss: 1.7905 - categorical_accuracy: 0.1793 - val_loss: 1.8081 - val_categorical_accuracy: 0.0588\n",
            "Epoch 109/200\n",
            "5/5 [==============================] - 1s 266ms/step - loss: 1.7905 - categorical_accuracy: 0.1793 - val_loss: 1.8082 - val_categorical_accuracy: 0.0588\n",
            "Epoch 110/200\n",
            "5/5 [==============================] - 1s 285ms/step - loss: 1.7905 - categorical_accuracy: 0.1793 - val_loss: 1.8084 - val_categorical_accuracy: 0.0588\n",
            "Epoch 111/200\n",
            "5/5 [==============================] - 3s 543ms/step - loss: 1.7905 - categorical_accuracy: 0.1793 - val_loss: 1.8085 - val_categorical_accuracy: 0.0588\n",
            "Epoch 112/200\n",
            "5/5 [==============================] - 3s 497ms/step - loss: 1.7905 - categorical_accuracy: 0.1793 - val_loss: 1.8087 - val_categorical_accuracy: 0.0588\n",
            "Epoch 113/200\n",
            "5/5 [==============================] - 1s 251ms/step - loss: 1.7905 - categorical_accuracy: 0.1793 - val_loss: 1.8089 - val_categorical_accuracy: 0.0588\n",
            "Epoch 114/200\n",
            "5/5 [==============================] - 1s 270ms/step - loss: 1.7905 - categorical_accuracy: 0.1793 - val_loss: 1.8090 - val_categorical_accuracy: 0.0588\n",
            "Epoch 115/200\n",
            "5/5 [==============================] - 1s 290ms/step - loss: 1.7905 - categorical_accuracy: 0.1793 - val_loss: 1.8091 - val_categorical_accuracy: 0.0588\n",
            "Epoch 116/200\n",
            "5/5 [==============================] - 1s 277ms/step - loss: 1.7905 - categorical_accuracy: 0.1793 - val_loss: 1.8092 - val_categorical_accuracy: 0.0588\n",
            "Epoch 117/200\n",
            "5/5 [==============================] - 1s 271ms/step - loss: 1.7905 - categorical_accuracy: 0.1793 - val_loss: 1.8093 - val_categorical_accuracy: 0.0588\n",
            "Epoch 118/200\n",
            "5/5 [==============================] - 1s 262ms/step - loss: 1.7905 - categorical_accuracy: 0.1793 - val_loss: 1.8094 - val_categorical_accuracy: 0.0588\n",
            "Epoch 119/200\n",
            "5/5 [==============================] - 1s 272ms/step - loss: 1.7905 - categorical_accuracy: 0.1793 - val_loss: 1.8096 - val_categorical_accuracy: 0.0588\n",
            "Epoch 120/200\n",
            "5/5 [==============================] - 2s 524ms/step - loss: 1.7905 - categorical_accuracy: 0.1793 - val_loss: 1.8098 - val_categorical_accuracy: 0.0588\n",
            "Epoch 121/200\n",
            "5/5 [==============================] - 3s 569ms/step - loss: 1.7904 - categorical_accuracy: 0.1793 - val_loss: 1.8101 - val_categorical_accuracy: 0.0588\n",
            "Epoch 122/200\n",
            "5/5 [==============================] - 1s 254ms/step - loss: 1.7904 - categorical_accuracy: 0.1793 - val_loss: 1.8102 - val_categorical_accuracy: 0.0588\n",
            "Epoch 123/200\n",
            "5/5 [==============================] - 1s 287ms/step - loss: 1.7905 - categorical_accuracy: 0.1793 - val_loss: 1.8103 - val_categorical_accuracy: 0.0588\n",
            "Epoch 124/200\n",
            "5/5 [==============================] - 1s 263ms/step - loss: 1.7905 - categorical_accuracy: 0.1793 - val_loss: 1.8105 - val_categorical_accuracy: 0.0588\n",
            "Epoch 125/200\n",
            "5/5 [==============================] - 1s 281ms/step - loss: 1.7904 - categorical_accuracy: 0.1793 - val_loss: 1.8106 - val_categorical_accuracy: 0.0588\n",
            "Epoch 126/200\n",
            "5/5 [==============================] - 1s 265ms/step - loss: 1.7904 - categorical_accuracy: 0.1793 - val_loss: 1.8106 - val_categorical_accuracy: 0.0588\n",
            "Epoch 127/200\n",
            "5/5 [==============================] - 1s 275ms/step - loss: 1.7904 - categorical_accuracy: 0.1793 - val_loss: 1.8107 - val_categorical_accuracy: 0.0588\n",
            "Epoch 128/200\n",
            "5/5 [==============================] - 1s 273ms/step - loss: 1.7904 - categorical_accuracy: 0.1793 - val_loss: 1.8107 - val_categorical_accuracy: 0.0588\n",
            "Epoch 129/200\n",
            "5/5 [==============================] - 2s 507ms/step - loss: 1.7904 - categorical_accuracy: 0.1793 - val_loss: 1.8107 - val_categorical_accuracy: 0.0588\n",
            "Epoch 130/200\n",
            "5/5 [==============================] - 3s 591ms/step - loss: 1.7904 - categorical_accuracy: 0.1793 - val_loss: 1.8107 - val_categorical_accuracy: 0.0588\n",
            "Epoch 131/200\n",
            "5/5 [==============================] - 1s 274ms/step - loss: 1.7904 - categorical_accuracy: 0.1793 - val_loss: 1.8108 - val_categorical_accuracy: 0.0588\n",
            "Epoch 132/200\n",
            "5/5 [==============================] - 1s 276ms/step - loss: 1.7904 - categorical_accuracy: 0.1793 - val_loss: 1.8109 - val_categorical_accuracy: 0.0588\n",
            "Epoch 133/200\n",
            "5/5 [==============================] - 1s 270ms/step - loss: 1.7904 - categorical_accuracy: 0.1793 - val_loss: 1.8110 - val_categorical_accuracy: 0.0588\n",
            "Epoch 134/200\n",
            "5/5 [==============================] - 1s 259ms/step - loss: 1.7904 - categorical_accuracy: 0.1793 - val_loss: 1.8112 - val_categorical_accuracy: 0.0588\n",
            "Epoch 135/200\n",
            "5/5 [==============================] - 1s 258ms/step - loss: 1.7904 - categorical_accuracy: 0.1793 - val_loss: 1.8115 - val_categorical_accuracy: 0.0588\n",
            "Epoch 136/200\n",
            "5/5 [==============================] - 1s 272ms/step - loss: 1.7904 - categorical_accuracy: 0.1793 - val_loss: 1.8116 - val_categorical_accuracy: 0.0588\n",
            "Epoch 137/200\n",
            "5/5 [==============================] - 1s 274ms/step - loss: 1.7904 - categorical_accuracy: 0.1793 - val_loss: 1.8117 - val_categorical_accuracy: 0.0588\n",
            "Epoch 138/200\n",
            "5/5 [==============================] - 2s 378ms/step - loss: 1.7904 - categorical_accuracy: 0.1793 - val_loss: 1.8118 - val_categorical_accuracy: 0.0588\n",
            "Epoch 139/200\n",
            "5/5 [==============================] - 3s 568ms/step - loss: 1.7904 - categorical_accuracy: 0.1793 - val_loss: 1.8119 - val_categorical_accuracy: 0.0588\n",
            "Epoch 140/200\n",
            "5/5 [==============================] - 2s 353ms/step - loss: 1.7904 - categorical_accuracy: 0.1793 - val_loss: 1.8120 - val_categorical_accuracy: 0.0588\n",
            "Epoch 141/200\n",
            "5/5 [==============================] - 1s 261ms/step - loss: 1.7904 - categorical_accuracy: 0.1793 - val_loss: 1.8122 - val_categorical_accuracy: 0.0588\n",
            "Epoch 142/200\n",
            "5/5 [==============================] - 1s 268ms/step - loss: 1.7904 - categorical_accuracy: 0.1793 - val_loss: 1.8122 - val_categorical_accuracy: 0.0588\n",
            "Epoch 143/200\n",
            "5/5 [==============================] - 1s 274ms/step - loss: 1.7903 - categorical_accuracy: 0.1793 - val_loss: 1.8124 - val_categorical_accuracy: 0.0588\n",
            "Epoch 144/200\n",
            "5/5 [==============================] - 1s 268ms/step - loss: 1.7904 - categorical_accuracy: 0.1793 - val_loss: 1.8125 - val_categorical_accuracy: 0.0588\n",
            "Epoch 145/200\n",
            "5/5 [==============================] - 1s 256ms/step - loss: 1.7904 - categorical_accuracy: 0.1793 - val_loss: 1.8128 - val_categorical_accuracy: 0.0588\n",
            "Epoch 146/200\n",
            "5/5 [==============================] - 1s 251ms/step - loss: 1.7903 - categorical_accuracy: 0.1793 - val_loss: 1.8130 - val_categorical_accuracy: 0.0588\n",
            "Epoch 147/200\n",
            "5/5 [==============================] - 1s 285ms/step - loss: 1.7903 - categorical_accuracy: 0.1793 - val_loss: 1.8130 - val_categorical_accuracy: 0.0588\n",
            "Epoch 148/200\n",
            "5/5 [==============================] - 3s 585ms/step - loss: 1.7903 - categorical_accuracy: 0.1793 - val_loss: 1.8130 - val_categorical_accuracy: 0.0588\n",
            "Epoch 149/200\n",
            "5/5 [==============================] - 2s 465ms/step - loss: 1.7903 - categorical_accuracy: 0.1793 - val_loss: 1.8132 - val_categorical_accuracy: 0.0588\n",
            "Epoch 150/200\n",
            "5/5 [==============================] - 1s 266ms/step - loss: 1.7903 - categorical_accuracy: 0.1793 - val_loss: 1.8133 - val_categorical_accuracy: 0.0588\n",
            "Epoch 151/200\n",
            "5/5 [==============================] - 1s 277ms/step - loss: 1.7903 - categorical_accuracy: 0.1793 - val_loss: 1.8133 - val_categorical_accuracy: 0.0588\n",
            "Epoch 152/200\n",
            "5/5 [==============================] - 1s 278ms/step - loss: 1.7903 - categorical_accuracy: 0.1793 - val_loss: 1.8132 - val_categorical_accuracy: 0.0588\n",
            "Epoch 153/200\n",
            "5/5 [==============================] - 1s 278ms/step - loss: 1.7903 - categorical_accuracy: 0.1793 - val_loss: 1.8131 - val_categorical_accuracy: 0.0588\n",
            "Epoch 154/200\n",
            "5/5 [==============================] - 1s 268ms/step - loss: 1.7903 - categorical_accuracy: 0.1793 - val_loss: 1.8132 - val_categorical_accuracy: 0.0588\n",
            "Epoch 155/200\n",
            "5/5 [==============================] - 1s 263ms/step - loss: 1.7903 - categorical_accuracy: 0.1793 - val_loss: 1.8133 - val_categorical_accuracy: 0.0588\n",
            "Epoch 156/200\n",
            "5/5 [==============================] - 1s 270ms/step - loss: 1.7903 - categorical_accuracy: 0.1793 - val_loss: 1.8134 - val_categorical_accuracy: 0.0588\n",
            "Epoch 157/200\n",
            "5/5 [==============================] - 2s 520ms/step - loss: 1.7903 - categorical_accuracy: 0.1793 - val_loss: 1.8134 - val_categorical_accuracy: 0.0588\n",
            "Epoch 158/200\n",
            "5/5 [==============================] - 3s 539ms/step - loss: 1.7903 - categorical_accuracy: 0.1793 - val_loss: 1.8134 - val_categorical_accuracy: 0.0588\n",
            "Epoch 159/200\n",
            "5/5 [==============================] - 1s 278ms/step - loss: 1.7903 - categorical_accuracy: 0.1793 - val_loss: 1.8134 - val_categorical_accuracy: 0.0588\n",
            "Epoch 160/200\n",
            "5/5 [==============================] - 1s 277ms/step - loss: 1.7903 - categorical_accuracy: 0.1793 - val_loss: 1.8135 - val_categorical_accuracy: 0.0588\n",
            "Epoch 161/200\n",
            "5/5 [==============================] - 1s 289ms/step - loss: 1.7903 - categorical_accuracy: 0.1793 - val_loss: 1.8135 - val_categorical_accuracy: 0.0588\n",
            "Epoch 162/200\n",
            "5/5 [==============================] - 1s 278ms/step - loss: 1.7903 - categorical_accuracy: 0.1793 - val_loss: 1.8135 - val_categorical_accuracy: 0.0588\n",
            "Epoch 163/200\n",
            "5/5 [==============================] - 1s 269ms/step - loss: 1.7903 - categorical_accuracy: 0.1793 - val_loss: 1.8136 - val_categorical_accuracy: 0.0588\n",
            "Epoch 164/200\n",
            "5/5 [==============================] - 1s 275ms/step - loss: 1.7903 - categorical_accuracy: 0.1793 - val_loss: 1.8138 - val_categorical_accuracy: 0.0588\n",
            "Epoch 165/200\n",
            "5/5 [==============================] - 1s 269ms/step - loss: 1.7903 - categorical_accuracy: 0.1793 - val_loss: 1.8140 - val_categorical_accuracy: 0.0588\n",
            "Epoch 166/200\n",
            "5/5 [==============================] - 2s 504ms/step - loss: 1.7903 - categorical_accuracy: 0.1793 - val_loss: 1.8141 - val_categorical_accuracy: 0.0588\n",
            "Epoch 167/200\n",
            "5/5 [==============================] - 3s 507ms/step - loss: 1.7903 - categorical_accuracy: 0.1793 - val_loss: 1.8142 - val_categorical_accuracy: 0.0588\n",
            "Epoch 168/200\n",
            "5/5 [==============================] - 2s 324ms/step - loss: 1.7903 - categorical_accuracy: 0.1793 - val_loss: 1.8143 - val_categorical_accuracy: 0.0588\n",
            "Epoch 169/200\n",
            "5/5 [==============================] - 1s 273ms/step - loss: 1.7903 - categorical_accuracy: 0.1793 - val_loss: 1.8142 - val_categorical_accuracy: 0.0588\n",
            "Epoch 170/200\n",
            "5/5 [==============================] - 1s 255ms/step - loss: 1.7903 - categorical_accuracy: 0.1793 - val_loss: 1.8143 - val_categorical_accuracy: 0.0588\n",
            "Epoch 171/200\n",
            "5/5 [==============================] - 1s 272ms/step - loss: 1.7903 - categorical_accuracy: 0.1793 - val_loss: 1.8144 - val_categorical_accuracy: 0.0588\n",
            "Epoch 172/200\n",
            "5/5 [==============================] - 1s 276ms/step - loss: 1.7903 - categorical_accuracy: 0.1793 - val_loss: 1.8144 - val_categorical_accuracy: 0.0588\n",
            "Epoch 173/200\n",
            "5/5 [==============================] - 1s 262ms/step - loss: 1.7903 - categorical_accuracy: 0.1793 - val_loss: 1.8146 - val_categorical_accuracy: 0.0588\n",
            "Epoch 174/200\n",
            "5/5 [==============================] - 1s 284ms/step - loss: 1.7903 - categorical_accuracy: 0.1793 - val_loss: 1.8147 - val_categorical_accuracy: 0.0588\n",
            "Epoch 175/200\n",
            "5/5 [==============================] - 2s 375ms/step - loss: 1.7903 - categorical_accuracy: 0.1793 - val_loss: 1.8149 - val_categorical_accuracy: 0.0588\n",
            "Epoch 176/200\n",
            "5/5 [==============================] - 3s 594ms/step - loss: 1.7903 - categorical_accuracy: 0.1793 - val_loss: 1.8150 - val_categorical_accuracy: 0.0588\n",
            "Epoch 177/200\n",
            "5/5 [==============================] - 2s 361ms/step - loss: 1.7903 - categorical_accuracy: 0.1793 - val_loss: 1.8151 - val_categorical_accuracy: 0.0588\n",
            "Epoch 178/200\n",
            "5/5 [==============================] - 1s 255ms/step - loss: 1.7903 - categorical_accuracy: 0.1793 - val_loss: 1.8152 - val_categorical_accuracy: 0.0588\n",
            "Epoch 179/200\n",
            "5/5 [==============================] - 1s 271ms/step - loss: 1.7903 - categorical_accuracy: 0.1793 - val_loss: 1.8153 - val_categorical_accuracy: 0.0588\n",
            "Epoch 180/200\n",
            "5/5 [==============================] - 1s 259ms/step - loss: 1.7903 - categorical_accuracy: 0.1793 - val_loss: 1.8154 - val_categorical_accuracy: 0.0588\n",
            "Epoch 181/200\n",
            "5/5 [==============================] - 1s 260ms/step - loss: 1.7903 - categorical_accuracy: 0.1793 - val_loss: 1.8155 - val_categorical_accuracy: 0.0588\n",
            "Epoch 182/200\n",
            "5/5 [==============================] - 1s 272ms/step - loss: 1.7903 - categorical_accuracy: 0.1793 - val_loss: 1.8158 - val_categorical_accuracy: 0.0588\n",
            "Epoch 183/200\n",
            "5/5 [==============================] - 1s 269ms/step - loss: 1.7903 - categorical_accuracy: 0.1793 - val_loss: 1.8158 - val_categorical_accuracy: 0.0588\n",
            "Epoch 184/200\n",
            "5/5 [==============================] - 1s 281ms/step - loss: 1.7903 - categorical_accuracy: 0.1793 - val_loss: 1.8159 - val_categorical_accuracy: 0.0588\n",
            "Epoch 185/200\n",
            "5/5 [==============================] - 3s 551ms/step - loss: 1.7903 - categorical_accuracy: 0.1793 - val_loss: 1.8159 - val_categorical_accuracy: 0.0588\n",
            "Epoch 186/200\n",
            "5/5 [==============================] - 3s 518ms/step - loss: 1.7903 - categorical_accuracy: 0.1793 - val_loss: 1.8160 - val_categorical_accuracy: 0.0588\n",
            "Epoch 187/200\n",
            "5/5 [==============================] - 1s 262ms/step - loss: 1.7903 - categorical_accuracy: 0.1793 - val_loss: 1.8162 - val_categorical_accuracy: 0.0588\n",
            "Epoch 188/200\n",
            "5/5 [==============================] - 1s 280ms/step - loss: 1.7903 - categorical_accuracy: 0.1793 - val_loss: 1.8164 - val_categorical_accuracy: 0.0588\n",
            "Epoch 189/200\n",
            "5/5 [==============================] - 1s 273ms/step - loss: 1.7902 - categorical_accuracy: 0.1793 - val_loss: 1.8164 - val_categorical_accuracy: 0.0588\n",
            "Epoch 190/200\n",
            "5/5 [==============================] - 1s 273ms/step - loss: 1.7903 - categorical_accuracy: 0.1793 - val_loss: 1.8165 - val_categorical_accuracy: 0.0588\n",
            "Epoch 191/200\n",
            "5/5 [==============================] - 1s 277ms/step - loss: 1.7902 - categorical_accuracy: 0.1793 - val_loss: 1.8166 - val_categorical_accuracy: 0.0588\n",
            "Epoch 192/200\n",
            "5/5 [==============================] - 1s 279ms/step - loss: 1.7903 - categorical_accuracy: 0.1793 - val_loss: 1.8167 - val_categorical_accuracy: 0.0588\n",
            "Epoch 193/200\n",
            "5/5 [==============================] - 1s 264ms/step - loss: 1.7902 - categorical_accuracy: 0.1793 - val_loss: 1.8168 - val_categorical_accuracy: 0.0588\n",
            "Epoch 194/200\n",
            "5/5 [==============================] - 2s 502ms/step - loss: 1.7902 - categorical_accuracy: 0.1793 - val_loss: 1.8168 - val_categorical_accuracy: 0.0588\n",
            "Epoch 195/200\n",
            "5/5 [==============================] - 3s 572ms/step - loss: 1.7902 - categorical_accuracy: 0.1793 - val_loss: 1.8168 - val_categorical_accuracy: 0.0588\n",
            "Epoch 196/200\n",
            "5/5 [==============================] - 1s 277ms/step - loss: 1.7903 - categorical_accuracy: 0.1793 - val_loss: 1.8169 - val_categorical_accuracy: 0.0588\n",
            "Epoch 197/200\n",
            "5/5 [==============================] - 1s 282ms/step - loss: 1.7903 - categorical_accuracy: 0.1793 - val_loss: 1.8169 - val_categorical_accuracy: 0.0588\n",
            "Epoch 198/200\n",
            "5/5 [==============================] - 1s 257ms/step - loss: 1.7903 - categorical_accuracy: 0.1793 - val_loss: 1.8169 - val_categorical_accuracy: 0.0588\n",
            "Epoch 199/200\n",
            "5/5 [==============================] - 1s 269ms/step - loss: 1.7902 - categorical_accuracy: 0.1793 - val_loss: 1.8170 - val_categorical_accuracy: 0.0588\n",
            "Epoch 200/200\n",
            "5/5 [==============================] - 1s 281ms/step - loss: 1.7903 - categorical_accuracy: 0.1793 - val_loss: 1.8172 - val_categorical_accuracy: 0.0588\n"
          ]
        }
      ]
    },
    {
      "cell_type": "code",
      "source": [
        "model.summary()\n",
        "model.save('/content/Tutorial_LSTM_MP/Weight_model/actionLSTMFaceNikoComplete.h5')\n",
        "plot_graphs(history, 'categorical_accuracy')\n",
        "plot_graphs(history, 'loss')"
      ],
      "metadata": {
        "colab": {
          "base_uri": "https://localhost:8080/",
          "height": 905
        },
        "id": "zfh7eLG9Wi3Z",
        "outputId": "ab4bdd08-5c6f-4b6e-c0dd-17c1c7c48744"
      },
      "execution_count": 23,
      "outputs": [
        {
          "output_type": "stream",
          "name": "stdout",
          "text": [
            "Model: \"sequential_1\"\n",
            "_________________________________________________________________\n",
            " Layer (type)                Output Shape              Param #   \n",
            "=================================================================\n",
            " lstm (LSTM)                 (None, 50, 128)           800256    \n",
            "                                                                 \n",
            " lstm_1 (LSTM)               (None, 50, 64)            49408     \n",
            "                                                                 \n",
            " lstm_2 (LSTM)               (None, 128)               98816     \n",
            "                                                                 \n",
            " dense_3 (Dense)             (None, 128)               16512     \n",
            "                                                                 \n",
            " dense_4 (Dense)             (None, 32)                4128      \n",
            "                                                                 \n",
            " dense_5 (Dense)             (None, 6)                 198       \n",
            "                                                                 \n",
            "=================================================================\n",
            "Total params: 969,318\n",
            "Trainable params: 969,318\n",
            "Non-trainable params: 0\n",
            "_________________________________________________________________\n"
          ]
        },
        {
          "output_type": "display_data",
          "data": {
            "text/plain": [
              "<Figure size 432x288 with 1 Axes>"
            ],
            "image/png": "[encoded data removed]"
          },
          "metadata": {
            "needs_background": "light"
          }
        },
        {
          "output_type": "display_data",
          "data": {
            "text/plain": [
              "<Figure size 432x288 with 1 Axes>"
            ],
            "image/png": "[encoded data removed]"
          },
          "metadata": {
            "needs_background": "light"
          }
        }
      ]
    }
  ],
  "metadata": {
    "accelerator": "GPU",
    "colab": {
      "provenance": []
    },
    "gpuClass": "standard",
    "kernelspec": {
      "display_name": "Python 3.10.2 64-bit",
      "language": "python",
      "name": "python3"
    },
    "language_info": {
      "name": "python",
      "version": "3.10.2"
    },
    "vscode": {
      "interpreter": {
        "hash": "c2d1da28924dd73d48b374a30035f4a3d427e107cd96680887f7889f9d1a8264"
      }
    }
  },
  "nbformat": 4,
  "nbformat_minor": 0
}